{
 "cells": [
  {
   "cell_type": "code",
   "execution_count": 1,
   "id": "e2eda046",
   "metadata": {
    "_cell_guid": "b1076dfc-b9ad-4769-8c92-a6c4dae69d19",
    "_uuid": "8f2839f25d086af736a60e9eeb907d3b93b6e0e5",
    "execution": {
     "iopub.execute_input": "2022-05-11T06:54:44.611580Z",
     "iopub.status.busy": "2022-05-11T06:54:44.609208Z",
     "iopub.status.idle": "2022-05-11T06:54:44.627968Z",
     "shell.execute_reply": "2022-05-11T06:54:44.627066Z"
    },
    "papermill": {
     "duration": 0.041186,
     "end_time": "2022-05-11T06:54:44.630392",
     "exception": false,
     "start_time": "2022-05-11T06:54:44.589206",
     "status": "completed"
    },
    "tags": []
   },
   "outputs": [
    {
     "name": "stdout",
     "output_type": "stream",
     "text": [
      "/kaggle/input/ds200-2021-2022-car-prediction/sampleSolutions.csv\n",
      "/kaggle/input/ds200-2021-2022-car-prediction/train.csv\n",
      "/kaggle/input/ds200-2021-2022-car-prediction/test.csv\n"
     ]
    }
   ],
   "source": [
    "# This Python 3 environment comes with many helpful analytics libraries installed\n",
    "# It is defined by the kaggle/python Docker image: https://github.com/kaggle/docker-python\n",
    "# For example, here's several helpful packages to load\n",
    "\n",
    "import numpy as np # linear algebra\n",
    "import pandas as pd # data processing, CSV file I/O (e.g. pd.read_csv)\n",
    "\n",
    "# Input data files are available in the read-only \"../input/\" directory\n",
    "# For example, running this (by clicking run or pressing Shift+Enter) will list all files under the input directory\n",
    "\n",
    "import os\n",
    "for dirname, _, filenames in os.walk('/kaggle/input'):\n",
    "    for filename in filenames:\n",
    "        print(os.path.join(dirname, filename))\n",
    "\n",
    "# You can write up to 20GB to the current directory (/kaggle/working/) that gets preserved as output when you create a version using \"Save & Run All\" \n",
    "# You can also write temporary files to /kaggle/temp/, but they won't be saved outside of the current session"
   ]
  },
  {
   "cell_type": "code",
   "execution_count": 2,
   "id": "8df33ee5",
   "metadata": {
    "execution": {
     "iopub.execute_input": "2022-05-11T06:54:44.667279Z",
     "iopub.status.busy": "2022-05-11T06:54:44.666695Z",
     "iopub.status.idle": "2022-05-11T06:55:41.506022Z",
     "shell.execute_reply": "2022-05-11T06:55:41.505230Z"
    },
    "papermill": {
     "duration": 56.860591,
     "end_time": "2022-05-11T06:55:41.508473",
     "exception": false,
     "start_time": "2022-05-11T06:54:44.647882",
     "status": "completed"
    },
    "tags": []
   },
   "outputs": [
    {
     "name": "stdout",
     "output_type": "stream",
     "text": [
      "Collecting pyspark\r\n",
      "  Downloading pyspark-3.2.1.tar.gz (281.4 MB)\r\n",
      "\u001b[2K     \u001b[90m━━━━━━━━━━━━━━━━━━━━━━━━━━━━━━━━━━━━━━━\u001b[0m \u001b[32m281.4/281.4 MB\u001b[0m \u001b[31m3.6 MB/s\u001b[0m eta \u001b[36m0:00:00\u001b[0m\r\n",
      "\u001b[?25h  Preparing metadata (setup.py) ... \u001b[?25l-\b \b\\\b \bdone\r\n",
      "\u001b[?25hCollecting py4j==0.10.9.3\r\n",
      "  Downloading py4j-0.10.9.3-py2.py3-none-any.whl (198 kB)\r\n",
      "\u001b[2K     \u001b[90m━━━━━━━━━━━━━━━━━━━━━━━━━━━━━━━━━━━━━━\u001b[0m \u001b[32m199.0/199.0 KB\u001b[0m \u001b[31m12.2 MB/s\u001b[0m eta \u001b[36m0:00:00\u001b[0m\r\n",
      "\u001b[?25hBuilding wheels for collected packages: pyspark\r\n",
      "  Building wheel for pyspark (setup.py) ... \u001b[?25l-\b \b\\\b \b|\b \b/\b \b-\b \b\\\b \b|\b \b/\b \b-\b \b\\\b \b|\b \b/\b \b-\b \b\\\b \b|\b \b/\b \b-\b \b\\\b \b|\b \b/\b \b-\b \b\\\b \b|\b \b/\b \b-\b \b\\\b \b|\b \b/\b \b-\b \b\\\b \b|\b \b/\b \b-\b \b\\\b \b|\b \b/\b \b-\b \b\\\b \b|\b \b/\b \b-\b \b\\\b \b|\b \b/\b \b-\b \b\\\b \b|\b \b/\b \b-\b \b\\\b \b|\b \b/\b \b-\b \b\\\b \b|\b \b/\b \b-\b \b\\\b \b|\b \b/\b \b-\b \bdone\r\n",
      "\u001b[?25h  Created wheel for pyspark: filename=pyspark-3.2.1-py2.py3-none-any.whl size=281853642 sha256=1e3f5762ec48a9081004919b14aae6ada303accd3ed4484818831d25a0d50755\r\n",
      "  Stored in directory: /root/.cache/pip/wheels/9f/f5/07/7cd8017084dce4e93e84e92efd1e1d5334db05f2e83bcef74f\r\n",
      "Successfully built pyspark\r\n",
      "Installing collected packages: py4j, pyspark\r\n",
      "  Attempting uninstall: py4j\r\n",
      "    Found existing installation: py4j 0.10.9.5\r\n",
      "    Uninstalling py4j-0.10.9.5:\r\n",
      "      Successfully uninstalled py4j-0.10.9.5\r\n",
      "Successfully installed py4j-0.10.9.3 pyspark-3.2.1\r\n",
      "\u001b[33mWARNING: Running pip as the 'root' user can result in broken permissions and conflicting behaviour with the system package manager. It is recommended to use a virtual environment instead: https://pip.pypa.io/warnings/venv\u001b[0m\u001b[33m\r\n",
      "\u001b[0m"
     ]
    }
   ],
   "source": [
    "!pip install pyspark"
   ]
  },
  {
   "cell_type": "code",
   "execution_count": 3,
   "id": "b3e181c1",
   "metadata": {
    "execution": {
     "iopub.execute_input": "2022-05-11T06:55:41.749620Z",
     "iopub.status.busy": "2022-05-11T06:55:41.749299Z",
     "iopub.status.idle": "2022-05-11T06:55:48.033608Z",
     "shell.execute_reply": "2022-05-11T06:55:48.032420Z"
    },
    "papermill": {
     "duration": 6.408521,
     "end_time": "2022-05-11T06:55:48.036716",
     "exception": false,
     "start_time": "2022-05-11T06:55:41.628195",
     "status": "completed"
    },
    "tags": []
   },
   "outputs": [
    {
     "name": "stderr",
     "output_type": "stream",
     "text": [
      "WARNING: An illegal reflective access operation has occurred\n",
      "WARNING: Illegal reflective access by org.apache.spark.unsafe.Platform (file:/opt/conda/lib/python3.7/site-packages/pyspark/jars/spark-unsafe_2.12-3.2.1.jar) to constructor java.nio.DirectByteBuffer(long,int)\n",
      "WARNING: Please consider reporting this to the maintainers of org.apache.spark.unsafe.Platform\n",
      "WARNING: Use --illegal-access=warn to enable warnings of further illegal reflective access operations\n",
      "WARNING: All illegal access operations will be denied in a future release\n",
      "Using Spark's default log4j profile: org/apache/spark/log4j-defaults.properties\n",
      "Setting default log level to \"WARN\".\n",
      "To adjust logging level use sc.setLogLevel(newLevel). For SparkR, use setLogLevel(newLevel).\n",
      "22/05/11 06:55:45 WARN NativeCodeLoader: Unable to load native-hadoop library for your platform... using builtin-java classes where applicable\n"
     ]
    }
   ],
   "source": [
    "import pandas as pd \n",
    "\n",
    "import pyspark\n",
    "\n",
    "from pyspark.ml.classification import DecisionTreeClassifier\n",
    "\n",
    "from pyspark.ml.linalg import Vectors\n",
    "from pyspark.ml.feature import VectorAssembler\n",
    "from pyspark.ml import Pipeline\n",
    "\n",
    "\n",
    "\n",
    "from pyspark.ml.feature import StringIndexer, VectorIndexer, StringIndexerModel, IndexToString\n",
    "from pyspark.sql import SparkSession\n",
    "spark = SparkSession.builder.getOrCreate()"
   ]
  },
  {
   "cell_type": "code",
   "execution_count": 4,
   "id": "be768775",
   "metadata": {
    "execution": {
     "iopub.execute_input": "2022-05-11T06:55:48.286175Z",
     "iopub.status.busy": "2022-05-11T06:55:48.285141Z",
     "iopub.status.idle": "2022-05-11T06:55:55.752368Z",
     "shell.execute_reply": "2022-05-11T06:55:55.751621Z"
    },
    "papermill": {
     "duration": 7.594991,
     "end_time": "2022-05-11T06:55:55.755056",
     "exception": false,
     "start_time": "2022-05-11T06:55:48.160065",
     "status": "completed"
    },
    "tags": []
   },
   "outputs": [],
   "source": [
    "# Load and parse the data file, converting it to a DataFrame.\n",
    "train = spark.read.format(\"csv\").load(\"/kaggle/input/ds200-2021-2022-car-prediction/train.csv\",header = 'True',inferSchema='True')\n",
    "test = spark.read.format(\"csv\").load(\"/kaggle/input/ds200-2021-2022-car-prediction/test.csv\",header = 'True',inferSchema='True')"
   ]
  },
  {
   "cell_type": "code",
   "execution_count": 5,
   "id": "d4f5eeb0",
   "metadata": {
    "execution": {
     "iopub.execute_input": "2022-05-11T06:55:56.013505Z",
     "iopub.status.busy": "2022-05-11T06:55:56.013183Z",
     "iopub.status.idle": "2022-05-11T06:55:56.405803Z",
     "shell.execute_reply": "2022-05-11T06:55:56.404033Z"
    },
    "papermill": {
     "duration": 0.524273,
     "end_time": "2022-05-11T06:55:56.409618",
     "exception": false,
     "start_time": "2022-05-11T06:55:55.885345",
     "status": "completed"
    },
    "tags": []
   },
   "outputs": [
    {
     "name": "stdout",
     "output_type": "stream",
     "text": [
      "+------+------------+-----------------+---------------+--------------+----------+------+-------------+\n",
      "|car_id|buying_price|maintenance_price|number_of_doors|carry_capacity|trunk_size|safety|acceptability|\n",
      "+------+------------+-----------------+---------------+--------------+----------+------+-------------+\n",
      "| 10001|         low|             high|              4|             4|       med|   med|          acc|\n",
      "| 10002|         med|              med|              2|             4|     small|   med|          acc|\n",
      "| 10003|         low|            vhigh|              4|             2|       med|   low|        unacc|\n",
      "| 10004|        high|             high|              2|          more|     small|   med|        unacc|\n",
      "| 10005|         low|             high|              3|             2|       med|   low|        unacc|\n",
      "+------+------------+-----------------+---------------+--------------+----------+------+-------------+\n",
      "only showing top 5 rows\n",
      "\n"
     ]
    }
   ],
   "source": [
    "train.show(5)"
   ]
  },
  {
   "cell_type": "code",
   "execution_count": 6,
   "id": "27a28321",
   "metadata": {
    "execution": {
     "iopub.execute_input": "2022-05-11T06:55:56.700479Z",
     "iopub.status.busy": "2022-05-11T06:55:56.700150Z",
     "iopub.status.idle": "2022-05-11T06:55:56.737150Z",
     "shell.execute_reply": "2022-05-11T06:55:56.736181Z"
    },
    "papermill": {
     "duration": 0.162582,
     "end_time": "2022-05-11T06:55:56.739712",
     "exception": false,
     "start_time": "2022-05-11T06:55:56.577130",
     "status": "completed"
    },
    "tags": []
   },
   "outputs": [],
   "source": [
    "#convert string to index\n",
    "labelIndexer = StringIndexer(inputCol=\"acceptability\", outputCol=\"label\") \n",
    "buyIndexer = StringIndexer(inputCol=\"buying_price\", outputCol=\"indexedBuyPrice\")"
   ]
  },
  {
   "cell_type": "code",
   "execution_count": 7,
   "id": "d9350b9f",
   "metadata": {
    "execution": {
     "iopub.execute_input": "2022-05-11T06:55:56.985061Z",
     "iopub.status.busy": "2022-05-11T06:55:56.984730Z",
     "iopub.status.idle": "2022-05-11T06:55:58.586489Z",
     "shell.execute_reply": "2022-05-11T06:55:58.585512Z"
    },
    "papermill": {
     "duration": 1.727251,
     "end_time": "2022-05-11T06:55:58.590157",
     "exception": false,
     "start_time": "2022-05-11T06:55:56.862906",
     "status": "completed"
    },
    "tags": []
   },
   "outputs": [],
   "source": [
    "indexedLabelTrain=labelIndexer.fit(train).transform(train)"
   ]
  },
  {
   "cell_type": "code",
   "execution_count": 8,
   "id": "a7994116",
   "metadata": {
    "execution": {
     "iopub.execute_input": "2022-05-11T06:55:58.989661Z",
     "iopub.status.busy": "2022-05-11T06:55:58.989210Z",
     "iopub.status.idle": "2022-05-11T06:55:59.500539Z",
     "shell.execute_reply": "2022-05-11T06:55:59.499528Z"
    },
    "papermill": {
     "duration": 0.72116,
     "end_time": "2022-05-11T06:55:59.504181",
     "exception": false,
     "start_time": "2022-05-11T06:55:58.783021",
     "status": "completed"
    },
    "tags": []
   },
   "outputs": [
    {
     "name": "stdout",
     "output_type": "stream",
     "text": [
      "+------+------------+-----------------+---------------+--------------+----------+------+-------------+-----+\n",
      "|car_id|buying_price|maintenance_price|number_of_doors|carry_capacity|trunk_size|safety|acceptability|label|\n",
      "+------+------------+-----------------+---------------+--------------+----------+------+-------------+-----+\n",
      "| 10001|         low|             high|              4|             4|       med|   med|          acc|  1.0|\n",
      "| 10002|         med|              med|              2|             4|     small|   med|          acc|  1.0|\n",
      "| 10003|         low|            vhigh|              4|             2|       med|   low|        unacc|  0.0|\n",
      "| 10004|        high|             high|              2|          more|     small|   med|        unacc|  0.0|\n",
      "| 10005|         low|             high|              3|             2|       med|   low|        unacc|  0.0|\n",
      "+------+------------+-----------------+---------------+--------------+----------+------+-------------+-----+\n",
      "only showing top 5 rows\n",
      "\n"
     ]
    }
   ],
   "source": [
    "indexedLabelTrain.show(5)"
   ]
  },
  {
   "cell_type": "code",
   "execution_count": 9,
   "id": "fab1f1cd",
   "metadata": {
    "execution": {
     "iopub.execute_input": "2022-05-11T06:55:59.892101Z",
     "iopub.status.busy": "2022-05-11T06:55:59.891716Z",
     "iopub.status.idle": "2022-05-11T06:56:00.591243Z",
     "shell.execute_reply": "2022-05-11T06:56:00.590284Z"
    },
    "papermill": {
     "duration": 0.891485,
     "end_time": "2022-05-11T06:56:00.595051",
     "exception": false,
     "start_time": "2022-05-11T06:55:59.703566",
     "status": "completed"
    },
    "tags": []
   },
   "outputs": [
    {
     "name": "stdout",
     "output_type": "stream",
     "text": [
      "+------+------------+-----------------+---------------+--------------+----------+------+-------------+-----+---------------+\n",
      "|car_id|buying_price|maintenance_price|number_of_doors|carry_capacity|trunk_size|safety|acceptability|label|indexedBuyPrice|\n",
      "+------+------------+-----------------+---------------+--------------+----------+------+-------------+-----+---------------+\n",
      "| 10001|         low|             high|              4|             4|       med|   med|          acc|  1.0|            2.0|\n",
      "| 10002|         med|              med|              2|             4|     small|   med|          acc|  1.0|            1.0|\n",
      "+------+------------+-----------------+---------------+--------------+----------+------+-------------+-----+---------------+\n",
      "only showing top 2 rows\n",
      "\n"
     ]
    }
   ],
   "source": [
    "df1 = buyIndexer.fit(indexedLabelTrain).transform(indexedLabelTrain)\n",
    "df1.show(2)"
   ]
  },
  {
   "cell_type": "code",
   "execution_count": 10,
   "id": "824d5c91",
   "metadata": {
    "execution": {
     "iopub.execute_input": "2022-05-11T06:56:00.859505Z",
     "iopub.status.busy": "2022-05-11T06:56:00.858341Z",
     "iopub.status.idle": "2022-05-11T06:56:00.863156Z",
     "shell.execute_reply": "2022-05-11T06:56:00.862339Z"
    },
    "papermill": {
     "duration": 0.141202,
     "end_time": "2022-05-11T06:56:00.865935",
     "exception": false,
     "start_time": "2022-05-11T06:56:00.724733",
     "status": "completed"
    },
    "tags": []
   },
   "outputs": [],
   "source": [
    "#decission_tree_classifier_model = DecisionTreeClassifier(labelCol=\"label\", featuresCol=\"indexedBuyPrice\",maxDepth=10)\n",
    "#decission_tree_classifier_model.fit(df1)"
   ]
  },
  {
   "cell_type": "code",
   "execution_count": 11,
   "id": "ea570160",
   "metadata": {
    "execution": {
     "iopub.execute_input": "2022-05-11T06:56:01.231833Z",
     "iopub.status.busy": "2022-05-11T06:56:01.231240Z",
     "iopub.status.idle": "2022-05-11T06:56:01.785234Z",
     "shell.execute_reply": "2022-05-11T06:56:01.784042Z"
    },
    "papermill": {
     "duration": 0.711699,
     "end_time": "2022-05-11T06:56:01.790248",
     "exception": false,
     "start_time": "2022-05-11T06:56:01.078549",
     "status": "completed"
    },
    "tags": []
   },
   "outputs": [
    {
     "name": "stdout",
     "output_type": "stream",
     "text": [
      "+------+------------+-----------------+---------------+--------------+----------+------+-------------+-----+---------------+--------+\n",
      "|car_id|buying_price|maintenance_price|number_of_doors|carry_capacity|trunk_size|safety|acceptability|label|indexedBuyPrice|features|\n",
      "+------+------------+-----------------+---------------+--------------+----------+------+-------------+-----+---------------+--------+\n",
      "| 10001|         low|             high|              4|             4|       med|   med|          acc|  1.0|            2.0|   [2.0]|\n",
      "| 10002|         med|              med|              2|             4|     small|   med|          acc|  1.0|            1.0|   [1.0]|\n",
      "+------+------------+-----------------+---------------+--------------+----------+------+-------------+-----+---------------+--------+\n",
      "only showing top 2 rows\n",
      "\n"
     ]
    }
   ],
   "source": [
    "assembler = VectorAssembler(inputCols=[\"indexedBuyPrice\"],outputCol=\"features\")\n",
    "df2 = assembler.transform(df1)\n",
    "df2.show(2)"
   ]
  },
  {
   "cell_type": "code",
   "execution_count": 12,
   "id": "ee213e50",
   "metadata": {
    "execution": {
     "iopub.execute_input": "2022-05-11T06:56:02.062705Z",
     "iopub.status.busy": "2022-05-11T06:56:02.062351Z",
     "iopub.status.idle": "2022-05-11T06:56:04.644340Z",
     "shell.execute_reply": "2022-05-11T06:56:04.643371Z"
    },
    "papermill": {
     "duration": 2.724947,
     "end_time": "2022-05-11T06:56:04.648654",
     "exception": false,
     "start_time": "2022-05-11T06:56:01.923707",
     "status": "completed"
    },
    "tags": []
   },
   "outputs": [
    {
     "name": "stdout",
     "output_type": "stream",
     "text": [
      "+------+------------+-----------------+---------------+--------------+----------+------+-------------+-----+---------------+--------+--------------------+--------------------+----------+\n",
      "|car_id|buying_price|maintenance_price|number_of_doors|carry_capacity|trunk_size|safety|acceptability|label|indexedBuyPrice|features|       rawPrediction|         probability|prediction|\n",
      "+------+------------+-----------------+---------------+--------------+----------+------+-------------+-----+---------------+--------+--------------------+--------------------+----------+\n",
      "| 10001|         low|             high|              4|             4|       med|   med|          acc|  1.0|            2.0|   [2.0]|[1015.0,306.0,56....|[0.71078431372549...|       0.0|\n",
      "| 10002|         med|              med|              2|             4|     small|   med|          acc|  1.0|            1.0|   [1.0]|[1015.0,306.0,56....|[0.71078431372549...|       0.0|\n",
      "| 10003|         low|            vhigh|              4|             2|       med|   low|        unacc|  0.0|            2.0|   [2.0]|[1015.0,306.0,56....|[0.71078431372549...|       0.0|\n",
      "| 10004|        high|             high|              2|          more|     small|   med|        unacc|  0.0|            3.0|   [3.0]|[1015.0,306.0,56....|[0.71078431372549...|       0.0|\n",
      "| 10005|         low|             high|              3|             2|       med|   low|        unacc|  0.0|            2.0|   [2.0]|[1015.0,306.0,56....|[0.71078431372549...|       0.0|\n",
      "+------+------------+-----------------+---------------+--------------+----------+------+-------------+-----+---------------+--------+--------------------+--------------------+----------+\n",
      "only showing top 5 rows\n",
      "\n"
     ]
    }
   ],
   "source": [
    "decission_tree_classifier_model2 = DecisionTreeClassifier(labelCol=\"label\", featuresCol=\"features\",maxDepth=10)\n",
    "decission_tree_classifier_model2.fit(df2).transform(df2).show(5)"
   ]
  },
  {
   "cell_type": "code",
   "execution_count": 13,
   "id": "b98d82de",
   "metadata": {
    "execution": {
     "iopub.execute_input": "2022-05-11T06:56:04.924527Z",
     "iopub.status.busy": "2022-05-11T06:56:04.924176Z",
     "iopub.status.idle": "2022-05-11T06:56:04.929274Z",
     "shell.execute_reply": "2022-05-11T06:56:04.928351Z"
    },
    "papermill": {
     "duration": 0.148052,
     "end_time": "2022-05-11T06:56:04.931726",
     "exception": false,
     "start_time": "2022-05-11T06:56:04.783674",
     "status": "completed"
    },
    "tags": []
   },
   "outputs": [],
   "source": [
    "pipeline = Pipeline( stages = [buyIndexer, assembler,decission_tree_classifier_model2, ])"
   ]
  },
  {
   "cell_type": "code",
   "execution_count": 14,
   "id": "c86688d9",
   "metadata": {
    "execution": {
     "iopub.execute_input": "2022-05-11T06:56:05.221558Z",
     "iopub.status.busy": "2022-05-11T06:56:05.221191Z",
     "iopub.status.idle": "2022-05-11T06:56:06.973957Z",
     "shell.execute_reply": "2022-05-11T06:56:06.972868Z"
    },
    "papermill": {
     "duration": 1.907459,
     "end_time": "2022-05-11T06:56:06.977691",
     "exception": false,
     "start_time": "2022-05-11T06:56:05.070232",
     "status": "completed"
    },
    "tags": []
   },
   "outputs": [
    {
     "name": "stdout",
     "output_type": "stream",
     "text": [
      "+------+------------+-----------------+---------------+--------------+----------+------+-------------+-----+---------------+--------+--------------------+--------------------+----------+\n",
      "|car_id|buying_price|maintenance_price|number_of_doors|carry_capacity|trunk_size|safety|acceptability|label|indexedBuyPrice|features|       rawPrediction|         probability|prediction|\n",
      "+------+------------+-----------------+---------------+--------------+----------+------+-------------+-----+---------------+--------+--------------------+--------------------+----------+\n",
      "| 10001|         low|             high|              4|             4|       med|   med|          acc|  1.0|            2.0|   [2.0]|[1015.0,306.0,56....|[0.71078431372549...|       0.0|\n",
      "| 10002|         med|              med|              2|             4|     small|   med|          acc|  1.0|            1.0|   [1.0]|[1015.0,306.0,56....|[0.71078431372549...|       0.0|\n",
      "| 10003|         low|            vhigh|              4|             2|       med|   low|        unacc|  0.0|            2.0|   [2.0]|[1015.0,306.0,56....|[0.71078431372549...|       0.0|\n",
      "| 10004|        high|             high|              2|          more|     small|   med|        unacc|  0.0|            3.0|   [3.0]|[1015.0,306.0,56....|[0.71078431372549...|       0.0|\n",
      "| 10005|         low|             high|              3|             2|       med|   low|        unacc|  0.0|            2.0|   [2.0]|[1015.0,306.0,56....|[0.71078431372549...|       0.0|\n",
      "| 10006|         med|              med|          5more|             2|       med|   med|        unacc|  0.0|            1.0|   [1.0]|[1015.0,306.0,56....|[0.71078431372549...|       0.0|\n",
      "| 10007|         med|            vhigh|              2|             4|       big|   low|        unacc|  0.0|            1.0|   [1.0]|[1015.0,306.0,56....|[0.71078431372549...|       0.0|\n",
      "| 10008|         low|              low|              2|          more|       med|  high|         good|  2.0|            2.0|   [2.0]|[1015.0,306.0,56....|[0.71078431372549...|       0.0|\n",
      "| 10009|       vhigh|              med|              3|             4|     small|   low|        unacc|  0.0|            0.0|   [0.0]|[1015.0,306.0,56....|[0.71078431372549...|       0.0|\n",
      "| 10010|         low|              low|              2|             2|       med|  high|        unacc|  0.0|            2.0|   [2.0]|[1015.0,306.0,56....|[0.71078431372549...|       0.0|\n",
      "| 10011|         low|              low|              3|          more|       big|   low|        unacc|  0.0|            2.0|   [2.0]|[1015.0,306.0,56....|[0.71078431372549...|       0.0|\n",
      "| 10012|         med|              med|              4|          more|       med|  high|        vgood|  3.0|            1.0|   [1.0]|[1015.0,306.0,56....|[0.71078431372549...|       0.0|\n",
      "| 10013|         low|              med|          5more|             4|       med|   med|         good|  2.0|            2.0|   [2.0]|[1015.0,306.0,56....|[0.71078431372549...|       0.0|\n",
      "| 10014|       vhigh|            vhigh|              3|          more|       big|   low|        unacc|  0.0|            0.0|   [0.0]|[1015.0,306.0,56....|[0.71078431372549...|       0.0|\n",
      "| 10015|       vhigh|              med|          5more|             2|       med|   med|        unacc|  0.0|            0.0|   [0.0]|[1015.0,306.0,56....|[0.71078431372549...|       0.0|\n",
      "| 10016|        high|              low|              4|             2|       med|   low|        unacc|  0.0|            3.0|   [3.0]|[1015.0,306.0,56....|[0.71078431372549...|       0.0|\n",
      "| 10017|         med|             high|          5more|          more|     small|   med|        unacc|  0.0|            1.0|   [1.0]|[1015.0,306.0,56....|[0.71078431372549...|       0.0|\n",
      "| 10018|        high|             high|          5more|             4|       med|  high|          acc|  1.0|            3.0|   [3.0]|[1015.0,306.0,56....|[0.71078431372549...|       0.0|\n",
      "| 10019|        high|            vhigh|              4|          more|       big|   low|        unacc|  0.0|            3.0|   [3.0]|[1015.0,306.0,56....|[0.71078431372549...|       0.0|\n",
      "| 10020|         low|              med|              4|          more|       big|   med|         good|  2.0|            2.0|   [2.0]|[1015.0,306.0,56....|[0.71078431372549...|       0.0|\n",
      "+------+------------+-----------------+---------------+--------------+----------+------+-------------+-----+---------------+--------+--------------------+--------------------+----------+\n",
      "only showing top 20 rows\n",
      "\n"
     ]
    }
   ],
   "source": [
    "model = pipeline.fit(indexedLabelTrain)\n",
    "model.transform(indexedLabelTrain).show()\n"
   ]
  },
  {
   "cell_type": "code",
   "execution_count": 15,
   "id": "22318bec",
   "metadata": {
    "execution": {
     "iopub.execute_input": "2022-05-11T06:56:07.366007Z",
     "iopub.status.busy": "2022-05-11T06:56:07.364615Z",
     "iopub.status.idle": "2022-05-11T06:56:09.794323Z",
     "shell.execute_reply": "2022-05-11T06:56:09.793505Z"
    },
    "papermill": {
     "duration": 2.604034,
     "end_time": "2022-05-11T06:56:09.797418",
     "exception": false,
     "start_time": "2022-05-11T06:56:07.193384",
     "status": "completed"
    },
    "tags": []
   },
   "outputs": [
    {
     "name": "stdout",
     "output_type": "stream",
     "text": [
      "+------+----------+\n",
      "|car_id|prediction|\n",
      "+------+----------+\n",
      "| 11429|       0.0|\n",
      "| 11430|       0.0|\n",
      "| 11431|       0.0|\n",
      "| 11432|       0.0|\n",
      "| 11433|       0.0|\n",
      "| 11434|       0.0|\n",
      "| 11435|       0.0|\n",
      "| 11436|       0.0|\n",
      "| 11437|       0.0|\n",
      "| 11438|       0.0|\n",
      "| 11439|       0.0|\n",
      "| 11440|       0.0|\n",
      "| 11441|       0.0|\n",
      "| 11442|       0.0|\n",
      "| 11443|       0.0|\n",
      "| 11444|       0.0|\n",
      "| 11445|       0.0|\n",
      "| 11446|       0.0|\n",
      "| 11447|       0.0|\n",
      "| 11448|       0.0|\n",
      "+------+----------+\n",
      "only showing top 20 rows\n",
      "\n",
      "+------+----------+-------------+\n",
      "|car_id|prediction|acceptability|\n",
      "+------+----------+-------------+\n",
      "| 11429|       0.0|        unacc|\n",
      "| 11430|       0.0|        unacc|\n",
      "| 11431|       0.0|        unacc|\n",
      "| 11432|       0.0|        unacc|\n",
      "| 11433|       0.0|        unacc|\n",
      "| 11434|       0.0|        unacc|\n",
      "| 11435|       0.0|        unacc|\n",
      "| 11436|       0.0|        unacc|\n",
      "| 11437|       0.0|        unacc|\n",
      "| 11438|       0.0|        unacc|\n",
      "| 11439|       0.0|        unacc|\n",
      "| 11440|       0.0|        unacc|\n",
      "| 11441|       0.0|        unacc|\n",
      "| 11442|       0.0|        unacc|\n",
      "| 11443|       0.0|        unacc|\n",
      "| 11444|       0.0|        unacc|\n",
      "| 11445|       0.0|        unacc|\n",
      "| 11446|       0.0|        unacc|\n",
      "| 11447|       0.0|        unacc|\n",
      "| 11448|       0.0|        unacc|\n",
      "+------+----------+-------------+\n",
      "only showing top 20 rows\n",
      "\n",
      "+------+-------------+\n",
      "|car_id|acceptability|\n",
      "+------+-------------+\n",
      "| 11429|        unacc|\n",
      "| 11430|        unacc|\n",
      "| 11431|        unacc|\n",
      "| 11432|        unacc|\n",
      "| 11433|        unacc|\n",
      "| 11434|        unacc|\n",
      "| 11435|        unacc|\n",
      "| 11436|        unacc|\n",
      "| 11437|        unacc|\n",
      "| 11438|        unacc|\n",
      "| 11439|        unacc|\n",
      "| 11440|        unacc|\n",
      "| 11441|        unacc|\n",
      "| 11442|        unacc|\n",
      "| 11443|        unacc|\n",
      "| 11444|        unacc|\n",
      "| 11445|        unacc|\n",
      "| 11446|        unacc|\n",
      "| 11447|        unacc|\n",
      "| 11448|        unacc|\n",
      "+------+-------------+\n",
      "only showing top 20 rows\n",
      "\n"
     ]
    }
   ],
   "source": [
    "testSolutions = pipeline.fit(indexedLabelTrain).transform(test).select('car_id','prediction')\n",
    "testSolutions.show()\n",
    "\n",
    "labelsArray = [\"unacc\",\"acc\",\"good\",\"vgood\"]\n",
    "testSolutions = IndexToString(inputCol=\"prediction\", outputCol=\"acceptability\", labels = labelsArray).transform(testSolutions)\n",
    "testSolutions.show()\n",
    "\n",
    "\n",
    "solutions = testSolutions.select('car_id','acceptability')\n",
    "solutions.show()\n",
    "solutions.toPandas().to_csv(\"dumpsolutions.csv\",header=True, index=False)"
   ]
  }
 ],
 "metadata": {
  "kernelspec": {
   "display_name": "Python 3",
   "language": "python",
   "name": "python3"
  },
  "language_info": {
   "codemirror_mode": {
    "name": "ipython",
    "version": 3
   },
   "file_extension": ".py",
   "mimetype": "text/x-python",
   "name": "python",
   "nbconvert_exporter": "python",
   "pygments_lexer": "ipython3",
   "version": "3.7.12"
  },
  "papermill": {
   "default_parameters": {},
   "duration": 99.461387,
   "end_time": "2022-05-11T06:56:12.560972",
   "environment_variables": {},
   "exception": null,
   "input_path": "__notebook__.ipynb",
   "output_path": "__notebook__.ipynb",
   "parameters": {},
   "start_time": "2022-05-11T06:54:33.099585",
   "version": "2.3.4"
  }
 },
 "nbformat": 4,
 "nbformat_minor": 5
}
