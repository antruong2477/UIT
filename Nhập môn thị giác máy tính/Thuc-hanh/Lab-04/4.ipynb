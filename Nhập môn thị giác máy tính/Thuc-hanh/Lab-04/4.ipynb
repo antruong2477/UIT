{
 "cells": [
  {
   "cell_type": "code",
   "execution_count": 1,
   "metadata": {},
   "outputs": [],
   "source": [
    "import cv2 as cv                \n",
    "from skimage import feature  \n",
    "import os\n",
    "import numpy as np\n",
    "from sklearn.neighbors import KNeighborsClassifier\n",
    "from sklearn.metrics import accuracy_score\n",
    "from sklearn.linear_model import LogisticRegression\n",
    "from sklearn.metrics import accuracy_score\n",
    "from sklearn.model_selection import train_test_split"
   ]
  },
  {
   "cell_type": "code",
   "execution_count": 2,
   "metadata": {},
   "outputs": [],
   "source": [
    "def compute_hog_train(img):\n",
    "    img = cv.resize(img, (128, 256))\n",
    "    (hog, hog_image) = feature.hog(img, orientations=9,\n",
    "                                   pixels_per_cell=(8, 8), cells_per_block=(2, 2),\n",
    "                                   block_norm='L2-Hys', visualize=True, transform_sqrt=True)\n",
    "    return hog"
   ]
  },
  {
   "cell_type": "code",
   "execution_count": 3,
   "metadata": {},
   "outputs": [],
   "source": [
    "def load_data(non_pedestrian_folder, pedestrian_folder):\n",
    "    features = []\n",
    "    labels = []\n",
    "    \n",
    "    # Load ảnh NonPedestrian\n",
    "    for file_name in os.listdir(non_pedestrian_folder):\n",
    "        if file_name.endswith('.jpg'):\n",
    "            img_path = os.path.join(non_pedestrian_folder, file_name)\n",
    "            img = cv.imread(img_path)\n",
    "            if img is not None:\n",
    "                img_gray = cv.cvtColor(img, cv.COLOR_BGR2GRAY)\n",
    "                feature = compute_hog_train(img_gray)\n",
    "                features.append(feature)\n",
    "                labels.append(0)  # NonPedestrian nhãn là 0\n",
    "    \n",
    "    # Load ảnh Pedestrian\n",
    "    for file_name in os.listdir(pedestrian_folder):\n",
    "        if file_name.endswith('.jpg'):\n",
    "            img_path = os.path.join(pedestrian_folder, file_name)\n",
    "            img = cv.imread(img_path)\n",
    "            if img is not None:\n",
    "                img_gray = cv.cvtColor(img, cv.COLOR_BGR2GRAY)\n",
    "                feature = compute_hog_train(img_gray)\n",
    "                features.append(feature)\n",
    "                labels.append(1)  # Pedestrian nhãn là 1\n",
    "\n",
    "    return np.array(features), np.array(labels)"
   ]
  },
  {
   "cell_type": "code",
   "execution_count": 4,
   "metadata": {},
   "outputs": [],
   "source": [
    "features, labels = load_data('NonPedestrian', 'Pedestrian')\n",
    "X_train, X_test, y_train, y_test = train_test_split(features, labels, test_size=0.4, random_state=42)"
   ]
  },
  {
   "cell_type": "code",
   "execution_count": 5,
   "metadata": {},
   "outputs": [
    {
     "name": "stdout",
     "output_type": "stream",
     "text": [
      "Accuracy for k=1: 0.75\n",
      "Accuracy for k=2: 0.6875\n",
      "Accuracy for k=3: 0.75\n",
      "Accuracy for k=4: 0.625\n",
      "Accuracy for k=5: 0.75\n",
      "Accuracy for k=6: 0.6875\n",
      "Accuracy for k=7: 0.75\n",
      "Accuracy for k=8: 0.625\n",
      "Accuracy for k=9: 0.8125\n",
      "Accuracy for k=10: 0.75\n"
     ]
    }
   ],
   "source": [
    "for k in range(1, 11):\n",
    "    knn = KNeighborsClassifier(n_neighbors=k)\n",
    "    knn.fit(X_train, y_train)\n",
    "    y_pred = knn.predict(X_test)\n",
    "    accuracy = accuracy_score(y_test, y_pred)\n",
    "    print(f'Accuracy for k={k}: {accuracy}')"
   ]
  },
  {
   "cell_type": "code",
   "execution_count": 6,
   "metadata": {},
   "outputs": [
    {
     "name": "stdout",
     "output_type": "stream",
     "text": [
      "Accuracy of Logistic Regression: 0.9375\n"
     ]
    }
   ],
   "source": [
    "logistic_model = LogisticRegression(max_iter=50)\n",
    "logistic_model.fit(X_train, y_train)\n",
    "y_pred = logistic_model.predict(X_test)\n",
    "accuracy = accuracy_score(y_test, y_pred)\n",
    "print(f\"Accuracy of Logistic Regression: {accuracy}\")"
   ]
  },
  {
   "cell_type": "markdown",
   "metadata": {},
   "source": [
    "Vậy LogisticRegression trong trường hợp này sẽ cho kết quả chính xác hơn KNN(k từ 1 tới 10)"
   ]
  }
 ],
 "metadata": {
  "kernelspec": {
   "display_name": "Python 3",
   "language": "python",
   "name": "python3"
  },
  "language_info": {
   "codemirror_mode": {
    "name": "ipython",
    "version": 3
   },
   "file_extension": ".py",
   "mimetype": "text/x-python",
   "name": "python",
   "nbconvert_exporter": "python",
   "pygments_lexer": "ipython3",
   "version": "3.11.5"
  }
 },
 "nbformat": 4,
 "nbformat_minor": 2
}
