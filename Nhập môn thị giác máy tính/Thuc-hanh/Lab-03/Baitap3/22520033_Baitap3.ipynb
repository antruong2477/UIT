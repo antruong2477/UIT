{
 "cells": [
  {
   "cell_type": "markdown",
   "metadata": {},
   "source": [
    "So sánh độ chính xác giữa phương pháp kNN và LogisticRegression cho tập dữ liệu dogscats_small"
   ]
  },
  {
   "cell_type": "code",
   "execution_count": 1,
   "metadata": {},
   "outputs": [],
   "source": [
    "import cv2                \n",
    "from skimage import feature  \n",
    "import os\n",
    "import numpy as np\n",
    "from skimage.feature import hog\n",
    "from sklearn.preprocessing import StandardScaler\n",
    "from sklearn.neighbors import KNeighborsClassifier\n",
    "from sklearn.metrics import accuracy_score\n",
    "from sklearn.linear_model import LogisticRegression\n"
   ]
  },
  {
   "cell_type": "code",
   "execution_count": 2,
   "metadata": {},
   "outputs": [],
   "source": [
    "root_dir = 'Dataset/dogscats_small'\n",
    "\n",
    "train_images_path, train_labels = [], []\n",
    "test_images_path, test_labels = [], []\n",
    "\n",
    "for dataset_type in ['train', 'test']:\n",
    "    dataset_path = os.path.join(root_dir, dataset_type) \n",
    "    if not os.path.isdir(dataset_path):\n",
    "        continue\n",
    "    for image_filename in os.listdir(dataset_path):\n",
    "        image_path = os.path.join(dataset_path, image_filename)\n",
    "        if not os.path.isfile(image_path):\n",
    "            continue\n",
    "        label = image_filename.split('.')[0] \n",
    "        if dataset_type == 'train':\n",
    "            train_images_path.append(image_path)\n",
    "            train_labels.append(label)\n",
    "        else:\n",
    "            test_images_path.append(image_path)\n",
    "            test_labels.append(label)\n"
   ]
  },
  {
   "cell_type": "code",
   "execution_count": 3,
   "metadata": {},
   "outputs": [],
   "source": [
    "def compute_hog_features(img_paths):\n",
    "    features = []  \n",
    "    for img_path in img_paths:\n",
    "        img = cv2.imread(img_path)\n",
    "        img = cv2.cvtColor(img, cv2.COLOR_BGR2GRAY)\n",
    "        img = cv2.resize(img, (128, 256))\n",
    "        \n",
    "        hog_features, hog_image = hog(\n",
    "            img, \n",
    "            orientations=9, \n",
    "            pixels_per_cell=(8, 8), \n",
    "            cells_per_block=(2, 2), \n",
    "            block_norm='L2-Hys', \n",
    "            visualize=True, \n",
    "            transform_sqrt=True\n",
    "        )\n",
    "        \n",
    "        features.append(hog_features)  \n",
    "    return np.array(features)  \n",
    "\n",
    "train_features = compute_hog_features(train_images_path)\n",
    "test_features = compute_hog_features(test_images_path)\n",
    "\n",
    "scaler = StandardScaler()\n",
    "train_features = scaler.fit_transform(train_features)\n",
    "test_features = scaler.transform(test_features)\n"
   ]
  },
  {
   "cell_type": "code",
   "execution_count": 4,
   "metadata": {},
   "outputs": [
    {
     "name": "stdout",
     "output_type": "stream",
     "text": [
      "Accuracy for k=1: 0.6\n",
      "Accuracy for k=2: 0.6\n",
      "Accuracy for k=3: 0.6\n",
      "Accuracy for k=4: 0.6\n",
      "Accuracy for k=5: 0.5666666666666667\n",
      "Accuracy for k=6: 0.5333333333333333\n",
      "Accuracy for k=7: 0.6\n",
      "Accuracy for k=8: 0.5666666666666667\n",
      "Accuracy for k=9: 0.5666666666666667\n"
     ]
    }
   ],
   "source": [
    "for k in range(1, 10):\n",
    "    knn = KNeighborsClassifier(n_neighbors=k)  \n",
    "    knn.fit(train_features, train_labels)                 \n",
    "    y_pred = knn.predict(test_features)               \n",
    "    accuracy = accuracy_score(test_labels, y_pred)\n",
    "    print(f\"Accuracy for k={k}: {accuracy}\")"
   ]
  },
  {
   "cell_type": "code",
   "execution_count": 5,
   "metadata": {},
   "outputs": [
    {
     "name": "stdout",
     "output_type": "stream",
     "text": [
      "0.4666666666666667\n"
     ]
    }
   ],
   "source": [
    "log_reg = LogisticRegression(max_iter=20)\n",
    "log_reg.fit(train_features, train_labels)\n",
    "y_pred = log_reg.predict(test_features)\n",
    "accuracy = accuracy_score(test_labels, y_pred)\n",
    "print(accuracy)"
   ]
  },
  {
   "cell_type": "markdown",
   "metadata": {},
   "source": [
    "Nhận xét: KNN(k từ 1 tới 9) trong trường hợp này sẽ cho kết quả chính xác hơn LogisticRegression."
   ]
  }
 ],
 "metadata": {
  "kernelspec": {
   "display_name": "Python 3",
   "language": "python",
   "name": "python3"
  },
  "language_info": {
   "codemirror_mode": {
    "name": "ipython",
    "version": 3
   },
   "file_extension": ".py",
   "mimetype": "text/x-python",
   "name": "python",
   "nbconvert_exporter": "python",
   "pygments_lexer": "ipython3",
   "version": "3.12.7"
  }
 },
 "nbformat": 4,
 "nbformat_minor": 2
}
