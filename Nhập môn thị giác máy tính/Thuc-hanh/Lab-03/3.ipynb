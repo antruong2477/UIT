{
 "cells": [
  {
   "cell_type": "code",
   "execution_count": 1,
   "metadata": {},
   "outputs": [],
   "source": [
    "import cv2 as cv                \n",
    "from skimage import feature  \n",
    "import os\n",
    "import numpy as np\n",
    "from sklearn.neighbors import KNeighborsClassifier\n",
    "from sklearn.metrics import accuracy_score\n",
    "from sklearn.linear_model import LogisticRegression\n",
    "from sklearn.metrics import accuracy_score"
   ]
  },
  {
   "cell_type": "code",
   "execution_count": 2,
   "metadata": {},
   "outputs": [],
   "source": [
    "def compute_hog_train(img):\n",
    "    img = cv.resize(img, (128, 256))\n",
    "    (hog, hog_image) = feature.hog(img, orientations=9,\n",
    "                                   pixels_per_cell=(8, 8), cells_per_block=(2, 2),\n",
    "                                   block_norm='L2-Hys', visualize=True, transform_sqrt=True)\n",
    "    return hog"
   ]
  },
  {
   "cell_type": "code",
   "execution_count": 3,
   "metadata": {},
   "outputs": [],
   "source": [
    "def load_train_data(folder_path):\n",
    "    features = []\n",
    "    labels = []\n",
    "    for file_name in os.listdir(folder_path):\n",
    "        if file_name.endswith('.jpg'):\n",
    "            img_path = os.path.join(folder_path, file_name)\n",
    "            img = cv.imread(img_path)\n",
    "            if img is not None:\n",
    "                img_gray = cv.cvtColor(img, cv.COLOR_BGR2GRAY)\n",
    "                feature = compute_hog_train(img_gray)\n",
    "                features.append(feature)\n",
    "                # Gán nhãn dựa vào tên file\n",
    "                if 'cat' in file_name:\n",
    "                    labels.append(0)\n",
    "                elif 'dog' in file_name:\n",
    "                    labels.append(1)\n",
    "    return np.array(features), np.array(labels)"
   ]
  },
  {
   "cell_type": "code",
   "execution_count": 4,
   "metadata": {},
   "outputs": [],
   "source": [
    "X_train, y_train = load_train_data('train')\n",
    "X_test, y_test = load_train_data('test')"
   ]
  },
  {
   "cell_type": "code",
   "execution_count": 5,
   "metadata": {},
   "outputs": [
    {
     "name": "stdout",
     "output_type": "stream",
     "text": [
      "Accuracy for k=1: 0.6\n",
      "Accuracy for k=2: 0.6\n",
      "Accuracy for k=3: 0.6\n",
      "Accuracy for k=4: 0.5666666666666667\n",
      "Accuracy for k=5: 0.6333333333333333\n",
      "Accuracy for k=6: 0.5666666666666667\n",
      "Accuracy for k=7: 0.6\n",
      "Accuracy for k=8: 0.5666666666666667\n"
     ]
    }
   ],
   "source": [
    "for k in range(1, 9):\n",
    "    knn = KNeighborsClassifier(n_neighbors=k)  \n",
    "    knn.fit(X_train, y_train)                 \n",
    "    y_pred = knn.predict(X_test)               \n",
    "    accuracy = accuracy_score(y_test, y_pred)\n",
    "    print(f\"Accuracy for k={k}: {accuracy}\")"
   ]
  },
  {
   "cell_type": "code",
   "execution_count": 6,
   "metadata": {},
   "outputs": [
    {
     "data": {
      "text/plain": [
       "0.4666666666666667"
      ]
     },
     "execution_count": 6,
     "metadata": {},
     "output_type": "execute_result"
    }
   ],
   "source": [
    "log_reg = LogisticRegression(max_iter=1000)\n",
    "log_reg.fit(X_train, y_train)\n",
    "y_pred = log_reg.predict(X_test)\n",
    "accuracy = accuracy_score(y_test, y_pred)\n",
    "accuracy"
   ]
  },
  {
   "cell_type": "markdown",
   "metadata": {},
   "source": [
    "Vậy KNN(k từ 1 tới 8) trong trường hợp này sẽ cho kết quả chính xác hơn LogisticRegression"
   ]
  }
 ],
 "metadata": {
  "kernelspec": {
   "display_name": "Python 3",
   "language": "python",
   "name": "python3"
  },
  "language_info": {
   "codemirror_mode": {
    "name": "ipython",
    "version": 3
   },
   "file_extension": ".py",
   "mimetype": "text/x-python",
   "name": "python",
   "nbconvert_exporter": "python",
   "pygments_lexer": "ipython3",
   "version": "3.11.5"
  }
 },
 "nbformat": 4,
 "nbformat_minor": 2
}
