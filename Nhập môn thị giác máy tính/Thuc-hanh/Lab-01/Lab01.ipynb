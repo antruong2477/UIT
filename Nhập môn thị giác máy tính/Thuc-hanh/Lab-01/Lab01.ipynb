{
 "cells": [
  {
   "cell_type": "markdown",
   "metadata": {},
   "source": [
    "# Bài thực hành Lab 01"
   ]
  },
  {
   "cell_type": "markdown",
   "metadata": {},
   "source": [
    "## Yêu cầu\n",
    "1. Sử dung tập dữ liệu train và test từ trang web:\n",
    "\n",
    "https://github.com/metinmertakcay/Color_Classification_using_Color_Descriptors\n",
    "\n",
    "2. Cho biết kết quả khi áp dụng phương pháp KNN (với k=1, k=5) \n",
    "\n",
    "3. Sử dụng ít nhất 4 loại đặc trưng về màu sắc: `Histogram`; `Color moments`; `CDC`;   `CCV`\n",
    "\n",
    "4. Với 4 độ đo: `Euclidean`, `Correlation`, `Chi-square`, `Intersection`, `Bhattacharyya`\n",
    "\n",
    "\n",
    "\n",
    "Lưu ý: Nhớ chuyển các vector đặc trưng thành vector đơn vị"
   ]
  },
  {
   "cell_type": "code",
   "execution_count": 81,
   "metadata": {},
   "outputs": [],
   "source": [
    "# Import lib\n",
    "import numpy as np\n",
    "import cv2\n",
    "import os\n",
    "from sklearn.neighbors import KNeighborsClassifier\n",
    "from sklearn.metrics import accuracy_score\n",
    "from scipy.stats import skew, kurtosis\n",
    "from sklearn.preprocessing import MinMaxScaler\n"
   ]
  },
  {
   "cell_type": "markdown",
   "metadata": {},
   "source": [
    "### Load data"
   ]
  },
  {
   "cell_type": "code",
   "execution_count": 82,
   "metadata": {},
   "outputs": [],
   "source": [
    "def load_dataset(data_dir, class_colors):\n",
    "    X = [];\n",
    "    y = []\n",
    "\n",
    "    for label_dir in os.listdir(data_dir):\n",
    "\n",
    "        for img_file in os.listdir(os.path.join(data_dir, label_dir)):\n",
    "            img_path = os.path.join(data_dir, label_dir, img_file)\n",
    "            image = cv2.imread(img_path, cv2.COLOR_GRAY2BGR)\n",
    "            image = cv2.cvtColor(image, cv2.COLOR_BGR2LUV)\n",
    "            X.append(image)\n",
    "            y.append(class_colors.index(label_dir));\n",
    "\n",
    "    return np.array(X), np.array(y)\n"
   ]
  },
  {
   "cell_type": "code",
   "execution_count": 83,
   "metadata": {},
   "outputs": [],
   "source": [
    "BIN_SIZE = 8\n",
    "train_path = 'train'\n",
    "test_path = 'test'\n",
    "\n",
    "class_colors = [\"black\", \"blue\", \"green\",\"orange\",\n",
    "                \"red\", \"violet\", \"white\", \"yellow\"]\n",
    "\n",
    "X_train, y_train = load_dataset(train_path, class_colors)\n",
    "X_test, y_test = load_dataset(test_path, class_colors)"
   ]
  },
  {
   "cell_type": "markdown",
   "metadata": {},
   "source": [
    "### Định nghĩa các hàm rút trích đặc trưng\n",
    "* Histogram\n",
    "* Color Moments\n",
    "* CDC\n",
    "* CCV"
   ]
  },
  {
   "cell_type": "code",
   "execution_count": 84,
   "metadata": {},
   "outputs": [],
   "source": [
    "# Histogram\n",
    "def extract_histogram(image):\n",
    "    row, column, channel = image.shape[:3]\n",
    "    size = row * column\n",
    "    \n",
    "    feature = []\n",
    "    for k in range(channel):\n",
    "        histogram = np.squeeze(cv2.calcHist([image], [k], None, [BIN_SIZE], [0, 256]))\n",
    "        histogram = histogram / size\n",
    "        feature.extend(histogram)\n",
    "    return feature"
   ]
  },
  {
   "cell_type": "code",
   "execution_count": 85,
   "metadata": {},
   "outputs": [],
   "source": [
    "# Color_momemts\n",
    "epsilon = 1e-10\n",
    "def moment(channel):\n",
    "    feature = []\n",
    "    mean_value = np.mean(channel)\n",
    "    std_value = np.std(channel)\n",
    "    \n",
    "    if std_value == 0:\n",
    "        feature.append(mean_value)\n",
    "        feature.append(std_value)\n",
    "        feature.append(0)\n",
    "        feature.append(0)\n",
    "    else:\n",
    "        feature.append(mean_value)\n",
    "        feature.append(std_value)\n",
    "        feature.append(skew(channel))\n",
    "        feature.append(kurtosis(channel))\n",
    "    \n",
    "    return feature\n",
    "\n",
    "\n",
    "def extract_color_moment(image):\n",
    "    row, column, channel = image.shape[:3]\n",
    "    \n",
    "    channel_list = []\n",
    "    for i in range(channel):\n",
    "        channel_list.append([])\n",
    "    \n",
    "    for i in range(row):\n",
    "        for j in range(column):\n",
    "            for k in range(channel):\n",
    "                channel_list[k].append(image[i][j][k])\n",
    "    \n",
    "    feature = []\n",
    "    for i in range(channel):\n",
    "        feature.extend(moment(channel_list[i]))\n",
    "    \n",
    "    return feature"
   ]
  },
  {
   "cell_type": "code",
   "execution_count": 86,
   "metadata": {},
   "outputs": [],
   "source": [
    "# cdc\n",
    "def extract_cdc(image):\n",
    "    # Lấy vùng trung tâm của ảnh\n",
    "    center = image[image.shape[0]//4:3*image.shape[0]//4, image.shape[1]//4:3*image.shape[1]//4]\n",
    "    return np.mean(center, axis=(0, 1))\n"
   ]
  },
  {
   "cell_type": "code",
   "execution_count": 87,
   "metadata": {},
   "outputs": [],
   "source": [
    "# ccv\n",
    "def extract_ccv(image, t=50):\n",
    "    row, col, ch = image.shape\n",
    "    ccv_feature = []\n",
    "    for i in range(ch):\n",
    "        channel = image[:, :, i]\n",
    "        hist, _ = np.histogram(channel, bins=256, range=(0, 256))\n",
    "        coherent = np.sum(hist[hist >= t])\n",
    "        incoherent = np.sum(hist[hist < t])\n",
    "        ccv_feature.append(coherent)\n",
    "        ccv_feature.append(incoherent)\n",
    "    return ccv_feature"
   ]
  },
  {
   "cell_type": "markdown",
   "metadata": {},
   "source": [
    "## Rút trích đặc trưng"
   ]
  },
  {
   "cell_type": "code",
   "execution_count": 88,
   "metadata": {},
   "outputs": [],
   "source": [
    "def extract_image(image):\n",
    "    hist = extract_histogram(image)\n",
    "    moments = extract_color_moment(image)\n",
    "    cdc = extract_cdc(image)\n",
    "    ccv = extract_ccv(image)\n",
    "    \n",
    "    features = np.concatenate([hist, moments, cdc, ccv])\n",
    "    \n",
    "    return features"
   ]
  },
  {
   "cell_type": "code",
   "execution_count": 89,
   "metadata": {},
   "outputs": [],
   "source": [
    "def extract_features(X):\n",
    "    X_features = []\n",
    "    for image in X:       \n",
    "        features = extract_image(image)\n",
    "        X_features.append(features)\n",
    "    \n",
    "    return np.array(X_features)"
   ]
  },
  {
   "cell_type": "code",
   "execution_count": 90,
   "metadata": {},
   "outputs": [],
   "source": [
    "X_train_features = extract_features(X_train)\n",
    "X_test_features = extract_features(X_test)"
   ]
  },
  {
   "cell_type": "markdown",
   "metadata": {},
   "source": [
    "## Normalize"
   ]
  },
  {
   "cell_type": "code",
   "execution_count": 91,
   "metadata": {},
   "outputs": [],
   "source": [
    "scaler = MinMaxScaler()\n",
    "X_train_features =scaler.fit_transform(X_train_features)\n",
    "X_test_features = scaler.transform(X_test_features)"
   ]
  },
  {
   "cell_type": "markdown",
   "metadata": {},
   "source": [
    "## Train model"
   ]
  },
  {
   "cell_type": "code",
   "execution_count": 92,
   "metadata": {},
   "outputs": [],
   "source": [
    "# Định nghĩa metric\n",
    "def chi_square(p, q, eps=1e-10):\n",
    "    return 0.5 * np.sum(((p - q) ** 2) / (p + q + eps))\n",
    "\n",
    "# def intersection(histA, histB):\n",
    "#     return np.sum(np.minimum(histA, histB))\n",
    "def intersection(x, y):\n",
    "    return 1 - np.sum(np.minimum(x, y))\n",
    "\n",
    "def bhattacharyya(x, y):\n",
    "    return -np.log(np.sum(np.sqrt(x * y)) + 1e-10)\n"
   ]
  },
  {
   "cell_type": "code",
   "execution_count": 93,
   "metadata": {},
   "outputs": [],
   "source": [
    "metrics = {\n",
    "    'euclidean': 'euclidean',\n",
    "    'correlation': 'correlation',\n",
    "    'chi-square': chi_square,\n",
    "    'intersection': intersection,\n",
    "    'bhattacharyya': bhattacharyya\n",
    "}"
   ]
  },
  {
   "cell_type": "code",
   "execution_count": 94,
   "metadata": {},
   "outputs": [
    {
     "name": "stdout",
     "output_type": "stream",
     "text": [
      "\n",
      "\n",
      "K = 1:\n",
      "Metric = euclidean, Accuracy = 86.25%\n",
      "Metric = correlation, Accuracy = 87.50%\n",
      "Metric = chi-square, Accuracy = 87.50%\n",
      "Metric = intersection, Accuracy = 83.75%\n",
      "Metric = bhattacharyya, Accuracy = 60.00%\n",
      "\n",
      "\n",
      "K = 5:\n",
      "Metric = euclidean, Accuracy = 86.25%\n",
      "Metric = correlation, Accuracy = 93.75%\n",
      "Metric = chi-square, Accuracy = 82.50%\n",
      "Metric = intersection, Accuracy = 77.50%\n",
      "Metric = bhattacharyya, Accuracy = 53.75%\n"
     ]
    }
   ],
   "source": [
    "for k in [1, 5]:\n",
    "    print(\"\\n\")\n",
    "    print(f\"K = {k}:\")\n",
    "   \n",
    "    for metric_name, metric in metrics.items():\n",
    "        \n",
    "        # Define model\n",
    "        knn = KNeighborsClassifier(n_neighbors=k, metric=metric)\n",
    "        knn.fit(X_train_features, y_train)\n",
    "        \n",
    "        y_pred = knn.predict(X_test_features)\n",
    "        \n",
    "        accuracy = accuracy_score(y_test, y_pred)\n",
    "        \n",
    "        print(f\"Metric = {metric_name}, Accuracy = {accuracy*100:.2f}%\")"
   ]
  }
 ],
 "metadata": {
  "kernelspec": {
   "display_name": "Python 3",
   "language": "python",
   "name": "python3"
  },
  "language_info": {
   "codemirror_mode": {
    "name": "ipython",
    "version": 3
   },
   "file_extension": ".py",
   "mimetype": "text/x-python",
   "name": "python",
   "nbconvert_exporter": "python",
   "pygments_lexer": "ipython3",
   "version": "3.12.5"
  },
  "orig_nbformat": 4
 },
 "nbformat": 4,
 "nbformat_minor": 2
}
