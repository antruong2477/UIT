{
 "cells": [
  {
   "cell_type": "markdown",
   "id": "gAAdqHUTUNtL",
   "metadata": {
    "id": "gAAdqHUTUNtL"
   },
   "source": [
    "# PHẦN 0 - KIỂM TRA PHIÊN BẢN CỦA THƯ VIỆN TENSORFLOW VÀ KERAS"
   ]
  },
  {
   "cell_type": "markdown",
   "id": "_73yrUJlVMtq",
   "metadata": {
    "id": "_73yrUJlVMtq"
   },
   "source": [
    "Trong bài tập này, chúng ta chỉ sẽ sử dụng thiết bị `CPU`. Bạn phải sử dụng phiên bản `2.15.0` của `TensorFlow` (đây cũng là phiên bản của môi trường `Google Colab` hiện tại). Trong trường hợp môi trường `Python 3` của bạn chưa có thư viện `TensorFlow` theo như yêu cầu, bạn cài đặt bằng cách thực hiện lệnh sau `pip install tensorflow==2.15.0`."
   ]
  },
  {
   "cell_type": "code",
   "execution_count": 5,
   "id": "udSpqqalTjLE",
   "metadata": {
    "colab": {
     "base_uri": "https://localhost:8080/"
    },
    "execution": {
     "iopub.execute_input": "2024-04-06T10:11:41.033263Z",
     "iopub.status.busy": "2024-04-06T10:11:41.032422Z",
     "iopub.status.idle": "2024-04-06T10:11:53.636749Z",
     "shell.execute_reply": "2024-04-06T10:11:53.633415Z"
    },
    "executionInfo": {
     "elapsed": 11937,
     "status": "ok",
     "timestamp": 1712308942350,
     "user": {
      "displayName": "Nguyễn Đức Vũ",
      "userId": "07288779277842550568"
     },
     "user_tz": -420
    },
    "id": "udSpqqalTjLE",
    "outputId": "50d54c7c-388d-4f6d-e1df-fc60a3eb8cec"
   },
   "outputs": [
    {
     "name": "stderr",
     "output_type": "stream",
     "text": [
      "  File \"<string>\", line 1\n",
      "    'import\n",
      "    ^\n",
      "SyntaxError: unterminated string literal (detected at line 1)\n"
     ]
    }
   ],
   "source": [
    "# Kiểm tra phiên bản của thư viện TensorFlow và in ra danh sách các thiết bị.\n",
    "!python -c 'import tensorflow; print(tensorflow.__version__); print(tensorflow.config.list_physical_devices())'"
   ]
  },
  {
   "cell_type": "code",
   "execution_count": 6,
   "id": "7PV29RCaUDze",
   "metadata": {
    "colab": {
     "base_uri": "https://localhost:8080/"
    },
    "execution": {
     "iopub.execute_input": "2024-04-06T10:11:53.649814Z",
     "iopub.status.busy": "2024-04-06T10:11:53.647465Z",
     "iopub.status.idle": "2024-04-06T10:12:02.632962Z",
     "shell.execute_reply": "2024-04-06T10:12:02.628945Z"
    },
    "executionInfo": {
     "elapsed": 16560,
     "status": "ok",
     "timestamp": 1712308958902,
     "user": {
      "displayName": "Nguyễn Đức Vũ",
      "userId": "07288779277842550568"
     },
     "user_tz": -420
    },
    "id": "7PV29RCaUDze",
    "outputId": "8902f665-5176-41bd-b33a-c1866ec18e78"
   },
   "outputs": [
    {
     "name": "stderr",
     "output_type": "stream",
     "text": [
      "  File \"<string>\", line 1\n",
      "    'import\n",
      "    ^\n",
      "SyntaxError: unterminated string literal (detected at line 1)\n"
     ]
    }
   ],
   "source": [
    "# Kiểm tra phiên bản của thư viện Keras.\n",
    "!python -c 'import keras; print(keras.__version__)'"
   ]
  },
  {
   "cell_type": "markdown",
   "id": "32d8e798-415f-437f-9595-395432d2f6ea",
   "metadata": {
    "id": "32d8e798-415f-437f-9595-395432d2f6ea",
    "nbgrader": {
     "grade": false,
     "grade_id": "cell-cd8ada6364a44dde",
     "locked": true,
     "schema_version": 3,
     "solution": false,
     "task": false
    },
    "tags": []
   },
   "source": [
    "## PHẦN 1 - CÀI ĐẶT MÔ HÌNH LINEAR REGRESSION VỚI KERAS"
   ]
  },
  {
   "cell_type": "markdown",
   "id": "fd050030-303d-46a5-814b-39eb047ad932",
   "metadata": {
    "id": "fd050030-303d-46a5-814b-39eb047ad932",
    "nbgrader": {
     "grade": false,
     "grade_id": "cell-0bffba57d1ad9cb3",
     "locked": true,
     "schema_version": 3,
     "solution": false,
     "task": false
    },
    "tags": []
   },
   "source": [
    "Một mô hình máy học cần có đủ ít nhất 7 phương thức sau:\n",
    "- `__init__`: hàm constructor trong hướng đối tượng, được sử dụng để khởi tạo các tham số mặc định hoặc tham số bắt đầu một mô hình. Trong những bài tập đầu tiên, để đơn giản constructor sẽ không sử dụng.\n",
    "- `build`: xây dựng kiến trúc của mô hình\n",
    "- `train`: bắt đầu quá trình huấn luyện mô hình\n",
    "- `save`: lưu lại mô hình sau khi đã huấn luyện\n",
    "- `load`: load lên mô hình từ file đã huấn luyện (pretrained)\n",
    "- `summary`: in tóm tắt kiến trúc mô hình\n",
    "- `predict`: dự đoán giá trị output từ dữ liệu đầu vào"
   ]
  },
  {
   "cell_type": "code",
   "execution_count": 7,
   "id": "4045ce28-ee6d-4e9b-a48a-f1735f301574",
   "metadata": {
    "execution": {
     "iopub.execute_input": "2024-04-06T10:12:02.645556Z",
     "iopub.status.busy": "2024-04-06T10:12:02.644447Z",
     "iopub.status.idle": "2024-04-06T10:12:02.666988Z",
     "shell.execute_reply": "2024-04-06T10:12:02.664538Z"
    },
    "executionInfo": {
     "elapsed": 8,
     "status": "ok",
     "timestamp": 1712308958903,
     "user": {
      "displayName": "Nguyễn Đức Vũ",
      "userId": "07288779277842550568"
     },
     "user_tz": -420
    },
    "id": "4045ce28-ee6d-4e9b-a48a-f1735f301574",
    "nbgrader": {
     "grade": false,
     "grade_id": "cell-126fc97be75a7453",
     "locked": true,
     "schema_version": 3,
     "solution": false,
     "task": false
    },
    "tags": []
   },
   "outputs": [],
   "source": [
    "# Mô hình cài đặt tổng quát bao gồm 7 phương thức cơ bản\n",
    "# Lưu ý: mô hình này chỉ mang tính gợi ý, không bắt buộc\n",
    "# Tuy nhiên, trong phần bài tập cần tuân theo các tên phương thức này\n",
    "class MyModel:\n",
    "    # constructor\n",
    "    def __init__(self):\n",
    "        return None\n",
    "\n",
    "    # Implement architecture of the model\n",
    "    def build(self):\n",
    "        return None\n",
    "\n",
    "    # Train the defined model with training and validation data\n",
    "    def train(self):\n",
    "        return None\n",
    "\n",
    "    # Save the trained model to file\n",
    "    def save(self, model_path):\n",
    "        return None\n",
    "\n",
    "    # Load pretrained model from file\n",
    "    def load(self):\n",
    "        return None\n",
    "\n",
    "    # Visualize your model\n",
    "    def summary(self):\n",
    "        return None\n",
    "\n",
    "    # Apply your model with new input data\n",
    "    def predict(self):\n",
    "        return None"
   ]
  },
  {
   "cell_type": "markdown",
   "id": "498cd880-c80c-4d9a-9ca8-bff003cf2ae6",
   "metadata": {
    "id": "498cd880-c80c-4d9a-9ca8-bff003cf2ae6",
    "nbgrader": {
     "grade": false,
     "grade_id": "cell-449bbee0eee23e80",
     "locked": true,
     "schema_version": 3,
     "solution": false,
     "task": false
    },
    "tags": []
   },
   "source": [
    "## 1. Import các thư viện Keras\n",
    "\n",
    "Đầu tiên, ta sẽ import các thư viện, module, hàm của `Keras`:\n",
    "- `Input`: để nhận dữ liệu đầu vào cho mô hình\n",
    "- `Dense`: hay còn gọi là lớp Fully Connected (Lớp kết nối đầy đủ), một thành phần quan trọng của các mô hình dựa trên mạng Neural Network.\n",
    "- `Model`: đây là lớp đối tượng mô hình được sử dụng để đóng gói lớp đầu vào, đầu ra, sau đó huấn luyện với phương thức `fit` và dự đoán kết quả với `predict`.\n",
    "- `load_model`: hàm sử dụng để load mô hình lên từ file"
   ]
  },
  {
   "cell_type": "code",
   "execution_count": 8,
   "id": "1f4b4acb-157f-4309-96de-b8e7b01f6506",
   "metadata": {
    "execution": {
     "iopub.execute_input": "2024-04-06T10:12:02.676506Z",
     "iopub.status.busy": "2024-04-06T10:12:02.675591Z",
     "iopub.status.idle": "2024-04-06T10:12:10.331216Z",
     "shell.execute_reply": "2024-04-06T10:12:10.328873Z"
    },
    "executionInfo": {
     "elapsed": 11696,
     "status": "ok",
     "timestamp": 1712308970593,
     "user": {
      "displayName": "Nguyễn Đức Vũ",
      "userId": "07288779277842550568"
     },
     "user_tz": -420
    },
    "id": "1f4b4acb-157f-4309-96de-b8e7b01f6506",
    "nbgrader": {
     "grade": false,
     "grade_id": "cell-57c79d33953aeef2",
     "locked": true,
     "schema_version": 3,
     "solution": false,
     "task": false
    },
    "tags": []
   },
   "outputs": [],
   "source": [
    "from keras.layers import Input, Dense\n",
    "from keras import Model\n",
    "import tensorflow as tf\n",
    "from keras.models import load_model"
   ]
  },
  {
   "cell_type": "markdown",
   "id": "04a833c1-4990-489c-bbac-968b578eac39",
   "metadata": {
    "id": "04a833c1-4990-489c-bbac-968b578eac39",
    "nbgrader": {
     "grade": false,
     "grade_id": "cell-f72ad50b2c988c98",
     "locked": true,
     "schema_version": 3,
     "solution": false,
     "task": false
    },
    "tags": []
   },
   "source": [
    "## 2. Cài đặt mô hình Linear Regression\n",
    "Tiếp theo, ta sẽ dựa trên khung đối tượng `MyModel` đã trình bày ở mục trước để tiến hành cài đặt mô hình **Linear Regression**. Phương thức chính mà bài tập này cần thực hiện là `def build()`. Các phương thức còn lại đã được cài đặt sẵn, các bạn cần đọc, hiểu ý nghĩa và cách thức sử dụng về sau.\n",
    "\n",
    "<p align=\"center\">\n",
    "  <img src=\"./images/LinearReg.png\" />\n",
    "</p>"
   ]
  },
  {
   "cell_type": "code",
   "execution_count": 9,
   "id": "60b33717-b96f-4c9b-97f8-2e0eb49d7afa",
   "metadata": {
    "execution": {
     "iopub.execute_input": "2024-04-06T10:12:10.342530Z",
     "iopub.status.busy": "2024-04-06T10:12:10.340979Z",
     "iopub.status.idle": "2024-04-06T10:12:10.360725Z",
     "shell.execute_reply": "2024-04-06T10:12:10.358720Z"
    },
    "executionInfo": {
     "elapsed": 39,
     "status": "ok",
     "timestamp": 1712308970594,
     "user": {
      "displayName": "Nguyễn Đức Vũ",
      "userId": "07288779277842550568"
     },
     "user_tz": -420
    },
    "id": "60b33717-b96f-4c9b-97f8-2e0eb49d7afa",
    "nbgrader": {
     "grade": false,
     "grade_id": "cell-39579eccef29b960",
     "locked": false,
     "schema_version": 3,
     "solution": true,
     "task": false
    },
    "tags": []
   },
   "outputs": [],
   "source": [
    "# Linear Regression\n",
    "class LinearRegression:\n",
    "    def __init__(self): # Self is similar to your 'this' pointer in C++\n",
    "        return None\n",
    "\n",
    "    def build(self, input_dim):\n",
    "\n",
    "        self.model = None\n",
    "        # Hãy cài đặt để định nghĩa KIẾN TRÚC MÔ HÌNH và lưu ở thuộc tính `self.model`\n",
    "        # với các biến đối tượng sau:\n",
    "        #  - tạo biến `input` với lớp đối tượng `Input` của Keras,\n",
    "        #    truyền vào kích thước đầu vào `input_dim`\n",
    "        #  - tạo biến `output` với lớp đối tượng `Dense` của Keras,\n",
    "        #    truyền vào các tham số:  kích thước output, có sử dụng bias,\n",
    "        #    không sử dụng hàm activation\n",
    "        # Sau bước này, self.model sẽ đóng gói 2 biến `input` và `output` để tạo thành mô hình\n",
    "        ### BEGIN SOLUTION\n",
    "        input = Input(shape=(input_dim,))\n",
    "        output = Dense(units=1, use_bias=True, activation=None)(input)       \n",
    "        ### END SOLUTION\n",
    "        self.model = Model(input, output)\n",
    "        return self.model\n",
    "\n",
    "    def train(self, x_train, y_train):\n",
    "        opt = tf.keras.optimizers.SGD(learning_rate=0.1) # Stochastic Gradient Descent\n",
    "        self.model.compile(optimizer=opt, loss='mse') # MSE: mean squared error or L2 distance # (y~ - y)^2\n",
    "        return self.model.fit(x_train, y_train, epochs=30)\n",
    "\n",
    "    def save(self, model_file):\n",
    "        return self.model.save(model_file)\n",
    "\n",
    "    def load(self, model_file):\n",
    "        self.model = load_model(model_file)\n",
    "\n",
    "    def summary(self):\n",
    "        self.model.summary()\n",
    "\n",
    "    def predict(self, x_test):\n",
    "        return self.model.predict(x_test)\n",
    "\n",
    "    def get_weights(self):\n",
    "        return self.model.layers[1].get_weights()"
   ]
  },
  {
   "cell_type": "markdown",
   "id": "97f6c731-3e41-4d71-988d-b41a6dfa2999",
   "metadata": {
    "id": "97f6c731-3e41-4d71-988d-b41a6dfa2999",
    "nbgrader": {
     "grade": false,
     "grade_id": "cell-ac1cf2df36b35acb",
     "locked": true,
     "schema_version": 3,
     "solution": false,
     "task": false
    },
    "tags": []
   },
   "source": [
    "Tiếp theo, ta sẽ khởi tạo đối tượng LinearRegression và kiểm tra thử xem phương `build` đã cài đặt chính xác chưa."
   ]
  },
  {
   "cell_type": "code",
   "execution_count": 10,
   "id": "74d6e729-8fcc-4464-9d1f-0e24da5629dc",
   "metadata": {
    "colab": {
     "base_uri": "https://localhost:8080/"
    },
    "execution": {
     "iopub.execute_input": "2024-04-06T10:12:10.370409Z",
     "iopub.status.busy": "2024-04-06T10:12:10.369257Z",
     "iopub.status.idle": "2024-04-06T10:12:10.507939Z",
     "shell.execute_reply": "2024-04-06T10:12:10.505720Z"
    },
    "executionInfo": {
     "elapsed": 32,
     "status": "ok",
     "timestamp": 1712308970594,
     "user": {
      "displayName": "Nguyễn Đức Vũ",
      "userId": "07288779277842550568"
     },
     "user_tz": -420
    },
    "id": "74d6e729-8fcc-4464-9d1f-0e24da5629dc",
    "nbgrader": {
     "grade": false,
     "grade_id": "cell-cb24e77ca4ff451e",
     "locked": true,
     "schema_version": 3,
     "solution": false,
     "task": false
    },
    "outputId": "4749df93-df51-40af-9277-6bd83a922f1d",
    "tags": []
   },
   "outputs": [
    {
     "data": {
      "text/plain": [
       "<Functional name=functional, built=True>"
      ]
     },
     "execution_count": 10,
     "metadata": {},
     "output_type": "execute_result"
    }
   ],
   "source": [
    "lr = LinearRegression()\n",
    "# Trong ví dụ này, ta sẽ khởi tạo input là một vector 1000 chiều:\n",
    "lr.build(1000)"
   ]
  },
  {
   "cell_type": "code",
   "execution_count": null,
   "id": "9ca9fdb2-e913-4c1d-a858-48a3842f3436",
   "metadata": {
    "execution": {
     "iopub.execute_input": "2024-04-06T10:12:10.517399Z",
     "iopub.status.busy": "2024-04-06T10:12:10.516169Z",
     "iopub.status.idle": "2024-04-06T10:12:10.527331Z",
     "shell.execute_reply": "2024-04-06T10:12:10.525334Z"
    },
    "executionInfo": {
     "elapsed": 25,
     "status": "ok",
     "timestamp": 1712308970594,
     "user": {
      "displayName": "Nguyễn Đức Vũ",
      "userId": "07288779277842550568"
     },
     "user_tz": -420
    },
    "id": "9ca9fdb2-e913-4c1d-a858-48a3842f3436",
    "nbgrader": {
     "grade": true,
     "grade_id": "cell-278fafeae5c407d0",
     "locked": true,
     "points": 5,
     "schema_version": 3,
     "solution": false,
     "task": false
    },
    "tags": []
   },
   "outputs": [
    {
     "ename": "AttributeError",
     "evalue": "'InputLayer' object has no attribute 'input_shape'",
     "output_type": "error",
     "traceback": [
      "\u001b[1;31m---------------------------------------------------------------------------\u001b[0m",
      "\u001b[1;31mAttributeError\u001b[0m                            Traceback (most recent call last)",
      "Cell \u001b[1;32mIn[12], line 5\u001b[0m\n\u001b[0;32m      3\u001b[0m \u001b[38;5;28;01massert\u001b[39;00m \u001b[38;5;28mstr\u001b[39m(\u001b[38;5;28mtype\u001b[39m(lr\u001b[38;5;241m.\u001b[39mmodel\u001b[38;5;241m.\u001b[39mlayers[\u001b[38;5;241m0\u001b[39m]))\u001b[38;5;241m.\u001b[39mendswith(\u001b[38;5;124m\"\u001b[39m\u001b[38;5;124minput_layer.InputLayer\u001b[39m\u001b[38;5;124m'\u001b[39m\u001b[38;5;124m>\u001b[39m\u001b[38;5;124m\"\u001b[39m) \u001b[38;5;241m==\u001b[39m \u001b[38;5;28;01mTrue\u001b[39;00m\n\u001b[0;32m      4\u001b[0m \u001b[38;5;28;01massert\u001b[39;00m \u001b[38;5;28mstr\u001b[39m(\u001b[38;5;28mtype\u001b[39m(lr\u001b[38;5;241m.\u001b[39mmodel\u001b[38;5;241m.\u001b[39mlayers[\u001b[38;5;241m1\u001b[39m]))\u001b[38;5;241m.\u001b[39mendswith(\u001b[38;5;124m\"\u001b[39m\u001b[38;5;124mcore.dense.Dense\u001b[39m\u001b[38;5;124m'\u001b[39m\u001b[38;5;124m>\u001b[39m\u001b[38;5;124m\"\u001b[39m) \u001b[38;5;241m==\u001b[39m \u001b[38;5;28;01mTrue\u001b[39;00m\n\u001b[1;32m----> 5\u001b[0m \u001b[38;5;28;01massert\u001b[39;00m \u001b[43mlr\u001b[49m\u001b[38;5;241;43m.\u001b[39;49m\u001b[43mmodel\u001b[49m\u001b[38;5;241;43m.\u001b[39;49m\u001b[43mlayers\u001b[49m\u001b[43m[\u001b[49m\u001b[38;5;241;43m0\u001b[39;49m\u001b[43m]\u001b[49m\u001b[38;5;241;43m.\u001b[39;49m\u001b[43minput_shape\u001b[49m[\u001b[38;5;241m0\u001b[39m][\u001b[38;5;241m1\u001b[39m] \u001b[38;5;241m==\u001b[39m \u001b[38;5;241m1000\u001b[39m\n",
      "\u001b[1;31mAttributeError\u001b[0m: 'InputLayer' object has no attribute 'input_shape'"
     ]
    }
   ],
   "source": [
    "# # Public Test\n",
    "# assert len(lr.model.layers) == 2\n",
    "# assert str(type(lr.model.layers[0])).endswith(\"input_layer.InputLayer'>\") == True\n",
    "# assert str(type(lr.model.layers[1])).endswith(\"core.dense.Dense'>\") == True\n",
    "# assert lr.model.layers[0].input_shape[0][1] == 1000"
   ]
  },
  {
   "cell_type": "markdown",
   "id": "834e8988-86a3-4914-8b48-5b1e0c26ef9f",
   "metadata": {
    "id": "834e8988-86a3-4914-8b48-5b1e0c26ef9f",
    "nbgrader": {
     "grade": false,
     "grade_id": "cell-ac7a9ddf407c8762",
     "locked": true,
     "schema_version": 3,
     "solution": false,
     "task": false
    },
    "tags": []
   },
   "source": [
    "## 3. Tạo dữ liệu mẫu (toy example)\n",
    "Bước tiếp theo, ta sẽ tiến hành tạo mẫu dữ liệu để huấn luyện và kiểm thử.\n",
    "\n",
    "Dữ liệu được tạo ra là các điểm xoay xung quanh một đường thẳng với một số nhiễu"
   ]
  },
  {
   "cell_type": "code",
   "execution_count": 13,
   "id": "e85e8cda-f476-4091-8bbc-e1c5c05a8c99",
   "metadata": {
    "colab": {
     "base_uri": "https://localhost:8080/",
     "height": 451
    },
    "execution": {
     "iopub.execute_input": "2024-04-06T10:12:10.593161Z",
     "iopub.status.busy": "2024-04-06T10:12:10.591940Z",
     "iopub.status.idle": "2024-04-06T10:12:13.263311Z",
     "shell.execute_reply": "2024-04-06T10:12:13.260875Z"
    },
    "executionInfo": {
     "elapsed": 36,
     "status": "ok",
     "timestamp": 1712308971289,
     "user": {
      "displayName": "Nguyễn Đức Vũ",
      "userId": "07288779277842550568"
     },
     "user_tz": -420
    },
    "id": "e85e8cda-f476-4091-8bbc-e1c5c05a8c99",
    "nbgrader": {
     "grade": false,
     "grade_id": "cell-596b906e8b2db48f",
     "locked": true,
     "schema_version": 3,
     "solution": false,
     "task": false
    },
    "outputId": "f2bde581-be76-4247-e320-50715ce5e5a6",
    "tags": []
   },
   "outputs": [
    {
     "data": {
      "image/png": "[encoded data removed]",
      "text/plain": [
       "<Figure size 640x480 with 1 Axes>"
      ]
     },
     "metadata": {},
     "output_type": "display_data"
    }
   ],
   "source": [
    "import numpy as np\n",
    "import matplotlib.pyplot as plt\n",
    "\n",
    "# Khởi tạo các điểm xung quanh đường thẳng y = -3*x + 10\n",
    "x = np.arange(-5, 5, 0.5)\n",
    "n = len(x) # Số mẫu dữ liệu\n",
    "\n",
    "std = 2 # tham số thể hiện mức độ nhiễu nhiều hay ít. Càng lớn càng nhiễu\n",
    "y = -3*x + 10 + np.random.normal(0, std, n)\n",
    "\n",
    "# Trực quan hóa dữ liệu bằng các hình tròn màu đỏ\n",
    "plt.plot(x, y, 'ro')\n",
    "plt.show()"
   ]
  },
  {
   "cell_type": "code",
   "execution_count": 14,
   "id": "8aa7ce32-4f59-4cee-ae56-25f0cd972886",
   "metadata": {
    "colab": {
     "base_uri": "https://localhost:8080/"
    },
    "execution": {
     "iopub.execute_input": "2024-04-06T10:12:13.273023Z",
     "iopub.status.busy": "2024-04-06T10:12:13.271725Z",
     "iopub.status.idle": "2024-04-06T10:12:13.361109Z",
     "shell.execute_reply": "2024-04-06T10:12:13.358630Z"
    },
    "executionInfo": {
     "elapsed": 567,
     "status": "ok",
     "timestamp": 1712308971828,
     "user": {
      "displayName": "Nguyễn Đức Vũ",
      "userId": "07288779277842550568"
     },
     "user_tz": -420
    },
    "id": "8aa7ce32-4f59-4cee-ae56-25f0cd972886",
    "nbgrader": {
     "grade": false,
     "grade_id": "cell-7b350a0e29be5844",
     "locked": false,
     "schema_version": 3,
     "solution": true,
     "task": false
    },
    "outputId": "85b2d28f-37e4-48dc-adad-0ff4574c667b",
    "tags": []
   },
   "outputs": [
    {
     "name": "stdout",
     "output_type": "stream",
     "text": [
      "The architecture of Linear Regression model: \n"
     ]
    },
    {
     "data": {
      "text/html": [
       "<pre style=\"white-space:pre;overflow-x:auto;line-height:normal;font-family:Menlo,'DejaVu Sans Mono',consolas,'Courier New',monospace\"><span style=\"font-weight: bold\">Model: \"functional_1\"</span>\n",
       "</pre>\n"
      ],
      "text/plain": [
       "\u001b[1mModel: \"functional_1\"\u001b[0m\n"
      ]
     },
     "metadata": {},
     "output_type": "display_data"
    },
    {
     "data": {
      "text/html": [
       "<pre style=\"white-space:pre;overflow-x:auto;line-height:normal;font-family:Menlo,'DejaVu Sans Mono',consolas,'Courier New',monospace\">┏━━━━━━━━━━━━━━━━━━━━━━━━━━━━━━━━━┳━━━━━━━━━━━━━━━━━━━━━━━━┳━━━━━━━━━━━━━━━┓\n",
       "┃<span style=\"font-weight: bold\"> Layer (type)                    </span>┃<span style=\"font-weight: bold\"> Output Shape           </span>┃<span style=\"font-weight: bold\">       Param # </span>┃\n",
       "┡━━━━━━━━━━━━━━━━━━━━━━━━━━━━━━━━━╇━━━━━━━━━━━━━━━━━━━━━━━━╇━━━━━━━━━━━━━━━┩\n",
       "│ input_layer_1 (<span style=\"color: #0087ff; text-decoration-color: #0087ff\">InputLayer</span>)      │ (<span style=\"color: #00d7ff; text-decoration-color: #00d7ff\">None</span>, <span style=\"color: #00af00; text-decoration-color: #00af00\">1</span>)              │             <span style=\"color: #00af00; text-decoration-color: #00af00\">0</span> │\n",
       "├─────────────────────────────────┼────────────────────────┼───────────────┤\n",
       "│ dense_1 (<span style=\"color: #0087ff; text-decoration-color: #0087ff\">Dense</span>)                 │ (<span style=\"color: #00d7ff; text-decoration-color: #00d7ff\">None</span>, <span style=\"color: #00af00; text-decoration-color: #00af00\">1</span>)              │             <span style=\"color: #00af00; text-decoration-color: #00af00\">2</span> │\n",
       "└─────────────────────────────────┴────────────────────────┴───────────────┘\n",
       "</pre>\n"
      ],
      "text/plain": [
       "┏━━━━━━━━━━━━━━━━━━━━━━━━━━━━━━━━━┳━━━━━━━━━━━━━━━━━━━━━━━━┳━━━━━━━━━━━━━━━┓\n",
       "┃\u001b[1m \u001b[0m\u001b[1mLayer (type)                   \u001b[0m\u001b[1m \u001b[0m┃\u001b[1m \u001b[0m\u001b[1mOutput Shape          \u001b[0m\u001b[1m \u001b[0m┃\u001b[1m \u001b[0m\u001b[1m      Param #\u001b[0m\u001b[1m \u001b[0m┃\n",
       "┡━━━━━━━━━━━━━━━━━━━━━━━━━━━━━━━━━╇━━━━━━━━━━━━━━━━━━━━━━━━╇━━━━━━━━━━━━━━━┩\n",
       "│ input_layer_1 (\u001b[38;5;33mInputLayer\u001b[0m)      │ (\u001b[38;5;45mNone\u001b[0m, \u001b[38;5;34m1\u001b[0m)              │             \u001b[38;5;34m0\u001b[0m │\n",
       "├─────────────────────────────────┼────────────────────────┼───────────────┤\n",
       "│ dense_1 (\u001b[38;5;33mDense\u001b[0m)                 │ (\u001b[38;5;45mNone\u001b[0m, \u001b[38;5;34m1\u001b[0m)              │             \u001b[38;5;34m2\u001b[0m │\n",
       "└─────────────────────────────────┴────────────────────────┴───────────────┘\n"
      ]
     },
     "metadata": {},
     "output_type": "display_data"
    },
    {
     "data": {
      "text/html": [
       "<pre style=\"white-space:pre;overflow-x:auto;line-height:normal;font-family:Menlo,'DejaVu Sans Mono',consolas,'Courier New',monospace\"><span style=\"font-weight: bold\"> Total params: </span><span style=\"color: #00af00; text-decoration-color: #00af00\">2</span> (8.00 B)\n",
       "</pre>\n"
      ],
      "text/plain": [
       "\u001b[1m Total params: \u001b[0m\u001b[38;5;34m2\u001b[0m (8.00 B)\n"
      ]
     },
     "metadata": {},
     "output_type": "display_data"
    },
    {
     "data": {
      "text/html": [
       "<pre style=\"white-space:pre;overflow-x:auto;line-height:normal;font-family:Menlo,'DejaVu Sans Mono',consolas,'Courier New',monospace\"><span style=\"font-weight: bold\"> Trainable params: </span><span style=\"color: #00af00; text-decoration-color: #00af00\">2</span> (8.00 B)\n",
       "</pre>\n"
      ],
      "text/plain": [
       "\u001b[1m Trainable params: \u001b[0m\u001b[38;5;34m2\u001b[0m (8.00 B)\n"
      ]
     },
     "metadata": {},
     "output_type": "display_data"
    },
    {
     "data": {
      "text/html": [
       "<pre style=\"white-space:pre;overflow-x:auto;line-height:normal;font-family:Menlo,'DejaVu Sans Mono',consolas,'Courier New',monospace\"><span style=\"font-weight: bold\"> Non-trainable params: </span><span style=\"color: #00af00; text-decoration-color: #00af00\">0</span> (0.00 B)\n",
       "</pre>\n"
      ],
      "text/plain": [
       "\u001b[1m Non-trainable params: \u001b[0m\u001b[38;5;34m0\u001b[0m (0.00 B)\n"
      ]
     },
     "metadata": {},
     "output_type": "display_data"
    }
   ],
   "source": [
    "lr = LinearRegression()\n",
    "\n",
    "# Hãy gọi phương thức `build` cho đối tượng `lr` và truyền tham số đầu vào\n",
    "# tương ứng với dữ liệu train đã phát sinh ở code block trên\n",
    "# Theo bạn, `input_dim` bằng bao nhiêu?\n",
    "\n",
    "### BEGIN SOLUTION\n",
    "input_dim = lr.build(1)\n",
    "### END SOLUTION\n",
    "\n",
    "# Để hiển thị kiến trúc của mô hình ta gọi phương thức `summary`\n",
    "print(\"The architecture of Linear Regression model: \")\n",
    "lr.summary()"
   ]
  },
  {
   "cell_type": "code",
   "execution_count": 15,
   "id": "7f34ecff-3ef0-497f-bcd0-c138cb7b7af3",
   "metadata": {
    "colab": {
     "base_uri": "https://localhost:8080/"
    },
    "execution": {
     "iopub.execute_input": "2024-04-06T10:12:13.399961Z",
     "iopub.status.busy": "2024-04-06T10:12:13.398012Z",
     "iopub.status.idle": "2024-04-06T10:12:14.786352Z",
     "shell.execute_reply": "2024-04-06T10:12:14.783772Z"
    },
    "executionInfo": {
     "elapsed": 2156,
     "status": "ok",
     "timestamp": 1712308973964,
     "user": {
      "displayName": "Nguyễn Đức Vũ",
      "userId": "07288779277842550568"
     },
     "user_tz": -420
    },
    "id": "7f34ecff-3ef0-497f-bcd0-c138cb7b7af3",
    "nbgrader": {
     "grade": false,
     "grade_id": "cell-9ba3148b1e8aacd3",
     "locked": true,
     "schema_version": 3,
     "solution": false,
     "task": false
    },
    "outputId": "8b962d5a-822a-4123-8e21-e5808c9034c4",
    "tags": []
   },
   "outputs": [
    {
     "name": "stdout",
     "output_type": "stream",
     "text": [
      "Epoch 1/30\n",
      "\u001b[1m1/1\u001b[0m \u001b[32m━━━━━━━━━━━━━━━━━━━━\u001b[0m\u001b[37m\u001b[0m \u001b[1m0s\u001b[0m 192ms/step - loss: 182.1884\n",
      "Epoch 2/30\n",
      "\u001b[1m1/1\u001b[0m \u001b[32m━━━━━━━━━━━━━━━━━━━━\u001b[0m\u001b[37m\u001b[0m \u001b[1m0s\u001b[0m 39ms/step - loss: 103.7796\n",
      "Epoch 3/30\n",
      "\u001b[1m1/1\u001b[0m \u001b[32m━━━━━━━━━━━━━━━━━━━━\u001b[0m\u001b[37m\u001b[0m \u001b[1m0s\u001b[0m 28ms/step - loss: 62.0696\n",
      "Epoch 4/30\n",
      "\u001b[1m1/1\u001b[0m \u001b[32m━━━━━━━━━━━━━━━━━━━━\u001b[0m\u001b[37m\u001b[0m \u001b[1m0s\u001b[0m 25ms/step - loss: 39.2388\n",
      "Epoch 5/30\n",
      "\u001b[1m1/1\u001b[0m \u001b[32m━━━━━━━━━━━━━━━━━━━━\u001b[0m\u001b[37m\u001b[0m \u001b[1m0s\u001b[0m 18ms/step - loss: 26.3862\n",
      "Epoch 6/30\n",
      "\u001b[1m1/1\u001b[0m \u001b[32m━━━━━━━━━━━━━━━━━━━━\u001b[0m\u001b[37m\u001b[0m \u001b[1m0s\u001b[0m 20ms/step - loss: 18.9594\n",
      "Epoch 7/30\n",
      "\u001b[1m1/1\u001b[0m \u001b[32m━━━━━━━━━━━━━━━━━━━━\u001b[0m\u001b[37m\u001b[0m \u001b[1m0s\u001b[0m 17ms/step - loss: 14.5680\n",
      "Epoch 8/30\n",
      "\u001b[1m1/1\u001b[0m \u001b[32m━━━━━━━━━━━━━━━━━━━━\u001b[0m\u001b[37m\u001b[0m \u001b[1m0s\u001b[0m 22ms/step - loss: 11.9205\n",
      "Epoch 9/30\n",
      "\u001b[1m1/1\u001b[0m \u001b[32m━━━━━━━━━━━━━━━━━━━━\u001b[0m\u001b[37m\u001b[0m \u001b[1m0s\u001b[0m 18ms/step - loss: 10.2989\n",
      "Epoch 10/30\n",
      "\u001b[1m1/1\u001b[0m \u001b[32m━━━━━━━━━━━━━━━━━━━━\u001b[0m\u001b[37m\u001b[0m \u001b[1m0s\u001b[0m 19ms/step - loss: 9.2934\n",
      "Epoch 11/30\n",
      "\u001b[1m1/1\u001b[0m \u001b[32m━━━━━━━━━━━━━━━━━━━━\u001b[0m\u001b[37m\u001b[0m \u001b[1m0s\u001b[0m 17ms/step - loss: 8.6639\n",
      "Epoch 12/30\n",
      "\u001b[1m1/1\u001b[0m \u001b[32m━━━━━━━━━━━━━━━━━━━━\u001b[0m\u001b[37m\u001b[0m \u001b[1m0s\u001b[0m 16ms/step - loss: 8.2670\n",
      "Epoch 13/30\n",
      "\u001b[1m1/1\u001b[0m \u001b[32m━━━━━━━━━━━━━━━━━━━━\u001b[0m\u001b[37m\u001b[0m \u001b[1m0s\u001b[0m 16ms/step - loss: 8.0154\n",
      "Epoch 14/30\n",
      "\u001b[1m1/1\u001b[0m \u001b[32m━━━━━━━━━━━━━━━━━━━━\u001b[0m\u001b[37m\u001b[0m \u001b[1m0s\u001b[0m 17ms/step - loss: 7.8554\n",
      "Epoch 15/30\n",
      "\u001b[1m1/1\u001b[0m \u001b[32m━━━━━━━━━━━━━━━━━━━━\u001b[0m\u001b[37m\u001b[0m \u001b[1m0s\u001b[0m 17ms/step - loss: 7.7532\n",
      "Epoch 16/30\n",
      "\u001b[1m1/1\u001b[0m \u001b[32m━━━━━━━━━━━━━━━━━━━━\u001b[0m\u001b[37m\u001b[0m \u001b[1m0s\u001b[0m 17ms/step - loss: 7.6879\n",
      "Epoch 17/30\n",
      "\u001b[1m1/1\u001b[0m \u001b[32m━━━━━━━━━━━━━━━━━━━━\u001b[0m\u001b[37m\u001b[0m \u001b[1m0s\u001b[0m 17ms/step - loss: 7.6461\n",
      "Epoch 18/30\n",
      "\u001b[1m1/1\u001b[0m \u001b[32m━━━━━━━━━━━━━━━━━━━━\u001b[0m\u001b[37m\u001b[0m \u001b[1m0s\u001b[0m 16ms/step - loss: 7.6193\n",
      "Epoch 19/30\n",
      "\u001b[1m1/1\u001b[0m \u001b[32m━━━━━━━━━━━━━━━━━━━━\u001b[0m\u001b[37m\u001b[0m \u001b[1m0s\u001b[0m 18ms/step - loss: 7.6021\n",
      "Epoch 20/30\n",
      "\u001b[1m1/1\u001b[0m \u001b[32m━━━━━━━━━━━━━━━━━━━━\u001b[0m\u001b[37m\u001b[0m \u001b[1m0s\u001b[0m 21ms/step - loss: 7.5911\n",
      "Epoch 21/30\n",
      "\u001b[1m1/1\u001b[0m \u001b[32m━━━━━━━━━━━━━━━━━━━━\u001b[0m\u001b[37m\u001b[0m \u001b[1m0s\u001b[0m 18ms/step - loss: 7.5840\n",
      "Epoch 22/30\n",
      "\u001b[1m1/1\u001b[0m \u001b[32m━━━━━━━━━━━━━━━━━━━━\u001b[0m\u001b[37m\u001b[0m \u001b[1m0s\u001b[0m 17ms/step - loss: 7.5794\n",
      "Epoch 23/30\n",
      "\u001b[1m1/1\u001b[0m \u001b[32m━━━━━━━━━━━━━━━━━━━━\u001b[0m\u001b[37m\u001b[0m \u001b[1m0s\u001b[0m 19ms/step - loss: 7.5765\n",
      "Epoch 24/30\n",
      "\u001b[1m1/1\u001b[0m \u001b[32m━━━━━━━━━━━━━━━━━━━━\u001b[0m\u001b[37m\u001b[0m \u001b[1m0s\u001b[0m 17ms/step - loss: 7.5746\n",
      "Epoch 25/30\n",
      "\u001b[1m1/1\u001b[0m \u001b[32m━━━━━━━━━━━━━━━━━━━━\u001b[0m\u001b[37m\u001b[0m \u001b[1m0s\u001b[0m 16ms/step - loss: 7.5734\n",
      "Epoch 26/30\n",
      "\u001b[1m1/1\u001b[0m \u001b[32m━━━━━━━━━━━━━━━━━━━━\u001b[0m\u001b[37m\u001b[0m \u001b[1m0s\u001b[0m 16ms/step - loss: 7.5726\n",
      "Epoch 27/30\n",
      "\u001b[1m1/1\u001b[0m \u001b[32m━━━━━━━━━━━━━━━━━━━━\u001b[0m\u001b[37m\u001b[0m \u001b[1m0s\u001b[0m 18ms/step - loss: 7.5721\n",
      "Epoch 28/30\n",
      "\u001b[1m1/1\u001b[0m \u001b[32m━━━━━━━━━━━━━━━━━━━━\u001b[0m\u001b[37m\u001b[0m \u001b[1m0s\u001b[0m 23ms/step - loss: 7.5718\n",
      "Epoch 29/30\n",
      "\u001b[1m1/1\u001b[0m \u001b[32m━━━━━━━━━━━━━━━━━━━━\u001b[0m\u001b[37m\u001b[0m \u001b[1m0s\u001b[0m 19ms/step - loss: 7.5716\n",
      "Epoch 30/30\n",
      "\u001b[1m1/1\u001b[0m \u001b[32m━━━━━━━━━━━━━━━━━━━━\u001b[0m\u001b[37m\u001b[0m \u001b[1m0s\u001b[0m 19ms/step - loss: 7.5715\n"
     ]
    }
   ],
   "source": [
    "# Để huấn luyện mô hình ta gọi phương thức `train` với dữ liệu mẫu đã tạo được\n",
    "# Nếu bước `build` mô hình gọi đúng thì bước `train` sau sẽ thực hiện thành công\n",
    "hist = lr.train(x, y)"
   ]
  },
  {
   "cell_type": "code",
   "execution_count": 16,
   "id": "44d04e58-792d-40e7-b4c5-01b4e0a582df",
   "metadata": {
    "colab": {
     "base_uri": "https://localhost:8080/",
     "height": 493
    },
    "execution": {
     "iopub.execute_input": "2024-04-06T10:12:14.795469Z",
     "iopub.status.busy": "2024-04-06T10:12:14.794741Z",
     "iopub.status.idle": "2024-04-06T10:12:15.285124Z",
     "shell.execute_reply": "2024-04-06T10:12:15.282907Z"
    },
    "executionInfo": {
     "elapsed": 747,
     "status": "ok",
     "timestamp": 1712308974707,
     "user": {
      "displayName": "Nguyễn Đức Vũ",
      "userId": "07288779277842550568"
     },
     "user_tz": -420
    },
    "id": "44d04e58-792d-40e7-b4c5-01b4e0a582df",
    "nbgrader": {
     "grade": false,
     "grade_id": "cell-410570417a6e9fdd",
     "locked": true,
     "schema_version": 3,
     "solution": false,
     "task": false
    },
    "outputId": "b5a7385e-a1fd-451d-9ab9-f95b51ec6e3a",
    "tags": []
   },
   "outputs": [
    {
     "data": {
      "image/png": "[encoded data removed]",
      "text/plain": [
       "<Figure size 640x480 with 1 Axes>"
      ]
     },
     "metadata": {},
     "output_type": "display_data"
    }
   ],
   "source": [
    "# Hiển thị loss theo số epoch\n",
    "plt.plot(hist.history['loss'])\n",
    "plt.title('Model Loss')\n",
    "plt.ylabel('loss')\n",
    "plt.xlabel('epoch')\n",
    "plt.show()"
   ]
  },
  {
   "cell_type": "code",
   "execution_count": null,
   "id": "3fb633a4-92b1-4d1d-a189-df8b64bca31d",
   "metadata": {
    "execution": {
     "iopub.execute_input": "2024-04-06T10:12:15.295209Z",
     "iopub.status.busy": "2024-04-06T10:12:15.293279Z",
     "iopub.status.idle": "2024-04-06T10:12:15.326391Z",
     "shell.execute_reply": "2024-04-06T10:12:15.324227Z"
    },
    "executionInfo": {
     "elapsed": 29,
     "status": "ok",
     "timestamp": 1712308974707,
     "user": {
      "displayName": "Nguyễn Đức Vũ",
      "userId": "07288779277842550568"
     },
     "user_tz": -420
    },
    "id": "3fb633a4-92b1-4d1d-a189-df8b64bca31d",
    "nbgrader": {
     "grade": false,
     "grade_id": "cell-bbe1e1b3f7109f67",
     "locked": true,
     "schema_version": 3,
     "solution": false,
     "task": false
    },
    "tags": []
   },
   "outputs": [
    {
     "name": "stderr",
     "output_type": "stream",
     "text": [
      "WARNING:absl:You are saving your model as an HDF5 file via `model.save()` or `keras.saving.save_model(model)`. This file format is considered legacy. We recommend using instead the native Keras format, e.g. `model.save('my_model.keras')` or `keras.saving.save_model(model, 'my_model.keras')`. \n"
     ]
    }
   ],
   "source": [
    "# # Sau khi đã huấn luyện, ta lưu mô hình về để sau này tái sử dụng\n",
    "# # Lưu ý: hai phương thức lưu mô hình `save` và tải mô hình lên 'load'\n",
    "# # được sử dụng khi muốn tái sử dụng nhiều lần mà KHÔNG CẦN PHẢI HUẤN LUYỆN LẠI\n",
    "lr.save('linear_regression_model.h5')"
   ]
  },
  {
   "cell_type": "markdown",
   "id": "70ea400e-07a0-42d5-a516-0d902674dc01",
   "metadata": {
    "id": "70ea400e-07a0-42d5-a516-0d902674dc01"
   },
   "source": [
    "## 5. Trực quan hóa mô hình và dự đoán với dữ liệu test"
   ]
  },
  {
   "cell_type": "code",
   "execution_count": 41,
   "id": "734b3a8b-8f30-4acb-a92a-471ee4c3b052",
   "metadata": {
    "execution": {
     "iopub.execute_input": "2024-04-06T10:12:15.335776Z",
     "iopub.status.busy": "2024-04-06T10:12:15.333965Z",
     "iopub.status.idle": "2024-04-06T10:12:15.423359Z",
     "shell.execute_reply": "2024-04-06T10:12:15.421034Z"
    },
    "executionInfo": {
     "elapsed": 28,
     "status": "ok",
     "timestamp": 1712308974707,
     "user": {
      "displayName": "Nguyễn Đức Vũ",
      "userId": "07288779277842550568"
     },
     "user_tz": -420
    },
    "id": "734b3a8b-8f30-4acb-a92a-471ee4c3b052",
    "nbgrader": {
     "grade": false,
     "grade_id": "cell-6caaefefab9d0f32",
     "locked": true,
     "schema_version": 3,
     "solution": false,
     "task": false
    },
    "tags": []
   },
   "outputs": [],
   "source": [
    "# Khởi tạo đối tượng mới và gọi phương thức load mô hình từ file\n",
    "pretrain_lr = LinearRegression()\n",
    "pretrain_lr = load_model('linear_regression_model.h5', compile=False)"
   ]
  },
  {
   "cell_type": "code",
   "execution_count": 42,
   "id": "dd9a079b-2dd4-49f6-b766-d16fe4358b55",
   "metadata": {
    "colab": {
     "base_uri": "https://localhost:8080/"
    },
    "execution": {
     "iopub.execute_input": "2024-04-06T10:12:15.433735Z",
     "iopub.status.busy": "2024-04-06T10:12:15.431560Z",
     "iopub.status.idle": "2024-04-06T10:12:15.447377Z",
     "shell.execute_reply": "2024-04-06T10:12:15.445379Z"
    },
    "executionInfo": {
     "elapsed": 28,
     "status": "ok",
     "timestamp": 1712308974708,
     "user": {
      "displayName": "Nguyễn Đức Vũ",
      "userId": "07288779277842550568"
     },
     "user_tz": -420
    },
    "id": "dd9a079b-2dd4-49f6-b766-d16fe4358b55",
    "nbgrader": {
     "grade": false,
     "grade_id": "cell-4c57bf1e1c1fe3c9",
     "locked": true,
     "schema_version": 3,
     "solution": false,
     "task": false
    },
    "outputId": "6bc57b05-fc75-4c1e-bdda-3c0d9e54b631",
    "tags": []
   },
   "outputs": [
    {
     "name": "stdout",
     "output_type": "stream",
     "text": [
      "Tham số tối ưu: \n",
      "[array([[-2.9554539]], dtype=float32), array([9.507911], dtype=float32)]\n",
      "Trong đó: \n",
      "   - bias (hệ số tự do) :  9.507911\n",
      "   - theta (hệ số cho dữ liệu đầu vào):  -2.9554539\n"
     ]
    }
   ],
   "source": [
    "theta = pretrain_lr.get_weights()\n",
    "print('Tham số tối ưu: ')\n",
    "print(theta)\n",
    "bias = theta[1][0] # bias chính là theta0 trong mô hình gốc\n",
    "theta1 = theta[0][0][0]\n",
    "print('Trong đó: ')\n",
    "print('   - bias (hệ số tự do) : ', bias)\n",
    "print('   - theta (hệ số cho dữ liệu đầu vào): ', theta1)"
   ]
  },
  {
   "cell_type": "markdown",
   "id": "5b3d5093-1ed8-4366-a430-950609438930",
   "metadata": {
    "id": "5b3d5093-1ed8-4366-a430-950609438930",
    "nbgrader": {
     "grade": false,
     "grade_id": "cell-e2cbb740bcdc77a8",
     "locked": true,
     "schema_version": 3,
     "solution": false,
     "task": false
    },
    "tags": []
   },
   "source": [
    "Như ta có thể thấy, tham số tối ưu xấp xỉ với mô hình gốc được sử dụng để khởi tạo dữ liệu:\n",
    "\n",
    "`y = -3*x + 10 + np.random.normal(0, std, n)`"
   ]
  },
  {
   "cell_type": "code",
   "execution_count": 44,
   "id": "6d32360d-f18c-4c90-85af-1a4df14d8ae6",
   "metadata": {
    "colab": {
     "base_uri": "https://localhost:8080/",
     "height": 451
    },
    "execution": {
     "iopub.execute_input": "2024-04-06T10:12:15.456648Z",
     "iopub.status.busy": "2024-04-06T10:12:15.454894Z",
     "iopub.status.idle": "2024-04-06T10:12:15.785236Z",
     "shell.execute_reply": "2024-04-06T10:12:15.782996Z"
    },
    "executionInfo": {
     "elapsed": 737,
     "status": "ok",
     "timestamp": 1712308975438,
     "user": {
      "displayName": "Nguyễn Đức Vũ",
      "userId": "07288779277842550568"
     },
     "user_tz": -420
    },
    "id": "6d32360d-f18c-4c90-85af-1a4df14d8ae6",
    "nbgrader": {
     "grade": false,
     "grade_id": "cell-1ad67705d50f701d",
     "locked": true,
     "schema_version": 3,
     "solution": false,
     "task": false
    },
    "outputId": "da3e2152-6a07-47c9-a55c-c49ace3e17a9",
    "tags": []
   },
   "outputs": [
    {
     "data": {
      "image/png": "[encoded data removed]",
      "text/plain": [
       "<Figure size 640x480 with 1 Axes>"
      ]
     },
     "metadata": {},
     "output_type": "display_data"
    }
   ],
   "source": [
    "# Trực quan hóa dữ liệu và mô hình sau khi huấn luyện\n",
    "plt.plot(x, y, 'ro')\n",
    "\n",
    "# Trực quan hóa mô hình\n",
    "plt.plot([x[0],x[-1]], [theta1*x[0]+bias, theta1*x[-1]+bias])\n",
    "plt.show()"
   ]
  },
  {
   "cell_type": "markdown",
   "id": "f6d90f1f-8ff1-49f7-9c4b-a099ca7bfed8",
   "metadata": {
    "id": "f6d90f1f-8ff1-49f7-9c4b-a099ca7bfed8",
    "nbgrader": {
     "grade": false,
     "grade_id": "cell-64f389b662b21977",
     "locked": true,
     "schema_version": 3,
     "solution": false,
     "task": false
    },
    "tags": []
   },
   "source": [
    "Như vậy ta có thể thấy rằng, các hệ số đã huấn luyện tương ứng đã tạo thành phương trình đường thẳng đi qua các điểm mẫu huấn luyện.\n",
    "\n",
    "Tiếp theo, ta sẽ thử nghiệm với dữ liệu x_test với 2 trường hợp: -4, 0 và 4.\n",
    "\n",
    "Dựa trên biểu đồ, ta đoán rằng y_test sẽ nhận giá trị lân cận các giá trị\n",
    "trên 20, xấp xỉ 10 và 0."
   ]
  },
  {
   "cell_type": "code",
   "execution_count": 45,
   "id": "253408c5-0133-42c6-bd35-140d7b8602d7",
   "metadata": {
    "colab": {
     "base_uri": "https://localhost:8080/"
    },
    "execution": {
     "iopub.execute_input": "2024-04-06T10:12:15.795057Z",
     "iopub.status.busy": "2024-04-06T10:12:15.793095Z",
     "iopub.status.idle": "2024-04-06T10:12:16.088746Z",
     "shell.execute_reply": "2024-04-06T10:12:16.086185Z"
    },
    "executionInfo": {
     "elapsed": 33,
     "status": "ok",
     "timestamp": 1712308975439,
     "user": {
      "displayName": "Nguyễn Đức Vũ",
      "userId": "07288779277842550568"
     },
     "user_tz": -420
    },
    "id": "253408c5-0133-42c6-bd35-140d7b8602d7",
    "nbgrader": {
     "grade": false,
     "grade_id": "cell-d893fdd4cbcd3c2c",
     "locked": true,
     "schema_version": 3,
     "solution": false,
     "task": false
    },
    "outputId": "928c2fe6-229e-4e7e-deed-0184069db26d",
    "tags": []
   },
   "outputs": [
    {
     "ename": "ValueError",
     "evalue": "Unrecognized data type: x=[-4, 0, 4] (of type <class 'list'>)",
     "output_type": "error",
     "traceback": [
      "\u001b[1;31m---------------------------------------------------------------------------\u001b[0m",
      "\u001b[1;31mValueError\u001b[0m                                Traceback (most recent call last)",
      "Cell \u001b[1;32mIn[45], line 2\u001b[0m\n\u001b[0;32m      1\u001b[0m x_test \u001b[38;5;241m=\u001b[39m [\u001b[38;5;241m-\u001b[39m\u001b[38;5;241m4\u001b[39m, \u001b[38;5;241m0\u001b[39m, \u001b[38;5;241m4\u001b[39m]\n\u001b[1;32m----> 2\u001b[0m y_pred \u001b[38;5;241m=\u001b[39m \u001b[43mpretrain_lr\u001b[49m\u001b[38;5;241;43m.\u001b[39;49m\u001b[43mpredict\u001b[49m\u001b[43m(\u001b[49m\u001b[43mx_test\u001b[49m\u001b[43m)\u001b[49m\n\u001b[0;32m      4\u001b[0m \u001b[38;5;28mprint\u001b[39m(\u001b[38;5;124m\"\u001b[39m\u001b[38;5;124mCác giá trị mà mô hình hồi quy dự đoán trên x_test: \u001b[39m\u001b[38;5;124m\"\u001b[39m, x_test)\n\u001b[0;32m      5\u001b[0m \u001b[38;5;28mprint\u001b[39m(y_pred)\n",
      "File \u001b[1;32mc:\\Users\\Admin\\AppData\\Local\\Programs\\Python\\Python312\\Lib\\site-packages\\keras\\src\\utils\\traceback_utils.py:122\u001b[0m, in \u001b[0;36mfilter_traceback.<locals>.error_handler\u001b[1;34m(*args, **kwargs)\u001b[0m\n\u001b[0;32m    119\u001b[0m     filtered_tb \u001b[38;5;241m=\u001b[39m _process_traceback_frames(e\u001b[38;5;241m.\u001b[39m__traceback__)\n\u001b[0;32m    120\u001b[0m     \u001b[38;5;66;03m# To get the full stack trace, call:\u001b[39;00m\n\u001b[0;32m    121\u001b[0m     \u001b[38;5;66;03m# `keras.config.disable_traceback_filtering()`\u001b[39;00m\n\u001b[1;32m--> 122\u001b[0m     \u001b[38;5;28;01mraise\u001b[39;00m e\u001b[38;5;241m.\u001b[39mwith_traceback(filtered_tb) \u001b[38;5;28;01mfrom\u001b[39;00m \u001b[38;5;28;01mNone\u001b[39;00m\n\u001b[0;32m    123\u001b[0m \u001b[38;5;28;01mfinally\u001b[39;00m:\n\u001b[0;32m    124\u001b[0m     \u001b[38;5;28;01mdel\u001b[39;00m filtered_tb\n",
      "File \u001b[1;32mc:\\Users\\Admin\\AppData\\Local\\Programs\\Python\\Python312\\Lib\\site-packages\\keras\\src\\trainers\\data_adapters\\__init__.py:120\u001b[0m, in \u001b[0;36mget_data_adapter\u001b[1;34m(x, y, sample_weight, batch_size, steps_per_epoch, shuffle, class_weight)\u001b[0m\n\u001b[0;32m    112\u001b[0m     \u001b[38;5;28;01mreturn\u001b[39;00m GeneratorDataAdapter(x)\n\u001b[0;32m    113\u001b[0m     \u001b[38;5;66;03m# TODO: should we warn or not?\u001b[39;00m\n\u001b[0;32m    114\u001b[0m     \u001b[38;5;66;03m# warnings.warn(\u001b[39;00m\n\u001b[0;32m    115\u001b[0m     \u001b[38;5;66;03m#     \"`shuffle=True` was passed, but will be ignored since the \"\u001b[39;00m\n\u001b[1;32m   (...)\u001b[0m\n\u001b[0;32m    118\u001b[0m     \u001b[38;5;66;03m# )\u001b[39;00m\n\u001b[0;32m    119\u001b[0m \u001b[38;5;28;01melse\u001b[39;00m:\n\u001b[1;32m--> 120\u001b[0m     \u001b[38;5;28;01mraise\u001b[39;00m \u001b[38;5;167;01mValueError\u001b[39;00m(\u001b[38;5;124mf\u001b[39m\u001b[38;5;124m\"\u001b[39m\u001b[38;5;124mUnrecognized data type: x=\u001b[39m\u001b[38;5;132;01m{\u001b[39;00mx\u001b[38;5;132;01m}\u001b[39;00m\u001b[38;5;124m (of type \u001b[39m\u001b[38;5;132;01m{\u001b[39;00m\u001b[38;5;28mtype\u001b[39m(x)\u001b[38;5;132;01m}\u001b[39;00m\u001b[38;5;124m)\u001b[39m\u001b[38;5;124m\"\u001b[39m)\n",
      "\u001b[1;31mValueError\u001b[0m: Unrecognized data type: x=[-4, 0, 4] (of type <class 'list'>)"
     ]
    }
   ],
   "source": [
    "x_test = [-4, 0, 4]\n",
    "y_pred = pretrain_lr.predict(x_test)\n",
    "\n",
    "print(\"Các giá trị mà mô hình hồi quy dự đoán trên x_test: \", x_test)\n",
    "print(y_pred)"
   ]
  },
  {
   "cell_type": "markdown",
   "id": "dc2861f5-840e-4ee8-8be6-c8010feb0cee",
   "metadata": {
    "id": "dc2861f5-840e-4ee8-8be6-c8010feb0cee",
    "nbgrader": {
     "grade": false,
     "grade_id": "cell-cbe9714134925bf2",
     "locked": true,
     "schema_version": 3,
     "solution": false,
     "task": false
    },
    "tags": []
   },
   "source": [
    "Các giá trị này khá khớp với giá trị dự đoán ở trên."
   ]
  },
  {
   "cell_type": "markdown",
   "id": "PfhpTe84YdAM",
   "metadata": {
    "id": "PfhpTe84YdAM"
   },
   "source": [
    "# PHẦN 2 - CÀI ĐẶT MÔ HÌNH LOGISTIC REGRESSION VỚI KERAS"
   ]
  },
  {
   "cell_type": "markdown",
   "id": "J9scHu9VYfJk",
   "metadata": {
    "id": "J9scHu9VYfJk"
   },
   "source": [
    "Một mô hình máy học cần có đủ ít nhất 7 phương thức sau:\n",
    "- `__init__`: hàm constructor trong hướng đối tượng, được sử dụng để khởi tạo các tham số mặc định hoặc tham số bắt đầu một mô hình. Trong những bài tập đầu tiên, để đơn giản constructor sẽ không sử dụng.\n",
    "- `build`: xây dựng kiến trúc của mô hình\n",
    "- `train`: bắt đầu quá trình huấn luyện mô hình\n",
    "- `save`: lưu lại mô hình sau khi đã huấn luyện\n",
    "- `load`: load lên mô hình từ file đã huấn luyện (pretrained)\n",
    "- `summary`: in tóm tắt kiến trúc mô hình\n",
    "- `predict`: dự đoán giá trị output từ dữ liệu đầu vào"
   ]
  },
  {
   "cell_type": "code",
   "execution_count": null,
   "id": "-J2Vtt_wUpUT",
   "metadata": {
    "execution": {
     "iopub.execute_input": "2024-04-06T10:12:16.098586Z",
     "iopub.status.busy": "2024-04-06T10:12:16.097726Z",
     "iopub.status.idle": "2024-04-06T10:12:16.111629Z",
     "shell.execute_reply": "2024-04-06T10:12:16.109170Z"
    },
    "executionInfo": {
     "elapsed": 404,
     "status": "ok",
     "timestamp": 1712308975837,
     "user": {
      "displayName": "Nguyễn Đức Vũ",
      "userId": "07288779277842550568"
     },
     "user_tz": -420
    },
    "id": "-J2Vtt_wUpUT"
   },
   "outputs": [],
   "source": [
    "# Mô hình cài đặt tổng quát bao gồm 7 phương thức cơ bản\n",
    "# Lưu ý: mô hình này chỉ mang tính gợi ý, không bắt buộc\n",
    "# Tuy nhiên, trong phần bài tập cần tuân theo các tên phương thức này\n",
    "class MyModel:\n",
    "    # constructor\n",
    "    def __init__(self):\n",
    "        return None\n",
    "\n",
    "    # Implement architecture of the model\n",
    "    def build(self):\n",
    "        return None\n",
    "\n",
    "    # Train the defined model with training and validation data\n",
    "    def train(self):\n",
    "        return None\n",
    "\n",
    "    # Save the trained model to file\n",
    "    def save(self, model_path):\n",
    "        return None\n",
    "\n",
    "    # Load pretrained model from file\n",
    "    def load(self):\n",
    "        return None\n",
    "\n",
    "    # Visualize your model\n",
    "    def summary(self):\n",
    "        return None\n",
    "\n",
    "    # Apply your model with new input data\n",
    "    def predict(self):\n",
    "        return None"
   ]
  },
  {
   "cell_type": "markdown",
   "id": "Ap0HnJP9YmwG",
   "metadata": {
    "id": "Ap0HnJP9YmwG"
   },
   "source": [
    "## 1. Import các thư viện Keras\n",
    "\n",
    "Đầu tiên, ta sẽ import các thư viện, module, hàm của `Keras`:\n",
    "- `Input`: để nhận dữ liệu đầu vào cho mô hình\n",
    "- `Dense`: hay còn gọi là lớp Fully Connected (Lớp kết nối đầy đủ), một thành phần quan trọng của các mô hình dựa trên mạng Neural Network.\n",
    "- `Model`: đây là lớp đối tượng mô hình được sử dụng để đóng gói lớp đầu vào, đầu ra, sau đó huấn luyện với phương thức `fit` và dự đoán kết quả với `predict`.\n",
    "- `load_model`: hàm sử dụng để load mô hình lên từ file"
   ]
  },
  {
   "cell_type": "code",
   "execution_count": null,
   "id": "NHbyXVt5Ykpl",
   "metadata": {
    "execution": {
     "iopub.execute_input": "2024-04-06T10:12:16.120394Z",
     "iopub.status.busy": "2024-04-06T10:12:16.119296Z",
     "iopub.status.idle": "2024-04-06T10:12:16.129652Z",
     "shell.execute_reply": "2024-04-06T10:12:16.127151Z"
    },
    "executionInfo": {
     "elapsed": 54,
     "status": "ok",
     "timestamp": 1712308975837,
     "user": {
      "displayName": "Nguyễn Đức Vũ",
      "userId": "07288779277842550568"
     },
     "user_tz": -420
    },
    "id": "NHbyXVt5Ykpl"
   },
   "outputs": [],
   "source": [
    "from keras.layers import Input, Dense\n",
    "from keras import Model\n",
    "import tensorflow as tf\n",
    "from keras.models import load_model"
   ]
  },
  {
   "cell_type": "markdown",
   "id": "5MgrsybzYq3K",
   "metadata": {
    "id": "5MgrsybzYq3K"
   },
   "source": [
    "## 2. Cài đặt mô hình Logistic Regression\n",
    "Tiếp theo, ta sẽ dựa trên khung đối tượng `MyModel` đã trình bày ở mục trước để tiến hành cài đặt mô hình **Logistic Regression**. Phương thức chính mà bài tập này cần thực hiện là `def build()`. Các phương thức còn lại đã được cài đặt sẵn, các bạn cần đọc, hiểu ý nghĩa và cách thức sử dụng về sau.\n",
    "\n",
    "<p align=\"center\">\n",
    "  <img src=\"./images/LogisticReg.png\" />\n",
    "</p>"
   ]
  },
  {
   "cell_type": "code",
   "execution_count": null,
   "id": "jdzrovIlYrN6",
   "metadata": {
    "execution": {
     "iopub.execute_input": "2024-04-06T10:12:16.138436Z",
     "iopub.status.busy": "2024-04-06T10:12:16.137587Z",
     "iopub.status.idle": "2024-04-06T10:12:16.157751Z",
     "shell.execute_reply": "2024-04-06T10:12:16.155296Z"
    },
    "executionInfo": {
     "elapsed": 38,
     "status": "ok",
     "timestamp": 1712308975838,
     "user": {
      "displayName": "Nguyễn Đức Vũ",
      "userId": "07288779277842550568"
     },
     "user_tz": -420
    },
    "id": "jdzrovIlYrN6"
   },
   "outputs": [],
   "source": [
    "# Logistic Regression\n",
    "class LogisticRegression:\n",
    "    def __init__(self): # Self is similar to your 'this' pointer in C++\n",
    "        return None\n",
    "\n",
    "    def build(self, input_dim):\n",
    "\n",
    "        self.model = None\n",
    "        # Hãy cài đặt để định nghĩa KIẾN TRÚC MÔ HÌNH và lưu ở thuộc tính `self.model`\n",
    "        # với các biến đối tượng sau:\n",
    "        #  - tạo biến `input` với lớp đối tượng `Input` của Keras,\n",
    "        #    truyền vào kích thước đầu vào `input_dim`\n",
    "        #  - tạo biến `output` với lớp đối tượng `Dense` của Keras,\n",
    "        #    truyền vào các tham số:  kích thước output, có sử dụng bias,\n",
    "        #    CÓ SỬ DỤNG hàm activation là `sigmoid`\n",
    "        # Sau bước này, self.model sẽ đóng gói 2 biến `input` và `output` để tạo thành mô hình\n",
    "        ### BEGIN SOLUTION\n",
    "        input = Input(shape=(input_dim,))\n",
    "        output = Dense(units=1, use_bias=True, activation='sigmoid')(input)\n",
    "    \n",
    "        ### END SOLUTION\n",
    "        self.model = Model(input, output)\n",
    "        return self.model\n",
    "\n",
    "    def train(self, x_train, y_train):\n",
    "        opt = tf.keras.optimizers.SGD(learning_rate=0.1) # Stochastic Gradient Descent\n",
    "        self.model.compile(optimizer=opt, loss='binary_crossentropy') # BCE loss\n",
    "        return self.model.fit(x_train, y_train, epochs=50)\n",
    "\n",
    "    def save(self, model_file):\n",
    "        return self.model.save(model_file)\n",
    "\n",
    "    def load(self, model_file):\n",
    "        self.model = load_model(model_file)\n",
    "\n",
    "    def summary(self):\n",
    "        self.model.summary()\n",
    "\n",
    "    def predict(self, x_test):\n",
    "        return self.model.predict(x_test)\n",
    "\n",
    "    def get_weights(self):\n",
    "        return self.model.layers[1].get_weights()"
   ]
  },
  {
   "cell_type": "markdown",
   "id": "fZem401-ZAuD",
   "metadata": {
    "id": "fZem401-ZAuD"
   },
   "source": [
    "Tiếp theo, ta sẽ khởi tạo đối tượng LogisticRegression và kiểm tra thử xem phương `build` đã cài đặt chính xác chưa."
   ]
  },
  {
   "cell_type": "code",
   "execution_count": null,
   "id": "U_wNpI4pY9TO",
   "metadata": {
    "colab": {
     "base_uri": "https://localhost:8080/"
    },
    "execution": {
     "iopub.execute_input": "2024-04-06T10:12:16.166176Z",
     "iopub.status.busy": "2024-04-06T10:12:16.165326Z",
     "iopub.status.idle": "2024-04-06T10:12:16.216424Z",
     "shell.execute_reply": "2024-04-06T10:12:16.213993Z"
    },
    "executionInfo": {
     "elapsed": 37,
     "status": "ok",
     "timestamp": 1712308975838,
     "user": {
      "displayName": "Nguyễn Đức Vũ",
      "userId": "07288779277842550568"
     },
     "user_tz": -420
    },
    "id": "U_wNpI4pY9TO",
    "outputId": "f698bed0-04c3-49ca-9f9c-962e618a1113"
   },
   "outputs": [
    {
     "data": {
      "text/plain": [
       "<Functional name=functional_2, built=True>"
      ]
     },
     "execution_count": 20,
     "metadata": {},
     "output_type": "execute_result"
    }
   ],
   "source": [
    "lr = LogisticRegression()\n",
    "# Trong ví dụ này, ta sẽ khởi tạo input là một vector 1000 chiều:\n",
    "lr.build(1000)"
   ]
  },
  {
   "cell_type": "code",
   "execution_count": null,
   "id": "JAXMyvv3ZDJm",
   "metadata": {
    "execution": {
     "iopub.execute_input": "2024-04-06T10:12:16.225145Z",
     "iopub.status.busy": "2024-04-06T10:12:16.224248Z",
     "iopub.status.idle": "2024-04-06T10:12:16.242227Z",
     "shell.execute_reply": "2024-04-06T10:12:16.238257Z"
    },
    "executionInfo": {
     "elapsed": 34,
     "status": "ok",
     "timestamp": 1712308975838,
     "user": {
      "displayName": "Nguyễn Đức Vũ",
      "userId": "07288779277842550568"
     },
     "user_tz": -420
    },
    "id": "JAXMyvv3ZDJm"
   },
   "outputs": [
    {
     "ename": "AttributeError",
     "evalue": "'InputLayer' object has no attribute 'input_shape'",
     "output_type": "error",
     "traceback": [
      "\u001b[1;31m---------------------------------------------------------------------------\u001b[0m",
      "\u001b[1;31mAttributeError\u001b[0m                            Traceback (most recent call last)",
      "Cell \u001b[1;32mIn[21], line 5\u001b[0m\n\u001b[0;32m      3\u001b[0m \u001b[38;5;28;01massert\u001b[39;00m \u001b[38;5;28mstr\u001b[39m(\u001b[38;5;28mtype\u001b[39m(lr\u001b[38;5;241m.\u001b[39mmodel\u001b[38;5;241m.\u001b[39mlayers[\u001b[38;5;241m0\u001b[39m]))\u001b[38;5;241m.\u001b[39mendswith(\u001b[38;5;124m\"\u001b[39m\u001b[38;5;124minput_layer.InputLayer\u001b[39m\u001b[38;5;124m'\u001b[39m\u001b[38;5;124m>\u001b[39m\u001b[38;5;124m\"\u001b[39m) \u001b[38;5;241m==\u001b[39m \u001b[38;5;28;01mTrue\u001b[39;00m\n\u001b[0;32m      4\u001b[0m \u001b[38;5;28;01massert\u001b[39;00m \u001b[38;5;28mstr\u001b[39m(\u001b[38;5;28mtype\u001b[39m(lr\u001b[38;5;241m.\u001b[39mmodel\u001b[38;5;241m.\u001b[39mlayers[\u001b[38;5;241m1\u001b[39m]))\u001b[38;5;241m.\u001b[39mendswith(\u001b[38;5;124m\"\u001b[39m\u001b[38;5;124mcore.dense.Dense\u001b[39m\u001b[38;5;124m'\u001b[39m\u001b[38;5;124m>\u001b[39m\u001b[38;5;124m\"\u001b[39m) \u001b[38;5;241m==\u001b[39m \u001b[38;5;28;01mTrue\u001b[39;00m\n\u001b[1;32m----> 5\u001b[0m \u001b[38;5;28;01massert\u001b[39;00m \u001b[43mlr\u001b[49m\u001b[38;5;241;43m.\u001b[39;49m\u001b[43mmodel\u001b[49m\u001b[38;5;241;43m.\u001b[39;49m\u001b[43mlayers\u001b[49m\u001b[43m[\u001b[49m\u001b[38;5;241;43m0\u001b[39;49m\u001b[43m]\u001b[49m\u001b[38;5;241;43m.\u001b[39;49m\u001b[43minput_shape\u001b[49m[\u001b[38;5;241m0\u001b[39m][\u001b[38;5;241m1\u001b[39m] \u001b[38;5;241m==\u001b[39m \u001b[38;5;241m1000\u001b[39m\n\u001b[0;32m      6\u001b[0m \u001b[38;5;28;01massert\u001b[39;00m lr\u001b[38;5;241m.\u001b[39mmodel\u001b[38;5;241m.\u001b[39mlayers[\u001b[38;5;241m1\u001b[39m]\u001b[38;5;241m.\u001b[39mactivation(\u001b[38;5;241m0.0\u001b[39m)\u001b[38;5;241m.\u001b[39mnumpy() \u001b[38;5;241m==\u001b[39m \u001b[38;5;241m0.5\u001b[39m\n",
      "\u001b[1;31mAttributeError\u001b[0m: 'InputLayer' object has no attribute 'input_shape'"
     ]
    }
   ],
   "source": [
    "# Public Test\n",
    "assert len(lr.model.layers) == 2\n",
    "assert str(type(lr.model.layers[0])).endswith(\"input_layer.InputLayer'>\") == True\n",
    "assert str(type(lr.model.layers[1])).endswith(\"core.dense.Dense'>\") == True\n",
    "assert lr.model.layers[0].input_shape[0][1] == 1000\n",
    "assert lr.model.layers[1].activation(0.0).numpy() == 0.5"
   ]
  },
  {
   "cell_type": "markdown",
   "id": "Km1UuqZ1ZHNP",
   "metadata": {
    "id": "Km1UuqZ1ZHNP"
   },
   "source": [
    "## 3. Tạo dữ liệu mẫu (toy example)\n",
    "Bước tiếp theo, ta sẽ tiến hành tạo mẫu dữ liệu để huấn luyện và kiểm thử.\n",
    "\n",
    "Dữ liệu được tạo ra là 02 cụm điểm ngẫu nhiên xung quanh hai tâm cụm:\n",
    "- [1, 5]\n",
    "- [5, 1]\n",
    "\n",
    "Lưu ý rằng, hai điểm này đủ cách xa để khi các điểm ngẫu nhiên phát sinh không giao thoa với nhau."
   ]
  },
  {
   "cell_type": "code",
   "execution_count": null,
   "id": "-c5Rtn2rZFkm",
   "metadata": {
    "colab": {
     "base_uri": "https://localhost:8080/",
     "height": 467
    },
    "execution": {
     "iopub.execute_input": "2024-04-06T10:12:16.322028Z",
     "iopub.status.busy": "2024-04-06T10:12:16.321163Z",
     "iopub.status.idle": "2024-04-06T10:12:16.807365Z",
     "shell.execute_reply": "2024-04-06T10:12:16.804650Z"
    },
    "executionInfo": {
     "elapsed": 897,
     "status": "ok",
     "timestamp": 1712308976716,
     "user": {
      "displayName": "Nguyễn Đức Vũ",
      "userId": "07288779277842550568"
     },
     "user_tz": -420
    },
    "id": "-c5Rtn2rZFkm",
    "outputId": "6d9ca062-0c94-49dc-bb24-a362e021ffee"
   },
   "outputs": [
    {
     "data": {
      "text/plain": [
       "[<matplotlib.lines.Line2D at 0x1d3b4bc3e30>]"
      ]
     },
     "execution_count": 22,
     "metadata": {},
     "output_type": "execute_result"
    },
    {
     "data": {
      "image/png": "[encoded data removed]",
      "text/plain": [
       "<Figure size 640x480 with 1 Axes>"
      ]
     },
     "metadata": {},
     "output_type": "display_data"
    }
   ],
   "source": [
    "import numpy as np\n",
    "import matplotlib.pyplot as plt\n",
    "\n",
    "n_sample = 10\n",
    "\n",
    "# Tạo bộ dữ  liệu gồm 2 tập đỏ và xanh\n",
    "red_points = np.random.randn(n_sample, 2) + np.array([[1,5]])\n",
    "blue_points = np.random.randn(n_sample, 2) + np.array([[5,1]])\n",
    "x_train = np.concatenate((red_points, blue_points))\n",
    "y_train = np.concatenate((np.ones(n_sample), np.zeros(n_sample)))\n",
    "\n",
    "# Tạo tập dữ liệu validation\n",
    "red_points_test = np.random.randn(n_sample, 2) + np.array([[1,5]])\n",
    "blue_points_test = np.random.randn(n_sample, 2) + np.array([[5,1]])\n",
    "x_test = np.concatenate((red_points_test, blue_points_test))\n",
    "y_test = np.concatenate((np.ones(n_sample), np.zeros(n_sample)))\n",
    "\n",
    "# Trực quan hóa dữ liệu bằng các hình tròn màu đỏ, xanh\n",
    "plt.plot(red_points[:,0], red_points[:,1], 'ro')\n",
    "plt.plot(blue_points[:,0], blue_points[:,1], 'bo')"
   ]
  },
  {
   "cell_type": "code",
   "execution_count": null,
   "id": "S41NGr9lZJw1",
   "metadata": {
    "colab": {
     "base_uri": "https://localhost:8080/"
    },
    "execution": {
     "iopub.execute_input": "2024-04-06T10:12:16.816346Z",
     "iopub.status.busy": "2024-04-06T10:12:16.815454Z",
     "iopub.status.idle": "2024-04-06T10:12:16.900280Z",
     "shell.execute_reply": "2024-04-06T10:12:16.897585Z"
    },
    "executionInfo": {
     "elapsed": 32,
     "status": "ok",
     "timestamp": 1712308976717,
     "user": {
      "displayName": "Nguyễn Đức Vũ",
      "userId": "07288779277842550568"
     },
     "user_tz": -420
    },
    "id": "S41NGr9lZJw1",
    "outputId": "cc65f1d3-ba78-46e8-b26d-c49cb0769706"
   },
   "outputs": [
    {
     "name": "stdout",
     "output_type": "stream",
     "text": [
      "Kiến trúc của mô hình Logistic Regression: \n"
     ]
    },
    {
     "data": {
      "text/html": [
       "<pre style=\"white-space:pre;overflow-x:auto;line-height:normal;font-family:Menlo,'DejaVu Sans Mono',consolas,'Courier New',monospace\"><span style=\"font-weight: bold\">Model: \"functional_3\"</span>\n",
       "</pre>\n"
      ],
      "text/plain": [
       "\u001b[1mModel: \"functional_3\"\u001b[0m\n"
      ]
     },
     "metadata": {},
     "output_type": "display_data"
    },
    {
     "data": {
      "text/html": [
       "<pre style=\"white-space:pre;overflow-x:auto;line-height:normal;font-family:Menlo,'DejaVu Sans Mono',consolas,'Courier New',monospace\">┏━━━━━━━━━━━━━━━━━━━━━━━━━━━━━━━━━┳━━━━━━━━━━━━━━━━━━━━━━━━┳━━━━━━━━━━━━━━━┓\n",
       "┃<span style=\"font-weight: bold\"> Layer (type)                    </span>┃<span style=\"font-weight: bold\"> Output Shape           </span>┃<span style=\"font-weight: bold\">       Param # </span>┃\n",
       "┡━━━━━━━━━━━━━━━━━━━━━━━━━━━━━━━━━╇━━━━━━━━━━━━━━━━━━━━━━━━╇━━━━━━━━━━━━━━━┩\n",
       "│ input_layer_4 (<span style=\"color: #0087ff; text-decoration-color: #0087ff\">InputLayer</span>)      │ (<span style=\"color: #00d7ff; text-decoration-color: #00d7ff\">None</span>, <span style=\"color: #00af00; text-decoration-color: #00af00\">2</span>)              │             <span style=\"color: #00af00; text-decoration-color: #00af00\">0</span> │\n",
       "├─────────────────────────────────┼────────────────────────┼───────────────┤\n",
       "│ dense_3 (<span style=\"color: #0087ff; text-decoration-color: #0087ff\">Dense</span>)                 │ (<span style=\"color: #00d7ff; text-decoration-color: #00d7ff\">None</span>, <span style=\"color: #00af00; text-decoration-color: #00af00\">1</span>)              │             <span style=\"color: #00af00; text-decoration-color: #00af00\">3</span> │\n",
       "└─────────────────────────────────┴────────────────────────┴───────────────┘\n",
       "</pre>\n"
      ],
      "text/plain": [
       "┏━━━━━━━━━━━━━━━━━━━━━━━━━━━━━━━━━┳━━━━━━━━━━━━━━━━━━━━━━━━┳━━━━━━━━━━━━━━━┓\n",
       "┃\u001b[1m \u001b[0m\u001b[1mLayer (type)                   \u001b[0m\u001b[1m \u001b[0m┃\u001b[1m \u001b[0m\u001b[1mOutput Shape          \u001b[0m\u001b[1m \u001b[0m┃\u001b[1m \u001b[0m\u001b[1m      Param #\u001b[0m\u001b[1m \u001b[0m┃\n",
       "┡━━━━━━━━━━━━━━━━━━━━━━━━━━━━━━━━━╇━━━━━━━━━━━━━━━━━━━━━━━━╇━━━━━━━━━━━━━━━┩\n",
       "│ input_layer_4 (\u001b[38;5;33mInputLayer\u001b[0m)      │ (\u001b[38;5;45mNone\u001b[0m, \u001b[38;5;34m2\u001b[0m)              │             \u001b[38;5;34m0\u001b[0m │\n",
       "├─────────────────────────────────┼────────────────────────┼───────────────┤\n",
       "│ dense_3 (\u001b[38;5;33mDense\u001b[0m)                 │ (\u001b[38;5;45mNone\u001b[0m, \u001b[38;5;34m1\u001b[0m)              │             \u001b[38;5;34m3\u001b[0m │\n",
       "└─────────────────────────────────┴────────────────────────┴───────────────┘\n"
      ]
     },
     "metadata": {},
     "output_type": "display_data"
    },
    {
     "data": {
      "text/html": [
       "<pre style=\"white-space:pre;overflow-x:auto;line-height:normal;font-family:Menlo,'DejaVu Sans Mono',consolas,'Courier New',monospace\"><span style=\"font-weight: bold\"> Total params: </span><span style=\"color: #00af00; text-decoration-color: #00af00\">3</span> (12.00 B)\n",
       "</pre>\n"
      ],
      "text/plain": [
       "\u001b[1m Total params: \u001b[0m\u001b[38;5;34m3\u001b[0m (12.00 B)\n"
      ]
     },
     "metadata": {},
     "output_type": "display_data"
    },
    {
     "data": {
      "text/html": [
       "<pre style=\"white-space:pre;overflow-x:auto;line-height:normal;font-family:Menlo,'DejaVu Sans Mono',consolas,'Courier New',monospace\"><span style=\"font-weight: bold\"> Trainable params: </span><span style=\"color: #00af00; text-decoration-color: #00af00\">3</span> (12.00 B)\n",
       "</pre>\n"
      ],
      "text/plain": [
       "\u001b[1m Trainable params: \u001b[0m\u001b[38;5;34m3\u001b[0m (12.00 B)\n"
      ]
     },
     "metadata": {},
     "output_type": "display_data"
    },
    {
     "data": {
      "text/html": [
       "<pre style=\"white-space:pre;overflow-x:auto;line-height:normal;font-family:Menlo,'DejaVu Sans Mono',consolas,'Courier New',monospace\"><span style=\"font-weight: bold\"> Non-trainable params: </span><span style=\"color: #00af00; text-decoration-color: #00af00\">0</span> (0.00 B)\n",
       "</pre>\n"
      ],
      "text/plain": [
       "\u001b[1m Non-trainable params: \u001b[0m\u001b[38;5;34m0\u001b[0m (0.00 B)\n"
      ]
     },
     "metadata": {},
     "output_type": "display_data"
    }
   ],
   "source": [
    "lr = LogisticRegression()\n",
    "\n",
    "# Hãy gọi phương thức `build` cho đối tượng `lr` và truyền tham số đầu vào\n",
    "# tương ứng với dữ liệu train đã phát sinh ở code block trên\n",
    "# Theo bạn, `input_dim` bằng bao nhiêu?\n",
    "\n",
    "### BEGIN SOLUTION\n",
    "input_dim = lr.build(2)\n",
    "### END SOLUTION\n",
    "\n",
    "# Để hiển thị kiến trúc của mô hình ta gọi phương thức `summary`\n",
    "print(\"Kiến trúc của mô hình Logistic Regression: \")\n",
    "lr.summary()"
   ]
  },
  {
   "cell_type": "code",
   "execution_count": null,
   "id": "_MXAKQwCZNFG",
   "metadata": {
    "colab": {
     "base_uri": "https://localhost:8080/"
    },
    "execution": {
     "iopub.execute_input": "2024-04-06T10:12:16.936936Z",
     "iopub.status.busy": "2024-04-06T10:12:16.936040Z",
     "iopub.status.idle": "2024-04-06T10:12:18.430924Z",
     "shell.execute_reply": "2024-04-06T10:12:18.428281Z"
    },
    "executionInfo": {
     "elapsed": 3693,
     "status": "ok",
     "timestamp": 1712308980753,
     "user": {
      "displayName": "Nguyễn Đức Vũ",
      "userId": "07288779277842550568"
     },
     "user_tz": -420
    },
    "id": "_MXAKQwCZNFG",
    "outputId": "72975a54-db63-41de-eace-ae4258fa534f"
   },
   "outputs": [
    {
     "name": "stdout",
     "output_type": "stream",
     "text": [
      "Epoch 1/50\n",
      "\u001b[1m1/1\u001b[0m \u001b[32m━━━━━━━━━━━━━━━━━━━━\u001b[0m\u001b[37m\u001b[0m \u001b[1m0s\u001b[0m 228ms/step - loss: 1.1234\n",
      "Epoch 2/50\n",
      "\u001b[1m1/1\u001b[0m \u001b[32m━━━━━━━━━━━━━━━━━━━━\u001b[0m\u001b[37m\u001b[0m \u001b[1m0s\u001b[0m 19ms/step - loss: 0.6658\n",
      "Epoch 3/50\n",
      "\u001b[1m1/1\u001b[0m \u001b[32m━━━━━━━━━━━━━━━━━━━━\u001b[0m\u001b[37m\u001b[0m \u001b[1m0s\u001b[0m 18ms/step - loss: 0.4198\n",
      "Epoch 4/50\n",
      "\u001b[1m1/1\u001b[0m \u001b[32m━━━━━━━━━━━━━━━━━━━━\u001b[0m\u001b[37m\u001b[0m \u001b[1m0s\u001b[0m 19ms/step - loss: 0.3118\n",
      "Epoch 5/50\n",
      "\u001b[1m1/1\u001b[0m \u001b[32m━━━━━━━━━━━━━━━━━━━━\u001b[0m\u001b[37m\u001b[0m \u001b[1m0s\u001b[0m 21ms/step - loss: 0.2567\n",
      "Epoch 6/50\n",
      "\u001b[1m1/1\u001b[0m \u001b[32m━━━━━━━━━━━━━━━━━━━━\u001b[0m\u001b[37m\u001b[0m \u001b[1m0s\u001b[0m 17ms/step - loss: 0.2221\n",
      "Epoch 7/50\n",
      "\u001b[1m1/1\u001b[0m \u001b[32m━━━━━━━━━━━━━━━━━━━━\u001b[0m\u001b[37m\u001b[0m \u001b[1m0s\u001b[0m 18ms/step - loss: 0.1972\n",
      "Epoch 8/50\n",
      "\u001b[1m1/1\u001b[0m \u001b[32m━━━━━━━━━━━━━━━━━━━━\u001b[0m\u001b[37m\u001b[0m \u001b[1m0s\u001b[0m 20ms/step - loss: 0.1781\n",
      "Epoch 9/50\n",
      "\u001b[1m1/1\u001b[0m \u001b[32m━━━━━━━━━━━━━━━━━━━━\u001b[0m\u001b[37m\u001b[0m \u001b[1m0s\u001b[0m 19ms/step - loss: 0.1627\n",
      "Epoch 10/50\n",
      "\u001b[1m1/1\u001b[0m \u001b[32m━━━━━━━━━━━━━━━━━━━━\u001b[0m\u001b[37m\u001b[0m \u001b[1m0s\u001b[0m 19ms/step - loss: 0.1500\n",
      "Epoch 11/50\n",
      "\u001b[1m1/1\u001b[0m \u001b[32m━━━━━━━━━━━━━━━━━━━━\u001b[0m\u001b[37m\u001b[0m \u001b[1m0s\u001b[0m 18ms/step - loss: 0.1394\n",
      "Epoch 12/50\n",
      "\u001b[1m1/1\u001b[0m \u001b[32m━━━━━━━━━━━━━━━━━━━━\u001b[0m\u001b[37m\u001b[0m \u001b[1m0s\u001b[0m 17ms/step - loss: 0.1302\n",
      "Epoch 13/50\n",
      "\u001b[1m1/1\u001b[0m \u001b[32m━━━━━━━━━━━━━━━━━━━━\u001b[0m\u001b[37m\u001b[0m \u001b[1m0s\u001b[0m 18ms/step - loss: 0.1223\n",
      "Epoch 14/50\n",
      "\u001b[1m1/1\u001b[0m \u001b[32m━━━━━━━━━━━━━━━━━━━━\u001b[0m\u001b[37m\u001b[0m \u001b[1m0s\u001b[0m 16ms/step - loss: 0.1154\n",
      "Epoch 15/50\n",
      "\u001b[1m1/1\u001b[0m \u001b[32m━━━━━━━━━━━━━━━━━━━━\u001b[0m\u001b[37m\u001b[0m \u001b[1m0s\u001b[0m 17ms/step - loss: 0.1094\n",
      "Epoch 16/50\n",
      "\u001b[1m1/1\u001b[0m \u001b[32m━━━━━━━━━━━━━━━━━━━━\u001b[0m\u001b[37m\u001b[0m \u001b[1m0s\u001b[0m 15ms/step - loss: 0.1039\n",
      "Epoch 17/50\n",
      "\u001b[1m1/1\u001b[0m \u001b[32m━━━━━━━━━━━━━━━━━━━━\u001b[0m\u001b[37m\u001b[0m \u001b[1m0s\u001b[0m 18ms/step - loss: 0.0991\n",
      "Epoch 18/50\n",
      "\u001b[1m1/1\u001b[0m \u001b[32m━━━━━━━━━━━━━━━━━━━━\u001b[0m\u001b[37m\u001b[0m \u001b[1m0s\u001b[0m 18ms/step - loss: 0.0947\n",
      "Epoch 19/50\n",
      "\u001b[1m1/1\u001b[0m \u001b[32m━━━━━━━━━━━━━━━━━━━━\u001b[0m\u001b[37m\u001b[0m \u001b[1m0s\u001b[0m 20ms/step - loss: 0.0908\n",
      "Epoch 20/50\n",
      "\u001b[1m1/1\u001b[0m \u001b[32m━━━━━━━━━━━━━━━━━━━━\u001b[0m\u001b[37m\u001b[0m \u001b[1m0s\u001b[0m 25ms/step - loss: 0.0872\n",
      "Epoch 21/50\n",
      "\u001b[1m1/1\u001b[0m \u001b[32m━━━━━━━━━━━━━━━━━━━━\u001b[0m\u001b[37m\u001b[0m \u001b[1m0s\u001b[0m 17ms/step - loss: 0.0839\n",
      "Epoch 22/50\n",
      "\u001b[1m1/1\u001b[0m \u001b[32m━━━━━━━━━━━━━━━━━━━━\u001b[0m\u001b[37m\u001b[0m \u001b[1m0s\u001b[0m 17ms/step - loss: 0.0808\n",
      "Epoch 23/50\n",
      "\u001b[1m1/1\u001b[0m \u001b[32m━━━━━━━━━━━━━━━━━━━━\u001b[0m\u001b[37m\u001b[0m \u001b[1m0s\u001b[0m 17ms/step - loss: 0.0781\n",
      "Epoch 24/50\n",
      "\u001b[1m1/1\u001b[0m \u001b[32m━━━━━━━━━━━━━━━━━━━━\u001b[0m\u001b[37m\u001b[0m \u001b[1m0s\u001b[0m 18ms/step - loss: 0.0755\n",
      "Epoch 25/50\n",
      "\u001b[1m1/1\u001b[0m \u001b[32m━━━━━━━━━━━━━━━━━━━━\u001b[0m\u001b[37m\u001b[0m \u001b[1m0s\u001b[0m 19ms/step - loss: 0.0731\n",
      "Epoch 26/50\n",
      "\u001b[1m1/1\u001b[0m \u001b[32m━━━━━━━━━━━━━━━━━━━━\u001b[0m\u001b[37m\u001b[0m \u001b[1m0s\u001b[0m 17ms/step - loss: 0.0709\n",
      "Epoch 27/50\n",
      "\u001b[1m1/1\u001b[0m \u001b[32m━━━━━━━━━━━━━━━━━━━━\u001b[0m\u001b[37m\u001b[0m \u001b[1m0s\u001b[0m 16ms/step - loss: 0.0688\n",
      "Epoch 28/50\n",
      "\u001b[1m1/1\u001b[0m \u001b[32m━━━━━━━━━━━━━━━━━━━━\u001b[0m\u001b[37m\u001b[0m \u001b[1m0s\u001b[0m 17ms/step - loss: 0.0668\n",
      "Epoch 29/50\n",
      "\u001b[1m1/1\u001b[0m \u001b[32m━━━━━━━━━━━━━━━━━━━━\u001b[0m\u001b[37m\u001b[0m \u001b[1m0s\u001b[0m 16ms/step - loss: 0.0650\n",
      "Epoch 30/50\n",
      "\u001b[1m1/1\u001b[0m \u001b[32m━━━━━━━━━━━━━━━━━━━━\u001b[0m\u001b[37m\u001b[0m \u001b[1m0s\u001b[0m 17ms/step - loss: 0.0633\n",
      "Epoch 31/50\n",
      "\u001b[1m1/1\u001b[0m \u001b[32m━━━━━━━━━━━━━━━━━━━━\u001b[0m\u001b[37m\u001b[0m \u001b[1m0s\u001b[0m 17ms/step - loss: 0.0617\n",
      "Epoch 32/50\n",
      "\u001b[1m1/1\u001b[0m \u001b[32m━━━━━━━━━━━━━━━━━━━━\u001b[0m\u001b[37m\u001b[0m \u001b[1m0s\u001b[0m 17ms/step - loss: 0.0602\n",
      "Epoch 33/50\n",
      "\u001b[1m1/1\u001b[0m \u001b[32m━━━━━━━━━━━━━━━━━━━━\u001b[0m\u001b[37m\u001b[0m \u001b[1m0s\u001b[0m 16ms/step - loss: 0.0587\n",
      "Epoch 34/50\n",
      "\u001b[1m1/1\u001b[0m \u001b[32m━━━━━━━━━━━━━━━━━━━━\u001b[0m\u001b[37m\u001b[0m \u001b[1m0s\u001b[0m 17ms/step - loss: 0.0574\n",
      "Epoch 35/50\n",
      "\u001b[1m1/1\u001b[0m \u001b[32m━━━━━━━━━━━━━━━━━━━━\u001b[0m\u001b[37m\u001b[0m \u001b[1m0s\u001b[0m 16ms/step - loss: 0.0561\n",
      "Epoch 36/50\n",
      "\u001b[1m1/1\u001b[0m \u001b[32m━━━━━━━━━━━━━━━━━━━━\u001b[0m\u001b[37m\u001b[0m \u001b[1m0s\u001b[0m 24ms/step - loss: 0.0548\n",
      "Epoch 37/50\n",
      "\u001b[1m1/1\u001b[0m \u001b[32m━━━━━━━━━━━━━━━━━━━━\u001b[0m\u001b[37m\u001b[0m \u001b[1m0s\u001b[0m 17ms/step - loss: 0.0537\n",
      "Epoch 38/50\n",
      "\u001b[1m1/1\u001b[0m \u001b[32m━━━━━━━━━━━━━━━━━━━━\u001b[0m\u001b[37m\u001b[0m \u001b[1m0s\u001b[0m 16ms/step - loss: 0.0526\n",
      "Epoch 39/50\n",
      "\u001b[1m1/1\u001b[0m \u001b[32m━━━━━━━━━━━━━━━━━━━━\u001b[0m\u001b[37m\u001b[0m \u001b[1m0s\u001b[0m 19ms/step - loss: 0.0515\n",
      "Epoch 40/50\n",
      "\u001b[1m1/1\u001b[0m \u001b[32m━━━━━━━━━━━━━━━━━━━━\u001b[0m\u001b[37m\u001b[0m \u001b[1m0s\u001b[0m 17ms/step - loss: 0.0505\n",
      "Epoch 41/50\n",
      "\u001b[1m1/1\u001b[0m \u001b[32m━━━━━━━━━━━━━━━━━━━━\u001b[0m\u001b[37m\u001b[0m \u001b[1m0s\u001b[0m 17ms/step - loss: 0.0495\n",
      "Epoch 42/50\n",
      "\u001b[1m1/1\u001b[0m \u001b[32m━━━━━━━━━━━━━━━━━━━━\u001b[0m\u001b[37m\u001b[0m \u001b[1m0s\u001b[0m 16ms/step - loss: 0.0486\n",
      "Epoch 43/50\n",
      "\u001b[1m1/1\u001b[0m \u001b[32m━━━━━━━━━━━━━━━━━━━━\u001b[0m\u001b[37m\u001b[0m \u001b[1m0s\u001b[0m 18ms/step - loss: 0.0477\n",
      "Epoch 44/50\n",
      "\u001b[1m1/1\u001b[0m \u001b[32m━━━━━━━━━━━━━━━━━━━━\u001b[0m\u001b[37m\u001b[0m \u001b[1m0s\u001b[0m 17ms/step - loss: 0.0469\n",
      "Epoch 45/50\n",
      "\u001b[1m1/1\u001b[0m \u001b[32m━━━━━━━━━━━━━━━━━━━━\u001b[0m\u001b[37m\u001b[0m \u001b[1m0s\u001b[0m 18ms/step - loss: 0.0461\n",
      "Epoch 46/50\n",
      "\u001b[1m1/1\u001b[0m \u001b[32m━━━━━━━━━━━━━━━━━━━━\u001b[0m\u001b[37m\u001b[0m \u001b[1m0s\u001b[0m 17ms/step - loss: 0.0453\n",
      "Epoch 47/50\n",
      "\u001b[1m1/1\u001b[0m \u001b[32m━━━━━━━━━━━━━━━━━━━━\u001b[0m\u001b[37m\u001b[0m \u001b[1m0s\u001b[0m 33ms/step - loss: 0.0445\n",
      "Epoch 48/50\n",
      "\u001b[1m1/1\u001b[0m \u001b[32m━━━━━━━━━━━━━━━━━━━━\u001b[0m\u001b[37m\u001b[0m \u001b[1m0s\u001b[0m 17ms/step - loss: 0.0438\n",
      "Epoch 49/50\n",
      "\u001b[1m1/1\u001b[0m \u001b[32m━━━━━━━━━━━━━━━━━━━━\u001b[0m\u001b[37m\u001b[0m \u001b[1m0s\u001b[0m 18ms/step - loss: 0.0431\n",
      "Epoch 50/50\n",
      "\u001b[1m1/1\u001b[0m \u001b[32m━━━━━━━━━━━━━━━━━━━━\u001b[0m\u001b[37m\u001b[0m \u001b[1m0s\u001b[0m 17ms/step - loss: 0.0424\n"
     ]
    }
   ],
   "source": [
    "# Để huấn luyện mô hình ta gọi phương thức `train` với dữ liệu mẫu đã tạo được\n",
    "# Nếu bước `build` mô hình gọi đúng thì bước `train` sau sẽ thực hiện thành công\n",
    "hist = lr.train(x_train, y_train)"
   ]
  },
  {
   "cell_type": "code",
   "execution_count": null,
   "id": "DXpSoCTXZOY3",
   "metadata": {
    "colab": {
     "base_uri": "https://localhost:8080/",
     "height": 493
    },
    "execution": {
     "iopub.execute_input": "2024-04-06T10:12:18.441285Z",
     "iopub.status.busy": "2024-04-06T10:12:18.440513Z",
     "iopub.status.idle": "2024-04-06T10:12:18.941578Z",
     "shell.execute_reply": "2024-04-06T10:12:18.939337Z"
    },
    "executionInfo": {
     "elapsed": 773,
     "status": "ok",
     "timestamp": 1712308981523,
     "user": {
      "displayName": "Nguyễn Đức Vũ",
      "userId": "07288779277842550568"
     },
     "user_tz": -420
    },
    "id": "DXpSoCTXZOY3",
    "outputId": "9091dab2-4e39-48b7-c4cb-2393d840ae5c"
   },
   "outputs": [
    {
     "data": {
      "image/png": "[encoded data removed]",
      "text/plain": [
       "<Figure size 640x480 with 1 Axes>"
      ]
     },
     "metadata": {},
     "output_type": "display_data"
    }
   ],
   "source": [
    "# Hiển thị loss theo số epoch\n",
    "plt.plot(hist.history['loss'])\n",
    "plt.title('Model Loss')\n",
    "plt.ylabel('loss')\n",
    "plt.xlabel('epoch')\n",
    "plt.show()"
   ]
  },
  {
   "cell_type": "code",
   "execution_count": null,
   "id": "wN3Ea__sZR5E",
   "metadata": {
    "execution": {
     "iopub.execute_input": "2024-04-06T10:12:18.950996Z",
     "iopub.status.busy": "2024-04-06T10:12:18.949114Z",
     "iopub.status.idle": "2024-04-06T10:12:18.978529Z",
     "shell.execute_reply": "2024-04-06T10:12:18.976344Z"
    },
    "executionInfo": {
     "elapsed": 38,
     "status": "ok",
     "timestamp": 1712308981524,
     "user": {
      "displayName": "Nguyễn Đức Vũ",
      "userId": "07288779277842550568"
     },
     "user_tz": -420
    },
    "id": "wN3Ea__sZR5E"
   },
   "outputs": [
    {
     "name": "stderr",
     "output_type": "stream",
     "text": [
      "WARNING:absl:You are saving your model as an HDF5 file via `model.save()` or `keras.saving.save_model(model)`. This file format is considered legacy. We recommend using instead the native Keras format, e.g. `model.save('my_model.keras')` or `keras.saving.save_model(model, 'my_model.keras')`. \n"
     ]
    }
   ],
   "source": [
    "# Sau khi đã huấn luyện, ta lưu mô hình về để sau này tái sử dụng\n",
    "# Lưu ý: hai phương thức lưu mô hình `save` và tải mô hình lên 'load'\n",
    "# được sử dụng khi muốn tái sử dụng nhiều lần mà KHÔNG CẦN PHẢI HUẤN LUYỆN LẠI\n",
    "lr.save('logistic_regression_model.h5')"
   ]
  },
  {
   "cell_type": "markdown",
   "id": "7mi8vdRRZWlm",
   "metadata": {
    "id": "7mi8vdRRZWlm"
   },
   "source": [
    "## 5. Trực quan hóa mô hình và dự đoán với dữ liệu test"
   ]
  },
  {
   "cell_type": "code",
   "execution_count": null,
   "id": "qTSxO8D_ZT-I",
   "metadata": {
    "execution": {
     "iopub.execute_input": "2024-04-06T10:12:18.987643Z",
     "iopub.status.busy": "2024-04-06T10:12:18.985963Z",
     "iopub.status.idle": "2024-04-06T10:12:19.070114Z",
     "shell.execute_reply": "2024-04-06T10:12:19.067679Z"
    },
    "executionInfo": {
     "elapsed": 35,
     "status": "ok",
     "timestamp": 1712308981524,
     "user": {
      "displayName": "Nguyễn Đức Vũ",
      "userId": "07288779277842550568"
     },
     "user_tz": -420
    },
    "id": "qTSxO8D_ZT-I"
   },
   "outputs": [
    {
     "name": "stderr",
     "output_type": "stream",
     "text": [
      "WARNING:absl:Compiled the loaded model, but the compiled metrics have yet to be built. `model.compile_metrics` will be empty until you train or evaluate the model.\n"
     ]
    }
   ],
   "source": [
    "# Khởi tạo đối tượng mới và gọi phương thức load mô hình từ file\n",
    "pretrain_lr = LogisticRegression()\n",
    "pretrain_lr.load('logistic_regression_model.h5')"
   ]
  },
  {
   "cell_type": "code",
   "execution_count": null,
   "id": "0ss2l-poZYZT",
   "metadata": {
    "colab": {
     "base_uri": "https://localhost:8080/"
    },
    "execution": {
     "iopub.execute_input": "2024-04-06T10:12:19.079562Z",
     "iopub.status.busy": "2024-04-06T10:12:19.077563Z",
     "iopub.status.idle": "2024-04-06T10:12:19.094447Z",
     "shell.execute_reply": "2024-04-06T10:12:19.092397Z"
    },
    "executionInfo": {
     "elapsed": 33,
     "status": "ok",
     "timestamp": 1712308981524,
     "user": {
      "displayName": "Nguyễn Đức Vũ",
      "userId": "07288779277842550568"
     },
     "user_tz": -420
    },
    "id": "0ss2l-poZYZT",
    "outputId": "a62000c1-7e11-4aa4-9068-37bb21ff7729"
   },
   "outputs": [
    {
     "name": "stdout",
     "output_type": "stream",
     "text": [
      "Tham số tối ưu: \n",
      "[array([[-0.9303069],\n",
      "       [ 0.9272127]], dtype=float32), array([-0.09650145], dtype=float32)]\n",
      "Trong đó: \n",
      "   - bias (hệ số tự do) :  -0.096501455\n",
      "   - theta1 (hệ số cho dữ liệu x1):  -0.9303069\n",
      "   - theta2 (hệ số cho dữ liệu x2):  0.9272127\n"
     ]
    }
   ],
   "source": [
    "theta = pretrain_lr.get_weights()\n",
    "print('Tham số tối ưu: ')\n",
    "print(theta)\n",
    "bias = theta[1][0] # bias chính là theta0 trong mô hình gốc\n",
    "theta1 = theta[0][0][0]\n",
    "theta2 = theta[0][1][0]\n",
    "print('Trong đó: ')\n",
    "print('   - bias (hệ số tự do) : ', bias)\n",
    "print('   - theta1 (hệ số cho dữ liệu x1): ', theta1)\n",
    "print('   - theta2 (hệ số cho dữ liệu x2): ', theta2)"
   ]
  },
  {
   "cell_type": "code",
   "execution_count": null,
   "id": "6FXeII6SZZO9",
   "metadata": {
    "colab": {
     "base_uri": "https://localhost:8080/",
     "height": 451
    },
    "execution": {
     "iopub.execute_input": "2024-04-06T10:12:19.103292Z",
     "iopub.status.busy": "2024-04-06T10:12:19.101437Z",
     "iopub.status.idle": "2024-04-06T10:12:19.500683Z",
     "shell.execute_reply": "2024-04-06T10:12:19.498530Z"
    },
    "executionInfo": {
     "elapsed": 8,
     "status": "ok",
     "timestamp": 1712308981524,
     "user": {
      "displayName": "Nguyễn Đức Vũ",
      "userId": "07288779277842550568"
     },
     "user_tz": -420
    },
    "id": "6FXeII6SZZO9",
    "outputId": "eb8a4b08-e71e-4360-dfa5-417ab9fc020d"
   },
   "outputs": [
    {
     "data": {
      "image/png": "[encoded data removed]",
      "text/plain": [
       "<Figure size 640x480 with 1 Axes>"
      ]
     },
     "metadata": {},
     "output_type": "display_data"
    }
   ],
   "source": [
    "# Trực quan hóa dữ liệu và mô hình sau khi huấn luyện\n",
    "plt.plot(red_points[:,0], red_points[:,1], 'ro')\n",
    "plt.plot(blue_points[:,0], blue_points[:,1], 'bo')\n",
    "\n",
    "# Trực quan hóa đường thẳng phân lớp 2 tập đỏ, xanh\n",
    "# Khoảng giá trị nhỏ nhất và lớn nhất mà x1 có thể nhận được từ 0-6\n",
    "x1=[0, 6]\n",
    "# Tính giá trị x2 dựa trên phương trình đường thẳng:\n",
    "# theta1*x1 + theta2*x2 + bias = 0\n",
    "# => x2 = -(theta1*x1 + bias)/theta2\n",
    "x2=[-(theta1*x1[0]+bias)/theta2, -(theta1*x1[-1]+bias)/theta2]\n",
    "plt.plot(x1, x2)\n",
    "plt.show()"
   ]
  },
  {
   "cell_type": "markdown",
   "id": "mRy3Z5ITZdyO",
   "metadata": {
    "id": "mRy3Z5ITZdyO"
   },
   "source": [
    "Như vậy ta có thể thấy rằng, các hệ số đã huấn luyện tương ứng đã tạo thành phương trình đường thẳng chia tách các điểm huấn luyện đỏ và xanh."
   ]
  },
  {
   "cell_type": "code",
   "execution_count": null,
   "id": "6wbdN2NpZauv",
   "metadata": {
    "colab": {
     "base_uri": "https://localhost:8080/"
    },
    "execution": {
     "iopub.execute_input": "2024-04-06T10:12:19.510690Z",
     "iopub.status.busy": "2024-04-06T10:12:19.508644Z",
     "iopub.status.idle": "2024-04-06T10:12:19.692229Z",
     "shell.execute_reply": "2024-04-06T10:12:19.690073Z"
    },
    "executionInfo": {
     "elapsed": 807,
     "status": "ok",
     "timestamp": 1712308982325,
     "user": {
      "displayName": "Nguyễn Đức Vũ",
      "userId": "07288779277842550568"
     },
     "user_tz": -420
    },
    "id": "6wbdN2NpZauv",
    "outputId": "951a71e0-fd96-43e0-afcc-2e3ba02be77c"
   },
   "outputs": [
    {
     "name": "stdout",
     "output_type": "stream",
     "text": [
      "\u001b[1m1/1\u001b[0m \u001b[32m━━━━━━━━━━━━━━━━━━━━\u001b[0m\u001b[37m\u001b[0m \u001b[1m0s\u001b[0m 25ms/step\n",
      "Giá trị nhãn dự đoán trên tập test: \n",
      "[1. 1. 1. 1. 1. 1. 1. 1. 1. 1. 0. 0. 0. 0. 0. 0. 0. 0. 0. 0.]\n",
      "Giá trị nhãn phát sinh (tập test): \n",
      "[1. 1. 1. 1. 1. 1. 1. 1. 1. 1. 0. 0. 0. 0. 0. 0. 0. 0. 0. 0.]\n"
     ]
    }
   ],
   "source": [
    "# Sai số trung bình khi thử nghiệm trên  tập test:\n",
    "y_pred = lr.predict(x_test)[:,0]\n",
    "y_pred[y_pred >= 0.5] = 1\n",
    "y_pred[y_pred < 0.5] = 0\n",
    "print('Giá trị nhãn dự đoán trên tập test: ')\n",
    "print(y_pred)\n",
    "print('Giá trị nhãn phát sinh (tập test): ')\n",
    "print(y_test)"
   ]
  },
  {
   "cell_type": "markdown",
   "id": "Ib_I4CJRZhcn",
   "metadata": {
    "id": "Ib_I4CJRZhcn"
   },
   "source": [
    "Như ta đã thấy, giá trị dự đoán `y_pred` **gần như chính xác** so với dữ liệu phát sinh `y_test`. Sẽ có tình huống `y_pred` không khớp với `y_test`, phụ thuộc vào yếu tố nhiễu khi tạo sinh dữ liệu.\n",
    "\n",
    "Để tính tổng độ chính xác (Accuracy), ta đếm tổng số mẫu mà giá trị dự đoán khớp với giá trị phát sinh, sau đó chia cho tổng số mẫu:"
   ]
  },
  {
   "cell_type": "code",
   "execution_count": null,
   "id": "mQyvyBp7Zc4Q",
   "metadata": {
    "execution": {
     "iopub.execute_input": "2024-04-06T10:12:19.702172Z",
     "iopub.status.busy": "2024-04-06T10:12:19.700082Z",
     "iopub.status.idle": "2024-04-06T10:12:19.710977Z",
     "shell.execute_reply": "2024-04-06T10:12:19.708907Z"
    },
    "executionInfo": {
     "elapsed": 131,
     "status": "ok",
     "timestamp": 1712308982325,
     "user": {
      "displayName": "Nguyễn Đức Vũ",
      "userId": "07288779277842550568"
     },
     "user_tz": -420
    },
    "id": "mQyvyBp7Zc4Q"
   },
   "outputs": [],
   "source": [
    "def accuracy(y_pred, y_test):\n",
    "    acc = None\n",
    "    # Cài đặt biến `acc` chứa độ chính xác theo %\n",
    "    # với công thức tính bằng tổng số mẫu dự đoán đúng\n",
    "    # (`y_pred` và `y_test` khớp nhau) chia cho tổng số mẫu\n",
    "    # của tập test.\n",
    "    # Lưu ý: giá trị nhỏ nhất là 0%, lớn nhất là 100%\n",
    "    ### BEGIN SOLUTION\n",
    "    acc = 100*np.sum(y_pred == y_test)/len(y_test)\n",
    "    ### END SOLUTION\n",
    "    return acc"
   ]
  },
  {
   "cell_type": "code",
   "execution_count": null,
   "id": "Hm0mHyaKZjER",
   "metadata": {
    "colab": {
     "base_uri": "https://localhost:8080/"
    },
    "execution": {
     "iopub.execute_input": "2024-04-06T10:12:19.721724Z",
     "iopub.status.busy": "2024-04-06T10:12:19.719636Z",
     "iopub.status.idle": "2024-04-06T10:12:19.730846Z",
     "shell.execute_reply": "2024-04-06T10:12:19.728841Z"
    },
    "executionInfo": {
     "elapsed": 129,
     "status": "ok",
     "timestamp": 1712308982325,
     "user": {
      "displayName": "Nguyễn Đức Vũ",
      "userId": "07288779277842550568"
     },
     "user_tz": -420
    },
    "id": "Hm0mHyaKZjER",
    "outputId": "68ed3dfd-91f2-4b7a-9f69-c4a3ee894f91"
   },
   "outputs": [
    {
     "name": "stdout",
     "output_type": "stream",
     "text": [
      "Độ chính xác trên tập test:  100.0 (%)\n"
     ]
    }
   ],
   "source": [
    "print(\"Độ chính xác trên tập test: \", accuracy(y_pred, y_test), \"(%)\")"
   ]
  },
  {
   "cell_type": "code",
   "execution_count": null,
   "id": "fbf4ErkeZkPq",
   "metadata": {
    "execution": {
     "iopub.execute_input": "2024-04-06T10:12:19.739441Z",
     "iopub.status.busy": "2024-04-06T10:12:19.737723Z",
     "iopub.status.idle": "2024-04-06T10:12:19.748527Z",
     "shell.execute_reply": "2024-04-06T10:12:19.746441Z"
    },
    "executionInfo": {
     "elapsed": 105,
     "status": "ok",
     "timestamp": 1712308982326,
     "user": {
      "displayName": "Nguyễn Đức Vũ",
      "userId": "07288779277842550568"
     },
     "user_tz": -420
    },
    "id": "fbf4ErkeZkPq"
   },
   "outputs": [],
   "source": [
    "# Kiểm tra với một số bộ test mở\n",
    "assert accuracy(np.array([1, 1]), np.array([0, 1])) == 50.0\n",
    "assert accuracy(np.array([1, 0, 1]), np.array([0, 1, 0])) == 0.0"
   ]
  },
  {
   "cell_type": "markdown",
   "id": "m1PzYbK9bLeq",
   "metadata": {
    "id": "m1PzYbK9bLeq"
   },
   "source": [
    "# PHẦN 3 - CÀI ĐẶT MÔ HÌNH SOFTMAX REGRESSION VỚI KERAS"
   ]
  },
  {
   "cell_type": "markdown",
   "id": "tKdiBV5bbQQ8",
   "metadata": {
    "id": "tKdiBV5bbQQ8"
   },
   "source": [
    "Một mô hình máy học cần có đủ ít nhất 7 phương thức sau:\n",
    "- `__init__`: hàm constructor trong hướng đối tượng, được sử dụng để khởi tạo các tham số mặc định hoặc tham số bắt đầu một mô hình. Trong những bài tập đầu tiên, để đơn giản constructor sẽ không sử dụng.\n",
    "- `build`: xây dựng kiến trúc của mô hình\n",
    "- `train`: bắt đầu quá trình huấn luyện mô hình\n",
    "- `save`: lưu lại mô hình sau khi đã huấn luyện\n",
    "- `load`: load lên mô hình từ file đã huấn luyện (pretrained)\n",
    "- `summary`: in tóm tắt kiến trúc mô hình\n",
    "- `predict`: dự đoán giá trị output từ dữ liệu đầu vào"
   ]
  },
  {
   "cell_type": "code",
   "execution_count": null,
   "id": "_MfEDzohZmgJ",
   "metadata": {
    "execution": {
     "iopub.execute_input": "2024-04-06T10:12:19.784308Z",
     "iopub.status.busy": "2024-04-06T10:12:19.782341Z",
     "iopub.status.idle": "2024-04-06T10:12:19.795258Z",
     "shell.execute_reply": "2024-04-06T10:12:19.793243Z"
    },
    "executionInfo": {
     "elapsed": 86,
     "status": "ok",
     "timestamp": 1712308982326,
     "user": {
      "displayName": "Nguyễn Đức Vũ",
      "userId": "07288779277842550568"
     },
     "user_tz": -420
    },
    "id": "_MfEDzohZmgJ"
   },
   "outputs": [],
   "source": [
    "# Mô hình cài đặt tổng quát bao gồm 7 phương thức cơ bản\n",
    "# Lưu ý: mô hình này chỉ mang tính gợi ý, không bắt buộc\n",
    "# Tuy nhiên, trong phần bài tập cần tuân theo các tên phương thức này\n",
    "class MyModel:\n",
    "    # constructor\n",
    "    def __init__(self):\n",
    "        return None\n",
    "\n",
    "    # Implement architecture of the model\n",
    "    def build(self):\n",
    "        return None\n",
    "\n",
    "    # Train the defined model with training and validation data\n",
    "    def train(self):\n",
    "        return None\n",
    "\n",
    "    # Save the trained model to file\n",
    "    def save(self, model_path):\n",
    "        return None\n",
    "\n",
    "    # Load pretrained model from file\n",
    "    def load(self):\n",
    "        return None\n",
    "\n",
    "    # Visualize your model\n",
    "    def summary(self):\n",
    "        return None\n",
    "\n",
    "    # Apply your model with new input data\n",
    "    def predict(self):\n",
    "        return None"
   ]
  },
  {
   "cell_type": "markdown",
   "id": "vjnVbIngbVmW",
   "metadata": {
    "id": "vjnVbIngbVmW"
   },
   "source": [
    "## 1. Import các thư viện Keras\n",
    "\n",
    "Đầu tiên, ta sẽ import các thư viện, module, hàm của `Keras`:\n",
    "- `Input`: để nhận dữ liệu đầu vào cho mô hình\n",
    "- `Dense`: hay còn gọi là lớp Fully Connected (Lớp kết nối đầy đủ), một thành phần quan trọng của các mô hình dựa trên mạng Neural Network.\n",
    "- `Model`: đây là lớp đối tượng mô hình được sử dụng để đóng gói lớp đầu vào, đầu ra, sau đó huấn luyện với phương thức `fit` và dự đoán kết quả với `predict`.\n",
    "- `load_model`: hàm sử dụng để load mô hình lên từ file"
   ]
  },
  {
   "cell_type": "code",
   "execution_count": null,
   "id": "z6ADUV-_bTqU",
   "metadata": {
    "execution": {
     "iopub.execute_input": "2024-04-06T10:12:19.806911Z",
     "iopub.status.busy": "2024-04-06T10:12:19.805030Z",
     "iopub.status.idle": "2024-04-06T10:12:19.814646Z",
     "shell.execute_reply": "2024-04-06T10:12:19.812587Z"
    },
    "executionInfo": {
     "elapsed": 86,
     "status": "ok",
     "timestamp": 1712308982326,
     "user": {
      "displayName": "Nguyễn Đức Vũ",
      "userId": "07288779277842550568"
     },
     "user_tz": -420
    },
    "id": "z6ADUV-_bTqU"
   },
   "outputs": [],
   "source": [
    "from keras.layers import Input, Dense\n",
    "from keras import Model\n",
    "import tensorflow as tf\n",
    "from keras.models import load_model\n",
    "import numpy as np"
   ]
  },
  {
   "cell_type": "markdown",
   "id": "p4l_8eFIbZmr",
   "metadata": {
    "id": "p4l_8eFIbZmr"
   },
   "source": [
    "## 2. Cài đặt mô hình Softmax Regression\n",
    "Tiếp theo, ta sẽ dựa trên khung đối tượng `MyModel` đã trình bày ở mục trước để tiến hành cài đặt mô hình **Softmax Regression**. Phương thức chính mà bài tập này cần thực hiện là `def build()`. Các phương thức còn lại đã được cài đặt sẵn, các bạn cần đọc, hiểu ý nghĩa và cách thức sử dụng về sau.\n",
    "\n",
    "<p align=\"center\">\n",
    "  <img src=\"./images/SoftmaxReg.png\" />\n",
    "</p>"
   ]
  },
  {
   "cell_type": "code",
   "execution_count": null,
   "id": "C2zQnJjDbXY6",
   "metadata": {
    "execution": {
     "iopub.execute_input": "2024-04-06T10:12:19.825422Z",
     "iopub.status.busy": "2024-04-06T10:12:19.823428Z",
     "iopub.status.idle": "2024-04-06T10:12:19.842779Z",
     "shell.execute_reply": "2024-04-06T10:12:19.840669Z"
    },
    "executionInfo": {
     "elapsed": 85,
     "status": "ok",
     "timestamp": 1712308982326,
     "user": {
      "displayName": "Nguyễn Đức Vũ",
      "userId": "07288779277842550568"
     },
     "user_tz": -420
    },
    "id": "C2zQnJjDbXY6"
   },
   "outputs": [],
   "source": [
    "# Softmax Regression\n",
    "class SoftmaxRegression:\n",
    "    def __init__(self): # Self is similar to your 'this' pointer in C++\n",
    "        return None\n",
    "\n",
    "    def build(self, input_dim, output_dim):\n",
    "        # `input_dim`: kích thước input feature\n",
    "        # `output_dim`: số phân lớp cần phân loại\n",
    "\n",
    "        # Khởi tạo model\n",
    "        self.model = None\n",
    "\n",
    "        # Hãy cài đặt để định nghĩa KIẾN TRÚC MÔ HÌNH và lưu ở thuộc tính `self.model`\n",
    "        # với các biến đối tượng sau:\n",
    "        #  - tạo biến `input` với lớp đối tượng `Input` của Keras,\n",
    "        #    truyền vào kích thước đầu vào `input_dim`\n",
    "        #  - tạo biến `output` với lớp đối tượng `Dense` của Keras,\n",
    "        #    truyền vào các tham số:  kích thước output (chú ý PHÂN LOẠI ĐA LỚP),\n",
    "        #    có sử dụng bias, CÓ SỬ DỤNG hàm activation là `softmax`.\n",
    "        # Sau bước này, self.model sẽ đóng gói 2 biến `input` và `output` để tạo thành mô hình\n",
    "        ### BEGIN SOLUTION\n",
    "        input = Input(shape=(input_dim,))\n",
    "        output = Dense(units=output_dim, use_bias=True, activation='softmax')(input)\n",
    "        self.model = Model(input, output)\n",
    "\n",
    "        ### END SOLUTION\n",
    "\n",
    "        return self.model\n",
    "\n",
    "    def train(self, x_train, y_train):\n",
    "        opt = tf.keras.optimizers.SGD(learning_rate=0.01) # Stochastic Gradient Descent\n",
    "        self.model.compile(optimizer=opt, loss='categorical_crossentropy') # CCE loss\n",
    "        return self.model.fit(x_train, y_train, epochs=100)\n",
    "\n",
    "    def save(self, model_file):\n",
    "        return self.model.save(model_file)\n",
    "\n",
    "    def load(self, model_file):\n",
    "        self.model = load_model(model_file)\n",
    "\n",
    "    def summary(self):\n",
    "        self.model.summary()\n",
    "\n",
    "    def predict(self, x_test):\n",
    "        return self.model.predict(x_test)\n",
    "\n",
    "    def get_weights(self):\n",
    "        return self.model.layers[1].get_weights()"
   ]
  },
  {
   "cell_type": "markdown",
   "id": "yK2vBpYwbeht",
   "metadata": {
    "id": "yK2vBpYwbeht"
   },
   "source": [
    "Tiếp theo, ta sẽ khởi tạo đối tượng SoftmaxRegression và kiểm tra thử xem phương `build` đã cài đặt chính xác chưa."
   ]
  },
  {
   "cell_type": "code",
   "execution_count": null,
   "id": "_3_AA0Fbbcd4",
   "metadata": {
    "colab": {
     "base_uri": "https://localhost:8080/"
    },
    "execution": {
     "iopub.execute_input": "2024-04-06T10:12:19.855862Z",
     "iopub.status.busy": "2024-04-06T10:12:19.853955Z",
     "iopub.status.idle": "2024-04-06T10:12:19.905746Z",
     "shell.execute_reply": "2024-04-06T10:12:19.903598Z"
    },
    "executionInfo": {
     "elapsed": 85,
     "status": "ok",
     "timestamp": 1712308982326,
     "user": {
      "displayName": "Nguyễn Đức Vũ",
      "userId": "07288779277842550568"
     },
     "user_tz": -420
    },
    "id": "_3_AA0Fbbcd4",
    "outputId": "8fc7ed97-5284-495b-e60b-764b5ea16a59"
   },
   "outputs": [
    {
     "data": {
      "text/plain": [
       "<Functional name=functional_5, built=True>"
      ]
     },
     "execution_count": 47,
     "metadata": {},
     "output_type": "execute_result"
    }
   ],
   "source": [
    "sr = SoftmaxRegression()\n",
    "# Trong ví dụ này, ta sẽ khởi tạo input là một vector 1000 chiều,\n",
    "# bài toán cần phân loại 20 lớp đối tượng.\n",
    "sr.build(1000, 20)"
   ]
  },
  {
   "cell_type": "code",
   "execution_count": null,
   "id": "ieq9pPmXbf9N",
   "metadata": {
    "execution": {
     "iopub.execute_input": "2024-04-06T10:12:19.917388Z",
     "iopub.status.busy": "2024-04-06T10:12:19.915529Z",
     "iopub.status.idle": "2024-04-06T10:12:19.929040Z",
     "shell.execute_reply": "2024-04-06T10:12:19.926926Z"
    },
    "executionInfo": {
     "elapsed": 68,
     "status": "ok",
     "timestamp": 1712308982326,
     "user": {
      "displayName": "Nguyễn Đức Vũ",
      "userId": "07288779277842550568"
     },
     "user_tz": -420
    },
    "id": "ieq9pPmXbf9N"
   },
   "outputs": [
    {
     "ename": "AttributeError",
     "evalue": "'InputLayer' object has no attribute 'input_shape'",
     "output_type": "error",
     "traceback": [
      "\u001b[1;31m---------------------------------------------------------------------------\u001b[0m",
      "\u001b[1;31mAttributeError\u001b[0m                            Traceback (most recent call last)",
      "Cell \u001b[1;32mIn[48], line 5\u001b[0m\n\u001b[0;32m      3\u001b[0m \u001b[38;5;28;01massert\u001b[39;00m \u001b[38;5;28mstr\u001b[39m(\u001b[38;5;28mtype\u001b[39m(sr\u001b[38;5;241m.\u001b[39mmodel\u001b[38;5;241m.\u001b[39mlayers[\u001b[38;5;241m0\u001b[39m]))\u001b[38;5;241m.\u001b[39mendswith(\u001b[38;5;124m\"\u001b[39m\u001b[38;5;124minput_layer.InputLayer\u001b[39m\u001b[38;5;124m'\u001b[39m\u001b[38;5;124m>\u001b[39m\u001b[38;5;124m\"\u001b[39m) \u001b[38;5;241m==\u001b[39m \u001b[38;5;28;01mTrue\u001b[39;00m\n\u001b[0;32m      4\u001b[0m \u001b[38;5;28;01massert\u001b[39;00m \u001b[38;5;28mstr\u001b[39m(\u001b[38;5;28mtype\u001b[39m(sr\u001b[38;5;241m.\u001b[39mmodel\u001b[38;5;241m.\u001b[39mlayers[\u001b[38;5;241m1\u001b[39m]))\u001b[38;5;241m.\u001b[39mendswith(\u001b[38;5;124m\"\u001b[39m\u001b[38;5;124mcore.dense.Dense\u001b[39m\u001b[38;5;124m'\u001b[39m\u001b[38;5;124m>\u001b[39m\u001b[38;5;124m\"\u001b[39m) \u001b[38;5;241m==\u001b[39m \u001b[38;5;28;01mTrue\u001b[39;00m\n\u001b[1;32m----> 5\u001b[0m \u001b[38;5;28;01massert\u001b[39;00m \u001b[43msr\u001b[49m\u001b[38;5;241;43m.\u001b[39;49m\u001b[43mmodel\u001b[49m\u001b[38;5;241;43m.\u001b[39;49m\u001b[43mlayers\u001b[49m\u001b[43m[\u001b[49m\u001b[38;5;241;43m0\u001b[39;49m\u001b[43m]\u001b[49m\u001b[38;5;241;43m.\u001b[39;49m\u001b[43minput_shape\u001b[49m[\u001b[38;5;241m0\u001b[39m][\u001b[38;5;241m1\u001b[39m] \u001b[38;5;241m==\u001b[39m \u001b[38;5;241m1000\u001b[39m\n\u001b[0;32m      6\u001b[0m \u001b[38;5;28;01massert\u001b[39;00m sr\u001b[38;5;241m.\u001b[39mmodel\u001b[38;5;241m.\u001b[39mlayers[\u001b[38;5;241m1\u001b[39m]\u001b[38;5;241m.\u001b[39moutput_shape[\u001b[38;5;241m1\u001b[39m] \u001b[38;5;241m==\u001b[39m \u001b[38;5;241m20\u001b[39m\n\u001b[0;32m      7\u001b[0m \u001b[38;5;28;01massert\u001b[39;00m sr\u001b[38;5;241m.\u001b[39mmodel\u001b[38;5;241m.\u001b[39mlayers[\u001b[38;5;241m1\u001b[39m]\u001b[38;5;241m.\u001b[39muse_bias \u001b[38;5;241m==\u001b[39m \u001b[38;5;28;01mTrue\u001b[39;00m\n",
      "\u001b[1;31mAttributeError\u001b[0m: 'InputLayer' object has no attribute 'input_shape'"
     ]
    }
   ],
   "source": [
    "# Public Test\n",
    "assert len(sr.model.layers) == 2\n",
    "assert str(type(sr.model.layers[0])).endswith(\"input_layer.InputLayer'>\") == True\n",
    "assert str(type(sr.model.layers[1])).endswith(\"core.dense.Dense'>\") == True\n",
    "assert sr.model.layers[0].input_shape[0][1] == 1000\n",
    "assert sr.model.layers[1].output_shape[1] == 20\n",
    "assert sr.model.layers[1].use_bias == True"
   ]
  },
  {
   "cell_type": "markdown",
   "id": "aJTGlLY3bjie",
   "metadata": {
    "id": "aJTGlLY3bjie"
   },
   "source": [
    "## 3. Tạo dữ liệu mẫu (toy example)\n",
    "Bước tiếp theo, ta sẽ tiến hành tạo mẫu dữ liệu để huấn luyện và kiểm thử.\n",
    "\n",
    "Dữ liệu được tạo ra là các điểm rải ngẫu nhiên xung quanh 4 cụm điểm:\n",
    "- [10, -2]\n",
    "- [2, 8]\n",
    "- [12, 8]\n",
    "- [-2, 0]\n",
    "\n",
    "Lưu ý rằng, 4 cụm điểm này rời nhau đủ xa để khi thêm nhiễu ngẫu nhiên,\n",
    "các điểm thuộc 4 cụm này vẫn không giao thoa nhau."
   ]
  },
  {
   "cell_type": "code",
   "execution_count": null,
   "id": "ZgqAQmLxbh8E",
   "metadata": {
    "colab": {
     "base_uri": "https://localhost:8080/",
     "height": 451
    },
    "execution": {
     "iopub.execute_input": "2024-04-06T10:12:20.033032Z",
     "iopub.status.busy": "2024-04-06T10:12:20.030934Z",
     "iopub.status.idle": "2024-04-06T10:12:20.417768Z",
     "shell.execute_reply": "2024-04-06T10:12:20.415529Z"
    },
    "executionInfo": {
     "elapsed": 53,
     "status": "ok",
     "timestamp": 1712308982326,
     "user": {
      "displayName": "Nguyễn Đức Vũ",
      "userId": "07288779277842550568"
     },
     "user_tz": -420
    },
    "id": "ZgqAQmLxbh8E",
    "outputId": "876af2b1-4f23-4613-fb1c-fa4994b9fd8f"
   },
   "outputs": [
    {
     "data": {
      "image/png": "[encoded data removed]",
      "text/plain": [
       "<Figure size 640x480 with 1 Axes>"
      ]
     },
     "metadata": {},
     "output_type": "display_data"
    }
   ],
   "source": [
    "import numpy as np\n",
    "import matplotlib.pyplot as plt\n",
    "\n",
    "# Số phân lớp: 4\n",
    "K = 4\n",
    "# Tạo bộ dữ  liệu gồm 4 điểm\n",
    "# S1, S2, S3, S4 là tâm của 4 lớp\n",
    "S1= np.array([[10,-2]])\n",
    "S2= np.array([[2,8]])\n",
    "S3= np.array([[12,8]])\n",
    "S4= np.array([[-2,0]])\n",
    "\n",
    "# 50 samples mỗi lớp\n",
    "n_sample = 50\n",
    "# Phát sinh các điểm với nhiễu ngẫu nhiên xung quanh 4 tâm\n",
    "pts1 = S1 + np.random.normal(0, 1.5, size=(n_sample,2))\n",
    "pts2 = S2 + np.random.normal(0, 1.5, size=(n_sample,2))\n",
    "pts3 = S3 + np.random.normal(0, 1.5, size=(n_sample,2))\n",
    "pts4 = S4 + np.random.normal(0, 1.5, size=(n_sample,2))\n",
    "\n",
    "# Nối tất cả các mẫu thành một khối dữ liệu X (input feature) và Y (nhãn)\n",
    "X_train = np.concatenate((pts1, pts2, pts3, pts4))\n",
    "# Concatenate data labels to a single input variable Y\n",
    "Y_train = np.concatenate(([0]*n_sample, [1]*n_sample, [2]*n_sample, [3]*n_sample))\n",
    "\n",
    "# Chuyển Y từ dạng nhãn sang one-hot vector\n",
    "Y_train = Y_train.astype(int)\n",
    "Y_oh = np.zeros((Y_train.size, Y_train.max()+1 ))\n",
    "Y_oh[np.arange(Y_train.size), Y_train] = 1\n",
    "\n",
    "# Trực quan hóa dữ liệu bằng các hình tròn màu đỏ, xanh lá, xanh dương và vàng\n",
    "plt.plot(pts1[:,0], pts1[:,1], 'ro')\n",
    "plt.plot(pts2[:,0], pts2[:,1], 'go')\n",
    "plt.plot(pts3[:,0], pts3[:,1], 'bo')\n",
    "plt.plot(pts4[:,0], pts4[:,1], 'yo')\n",
    "plt.show()"
   ]
  },
  {
   "cell_type": "markdown",
   "id": "_cT4gNG3bnOA",
   "metadata": {
    "id": "_cT4gNG3bnOA"
   },
   "source": [
    "## 4. Huấn luyện mô hình với dữ liệu mẫu\n",
    "\n",
    "Tiếp theo, ta sẽ khởi tạo lại mô hình để phù hợp với dữ liệu mẫu đã phát sinh ở bước trước. Việc xây dựng kiến trúc của mô hình phải phù hợp với số chiều của dữ liệu mẫu."
   ]
  },
  {
   "cell_type": "code",
   "execution_count": null,
   "id": "2cWrbxsQblaY",
   "metadata": {
    "colab": {
     "base_uri": "https://localhost:8080/"
    },
    "execution": {
     "iopub.execute_input": "2024-04-06T10:12:20.427976Z",
     "iopub.status.busy": "2024-04-06T10:12:20.425951Z",
     "iopub.status.idle": "2024-04-06T10:12:20.508864Z",
     "shell.execute_reply": "2024-04-06T10:12:20.505929Z"
    },
    "executionInfo": {
     "elapsed": 52,
     "status": "ok",
     "timestamp": 1712308982327,
     "user": {
      "displayName": "Nguyễn Đức Vũ",
      "userId": "07288779277842550568"
     },
     "user_tz": -420
    },
    "id": "2cWrbxsQblaY",
    "outputId": "71e826ee-f45a-47fd-aaf0-0169b6751965"
   },
   "outputs": [
    {
     "name": "stdout",
     "output_type": "stream",
     "text": [
      "Kiến trúc của mô hình Softmax Regression: \n"
     ]
    },
    {
     "data": {
      "text/html": [
       "<pre style=\"white-space:pre;overflow-x:auto;line-height:normal;font-family:Menlo,'DejaVu Sans Mono',consolas,'Courier New',monospace\"><span style=\"font-weight: bold\">Model: \"functional_6\"</span>\n",
       "</pre>\n"
      ],
      "text/plain": [
       "\u001b[1mModel: \"functional_6\"\u001b[0m\n"
      ]
     },
     "metadata": {},
     "output_type": "display_data"
    },
    {
     "data": {
      "text/html": [
       "<pre style=\"white-space:pre;overflow-x:auto;line-height:normal;font-family:Menlo,'DejaVu Sans Mono',consolas,'Courier New',monospace\">┏━━━━━━━━━━━━━━━━━━━━━━━━━━━━━━━━━┳━━━━━━━━━━━━━━━━━━━━━━━━┳━━━━━━━━━━━━━━━┓\n",
       "┃<span style=\"font-weight: bold\"> Layer (type)                    </span>┃<span style=\"font-weight: bold\"> Output Shape           </span>┃<span style=\"font-weight: bold\">       Param # </span>┃\n",
       "┡━━━━━━━━━━━━━━━━━━━━━━━━━━━━━━━━━╇━━━━━━━━━━━━━━━━━━━━━━━━╇━━━━━━━━━━━━━━━┩\n",
       "│ input_layer_8 (<span style=\"color: #0087ff; text-decoration-color: #0087ff\">InputLayer</span>)      │ (<span style=\"color: #00d7ff; text-decoration-color: #00d7ff\">None</span>, <span style=\"color: #00af00; text-decoration-color: #00af00\">2</span>)              │             <span style=\"color: #00af00; text-decoration-color: #00af00\">0</span> │\n",
       "├─────────────────────────────────┼────────────────────────┼───────────────┤\n",
       "│ dense_7 (<span style=\"color: #0087ff; text-decoration-color: #0087ff\">Dense</span>)                 │ (<span style=\"color: #00d7ff; text-decoration-color: #00d7ff\">None</span>, <span style=\"color: #00af00; text-decoration-color: #00af00\">4</span>)              │            <span style=\"color: #00af00; text-decoration-color: #00af00\">12</span> │\n",
       "└─────────────────────────────────┴────────────────────────┴───────────────┘\n",
       "</pre>\n"
      ],
      "text/plain": [
       "┏━━━━━━━━━━━━━━━━━━━━━━━━━━━━━━━━━┳━━━━━━━━━━━━━━━━━━━━━━━━┳━━━━━━━━━━━━━━━┓\n",
       "┃\u001b[1m \u001b[0m\u001b[1mLayer (type)                   \u001b[0m\u001b[1m \u001b[0m┃\u001b[1m \u001b[0m\u001b[1mOutput Shape          \u001b[0m\u001b[1m \u001b[0m┃\u001b[1m \u001b[0m\u001b[1m      Param #\u001b[0m\u001b[1m \u001b[0m┃\n",
       "┡━━━━━━━━━━━━━━━━━━━━━━━━━━━━━━━━━╇━━━━━━━━━━━━━━━━━━━━━━━━╇━━━━━━━━━━━━━━━┩\n",
       "│ input_layer_8 (\u001b[38;5;33mInputLayer\u001b[0m)      │ (\u001b[38;5;45mNone\u001b[0m, \u001b[38;5;34m2\u001b[0m)              │             \u001b[38;5;34m0\u001b[0m │\n",
       "├─────────────────────────────────┼────────────────────────┼───────────────┤\n",
       "│ dense_7 (\u001b[38;5;33mDense\u001b[0m)                 │ (\u001b[38;5;45mNone\u001b[0m, \u001b[38;5;34m4\u001b[0m)              │            \u001b[38;5;34m12\u001b[0m │\n",
       "└─────────────────────────────────┴────────────────────────┴───────────────┘\n"
      ]
     },
     "metadata": {},
     "output_type": "display_data"
    },
    {
     "data": {
      "text/html": [
       "<pre style=\"white-space:pre;overflow-x:auto;line-height:normal;font-family:Menlo,'DejaVu Sans Mono',consolas,'Courier New',monospace\"><span style=\"font-weight: bold\"> Total params: </span><span style=\"color: #00af00; text-decoration-color: #00af00\">12</span> (48.00 B)\n",
       "</pre>\n"
      ],
      "text/plain": [
       "\u001b[1m Total params: \u001b[0m\u001b[38;5;34m12\u001b[0m (48.00 B)\n"
      ]
     },
     "metadata": {},
     "output_type": "display_data"
    },
    {
     "data": {
      "text/html": [
       "<pre style=\"white-space:pre;overflow-x:auto;line-height:normal;font-family:Menlo,'DejaVu Sans Mono',consolas,'Courier New',monospace\"><span style=\"font-weight: bold\"> Trainable params: </span><span style=\"color: #00af00; text-decoration-color: #00af00\">12</span> (48.00 B)\n",
       "</pre>\n"
      ],
      "text/plain": [
       "\u001b[1m Trainable params: \u001b[0m\u001b[38;5;34m12\u001b[0m (48.00 B)\n"
      ]
     },
     "metadata": {},
     "output_type": "display_data"
    },
    {
     "data": {
      "text/html": [
       "<pre style=\"white-space:pre;overflow-x:auto;line-height:normal;font-family:Menlo,'DejaVu Sans Mono',consolas,'Courier New',monospace\"><span style=\"font-weight: bold\"> Non-trainable params: </span><span style=\"color: #00af00; text-decoration-color: #00af00\">0</span> (0.00 B)\n",
       "</pre>\n"
      ],
      "text/plain": [
       "\u001b[1m Non-trainable params: \u001b[0m\u001b[38;5;34m0\u001b[0m (0.00 B)\n"
      ]
     },
     "metadata": {},
     "output_type": "display_data"
    }
   ],
   "source": [
    "sr = SoftmaxRegression()\n",
    "\n",
    "# Hãy gọi phương thức `build` cho đối tượng `sr` và truyền tham số đầu vào\n",
    "# tương ứng với dữ liệu train đã phát sinh ở code block trên\n",
    "# Theo bạn, `input_dim` và `output_dim` bằng bao nhiêu?\n",
    "\n",
    "### BEGIN SOLUTION\n",
    "sr.build(2, 4)\n",
    "### END SOLUTION\n",
    "\n",
    "# Để hiển thị kiến trúc của mô hình ta gọi phương thức `summary`\n",
    "print(\"Kiến trúc của mô hình Softmax Regression: \")\n",
    "sr.summary()"
   ]
  },
  {
   "cell_type": "code",
   "execution_count": null,
   "id": "G_VYYBLObryv",
   "metadata": {
    "colab": {
     "base_uri": "https://localhost:8080/"
    },
    "execution": {
     "iopub.execute_input": "2024-04-06T10:12:20.549700Z",
     "iopub.status.busy": "2024-04-06T10:12:20.549007Z",
     "iopub.status.idle": "2024-04-06T10:12:24.084273Z",
     "shell.execute_reply": "2024-04-06T10:12:24.081670Z"
    },
    "executionInfo": {
     "elapsed": 2451,
     "status": "ok",
     "timestamp": 1712308984757,
     "user": {
      "displayName": "Nguyễn Đức Vũ",
      "userId": "07288779277842550568"
     },
     "user_tz": -420
    },
    "id": "G_VYYBLObryv",
    "outputId": "002b5ce8-1e6b-4bb7-e439-f28cbe05fb11"
   },
   "outputs": [
    {
     "name": "stdout",
     "output_type": "stream",
     "text": [
      "Epoch 1/100\n",
      "\u001b[1m7/7\u001b[0m \u001b[32m━━━━━━━━━━━━━━━━━━━━\u001b[0m\u001b[37m\u001b[0m \u001b[1m0s\u001b[0m 667us/step - loss: 7.0025\n",
      "Epoch 2/100\n",
      "\u001b[1m7/7\u001b[0m \u001b[32m━━━━━━━━━━━━━━━━━━━━\u001b[0m\u001b[37m\u001b[0m \u001b[1m0s\u001b[0m 622us/step - loss: 5.3631\n",
      "Epoch 3/100\n",
      "\u001b[1m7/7\u001b[0m \u001b[32m━━━━━━━━━━━━━━━━━━━━\u001b[0m\u001b[37m\u001b[0m \u001b[1m0s\u001b[0m 755us/step - loss: 3.3577\n",
      "Epoch 4/100\n",
      "\u001b[1m7/7\u001b[0m \u001b[32m━━━━━━━━━━━━━━━━━━━━\u001b[0m\u001b[37m\u001b[0m \u001b[1m0s\u001b[0m 821us/step - loss: 2.0248\n",
      "Epoch 5/100\n",
      "\u001b[1m7/7\u001b[0m \u001b[32m━━━━━━━━━━━━━━━━━━━━\u001b[0m\u001b[37m\u001b[0m \u001b[1m0s\u001b[0m 761us/step - loss: 1.2104\n",
      "Epoch 6/100\n",
      "\u001b[1m7/7\u001b[0m \u001b[32m━━━━━━━━━━━━━━━━━━━━\u001b[0m\u001b[37m\u001b[0m \u001b[1m0s\u001b[0m 669us/step - loss: 0.8409\n",
      "Epoch 7/100\n",
      "\u001b[1m7/7\u001b[0m \u001b[32m━━━━━━━━━━━━━━━━━━━━\u001b[0m\u001b[37m\u001b[0m \u001b[1m0s\u001b[0m 752us/step - loss: 0.6726\n",
      "Epoch 8/100\n",
      "\u001b[1m7/7\u001b[0m \u001b[32m━━━━━━━━━━━━━━━━━━━━\u001b[0m\u001b[37m\u001b[0m \u001b[1m0s\u001b[0m 669us/step - loss: 0.5907\n",
      "Epoch 9/100\n",
      "\u001b[1m7/7\u001b[0m \u001b[32m━━━━━━━━━━━━━━━━━━━━\u001b[0m\u001b[37m\u001b[0m \u001b[1m0s\u001b[0m 634us/step - loss: 0.4893\n",
      "Epoch 10/100\n",
      "\u001b[1m7/7\u001b[0m \u001b[32m━━━━━━━━━━━━━━━━━━━━\u001b[0m\u001b[37m\u001b[0m \u001b[1m0s\u001b[0m 670us/step - loss: 0.4681\n",
      "Epoch 11/100\n",
      "\u001b[1m7/7\u001b[0m \u001b[32m━━━━━━━━━━━━━━━━━━━━\u001b[0m\u001b[37m\u001b[0m \u001b[1m0s\u001b[0m 661us/step - loss: 0.4334\n",
      "Epoch 12/100\n",
      "\u001b[1m7/7\u001b[0m \u001b[32m━━━━━━━━━━━━━━━━━━━━\u001b[0m\u001b[37m\u001b[0m \u001b[1m0s\u001b[0m 663us/step - loss: 0.4593\n",
      "Epoch 13/100\n",
      "\u001b[1m7/7\u001b[0m \u001b[32m━━━━━━━━━━━━━━━━━━━━\u001b[0m\u001b[37m\u001b[0m \u001b[1m0s\u001b[0m 667us/step - loss: 0.4277\n",
      "Epoch 14/100\n",
      "\u001b[1m7/7\u001b[0m \u001b[32m━━━━━━━━━━━━━━━━━━━━\u001b[0m\u001b[37m\u001b[0m \u001b[1m0s\u001b[0m 923us/step - loss: 0.4337\n",
      "Epoch 15/100\n",
      "\u001b[1m7/7\u001b[0m \u001b[32m━━━━━━━━━━━━━━━━━━━━\u001b[0m\u001b[37m\u001b[0m \u001b[1m0s\u001b[0m 627us/step - loss: 0.3530\n",
      "Epoch 16/100\n",
      "\u001b[1m7/7\u001b[0m \u001b[32m━━━━━━━━━━━━━━━━━━━━\u001b[0m\u001b[37m\u001b[0m \u001b[1m0s\u001b[0m 670us/step - loss: 0.3612\n",
      "Epoch 17/100\n",
      "\u001b[1m7/7\u001b[0m \u001b[32m━━━━━━━━━━━━━━━━━━━━\u001b[0m\u001b[37m\u001b[0m \u001b[1m0s\u001b[0m 666us/step - loss: 0.3301\n",
      "Epoch 18/100\n",
      "\u001b[1m7/7\u001b[0m \u001b[32m━━━━━━━━━━━━━━━━━━━━\u001b[0m\u001b[37m\u001b[0m \u001b[1m0s\u001b[0m 667us/step - loss: 0.3288\n",
      "Epoch 19/100\n",
      "\u001b[1m7/7\u001b[0m \u001b[32m━━━━━━━━━━━━━━━━━━━━\u001b[0m\u001b[37m\u001b[0m \u001b[1m0s\u001b[0m 666us/step - loss: 0.3346\n",
      "Epoch 20/100\n",
      "\u001b[1m7/7\u001b[0m \u001b[32m━━━━━━━━━━━━━━━━━━━━\u001b[0m\u001b[37m\u001b[0m \u001b[1m0s\u001b[0m 502us/step - loss: 0.3267\n",
      "Epoch 21/100\n",
      "\u001b[1m7/7\u001b[0m \u001b[32m━━━━━━━━━━━━━━━━━━━━\u001b[0m\u001b[37m\u001b[0m \u001b[1m0s\u001b[0m 500us/step - loss: 0.2786\n",
      "Epoch 22/100\n",
      "\u001b[1m7/7\u001b[0m \u001b[32m━━━━━━━━━━━━━━━━━━━━\u001b[0m\u001b[37m\u001b[0m \u001b[1m0s\u001b[0m 667us/step - loss: 0.3481\n",
      "Epoch 23/100\n",
      "\u001b[1m7/7\u001b[0m \u001b[32m━━━━━━━━━━━━━━━━━━━━\u001b[0m\u001b[37m\u001b[0m \u001b[1m0s\u001b[0m 768us/step - loss: 0.3146\n",
      "Epoch 24/100\n",
      "\u001b[1m7/7\u001b[0m \u001b[32m━━━━━━━━━━━━━━━━━━━━\u001b[0m\u001b[37m\u001b[0m \u001b[1m0s\u001b[0m 679us/step - loss: 0.2651\n",
      "Epoch 25/100\n",
      "\u001b[1m7/7\u001b[0m \u001b[32m━━━━━━━━━━━━━━━━━━━━\u001b[0m\u001b[37m\u001b[0m \u001b[1m0s\u001b[0m 552us/step - loss: 0.2889\n",
      "Epoch 26/100\n",
      "\u001b[1m7/7\u001b[0m \u001b[32m━━━━━━━━━━━━━━━━━━━━\u001b[0m\u001b[37m\u001b[0m \u001b[1m0s\u001b[0m 649us/step - loss: 0.2480\n",
      "Epoch 27/100\n",
      "\u001b[1m7/7\u001b[0m \u001b[32m━━━━━━━━━━━━━━━━━━━━\u001b[0m\u001b[37m\u001b[0m \u001b[1m0s\u001b[0m 759us/step - loss: 0.3005\n",
      "Epoch 28/100\n",
      "\u001b[1m7/7\u001b[0m \u001b[32m━━━━━━━━━━━━━━━━━━━━\u001b[0m\u001b[37m\u001b[0m \u001b[1m0s\u001b[0m 667us/step - loss: 0.2551\n",
      "Epoch 29/100\n",
      "\u001b[1m7/7\u001b[0m \u001b[32m━━━━━━━━━━━━━━━━━━━━\u001b[0m\u001b[37m\u001b[0m \u001b[1m0s\u001b[0m 667us/step - loss: 0.2544\n",
      "Epoch 30/100\n",
      "\u001b[1m7/7\u001b[0m \u001b[32m━━━━━━━━━━━━━━━━━━━━\u001b[0m\u001b[37m\u001b[0m \u001b[1m0s\u001b[0m 667us/step - loss: 0.2661\n",
      "Epoch 31/100\n",
      "\u001b[1m7/7\u001b[0m \u001b[32m━━━━━━━━━━━━━━━━━━━━\u001b[0m\u001b[37m\u001b[0m \u001b[1m0s\u001b[0m 668us/step - loss: 0.2345\n",
      "Epoch 32/100\n",
      "\u001b[1m7/7\u001b[0m \u001b[32m━━━━━━━━━━━━━━━━━━━━\u001b[0m\u001b[37m\u001b[0m \u001b[1m0s\u001b[0m 667us/step - loss: 0.2566\n",
      "Epoch 33/100\n",
      "\u001b[1m7/7\u001b[0m \u001b[32m━━━━━━━━━━━━━━━━━━━━\u001b[0m\u001b[37m\u001b[0m \u001b[1m0s\u001b[0m 667us/step - loss: 0.2406\n",
      "Epoch 34/100\n",
      "\u001b[1m7/7\u001b[0m \u001b[32m━━━━━━━━━━━━━━━━━━━━\u001b[0m\u001b[37m\u001b[0m \u001b[1m0s\u001b[0m 834us/step - loss: 0.2503\n",
      "Epoch 35/100\n",
      "\u001b[1m7/7\u001b[0m \u001b[32m━━━━━━━━━━━━━━━━━━━━\u001b[0m\u001b[37m\u001b[0m \u001b[1m0s\u001b[0m 667us/step - loss: 0.2285\n",
      "Epoch 36/100\n",
      "\u001b[1m7/7\u001b[0m \u001b[32m━━━━━━━━━━━━━━━━━━━━\u001b[0m\u001b[37m\u001b[0m \u001b[1m0s\u001b[0m 837us/step - loss: 0.2281\n",
      "Epoch 37/100\n",
      "\u001b[1m7/7\u001b[0m \u001b[32m━━━━━━━━━━━━━━━━━━━━\u001b[0m\u001b[37m\u001b[0m \u001b[1m0s\u001b[0m 1000us/step - loss: 0.2038\n",
      "Epoch 38/100\n",
      "\u001b[1m7/7\u001b[0m \u001b[32m━━━━━━━━━━━━━━━━━━━━\u001b[0m\u001b[37m\u001b[0m \u001b[1m0s\u001b[0m 766us/step - loss: 0.2328\n",
      "Epoch 39/100\n",
      "\u001b[1m7/7\u001b[0m \u001b[32m━━━━━━━━━━━━━━━━━━━━\u001b[0m\u001b[37m\u001b[0m \u001b[1m0s\u001b[0m 691us/step - loss: 0.2374\n",
      "Epoch 40/100\n",
      "\u001b[1m7/7\u001b[0m \u001b[32m━━━━━━━━━━━━━━━━━━━━\u001b[0m\u001b[37m\u001b[0m \u001b[1m0s\u001b[0m 667us/step - loss: 0.2029\n",
      "Epoch 41/100\n",
      "\u001b[1m7/7\u001b[0m \u001b[32m━━━━━━━━━━━━━━━━━━━━\u001b[0m\u001b[37m\u001b[0m \u001b[1m0s\u001b[0m 667us/step - loss: 0.2009\n",
      "Epoch 42/100\n",
      "\u001b[1m7/7\u001b[0m \u001b[32m━━━━━━━━━━━━━━━━━━━━\u001b[0m\u001b[37m\u001b[0m \u001b[1m0s\u001b[0m 667us/step - loss: 0.2182\n",
      "Epoch 43/100\n",
      "\u001b[1m7/7\u001b[0m \u001b[32m━━━━━━━━━━━━━━━━━━━━\u001b[0m\u001b[37m\u001b[0m \u001b[1m0s\u001b[0m 681us/step - loss: 0.1861\n",
      "Epoch 44/100\n",
      "\u001b[1m7/7\u001b[0m \u001b[32m━━━━━━━━━━━━━━━━━━━━\u001b[0m\u001b[37m\u001b[0m \u001b[1m0s\u001b[0m 675us/step - loss: 0.1832\n",
      "Epoch 45/100\n",
      "\u001b[1m7/7\u001b[0m \u001b[32m━━━━━━━━━━━━━━━━━━━━\u001b[0m\u001b[37m\u001b[0m \u001b[1m0s\u001b[0m 762us/step - loss: 0.2048\n",
      "Epoch 46/100\n",
      "\u001b[1m7/7\u001b[0m \u001b[32m━━━━━━━━━━━━━━━━━━━━\u001b[0m\u001b[37m\u001b[0m \u001b[1m0s\u001b[0m 672us/step - loss: 0.1910\n",
      "Epoch 47/100\n",
      "\u001b[1m7/7\u001b[0m \u001b[32m━━━━━━━━━━━━━━━━━━━━\u001b[0m\u001b[37m\u001b[0m \u001b[1m0s\u001b[0m 607us/step - loss: 0.1952\n",
      "Epoch 48/100\n",
      "\u001b[1m7/7\u001b[0m \u001b[32m━━━━━━━━━━━━━━━━━━━━\u001b[0m\u001b[37m\u001b[0m \u001b[1m0s\u001b[0m 619us/step - loss: 0.1921\n",
      "Epoch 49/100\n",
      "\u001b[1m7/7\u001b[0m \u001b[32m━━━━━━━━━━━━━━━━━━━━\u001b[0m\u001b[37m\u001b[0m \u001b[1m0s\u001b[0m 504us/step - loss: 0.1752\n",
      "Epoch 50/100\n",
      "\u001b[1m7/7\u001b[0m \u001b[32m━━━━━━━━━━━━━━━━━━━━\u001b[0m\u001b[37m\u001b[0m \u001b[1m0s\u001b[0m 679us/step - loss: 0.1808\n",
      "Epoch 51/100\n",
      "\u001b[1m7/7\u001b[0m \u001b[32m━━━━━━━━━━━━━━━━━━━━\u001b[0m\u001b[37m\u001b[0m \u001b[1m0s\u001b[0m 605us/step - loss: 0.1662\n",
      "Epoch 52/100\n",
      "\u001b[1m7/7\u001b[0m \u001b[32m━━━━━━━━━━━━━━━━━━━━\u001b[0m\u001b[37m\u001b[0m \u001b[1m0s\u001b[0m 518us/step - loss: 0.1581\n",
      "Epoch 53/100\n",
      "\u001b[1m7/7\u001b[0m \u001b[32m━━━━━━━━━━━━━━━━━━━━\u001b[0m\u001b[37m\u001b[0m \u001b[1m0s\u001b[0m 695us/step - loss: 0.1554\n",
      "Epoch 54/100\n",
      "\u001b[1m7/7\u001b[0m \u001b[32m━━━━━━━━━━━━━━━━━━━━\u001b[0m\u001b[37m\u001b[0m \u001b[1m0s\u001b[0m 673us/step - loss: 0.1664\n",
      "Epoch 55/100\n",
      "\u001b[1m7/7\u001b[0m \u001b[32m━━━━━━━━━━━━━━━━━━━━\u001b[0m\u001b[37m\u001b[0m \u001b[1m0s\u001b[0m 669us/step - loss: 0.1591\n",
      "Epoch 56/100\n",
      "\u001b[1m7/7\u001b[0m \u001b[32m━━━━━━━━━━━━━━━━━━━━\u001b[0m\u001b[37m\u001b[0m \u001b[1m0s\u001b[0m 500us/step - loss: 0.1631\n",
      "Epoch 57/100\n",
      "\u001b[1m7/7\u001b[0m \u001b[32m━━━━━━━━━━━━━━━━━━━━\u001b[0m\u001b[37m\u001b[0m \u001b[1m0s\u001b[0m 921us/step - loss: 0.1730\n",
      "Epoch 58/100\n",
      "\u001b[1m7/7\u001b[0m \u001b[32m━━━━━━━━━━━━━━━━━━━━\u001b[0m\u001b[37m\u001b[0m \u001b[1m0s\u001b[0m 662us/step - loss: 0.1496\n",
      "Epoch 59/100\n",
      "\u001b[1m7/7\u001b[0m \u001b[32m━━━━━━━━━━━━━━━━━━━━\u001b[0m\u001b[37m\u001b[0m \u001b[1m0s\u001b[0m 682us/step - loss: 0.1487\n",
      "Epoch 60/100\n",
      "\u001b[1m7/7\u001b[0m \u001b[32m━━━━━━━━━━━━━━━━━━━━\u001b[0m\u001b[37m\u001b[0m \u001b[1m0s\u001b[0m 756us/step - loss: 0.1785\n",
      "Epoch 61/100\n",
      "\u001b[1m7/7\u001b[0m \u001b[32m━━━━━━━━━━━━━━━━━━━━\u001b[0m\u001b[37m\u001b[0m \u001b[1m0s\u001b[0m 717us/step - loss: 0.1495\n",
      "Epoch 62/100\n",
      "\u001b[1m7/7\u001b[0m \u001b[32m━━━━━━━━━━━━━━━━━━━━\u001b[0m\u001b[37m\u001b[0m \u001b[1m0s\u001b[0m 674us/step - loss: 0.1658\n",
      "Epoch 63/100\n",
      "\u001b[1m7/7\u001b[0m \u001b[32m━━━━━━━━━━━━━━━━━━━━\u001b[0m\u001b[37m\u001b[0m \u001b[1m0s\u001b[0m 841us/step - loss: 0.1533\n",
      "Epoch 64/100\n",
      "\u001b[1m7/7\u001b[0m \u001b[32m━━━━━━━━━━━━━━━━━━━━\u001b[0m\u001b[37m\u001b[0m \u001b[1m0s\u001b[0m 667us/step - loss: 0.1539\n",
      "Epoch 65/100\n",
      "\u001b[1m7/7\u001b[0m \u001b[32m━━━━━━━━━━━━━━━━━━━━\u001b[0m\u001b[37m\u001b[0m \u001b[1m0s\u001b[0m 666us/step - loss: 0.1367\n",
      "Epoch 66/100\n",
      "\u001b[1m7/7\u001b[0m \u001b[32m━━━━━━━━━━━━━━━━━━━━\u001b[0m\u001b[37m\u001b[0m \u001b[1m0s\u001b[0m 753us/step - loss: 0.1462\n",
      "Epoch 67/100\n",
      "\u001b[1m7/7\u001b[0m \u001b[32m━━━━━━━━━━━━━━━━━━━━\u001b[0m\u001b[37m\u001b[0m \u001b[1m0s\u001b[0m 680us/step - loss: 0.1342\n",
      "Epoch 68/100\n",
      "\u001b[1m7/7\u001b[0m \u001b[32m━━━━━━━━━━━━━━━━━━━━\u001b[0m\u001b[37m\u001b[0m \u001b[1m0s\u001b[0m 847us/step - loss: 0.1322\n",
      "Epoch 69/100\n",
      "\u001b[1m7/7\u001b[0m \u001b[32m━━━━━━━━━━━━━━━━━━━━\u001b[0m\u001b[37m\u001b[0m \u001b[1m0s\u001b[0m 597us/step - loss: 0.1389\n",
      "Epoch 70/100\n",
      "\u001b[1m7/7\u001b[0m \u001b[32m━━━━━━━━━━━━━━━━━━━━\u001b[0m\u001b[37m\u001b[0m \u001b[1m0s\u001b[0m 602us/step - loss: 0.1515\n",
      "Epoch 71/100\n",
      "\u001b[1m7/7\u001b[0m \u001b[32m━━━━━━━━━━━━━━━━━━━━\u001b[0m\u001b[37m\u001b[0m \u001b[1m0s\u001b[0m 672us/step - loss: 0.1269\n",
      "Epoch 72/100\n",
      "\u001b[1m7/7\u001b[0m \u001b[32m━━━━━━━━━━━━━━━━━━━━\u001b[0m\u001b[37m\u001b[0m \u001b[1m0s\u001b[0m 660us/step - loss: 0.1332\n",
      "Epoch 73/100\n",
      "\u001b[1m7/7\u001b[0m \u001b[32m━━━━━━━━━━━━━━━━━━━━\u001b[0m\u001b[37m\u001b[0m \u001b[1m0s\u001b[0m 671us/step - loss: 0.1265\n",
      "Epoch 74/100\n",
      "\u001b[1m7/7\u001b[0m \u001b[32m━━━━━━━━━━━━━━━━━━━━\u001b[0m\u001b[37m\u001b[0m \u001b[1m0s\u001b[0m 668us/step - loss: 0.1276\n",
      "Epoch 75/100\n",
      "\u001b[1m7/7\u001b[0m \u001b[32m━━━━━━━━━━━━━━━━━━━━\u001b[0m\u001b[37m\u001b[0m \u001b[1m0s\u001b[0m 667us/step - loss: 0.1487\n",
      "Epoch 76/100\n",
      "\u001b[1m7/7\u001b[0m \u001b[32m━━━━━━━━━━━━━━━━━━━━\u001b[0m\u001b[37m\u001b[0m \u001b[1m0s\u001b[0m 663us/step - loss: 0.1410\n",
      "Epoch 77/100\n",
      "\u001b[1m7/7\u001b[0m \u001b[32m━━━━━━━━━━━━━━━━━━━━\u001b[0m\u001b[37m\u001b[0m \u001b[1m0s\u001b[0m 754us/step - loss: 0.1258\n",
      "Epoch 78/100\n",
      "\u001b[1m7/7\u001b[0m \u001b[32m━━━━━━━━━━━━━━━━━━━━\u001b[0m\u001b[37m\u001b[0m \u001b[1m0s\u001b[0m 833us/step - loss: 0.1274\n",
      "Epoch 79/100\n",
      "\u001b[1m7/7\u001b[0m \u001b[32m━━━━━━━━━━━━━━━━━━━━\u001b[0m\u001b[37m\u001b[0m \u001b[1m0s\u001b[0m 690us/step - loss: 0.1231\n",
      "Epoch 80/100\n",
      "\u001b[1m7/7\u001b[0m \u001b[32m━━━━━━━━━━━━━━━━━━━━\u001b[0m\u001b[37m\u001b[0m \u001b[1m0s\u001b[0m 518us/step - loss: 0.1379\n",
      "Epoch 81/100\n",
      "\u001b[1m7/7\u001b[0m \u001b[32m━━━━━━━━━━━━━━━━━━━━\u001b[0m\u001b[37m\u001b[0m \u001b[1m0s\u001b[0m 597us/step - loss: 0.1244\n",
      "Epoch 82/100\n",
      "\u001b[1m7/7\u001b[0m \u001b[32m━━━━━━━━━━━━━━━━━━━━\u001b[0m\u001b[37m\u001b[0m \u001b[1m0s\u001b[0m 673us/step - loss: 0.1173\n",
      "Epoch 83/100\n",
      "\u001b[1m7/7\u001b[0m \u001b[32m━━━━━━━━━━━━━━━━━━━━\u001b[0m\u001b[37m\u001b[0m \u001b[1m0s\u001b[0m 671us/step - loss: 0.1208\n",
      "Epoch 84/100\n",
      "\u001b[1m7/7\u001b[0m \u001b[32m━━━━━━━━━━━━━━━━━━━━\u001b[0m\u001b[37m\u001b[0m \u001b[1m0s\u001b[0m 671us/step - loss: 0.1350\n",
      "Epoch 85/100\n",
      "\u001b[1m7/7\u001b[0m \u001b[32m━━━━━━━━━━━━━━━━━━━━\u001b[0m\u001b[37m\u001b[0m \u001b[1m0s\u001b[0m 497us/step - loss: 0.1338\n",
      "Epoch 86/100\n",
      "\u001b[1m7/7\u001b[0m \u001b[32m━━━━━━━━━━━━━━━━━━━━\u001b[0m\u001b[37m\u001b[0m \u001b[1m0s\u001b[0m 668us/step - loss: 0.1387\n",
      "Epoch 87/100\n",
      "\u001b[1m7/7\u001b[0m \u001b[32m━━━━━━━━━━━━━━━━━━━━\u001b[0m\u001b[37m\u001b[0m \u001b[1m0s\u001b[0m 671us/step - loss: 0.1097\n",
      "Epoch 88/100\n",
      "\u001b[1m7/7\u001b[0m \u001b[32m━━━━━━━━━━━━━━━━━━━━\u001b[0m\u001b[37m\u001b[0m \u001b[1m0s\u001b[0m 680us/step - loss: 0.1401\n",
      "Epoch 89/100\n",
      "\u001b[1m7/7\u001b[0m \u001b[32m━━━━━━━━━━━━━━━━━━━━\u001b[0m\u001b[37m\u001b[0m \u001b[1m0s\u001b[0m 675us/step - loss: 0.1236\n",
      "Epoch 90/100\n",
      "\u001b[1m7/7\u001b[0m \u001b[32m━━━━━━━━━━━━━━━━━━━━\u001b[0m\u001b[37m\u001b[0m \u001b[1m0s\u001b[0m 680us/step - loss: 0.1294\n",
      "Epoch 91/100\n",
      "\u001b[1m7/7\u001b[0m \u001b[32m━━━━━━━━━━━━━━━━━━━━\u001b[0m\u001b[37m\u001b[0m \u001b[1m0s\u001b[0m 921us/step - loss: 0.1162\n",
      "Epoch 92/100\n",
      "\u001b[1m7/7\u001b[0m \u001b[32m━━━━━━━━━━━━━━━━━━━━\u001b[0m\u001b[37m\u001b[0m \u001b[1m0s\u001b[0m 669us/step - loss: 0.1218\n",
      "Epoch 93/100\n",
      "\u001b[1m7/7\u001b[0m \u001b[32m━━━━━━━━━━━━━━━━━━━━\u001b[0m\u001b[37m\u001b[0m \u001b[1m0s\u001b[0m 662us/step - loss: 0.1146\n",
      "Epoch 94/100\n",
      "\u001b[1m7/7\u001b[0m \u001b[32m━━━━━━━━━━━━━━━━━━━━\u001b[0m\u001b[37m\u001b[0m \u001b[1m0s\u001b[0m 670us/step - loss: 0.1181\n",
      "Epoch 95/100\n",
      "\u001b[1m7/7\u001b[0m \u001b[32m━━━━━━━━━━━━━━━━━━━━\u001b[0m\u001b[37m\u001b[0m \u001b[1m0s\u001b[0m 503us/step - loss: 0.1152\n",
      "Epoch 96/100\n",
      "\u001b[1m7/7\u001b[0m \u001b[32m━━━━━━━━━━━━━━━━━━━━\u001b[0m\u001b[37m\u001b[0m \u001b[1m0s\u001b[0m 669us/step - loss: 0.1199\n",
      "Epoch 97/100\n",
      "\u001b[1m7/7\u001b[0m \u001b[32m━━━━━━━━━━━━━━━━━━━━\u001b[0m\u001b[37m\u001b[0m \u001b[1m0s\u001b[0m 496us/step - loss: 0.1057\n",
      "Epoch 98/100\n",
      "\u001b[1m7/7\u001b[0m \u001b[32m━━━━━━━━━━━━━━━━━━━━\u001b[0m\u001b[37m\u001b[0m \u001b[1m0s\u001b[0m 587us/step - loss: 0.1279\n",
      "Epoch 99/100\n",
      "\u001b[1m7/7\u001b[0m \u001b[32m━━━━━━━━━━━━━━━━━━━━\u001b[0m\u001b[37m\u001b[0m \u001b[1m0s\u001b[0m 693us/step - loss: 0.1077\n",
      "Epoch 100/100\n",
      "\u001b[1m7/7\u001b[0m \u001b[32m━━━━━━━━━━━━━━━━━━━━\u001b[0m\u001b[37m\u001b[0m \u001b[1m0s\u001b[0m 598us/step - loss: 0.1086\n"
     ]
    }
   ],
   "source": [
    "# Để huấn luyện mô hình ta gọi phương thức `train` với dữ liệu mẫu đã tạo được\n",
    "# Nếu bước `build` mô hình gọi đúng thì bước `train` sau sẽ thực hiện thành công\n",
    "# LƯU Ý: Ở đây ta sử dụng output là Y_oh dạng one-hot thay vì dạng nhãn (label)\n",
    "hist = sr.train(X_train, Y_oh)"
   ]
  },
  {
   "cell_type": "code",
   "execution_count": null,
   "id": "T57sMHCQbtGv",
   "metadata": {
    "colab": {
     "base_uri": "https://localhost:8080/",
     "height": 493
    },
    "execution": {
     "iopub.execute_input": "2024-04-06T10:12:24.093583Z",
     "iopub.status.busy": "2024-04-06T10:12:24.092853Z",
     "iopub.status.idle": "2024-04-06T10:12:24.537275Z",
     "shell.execute_reply": "2024-04-06T10:12:24.535090Z"
    },
    "executionInfo": {
     "elapsed": 10,
     "status": "ok",
     "timestamp": 1712308984758,
     "user": {
      "displayName": "Nguyễn Đức Vũ",
      "userId": "07288779277842550568"
     },
     "user_tz": -420
    },
    "id": "T57sMHCQbtGv",
    "outputId": "22f0e639-a173-4764-f532-f153d2aeca8b"
   },
   "outputs": [
    {
     "data": {
      "image/png": "[encoded data removed]",
      "text/plain": [
       "<Figure size 640x480 with 1 Axes>"
      ]
     },
     "metadata": {},
     "output_type": "display_data"
    }
   ],
   "source": [
    "# Hiển thị loss theo số epoch\n",
    "plt.plot(hist.history['loss'])\n",
    "plt.title('Model Loss')\n",
    "plt.ylabel('loss')\n",
    "plt.xlabel('epoch')\n",
    "plt.show()"
   ]
  },
  {
   "cell_type": "code",
   "execution_count": null,
   "id": "CExu8Scobw65",
   "metadata": {
    "execution": {
     "iopub.execute_input": "2024-04-06T10:12:24.546845Z",
     "iopub.status.busy": "2024-04-06T10:12:24.545031Z",
     "iopub.status.idle": "2024-04-06T10:12:24.576091Z",
     "shell.execute_reply": "2024-04-06T10:12:24.573950Z"
    },
    "executionInfo": {
     "elapsed": 6,
     "status": "ok",
     "timestamp": 1712308984758,
     "user": {
      "displayName": "Nguyễn Đức Vũ",
      "userId": "07288779277842550568"
     },
     "user_tz": -420
    },
    "id": "CExu8Scobw65"
   },
   "outputs": [
    {
     "name": "stderr",
     "output_type": "stream",
     "text": [
      "WARNING:absl:You are saving your model as an HDF5 file via `model.save()` or `keras.saving.save_model(model)`. This file format is considered legacy. We recommend using instead the native Keras format, e.g. `model.save('my_model.keras')` or `keras.saving.save_model(model, 'my_model.keras')`. \n"
     ]
    }
   ],
   "source": [
    "# Sau khi đã huấn luyện, ta lưu mô hình về để sau này tái sử dụng\n",
    "# Lưu ý: hai phương thức lưu mô hình `save` và tải mô hình lên 'load'\n",
    "# được sử dụng khi muốn tái sử dụng nhiều lần mà KHÔNG CẦN PHẢI HUẤN LUYỆN LẠI\n",
    "sr.save('softmax_regression_model.h5')"
   ]
  },
  {
   "cell_type": "markdown",
   "id": "_u0aNnJ-bz5c",
   "metadata": {
    "id": "_u0aNnJ-bz5c"
   },
   "source": [
    "## 5. Trực quan hóa mô hình và dự đoán với dữ liệu test"
   ]
  },
  {
   "cell_type": "code",
   "execution_count": null,
   "id": "CWGwHvn2byjo",
   "metadata": {
    "execution": {
     "iopub.execute_input": "2024-04-06T10:12:24.585386Z",
     "iopub.status.busy": "2024-04-06T10:12:24.583582Z",
     "iopub.status.idle": "2024-04-06T10:12:24.673822Z",
     "shell.execute_reply": "2024-04-06T10:12:24.671487Z"
    },
    "executionInfo": {
     "elapsed": 32,
     "status": "ok",
     "timestamp": 1712308985492,
     "user": {
      "displayName": "Nguyễn Đức Vũ",
      "userId": "07288779277842550568"
     },
     "user_tz": -420
    },
    "id": "CWGwHvn2byjo"
   },
   "outputs": [
    {
     "name": "stderr",
     "output_type": "stream",
     "text": [
      "WARNING:absl:Compiled the loaded model, but the compiled metrics have yet to be built. `model.compile_metrics` will be empty until you train or evaluate the model.\n"
     ]
    }
   ],
   "source": [
    "# Khởi tạo đối tượng mới và gọi phương thức load mô hình từ file\n",
    "pretrain_sr = SoftmaxRegression()\n",
    "pretrain_sr.load('softmax_regression_model.h5')"
   ]
  },
  {
   "cell_type": "code",
   "execution_count": null,
   "id": "EDrNN_iRb1Yy",
   "metadata": {
    "colab": {
     "base_uri": "https://localhost:8080/"
    },
    "execution": {
     "iopub.execute_input": "2024-04-06T10:12:24.684907Z",
     "iopub.status.busy": "2024-04-06T10:12:24.682511Z",
     "iopub.status.idle": "2024-04-06T10:12:24.697761Z",
     "shell.execute_reply": "2024-04-06T10:12:24.695690Z"
    },
    "executionInfo": {
     "elapsed": 30,
     "status": "ok",
     "timestamp": 1712308985493,
     "user": {
      "displayName": "Nguyễn Đức Vũ",
      "userId": "07288779277842550568"
     },
     "user_tz": -420
    },
    "id": "EDrNN_iRb1Yy",
    "outputId": "7364377b-89de-4b9c-b543-d8ade329f0a8"
   },
   "outputs": [
    {
     "name": "stdout",
     "output_type": "stream",
     "text": [
      "Tham số tối ưu: \n",
      "[array([[ 0.5716154 , -0.2921643 ,  0.36394647, -1.2892581 ],\n",
      "       [-0.55728734,  0.80606544,  0.31189078, -0.24876027]],\n",
      "      dtype=float32), array([-0.06811127, -0.25827476, -0.18643644,  0.5128224 ], dtype=float32)]\n"
     ]
    }
   ],
   "source": [
    "# Hiển thị bộ tham số của mô hình Softmax\n",
    "theta = pretrain_sr.get_weights()\n",
    "print('Tham số tối ưu: ')\n",
    "print(theta)"
   ]
  },
  {
   "cell_type": "code",
   "execution_count": null,
   "id": "FZTEt1Vsb2YN",
   "metadata": {
    "colab": {
     "base_uri": "https://localhost:8080/",
     "height": 467
    },
    "execution": {
     "iopub.execute_input": "2024-04-06T10:12:24.706869Z",
     "iopub.status.busy": "2024-04-06T10:12:24.705111Z",
     "iopub.status.idle": "2024-04-06T10:12:27.193107Z",
     "shell.execute_reply": "2024-04-06T10:12:27.190767Z"
    },
    "executionInfo": {
     "elapsed": 962,
     "status": "ok",
     "timestamp": 1712308986428,
     "user": {
      "displayName": "Nguyễn Đức Vũ",
      "userId": "07288779277842550568"
     },
     "user_tz": -420
    },
    "id": "FZTEt1Vsb2YN",
    "outputId": "ec662aad-4944-4b1c-f256-bd20f3e58d97"
   },
   "outputs": [
    {
     "name": "stdout",
     "output_type": "stream",
     "text": [
      "\u001b[1m20/20\u001b[0m \u001b[32m━━━━━━━━━━━━━━━━━━━━\u001b[0m\u001b[37m\u001b[0m \u001b[1m0s\u001b[0m 1ms/step \n"
     ]
    },
    {
     "data": {
      "image/png": "[encoded data removed]",
      "text/plain": [
       "<Figure size 640x480 with 1 Axes>"
      ]
     },
     "metadata": {},
     "output_type": "display_data"
    }
   ],
   "source": [
    "# Trực quan hóa dữ liệu và mô hình sau khi huấn luyện\n",
    "# Ý tưởng: lấy mẫu dày đặc các điểm trong phạm vi dữ liệu train\n",
    "# Sau đó dùng mô hình để dự đoán và hiển thị kết quả\n",
    "\n",
    "# `colors` là các marker được sử dụng để trực quan hóa kết quả test\n",
    "colors = ['r+', 'g+', 'b+', 'y+']\n",
    "# `gt_colors` là các marker được sử dụng để trực quan hóa dữ liệu train\n",
    "gt_colors = ['ro', 'go', 'bo', 'yo']\n",
    "\n",
    "# Lấy mẫu dày đặc các điểm\n",
    "x = np.arange(-8, 17, 1)\n",
    "y = np.arange(-8, 17, 1)\n",
    "xx, yy = np.meshgrid(x,y)\n",
    "\n",
    "xx = xx.reshape(-1)\n",
    "yy = yy.reshape(-1)\n",
    "\n",
    "# Tạo các dữ liệu test dày đặc\n",
    "X_test = np.concatenate([[xx],[yy]], axis=0).T\n",
    "Y_pred = pretrain_sr.predict(X_test)\n",
    "\n",
    "for i in range(len(xx)):\n",
    "    plt.plot(xx[i],yy[i], colors[np.argmax(Y_pred[i])])\n",
    "plt.plot(pts1[:,0], pts1[:,1], gt_colors[0])\n",
    "plt.plot(pts2[:,0], pts2[:,1], gt_colors[1])\n",
    "plt.plot(pts3[:,0], pts3[:,1], gt_colors[2])\n",
    "plt.plot(pts4[:,0], pts4[:,1], gt_colors[3])\n",
    "plt.show()"
   ]
  },
  {
   "cell_type": "markdown",
   "id": "9kUCyBh1b5vm",
   "metadata": {
    "id": "9kUCyBh1b5vm"
   },
   "source": [
    "Như vậy ta có thể thấy rằng, không gian mặt phẳng đã được phân loại sử dụng mô hình đã huấn luyện trước đó với Softmax Regression. Dựa trên hình trên ta thấy kết quả khá chính xác, chỉ trừ một số điểm ở biên giữa các lớp."
   ]
  },
  {
   "cell_type": "markdown",
   "id": "Lc9lXMIMb-pS",
   "metadata": {
    "id": "Lc9lXMIMb-pS"
   },
   "source": [
    "# PHẦN 4 - CÀI ĐẶT MÔ HÌNH NEURAL NETWORK VỚI KERAS"
   ]
  },
  {
   "cell_type": "markdown",
   "id": "0RI_9W80cCqL",
   "metadata": {
    "id": "0RI_9W80cCqL"
   },
   "source": [
    "Một mô hình máy học cần có đủ ít nhất 7 phương thức sau:\n",
    "- `__init__`: hàm constructor trong hướng đối tượng, được sử dụng để khởi tạo các tham số mặc định hoặc tham số bắt đầu một mô hình. Trong những bài tập đầu tiên, để đơn giản constructor sẽ không sử dụng.\n",
    "- `build`: xây dựng kiến trúc của mô hình\n",
    "- `train`: bắt đầu quá trình huấn luyện mô hình\n",
    "- `save`: lưu lại mô hình sau khi đã huấn luyện\n",
    "- `load`: load lên mô hình từ file đã huấn luyện (pretrained)\n",
    "- `summary`: in tóm tắt kiến trúc mô hình\n",
    "- `predict`: dự đoán giá trị output từ dữ liệu đầu vào"
   ]
  },
  {
   "cell_type": "code",
   "execution_count": null,
   "id": "bpyrEhf0b3up",
   "metadata": {
    "execution": {
     "iopub.execute_input": "2024-04-06T10:12:27.204697Z",
     "iopub.status.busy": "2024-04-06T10:12:27.202615Z",
     "iopub.status.idle": "2024-04-06T10:12:27.216257Z",
     "shell.execute_reply": "2024-04-06T10:12:27.214140Z"
    },
    "executionInfo": {
     "elapsed": 53,
     "status": "ok",
     "timestamp": 1712308986428,
     "user": {
      "displayName": "Nguyễn Đức Vũ",
      "userId": "07288779277842550568"
     },
     "user_tz": -420
    },
    "id": "bpyrEhf0b3up"
   },
   "outputs": [],
   "source": [
    "# Mô hình cài đặt tổng quát bao gồm 7 phương thức cơ bản\n",
    "# Lưu ý: mô hình này chỉ mang tính gợi ý, không bắt buộc\n",
    "# Tuy nhiên, trong phần bài tập cần tuân theo các tên phương thức này\n",
    "class MyModel:\n",
    "    # constructor\n",
    "    def __init__(self):\n",
    "        return None\n",
    "\n",
    "    # Implement architecture of the model\n",
    "    def build(self):\n",
    "        return None\n",
    "\n",
    "    # Train the defined model with training and validation data\n",
    "    def train(self):\n",
    "        return None\n",
    "\n",
    "    # Save the trained model to file\n",
    "    def save(self, model_path):\n",
    "        return None\n",
    "\n",
    "    # Load pretrained model from file\n",
    "    def load(self):\n",
    "        return None\n",
    "\n",
    "    # Visualize your model\n",
    "    def summary(self):\n",
    "        return None\n",
    "\n",
    "    # Apply your model with new input data\n",
    "    def predict(self):\n",
    "        return None"
   ]
  },
  {
   "cell_type": "markdown",
   "id": "xK0O019wcFr_",
   "metadata": {
    "id": "xK0O019wcFr_"
   },
   "source": [
    "## 1. Import các thư viện Keras\n",
    "\n",
    "Đầu tiên, ta sẽ import các thư viện, module, hàm của `Keras`:\n",
    "- `Input`: để nhận dữ liệu đầu vào cho mô hình\n",
    "- `Dense`: hay còn gọi là lớp Fully Connected (Lớp kết nối đầy đủ), một thành phần quan trọng của các mô hình dựa trên mạng Neural Network.\n",
    "- `Model`: đây là lớp đối tượng mô hình được sử dụng để đóng gói lớp đầu vào, đầu ra, sau đó huấn luyện với phương thức `fit` và dự đoán kết quả với `predict`.\n",
    "- `load_model`: hàm sử dụng để load mô hình lên từ file"
   ]
  },
  {
   "cell_type": "code",
   "execution_count": null,
   "id": "lGw0UAsCcEPW",
   "metadata": {
    "execution": {
     "iopub.execute_input": "2024-04-06T10:12:27.225532Z",
     "iopub.status.busy": "2024-04-06T10:12:27.223652Z",
     "iopub.status.idle": "2024-04-06T10:12:27.233750Z",
     "shell.execute_reply": "2024-04-06T10:12:27.231570Z"
    },
    "executionInfo": {
     "elapsed": 52,
     "status": "ok",
     "timestamp": 1712308986428,
     "user": {
      "displayName": "Nguyễn Đức Vũ",
      "userId": "07288779277842550568"
     },
     "user_tz": -420
    },
    "id": "lGw0UAsCcEPW"
   },
   "outputs": [],
   "source": [
    "from keras.layers import Input, Dense\n",
    "from keras import Model\n",
    "import tensorflow as tf\n",
    "from keras.models import load_model\n",
    "import numpy as np"
   ]
  },
  {
   "cell_type": "markdown",
   "id": "zwK6d3txcIkj",
   "metadata": {
    "id": "zwK6d3txcIkj"
   },
   "source": [
    "## 2. Cài đặt mô hình Neural Network\n",
    "Tiếp theo, ta sẽ dựa trên khung đối tượng `MyModel` đã trình bày ở mục trước để tiến hành cài đặt mô hình **Neural Network**. Phương thức chính mà bài tập này cần thực hiện là `def build()`. Các phương thức còn lại đã được cài đặt sẵn, các bạn cần đọc, hiểu ý nghĩa và cách thức sử dụng về sau.\n",
    "\n",
    "<p align=\"center\">\n",
    "  <img src=\"./images/NeuralNet.png\" />\n",
    "</p>"
   ]
  },
  {
   "cell_type": "code",
   "execution_count": null,
   "id": "MkXl2AppcHT7",
   "metadata": {
    "execution": {
     "iopub.execute_input": "2024-04-06T10:12:27.243098Z",
     "iopub.status.busy": "2024-04-06T10:12:27.241456Z",
     "iopub.status.idle": "2024-04-06T10:12:27.266124Z",
     "shell.execute_reply": "2024-04-06T10:12:27.263828Z"
    },
    "executionInfo": {
     "elapsed": 51,
     "status": "ok",
     "timestamp": 1712308986428,
     "user": {
      "displayName": "Nguyễn Đức Vũ",
      "userId": "07288779277842550568"
     },
     "user_tz": -420
    },
    "id": "MkXl2AppcHT7"
   },
   "outputs": [],
   "source": [
    "# Neural Network\n",
    "class NeuralNetwork:\n",
    "    def __init__(self): # Self is similar to your 'this' pointer in C++\n",
    "        return None\n",
    "\n",
    "    def build(self, input_dim, output_dim, n_hidden, n_neurons):\n",
    "        # `input_dim`: kích thước input feature\n",
    "        # `output_dim`: số phân lớp cần phân loại\n",
    "        # `n_hidden`: số lượng lớp ẩn\n",
    "        # `n_neurons`: số lượng neuron mỗi lớp ẩn\n",
    "\n",
    "        # Khởi tạo model\n",
    "        self.model = None\n",
    "\n",
    "        # Hãy cài đặt để định nghĩa KIẾN TRÚC MÔ HÌNH và lưu ở thuộc tính `self.model`\n",
    "        # với các biến đối tượng sau:\n",
    "        #  - tạo biến `input` với lớp đối tượng `Input` của Keras,\n",
    "        #    truyền vào kích thước đầu vào `input_dim`\n",
    "        #  - tạo `n_hidden`lớp ẩn biết rằng, mỗi lớp ẩn có `n_neurons`, có sử dụng bias\n",
    "        #    activation là hàm `sigmoid`. Đầu ra của lớp ẩn này là đầu vào lớp ẩn sau.\n",
    "        #  - tạo biến `output` với lớp đối tượng `Dense` của Keras,\n",
    "        #    truyền vào các tham số:  kích thước output (chú ý PHÂN LOẠI ĐA LỚP),\n",
    "        #    có sử dụng bias, CÓ SỬ DỤNG hàm activation là `softmax`. Đầu vào của lớp\n",
    "        #    output chính là lớp ẩn cuối cùng.\n",
    "        # Sau bước này, self.model sẽ đóng gói 2 biến `input` và `output` để tạo thành mô hình\n",
    "        ### BEGIN SOLUTION\n",
    "        input = Input(shape=(input_dim,)) \n",
    "        layer1 = input\n",
    "        for i in range(n_hidden):\n",
    "            layer1 = Dense(units=n_neurons, use_bias=True, activation=\"sigmoid\")(layer1)\n",
    "        output = Dense(units=output_dim, use_bias=True, activation=\"softmax\")(layer1)\n",
    "        self.model = Model(input, output)\n",
    "        ### END SOLUTION\n",
    "\n",
    "        return self.model\n",
    "\n",
    "    def train(self, x_train, y_train, epochs=500):\n",
    "        # Khởi tạo mặc định với số `epochs=50`, `learning_rate=0.05`\n",
    "        opt = tf.keras.optimizers.SGD(learning_rate=0.05) # Stochastic Gradient Descent\n",
    "        self.model.compile(optimizer=opt, loss='categorical_crossentropy') # CCE loss\n",
    "        return self.model.fit(x_train, y_train, epochs=epochs)\n",
    "\n",
    "    def save(self, model_file):\n",
    "        return self.model.save(model_file)\n",
    "\n",
    "    def load(self, model_file):\n",
    "        self.model = load_model(model_file)\n",
    "\n",
    "    def summary(self):\n",
    "        self.model.summary()\n",
    "\n",
    "    def predict(self, x_test):\n",
    "        return self.model.predict(x_test)\n",
    "\n",
    "    def get_weights(self, layer_id):\n",
    "        return self.model.layers[layer_id].get_weights()"
   ]
  },
  {
   "cell_type": "markdown",
   "id": "KZG8g70NcOd5",
   "metadata": {
    "id": "KZG8g70NcOd5"
   },
   "source": [
    "Tiếp theo, ta sẽ khởi tạo đối tượng NeuralNetwork và kiểm tra thử xem phương `build` đã cài đặt chính xác chưa."
   ]
  },
  {
   "cell_type": "code",
   "execution_count": null,
   "id": "Jjph2C2CcLty",
   "metadata": {
    "colab": {
     "base_uri": "https://localhost:8080/"
    },
    "execution": {
     "iopub.execute_input": "2024-04-06T10:12:27.275624Z",
     "iopub.status.busy": "2024-04-06T10:12:27.273555Z",
     "iopub.status.idle": "2024-04-06T10:12:27.395029Z",
     "shell.execute_reply": "2024-04-06T10:12:27.392884Z"
    },
    "executionInfo": {
     "elapsed": 51,
     "status": "ok",
     "timestamp": 1712308986428,
     "user": {
      "displayName": "Nguyễn Đức Vũ",
      "userId": "07288779277842550568"
     },
     "user_tz": -420
    },
    "id": "Jjph2C2CcLty",
    "outputId": "7fdff960-81e8-47b7-9df2-80a118aa3c28"
   },
   "outputs": [
    {
     "data": {
      "text/plain": [
       "<Functional name=functional_7, built=True>"
      ]
     },
     "execution_count": 60,
     "metadata": {},
     "output_type": "execute_result"
    }
   ],
   "source": [
    "nn = NeuralNetwork()\n",
    "# Trong ví dụ này, ta sẽ khởi tạo input là một vector 1000 chiều,\n",
    "# bài toán cần phân loại 20 lớp đối tượng. Số lượng lớp ẩn là 3\n",
    "# và số neuron mỗi lớp ẩn là  10.\n",
    "nn.build(1000, 20, 3, 10)"
   ]
  },
  {
   "cell_type": "markdown",
   "id": "GYB5dcBtcS7d",
   "metadata": {
    "id": "GYB5dcBtcS7d"
   },
   "source": [
    "## 3. Tạo dữ liệu mẫu (toy example)\n",
    "Bước tiếp theo, ta sẽ tiến hành tạo mẫu dữ liệu để huấn luyện và kiểm thử.\n",
    "\n",
    "Dữ liệu được tạo ra là các điểm rải ngẫu nhiên xung quanh 4 cụm điểm:\n",
    "- [10, -2]\n",
    "- [2, 8]\n",
    "- [12, 8]\n",
    "- [-2, 0]\n",
    "\n",
    "Lưu ý rằng, 4 cụm điểm này rời nhau đủ xa để khi thêm nhiễu ngẫu nhiên,\n",
    "các điểm thuộc 4 cụm này vẫn không giao thoa nhau."
   ]
  },
  {
   "cell_type": "code",
   "execution_count": null,
   "id": "oP_aPXwjcRpt",
   "metadata": {
    "colab": {
     "base_uri": "https://localhost:8080/",
     "height": 453
    },
    "execution": {
     "iopub.execute_input": "2024-04-06T10:12:27.553137Z",
     "iopub.status.busy": "2024-04-06T10:12:27.551295Z",
     "iopub.status.idle": "2024-04-06T10:12:27.974500Z",
     "shell.execute_reply": "2024-04-06T10:12:27.972272Z"
    },
    "executionInfo": {
     "elapsed": 68,
     "status": "ok",
     "timestamp": 1712308987226,
     "user": {
      "displayName": "Nguyễn Đức Vũ",
      "userId": "07288779277842550568"
     },
     "user_tz": -420
    },
    "id": "oP_aPXwjcRpt",
    "outputId": "f078f8cc-a3c4-42fb-eba9-e173d445f41d"
   },
   "outputs": [
    {
     "data": {
      "image/png": "[encoded data removed]",
      "text/plain": [
       "<Figure size 640x480 with 1 Axes>"
      ]
     },
     "metadata": {},
     "output_type": "display_data"
    }
   ],
   "source": [
    "import numpy as np\n",
    "import matplotlib.pyplot as plt\n",
    "\n",
    "# Số phân lớp: 4\n",
    "K = 4\n",
    "# Tạo bộ dữ  liệu gồm 4 điểm\n",
    "# S1, S2, S3, S4 là tâm của 4 lớp\n",
    "S1= np.array([[10,-2]])\n",
    "S2= np.array([[2,8]])\n",
    "S3= np.array([[12,8]])\n",
    "S4= np.array([[-2,0]])\n",
    "\n",
    "# 50 samples mỗi lớp\n",
    "n_sample = 50\n",
    "# Phát sinh các điểm với nhiễu ngẫu nhiên xung quanh 4 tâm\n",
    "pts1 = S1 + np.random.normal(0, 1.5, size=(n_sample,2))\n",
    "pts2 = S2 + np.random.normal(0, 1.5, size=(n_sample,2))\n",
    "pts3 = S3 + np.random.normal(0, 1.5, size=(n_sample,2))\n",
    "pts4 = S4 + np.random.normal(0, 1.5, size=(n_sample,2))\n",
    "\n",
    "# Nối tất cả các mẫu thành một khối dữ liệu X (input feature) và Y (nhãn)\n",
    "X_train = np.concatenate((pts1, pts2, pts3, pts4))\n",
    "# Concatenate data labels to a single input variable Y\n",
    "Y_train = np.concatenate(([0]*n_sample, [1]*n_sample, [2]*n_sample, [3]*n_sample))\n",
    "\n",
    "# Chuyển Y từ dạng nhãn sang one-hot vector\n",
    "Y_train = Y_train.astype(int)\n",
    "Y_oh = np.zeros((Y_train.size, Y_train.max()+1 ))\n",
    "Y_oh[np.arange(Y_train.size), Y_train] = 1\n",
    "\n",
    "# Trực quan hóa dữ liệu bằng các hình tròn màu đỏ, xanh lá, xanh dương và vàng\n",
    "plt.plot(pts1[:,0], pts1[:,1], 'ro')\n",
    "plt.plot(pts2[:,0], pts2[:,1], 'go')\n",
    "plt.plot(pts3[:,0], pts3[:,1], 'bo')\n",
    "plt.plot(pts4[:,0], pts4[:,1], 'yo')\n",
    "plt.show()"
   ]
  },
  {
   "cell_type": "markdown",
   "id": "uopzbiCucXrm",
   "metadata": {
    "id": "uopzbiCucXrm"
   },
   "source": [
    "## 4. Huấn luyện mô hình với dữ liệu mẫu\n",
    "\n",
    "Tiếp theo, ta sẽ khởi tạo lại mô hình để phù hợp với dữ liệu mẫu đã phát sinh ở bước trước. Việc xây dựng kiến trúc của mô hình phải phù hợp với số chiều của dữ liệu mẫu."
   ]
  },
  {
   "cell_type": "code",
   "execution_count": null,
   "id": "YlAmECLucVk3",
   "metadata": {
    "colab": {
     "base_uri": "https://localhost:8080/"
    },
    "execution": {
     "iopub.execute_input": "2024-04-06T10:12:27.984335Z",
     "iopub.status.busy": "2024-04-06T10:12:27.982726Z",
     "iopub.status.idle": "2024-04-06T10:12:28.094159Z",
     "shell.execute_reply": "2024-04-06T10:12:28.091649Z"
    },
    "executionInfo": {
     "elapsed": 62,
     "status": "ok",
     "timestamp": 1712308987226,
     "user": {
      "displayName": "Nguyễn Đức Vũ",
      "userId": "07288779277842550568"
     },
     "user_tz": -420
    },
    "id": "YlAmECLucVk3",
    "outputId": "9f5b16a8-545f-4784-d9c9-185fe686db8e"
   },
   "outputs": [
    {
     "name": "stdout",
     "output_type": "stream",
     "text": [
      "Kiến trúc của mô hình Neural Network: \n",
      "Model: \"model_11\"\n",
      "_________________________________________________________________\n",
      " Layer (type)                Output Shape              Param #   \n",
      "=================================================================\n",
      " input_12 (InputLayer)       [(None, 2)]               0         \n",
      "                                                                 \n",
      " dense_16 (Dense)            (None, 3)                 9         \n",
      "                                                                 \n",
      " dense_17 (Dense)            (None, 4)                 16        \n",
      "                                                                 \n",
      "=================================================================\n",
      "Total params: 25 (100.00 Byte)\n",
      "Trainable params: 25 (100.00 Byte)\n",
      "Non-trainable params: 0 (0.00 Byte)\n",
      "_________________________________________________________________\n"
     ]
    }
   ],
   "source": [
    "nn = NeuralNetwork()\n",
    "\n",
    "# Hãy gọi phương thức `build` cho đối tượng `sr` và truyền tham số đầu vào\n",
    "# tương ứng với dữ liệu train đã phát sinh ở code block trên\n",
    "# Theo bạn, `input_dim`, `output_dim` bằng bao nhiêu?\n",
    "# Đối với các lớp ẩn, ta khởi tạo 01 lớp ẩn và 03 neuron cho mỗi lớp ẩn\n",
    "\n",
    "### BEGIN SOLUTION\n",
    "input_dim = 2\n",
    "output_dim = 4\n",
    "n_hidden = 1\n",
    "n_neurons = 3 \n",
    "nn.build(input_dim, output_dim, n_hidden, n_neurons)\n",
    "### END SOLUTION\n",
    "\n",
    "# Để hiển thị kiến trúc của mô hình ta gọi phương thức `summary`\n",
    "print(\"Kiến trúc của mô hình Neural Network: \")\n",
    "nn.summary()"
   ]
  },
  {
   "cell_type": "code",
   "execution_count": null,
   "id": "U2LYtxBgca3h",
   "metadata": {
    "colab": {
     "base_uri": "https://localhost:8080/"
    },
    "execution": {
     "iopub.execute_input": "2024-04-06T10:12:28.139524Z",
     "iopub.status.busy": "2024-04-06T10:12:28.138763Z",
     "iopub.status.idle": "2024-04-06T10:12:43.653052Z",
     "shell.execute_reply": "2024-04-06T10:12:43.650821Z"
    },
    "executionInfo": {
     "elapsed": 14532,
     "status": "ok",
     "timestamp": 1712309001740,
     "user": {
      "displayName": "Nguyễn Đức Vũ",
      "userId": "07288779277842550568"
     },
     "user_tz": -420
    },
    "id": "U2LYtxBgca3h",
    "outputId": "76f2b571-3cfb-45c0-fe42-266e28149fa3",
    "scrolled": true
   },
   "outputs": [
    {
     "name": "stdout",
     "output_type": "stream",
     "text": [
      "Epoch 1/500\n",
      "7/7 [==============================] - 1s 4ms/step - loss: 1.2919\n",
      "Epoch 2/500\n",
      "7/7 [==============================] - 0s 3ms/step - loss: 1.2531\n",
      "Epoch 3/500\n",
      "7/7 [==============================] - 0s 3ms/step - loss: 1.2209\n",
      "Epoch 4/500\n",
      "7/7 [==============================] - 0s 3ms/step - loss: 1.1961\n",
      "Epoch 5/500\n",
      "7/7 [==============================] - 0s 3ms/step - loss: 1.1740\n",
      "Epoch 6/500\n",
      "7/7 [==============================] - 0s 3ms/step - loss: 1.1520\n",
      "Epoch 7/500\n",
      "7/7 [==============================] - 0s 3ms/step - loss: 1.1319\n",
      "Epoch 8/500\n",
      "7/7 [==============================] - 0s 3ms/step - loss: 1.1103\n",
      "Epoch 9/500\n",
      "7/7 [==============================] - 0s 3ms/step - loss: 1.0908\n",
      "Epoch 10/500\n",
      "7/7 [==============================] - 0s 3ms/step - loss: 1.0711\n",
      "Epoch 11/500\n",
      "7/7 [==============================] - 0s 4ms/step - loss: 1.0530\n",
      "Epoch 12/500\n",
      "7/7 [==============================] - 0s 3ms/step - loss: 1.0342\n",
      "Epoch 13/500\n",
      "7/7 [==============================] - 0s 3ms/step - loss: 1.0164\n",
      "Epoch 14/500\n",
      "7/7 [==============================] - 0s 3ms/step - loss: 0.9997\n",
      "Epoch 15/500\n",
      "7/7 [==============================] - 0s 3ms/step - loss: 0.9837\n",
      "Epoch 16/500\n",
      "7/7 [==============================] - 0s 3ms/step - loss: 0.9670\n",
      "Epoch 17/500\n",
      "7/7 [==============================] - 0s 3ms/step - loss: 0.9518\n",
      "Epoch 18/500\n",
      "7/7 [==============================] - 0s 3ms/step - loss: 0.9380\n",
      "Epoch 19/500\n",
      "7/7 [==============================] - 0s 3ms/step - loss: 0.9243\n",
      "Epoch 20/500\n",
      "7/7 [==============================] - 0s 3ms/step - loss: 0.9104\n",
      "Epoch 21/500\n",
      "7/7 [==============================] - 0s 3ms/step - loss: 0.8992\n",
      "Epoch 22/500\n",
      "7/7 [==============================] - 0s 4ms/step - loss: 0.8861\n",
      "Epoch 23/500\n",
      "7/7 [==============================] - 0s 3ms/step - loss: 0.8738\n",
      "Epoch 24/500\n",
      "7/7 [==============================] - 0s 3ms/step - loss: 0.8629\n",
      "Epoch 25/500\n",
      "7/7 [==============================] - 0s 3ms/step - loss: 0.8515\n",
      "Epoch 26/500\n",
      "7/7 [==============================] - 0s 3ms/step - loss: 0.8412\n",
      "Epoch 27/500\n",
      "7/7 [==============================] - 0s 3ms/step - loss: 0.8310\n",
      "Epoch 28/500\n",
      "7/7 [==============================] - 0s 3ms/step - loss: 0.8215\n",
      "Epoch 29/500\n",
      "7/7 [==============================] - 0s 3ms/step - loss: 0.8120\n",
      "Epoch 30/500\n",
      "7/7 [==============================] - 0s 4ms/step - loss: 0.8032\n",
      "Epoch 31/500\n",
      "7/7 [==============================] - 0s 4ms/step - loss: 0.7941\n",
      "Epoch 32/500\n",
      "7/7 [==============================] - 0s 3ms/step - loss: 0.7866\n",
      "Epoch 33/500\n",
      "7/7 [==============================] - 0s 3ms/step - loss: 0.7779\n",
      "Epoch 34/500\n",
      "7/7 [==============================] - 0s 3ms/step - loss: 0.7704\n",
      "Epoch 35/500\n",
      "7/7 [==============================] - 0s 3ms/step - loss: 0.7626\n",
      "Epoch 36/500\n",
      "7/7 [==============================] - 0s 3ms/step - loss: 0.7547\n",
      "Epoch 37/500\n",
      "7/7 [==============================] - 0s 3ms/step - loss: 0.7477\n",
      "Epoch 38/500\n",
      "7/7 [==============================] - 0s 4ms/step - loss: 0.7407\n",
      "Epoch 39/500\n",
      "7/7 [==============================] - 0s 3ms/step - loss: 0.7347\n",
      "Epoch 40/500\n",
      "7/7 [==============================] - 0s 3ms/step - loss: 0.7280\n",
      "Epoch 41/500\n",
      "7/7 [==============================] - 0s 4ms/step - loss: 0.7211\n",
      "Epoch 42/500\n",
      "7/7 [==============================] - 0s 3ms/step - loss: 0.7151\n",
      "Epoch 43/500\n",
      "7/7 [==============================] - 0s 3ms/step - loss: 0.7086\n",
      "Epoch 44/500\n",
      "7/7 [==============================] - 0s 3ms/step - loss: 0.7032\n",
      "Epoch 45/500\n",
      "7/7 [==============================] - 0s 3ms/step - loss: 0.6968\n",
      "Epoch 46/500\n",
      "7/7 [==============================] - 0s 3ms/step - loss: 0.6911\n",
      "Epoch 47/500\n",
      "7/7 [==============================] - 0s 3ms/step - loss: 0.6854\n",
      "Epoch 48/500\n",
      "7/7 [==============================] - 0s 3ms/step - loss: 0.6801\n",
      "Epoch 49/500\n",
      "7/7 [==============================] - 0s 3ms/step - loss: 0.6748\n",
      "Epoch 50/500\n",
      "7/7 [==============================] - 0s 3ms/step - loss: 0.6705\n",
      "Epoch 51/500\n",
      "7/7 [==============================] - 0s 4ms/step - loss: 0.6646\n",
      "Epoch 52/500\n",
      "7/7 [==============================] - 0s 3ms/step - loss: 0.6603\n",
      "Epoch 53/500\n",
      "7/7 [==============================] - 0s 3ms/step - loss: 0.6556\n",
      "Epoch 54/500\n",
      "7/7 [==============================] - 0s 3ms/step - loss: 0.6509\n",
      "Epoch 55/500\n",
      "7/7 [==============================] - 0s 3ms/step - loss: 0.6466\n",
      "Epoch 56/500\n",
      "7/7 [==============================] - 0s 3ms/step - loss: 0.6422\n",
      "Epoch 57/500\n",
      "7/7 [==============================] - 0s 3ms/step - loss: 0.6377\n",
      "Epoch 58/500\n",
      "7/7 [==============================] - 0s 3ms/step - loss: 0.6330\n",
      "Epoch 59/500\n",
      "7/7 [==============================] - 0s 3ms/step - loss: 0.6293\n",
      "Epoch 60/500\n",
      "7/7 [==============================] - 0s 3ms/step - loss: 0.6253\n",
      "Epoch 61/500\n",
      "7/7 [==============================] - 0s 4ms/step - loss: 0.6216\n",
      "Epoch 62/500\n",
      "7/7 [==============================] - 0s 3ms/step - loss: 0.6175\n",
      "Epoch 63/500\n",
      "7/7 [==============================] - 0s 3ms/step - loss: 0.6143\n",
      "Epoch 64/500\n",
      "7/7 [==============================] - 0s 3ms/step - loss: 0.6101\n",
      "Epoch 65/500\n",
      "7/7 [==============================] - 0s 3ms/step - loss: 0.6063\n",
      "Epoch 66/500\n",
      "7/7 [==============================] - 0s 3ms/step - loss: 0.6024\n",
      "Epoch 67/500\n",
      "7/7 [==============================] - 0s 3ms/step - loss: 0.5991\n",
      "Epoch 68/500\n",
      "7/7 [==============================] - 0s 3ms/step - loss: 0.5954\n",
      "Epoch 69/500\n",
      "7/7 [==============================] - 0s 3ms/step - loss: 0.5920\n",
      "Epoch 70/500\n",
      "7/7 [==============================] - 0s 3ms/step - loss: 0.5892\n",
      "Epoch 71/500\n",
      "7/7 [==============================] - 0s 3ms/step - loss: 0.5861\n",
      "Epoch 72/500\n",
      "7/7 [==============================] - 0s 3ms/step - loss: 0.5827\n",
      "Epoch 73/500\n",
      "7/7 [==============================] - 0s 3ms/step - loss: 0.5792\n",
      "Epoch 74/500\n",
      "7/7 [==============================] - 0s 3ms/step - loss: 0.5764\n",
      "Epoch 75/500\n",
      "7/7 [==============================] - 0s 3ms/step - loss: 0.5738\n",
      "Epoch 76/500\n",
      "7/7 [==============================] - 0s 3ms/step - loss: 0.5707\n",
      "Epoch 77/500\n",
      "7/7 [==============================] - 0s 3ms/step - loss: 0.5678\n",
      "Epoch 78/500\n",
      "7/7 [==============================] - 0s 3ms/step - loss: 0.5652\n",
      "Epoch 79/500\n",
      "7/7 [==============================] - 0s 3ms/step - loss: 0.5630\n",
      "Epoch 80/500\n",
      "7/7 [==============================] - 0s 3ms/step - loss: 0.5604\n",
      "Epoch 81/500\n",
      "7/7 [==============================] - 0s 3ms/step - loss: 0.5576\n",
      "Epoch 82/500\n",
      "7/7 [==============================] - 0s 3ms/step - loss: 0.5543\n",
      "Epoch 83/500\n",
      "7/7 [==============================] - 0s 3ms/step - loss: 0.5519\n",
      "Epoch 84/500\n",
      "7/7 [==============================] - 0s 3ms/step - loss: 0.5492\n",
      "Epoch 85/500\n",
      "7/7 [==============================] - 0s 3ms/step - loss: 0.5469\n",
      "Epoch 86/500\n",
      "7/7 [==============================] - 0s 3ms/step - loss: 0.5446\n",
      "Epoch 87/500\n",
      "7/7 [==============================] - 0s 3ms/step - loss: 0.5419\n",
      "Epoch 88/500\n",
      "7/7 [==============================] - 0s 3ms/step - loss: 0.5397\n",
      "Epoch 89/500\n",
      "7/7 [==============================] - 0s 3ms/step - loss: 0.5378\n",
      "Epoch 90/500\n",
      "7/7 [==============================] - 0s 3ms/step - loss: 0.5353\n",
      "Epoch 91/500\n",
      "7/7 [==============================] - 0s 3ms/step - loss: 0.5331\n",
      "Epoch 92/500\n",
      "7/7 [==============================] - 0s 3ms/step - loss: 0.5316\n",
      "Epoch 93/500\n",
      "7/7 [==============================] - 0s 3ms/step - loss: 0.5288\n",
      "Epoch 94/500\n",
      "7/7 [==============================] - 0s 3ms/step - loss: 0.5271\n",
      "Epoch 95/500\n",
      "7/7 [==============================] - 0s 4ms/step - loss: 0.5246\n",
      "Epoch 96/500\n",
      "7/7 [==============================] - 0s 3ms/step - loss: 0.5226\n",
      "Epoch 97/500\n",
      "7/7 [==============================] - 0s 3ms/step - loss: 0.5208\n",
      "Epoch 98/500\n",
      "7/7 [==============================] - 0s 3ms/step - loss: 0.5189\n",
      "Epoch 99/500\n",
      "7/7 [==============================] - 0s 3ms/step - loss: 0.5166\n",
      "Epoch 100/500\n",
      "7/7 [==============================] - 0s 3ms/step - loss: 0.5158\n",
      "Epoch 101/500\n",
      "7/7 [==============================] - 0s 3ms/step - loss: 0.5137\n",
      "Epoch 102/500\n",
      "7/7 [==============================] - 0s 3ms/step - loss: 0.5117\n",
      "Epoch 103/500\n",
      "7/7 [==============================] - 0s 3ms/step - loss: 0.5091\n",
      "Epoch 104/500\n",
      "7/7 [==============================] - 0s 4ms/step - loss: 0.5078\n",
      "Epoch 105/500\n",
      "7/7 [==============================] - 0s 3ms/step - loss: 0.5057\n",
      "Epoch 106/500\n",
      "7/7 [==============================] - 0s 3ms/step - loss: 0.5046\n",
      "Epoch 107/500\n",
      "7/7 [==============================] - 0s 3ms/step - loss: 0.5026\n",
      "Epoch 108/500\n",
      "7/7 [==============================] - 0s 3ms/step - loss: 0.5008\n",
      "Epoch 109/500\n",
      "7/7 [==============================] - 0s 3ms/step - loss: 0.4990\n",
      "Epoch 110/500\n",
      "7/7 [==============================] - 0s 3ms/step - loss: 0.4976\n",
      "Epoch 111/500\n",
      "7/7 [==============================] - 0s 3ms/step - loss: 0.4965\n",
      "Epoch 112/500\n",
      "7/7 [==============================] - 0s 4ms/step - loss: 0.4947\n",
      "Epoch 113/500\n",
      "7/7 [==============================] - 0s 3ms/step - loss: 0.4930\n",
      "Epoch 114/500\n",
      "7/7 [==============================] - 0s 3ms/step - loss: 0.4921\n",
      "Epoch 115/500\n",
      "7/7 [==============================] - 0s 4ms/step - loss: 0.4904\n",
      "Epoch 116/500\n",
      "7/7 [==============================] - 0s 3ms/step - loss: 0.4889\n",
      "Epoch 117/500\n",
      "7/7 [==============================] - 0s 4ms/step - loss: 0.4875\n",
      "Epoch 118/500\n",
      "7/7 [==============================] - 0s 3ms/step - loss: 0.4862\n",
      "Epoch 119/500\n",
      "7/7 [==============================] - 0s 3ms/step - loss: 0.4847\n",
      "Epoch 120/500\n",
      "7/7 [==============================] - 0s 3ms/step - loss: 0.4836\n",
      "Epoch 121/500\n",
      "7/7 [==============================] - 0s 4ms/step - loss: 0.4817\n",
      "Epoch 122/500\n",
      "7/7 [==============================] - 0s 3ms/step - loss: 0.4815\n",
      "Epoch 123/500\n",
      "7/7 [==============================] - 0s 3ms/step - loss: 0.4800\n",
      "Epoch 124/500\n",
      "7/7 [==============================] - 0s 3ms/step - loss: 0.4781\n",
      "Epoch 125/500\n",
      "7/7 [==============================] - 0s 3ms/step - loss: 0.4767\n",
      "Epoch 126/500\n",
      "7/7 [==============================] - 0s 3ms/step - loss: 0.4763\n",
      "Epoch 127/500\n",
      "7/7 [==============================] - 0s 3ms/step - loss: 0.4748\n",
      "Epoch 128/500\n",
      "7/7 [==============================] - 0s 3ms/step - loss: 0.4733\n",
      "Epoch 129/500\n",
      "7/7 [==============================] - 0s 3ms/step - loss: 0.4724\n",
      "Epoch 130/500\n",
      "7/7 [==============================] - 0s 3ms/step - loss: 0.4709\n",
      "Epoch 131/500\n",
      "7/7 [==============================] - 0s 3ms/step - loss: 0.4702\n",
      "Epoch 132/500\n",
      "7/7 [==============================] - 0s 3ms/step - loss: 0.4687\n",
      "Epoch 133/500\n",
      "7/7 [==============================] - 0s 3ms/step - loss: 0.4681\n",
      "Epoch 134/500\n",
      "7/7 [==============================] - 0s 3ms/step - loss: 0.4665\n",
      "Epoch 135/500\n",
      "7/7 [==============================] - 0s 3ms/step - loss: 0.4655\n",
      "Epoch 136/500\n",
      "7/7 [==============================] - 0s 3ms/step - loss: 0.4647\n",
      "Epoch 137/500\n",
      "7/7 [==============================] - 0s 3ms/step - loss: 0.4631\n",
      "Epoch 138/500\n",
      "7/7 [==============================] - 0s 3ms/step - loss: 0.4619\n",
      "Epoch 139/500\n",
      "7/7 [==============================] - 0s 3ms/step - loss: 0.4611\n",
      "Epoch 140/500\n",
      "7/7 [==============================] - 0s 4ms/step - loss: 0.4602\n",
      "Epoch 141/500\n",
      "7/7 [==============================] - 0s 3ms/step - loss: 0.4591\n",
      "Epoch 142/500\n",
      "7/7 [==============================] - 0s 3ms/step - loss: 0.4588\n",
      "Epoch 143/500\n",
      "7/7 [==============================] - 0s 3ms/step - loss: 0.4574\n",
      "Epoch 144/500\n",
      "7/7 [==============================] - 0s 3ms/step - loss: 0.4564\n",
      "Epoch 145/500\n",
      "7/7 [==============================] - 0s 3ms/step - loss: 0.4560\n",
      "Epoch 146/500\n",
      "7/7 [==============================] - 0s 3ms/step - loss: 0.4542\n",
      "Epoch 147/500\n",
      "7/7 [==============================] - 0s 3ms/step - loss: 0.4541\n",
      "Epoch 148/500\n",
      "7/7 [==============================] - 0s 3ms/step - loss: 0.4526\n",
      "Epoch 149/500\n",
      "7/7 [==============================] - 0s 3ms/step - loss: 0.4520\n",
      "Epoch 150/500\n",
      "7/7 [==============================] - 0s 3ms/step - loss: 0.4507\n",
      "Epoch 151/500\n",
      "7/7 [==============================] - 0s 3ms/step - loss: 0.4500\n",
      "Epoch 152/500\n",
      "7/7 [==============================] - 0s 3ms/step - loss: 0.4490\n",
      "Epoch 153/500\n",
      "7/7 [==============================] - 0s 3ms/step - loss: 0.4487\n",
      "Epoch 154/500\n",
      "7/7 [==============================] - 0s 3ms/step - loss: 0.4475\n",
      "Epoch 155/500\n",
      "7/7 [==============================] - 0s 3ms/step - loss: 0.4472\n",
      "Epoch 156/500\n",
      "7/7 [==============================] - 0s 3ms/step - loss: 0.4460\n",
      "Epoch 157/500\n",
      "7/7 [==============================] - 0s 3ms/step - loss: 0.4452\n",
      "Epoch 158/500\n",
      "7/7 [==============================] - 0s 3ms/step - loss: 0.4446\n",
      "Epoch 159/500\n",
      "7/7 [==============================] - 0s 3ms/step - loss: 0.4434\n",
      "Epoch 160/500\n",
      "7/7 [==============================] - 0s 3ms/step - loss: 0.4427\n",
      "Epoch 161/500\n",
      "7/7 [==============================] - 0s 3ms/step - loss: 0.4418\n",
      "Epoch 162/500\n",
      "7/7 [==============================] - 0s 3ms/step - loss: 0.4414\n",
      "Epoch 163/500\n",
      "7/7 [==============================] - 0s 3ms/step - loss: 0.4400\n",
      "Epoch 164/500\n",
      "7/7 [==============================] - 0s 3ms/step - loss: 0.4393\n",
      "Epoch 165/500\n",
      "7/7 [==============================] - 0s 3ms/step - loss: 0.4388\n",
      "Epoch 166/500\n",
      "7/7 [==============================] - 0s 3ms/step - loss: 0.4384\n",
      "Epoch 167/500\n",
      "7/7 [==============================] - 0s 3ms/step - loss: 0.4378\n",
      "Epoch 168/500\n",
      "7/7 [==============================] - 0s 3ms/step - loss: 0.4370\n",
      "Epoch 169/500\n",
      "7/7 [==============================] - 0s 3ms/step - loss: 0.4363\n",
      "Epoch 170/500\n",
      "7/7 [==============================] - 0s 3ms/step - loss: 0.4358\n",
      "Epoch 171/500\n",
      "7/7 [==============================] - 0s 3ms/step - loss: 0.4348\n",
      "Epoch 172/500\n",
      "7/7 [==============================] - 0s 3ms/step - loss: 0.4340\n",
      "Epoch 173/500\n",
      "7/7 [==============================] - 0s 3ms/step - loss: 0.4329\n",
      "Epoch 174/500\n",
      "7/7 [==============================] - 0s 4ms/step - loss: 0.4327\n",
      "Epoch 175/500\n",
      "7/7 [==============================] - 0s 3ms/step - loss: 0.4321\n",
      "Epoch 176/500\n",
      "7/7 [==============================] - 0s 3ms/step - loss: 0.4318\n",
      "Epoch 177/500\n",
      "7/7 [==============================] - 0s 3ms/step - loss: 0.4310\n",
      "Epoch 178/500\n",
      "7/7 [==============================] - 0s 3ms/step - loss: 0.4303\n",
      "Epoch 179/500\n",
      "7/7 [==============================] - 0s 3ms/step - loss: 0.4294\n",
      "Epoch 180/500\n",
      "7/7 [==============================] - 0s 3ms/step - loss: 0.4292\n",
      "Epoch 181/500\n",
      "7/7 [==============================] - 0s 3ms/step - loss: 0.4280\n",
      "Epoch 182/500\n",
      "7/7 [==============================] - 0s 3ms/step - loss: 0.4271\n",
      "Epoch 183/500\n",
      "7/7 [==============================] - 0s 3ms/step - loss: 0.4266\n",
      "Epoch 184/500\n",
      "7/7 [==============================] - 0s 3ms/step - loss: 0.4258\n",
      "Epoch 185/500\n",
      "7/7 [==============================] - 0s 4ms/step - loss: 0.4258\n",
      "Epoch 186/500\n",
      "7/7 [==============================] - 0s 3ms/step - loss: 0.4247\n",
      "Epoch 187/500\n",
      "7/7 [==============================] - 0s 3ms/step - loss: 0.4246\n",
      "Epoch 188/500\n",
      "7/7 [==============================] - 0s 3ms/step - loss: 0.4236\n",
      "Epoch 189/500\n",
      "7/7 [==============================] - 0s 3ms/step - loss: 0.4231\n",
      "Epoch 190/500\n",
      "7/7 [==============================] - 0s 3ms/step - loss: 0.4228\n",
      "Epoch 191/500\n",
      "7/7 [==============================] - 0s 4ms/step - loss: 0.4225\n",
      "Epoch 192/500\n",
      "7/7 [==============================] - 0s 4ms/step - loss: 0.4225\n",
      "Epoch 193/500\n",
      "7/7 [==============================] - 0s 3ms/step - loss: 0.4209\n",
      "Epoch 194/500\n",
      "7/7 [==============================] - 0s 3ms/step - loss: 0.4202\n",
      "Epoch 195/500\n",
      "7/7 [==============================] - 0s 3ms/step - loss: 0.4197\n",
      "Epoch 196/500\n",
      "7/7 [==============================] - 0s 3ms/step - loss: 0.4190\n",
      "Epoch 197/500\n",
      "7/7 [==============================] - 0s 3ms/step - loss: 0.4185\n",
      "Epoch 198/500\n",
      "7/7 [==============================] - 0s 4ms/step - loss: 0.4176\n",
      "Epoch 199/500\n",
      "7/7 [==============================] - 0s 3ms/step - loss: 0.4172\n",
      "Epoch 200/500\n",
      "7/7 [==============================] - 0s 3ms/step - loss: 0.4171\n",
      "Epoch 201/500\n",
      "7/7 [==============================] - 0s 3ms/step - loss: 0.4159\n",
      "Epoch 202/500\n",
      "7/7 [==============================] - 0s 3ms/step - loss: 0.4157\n",
      "Epoch 203/500\n",
      "7/7 [==============================] - 0s 3ms/step - loss: 0.4148\n",
      "Epoch 204/500\n",
      "7/7 [==============================] - 0s 3ms/step - loss: 0.4144\n",
      "Epoch 205/500\n",
      "7/7 [==============================] - 0s 4ms/step - loss: 0.4135\n",
      "Epoch 206/500\n",
      "7/7 [==============================] - 0s 3ms/step - loss: 0.4130\n",
      "Epoch 207/500\n",
      "7/7 [==============================] - 0s 3ms/step - loss: 0.4126\n",
      "Epoch 208/500\n",
      "7/7 [==============================] - 0s 3ms/step - loss: 0.4118\n",
      "Epoch 209/500\n",
      "7/7 [==============================] - 0s 4ms/step - loss: 0.4114\n",
      "Epoch 210/500\n",
      "7/7 [==============================] - 0s 3ms/step - loss: 0.4106\n",
      "Epoch 211/500\n",
      "7/7 [==============================] - 0s 3ms/step - loss: 0.4100\n",
      "Epoch 212/500\n",
      "7/7 [==============================] - 0s 3ms/step - loss: 0.4091\n",
      "Epoch 213/500\n",
      "7/7 [==============================] - 0s 3ms/step - loss: 0.4083\n",
      "Epoch 214/500\n",
      "7/7 [==============================] - 0s 3ms/step - loss: 0.4071\n",
      "Epoch 215/500\n",
      "7/7 [==============================] - 0s 3ms/step - loss: 0.4064\n",
      "Epoch 216/500\n",
      "7/7 [==============================] - 0s 3ms/step - loss: 0.4054\n",
      "Epoch 217/500\n",
      "7/7 [==============================] - 0s 3ms/step - loss: 0.4050\n",
      "Epoch 218/500\n",
      "7/7 [==============================] - 0s 3ms/step - loss: 0.4044\n",
      "Epoch 219/500\n",
      "7/7 [==============================] - 0s 3ms/step - loss: 0.4032\n",
      "Epoch 220/500\n",
      "7/7 [==============================] - 0s 3ms/step - loss: 0.4024\n",
      "Epoch 221/500\n",
      "7/7 [==============================] - 0s 3ms/step - loss: 0.4016\n",
      "Epoch 222/500\n",
      "7/7 [==============================] - 0s 3ms/step - loss: 0.4009\n",
      "Epoch 223/500\n",
      "7/7 [==============================] - 0s 3ms/step - loss: 0.3999\n",
      "Epoch 224/500\n",
      "7/7 [==============================] - 0s 3ms/step - loss: 0.3988\n",
      "Epoch 225/500\n",
      "7/7 [==============================] - 0s 3ms/step - loss: 0.3981\n",
      "Epoch 226/500\n",
      "7/7 [==============================] - 0s 3ms/step - loss: 0.3964\n",
      "Epoch 227/500\n",
      "7/7 [==============================] - 0s 3ms/step - loss: 0.3955\n",
      "Epoch 228/500\n",
      "7/7 [==============================] - 0s 3ms/step - loss: 0.3944\n",
      "Epoch 229/500\n",
      "7/7 [==============================] - 0s 4ms/step - loss: 0.3932\n",
      "Epoch 230/500\n",
      "7/7 [==============================] - 0s 3ms/step - loss: 0.3927\n",
      "Epoch 231/500\n",
      "7/7 [==============================] - 0s 3ms/step - loss: 0.3911\n",
      "Epoch 232/500\n",
      "7/7 [==============================] - 0s 3ms/step - loss: 0.3899\n",
      "Epoch 233/500\n",
      "7/7 [==============================] - 0s 3ms/step - loss: 0.3885\n",
      "Epoch 234/500\n",
      "7/7 [==============================] - 0s 3ms/step - loss: 0.3869\n",
      "Epoch 235/500\n",
      "7/7 [==============================] - 0s 3ms/step - loss: 0.3855\n",
      "Epoch 236/500\n",
      "7/7 [==============================] - 0s 3ms/step - loss: 0.3842\n",
      "Epoch 237/500\n",
      "7/7 [==============================] - 0s 3ms/step - loss: 0.3825\n",
      "Epoch 238/500\n",
      "7/7 [==============================] - 0s 4ms/step - loss: 0.3810\n",
      "Epoch 239/500\n",
      "7/7 [==============================] - 0s 3ms/step - loss: 0.3794\n",
      "Epoch 240/500\n",
      "7/7 [==============================] - 0s 3ms/step - loss: 0.3781\n",
      "Epoch 241/500\n",
      "7/7 [==============================] - 0s 3ms/step - loss: 0.3758\n",
      "Epoch 242/500\n",
      "7/7 [==============================] - 0s 3ms/step - loss: 0.3735\n",
      "Epoch 243/500\n",
      "7/7 [==============================] - 0s 4ms/step - loss: 0.3720\n",
      "Epoch 244/500\n",
      "7/7 [==============================] - 0s 3ms/step - loss: 0.3691\n",
      "Epoch 245/500\n",
      "7/7 [==============================] - 0s 3ms/step - loss: 0.3674\n",
      "Epoch 246/500\n",
      "7/7 [==============================] - 0s 3ms/step - loss: 0.3651\n",
      "Epoch 247/500\n",
      "7/7 [==============================] - 0s 3ms/step - loss: 0.3635\n",
      "Epoch 248/500\n",
      "7/7 [==============================] - 0s 3ms/step - loss: 0.3604\n",
      "Epoch 249/500\n",
      "7/7 [==============================] - 0s 3ms/step - loss: 0.3581\n",
      "Epoch 250/500\n",
      "7/7 [==============================] - 0s 3ms/step - loss: 0.3554\n",
      "Epoch 251/500\n",
      "7/7 [==============================] - 0s 4ms/step - loss: 0.3529\n",
      "Epoch 252/500\n",
      "7/7 [==============================] - 0s 4ms/step - loss: 0.3499\n",
      "Epoch 253/500\n",
      "7/7 [==============================] - 0s 3ms/step - loss: 0.3477\n",
      "Epoch 254/500\n",
      "7/7 [==============================] - 0s 3ms/step - loss: 0.3454\n",
      "Epoch 255/500\n",
      "7/7 [==============================] - 0s 3ms/step - loss: 0.3419\n",
      "Epoch 256/500\n",
      "7/7 [==============================] - 0s 4ms/step - loss: 0.3395\n",
      "Epoch 257/500\n",
      "7/7 [==============================] - 0s 3ms/step - loss: 0.3370\n",
      "Epoch 258/500\n",
      "7/7 [==============================] - 0s 3ms/step - loss: 0.3341\n",
      "Epoch 259/500\n",
      "7/7 [==============================] - 0s 3ms/step - loss: 0.3308\n",
      "Epoch 260/500\n",
      "7/7 [==============================] - 0s 3ms/step - loss: 0.3285\n",
      "Epoch 261/500\n",
      "7/7 [==============================] - 0s 3ms/step - loss: 0.3258\n",
      "Epoch 262/500\n",
      "7/7 [==============================] - 0s 3ms/step - loss: 0.3226\n",
      "Epoch 263/500\n",
      "7/7 [==============================] - 0s 3ms/step - loss: 0.3196\n",
      "Epoch 264/500\n",
      "7/7 [==============================] - 0s 4ms/step - loss: 0.3167\n",
      "Epoch 265/500\n",
      "7/7 [==============================] - 0s 4ms/step - loss: 0.3139\n",
      "Epoch 266/500\n",
      "7/7 [==============================] - 0s 3ms/step - loss: 0.3113\n",
      "Epoch 267/500\n",
      "7/7 [==============================] - 0s 3ms/step - loss: 0.3086\n",
      "Epoch 268/500\n",
      "7/7 [==============================] - 0s 3ms/step - loss: 0.3060\n",
      "Epoch 269/500\n",
      "7/7 [==============================] - 0s 4ms/step - loss: 0.3034\n",
      "Epoch 270/500\n",
      "7/7 [==============================] - 0s 3ms/step - loss: 0.3007\n",
      "Epoch 271/500\n",
      "7/7 [==============================] - 0s 3ms/step - loss: 0.2983\n",
      "Epoch 272/500\n",
      "7/7 [==============================] - 0s 3ms/step - loss: 0.2953\n",
      "Epoch 273/500\n",
      "7/7 [==============================] - 0s 3ms/step - loss: 0.2930\n",
      "Epoch 274/500\n",
      "7/7 [==============================] - 0s 3ms/step - loss: 0.2906\n",
      "Epoch 275/500\n",
      "7/7 [==============================] - 0s 3ms/step - loss: 0.2880\n",
      "Epoch 276/500\n",
      "7/7 [==============================] - 0s 3ms/step - loss: 0.2859\n",
      "Epoch 277/500\n",
      "7/7 [==============================] - 0s 4ms/step - loss: 0.2838\n",
      "Epoch 278/500\n",
      "7/7 [==============================] - 0s 3ms/step - loss: 0.2812\n",
      "Epoch 279/500\n",
      "7/7 [==============================] - 0s 4ms/step - loss: 0.2790\n",
      "Epoch 280/500\n",
      "7/7 [==============================] - 0s 3ms/step - loss: 0.2772\n",
      "Epoch 281/500\n",
      "7/7 [==============================] - 0s 3ms/step - loss: 0.2744\n",
      "Epoch 282/500\n",
      "7/7 [==============================] - 0s 3ms/step - loss: 0.2722\n",
      "Epoch 283/500\n",
      "7/7 [==============================] - 0s 3ms/step - loss: 0.2700\n",
      "Epoch 284/500\n",
      "7/7 [==============================] - 0s 3ms/step - loss: 0.2682\n",
      "Epoch 285/500\n",
      "7/7 [==============================] - 0s 3ms/step - loss: 0.2663\n",
      "Epoch 286/500\n",
      "7/7 [==============================] - 0s 3ms/step - loss: 0.2640\n",
      "Epoch 287/500\n",
      "7/7 [==============================] - 0s 3ms/step - loss: 0.2619\n",
      "Epoch 288/500\n",
      "7/7 [==============================] - 0s 3ms/step - loss: 0.2601\n",
      "Epoch 289/500\n",
      "7/7 [==============================] - 0s 3ms/step - loss: 0.2581\n",
      "Epoch 290/500\n",
      "7/7 [==============================] - 0s 4ms/step - loss: 0.2564\n",
      "Epoch 291/500\n",
      "7/7 [==============================] - 0s 3ms/step - loss: 0.2551\n",
      "Epoch 292/500\n",
      "7/7 [==============================] - 0s 3ms/step - loss: 0.2524\n",
      "Epoch 293/500\n",
      "7/7 [==============================] - 0s 3ms/step - loss: 0.2507\n",
      "Epoch 294/500\n",
      "7/7 [==============================] - 0s 4ms/step - loss: 0.2495\n",
      "Epoch 295/500\n",
      "7/7 [==============================] - 0s 3ms/step - loss: 0.2475\n",
      "Epoch 296/500\n",
      "7/7 [==============================] - 0s 3ms/step - loss: 0.2456\n",
      "Epoch 297/500\n",
      "7/7 [==============================] - 0s 3ms/step - loss: 0.2436\n",
      "Epoch 298/500\n",
      "7/7 [==============================] - 0s 3ms/step - loss: 0.2424\n",
      "Epoch 299/500\n",
      "7/7 [==============================] - 0s 3ms/step - loss: 0.2404\n",
      "Epoch 300/500\n",
      "7/7 [==============================] - 0s 3ms/step - loss: 0.2387\n",
      "Epoch 301/500\n",
      "7/7 [==============================] - 0s 4ms/step - loss: 0.2374\n",
      "Epoch 302/500\n",
      "7/7 [==============================] - 0s 3ms/step - loss: 0.2361\n",
      "Epoch 303/500\n",
      "7/7 [==============================] - 0s 3ms/step - loss: 0.2347\n",
      "Epoch 304/500\n",
      "7/7 [==============================] - 0s 3ms/step - loss: 0.2341\n",
      "Epoch 305/500\n",
      "7/7 [==============================] - 0s 3ms/step - loss: 0.2316\n",
      "Epoch 306/500\n",
      "7/7 [==============================] - 0s 3ms/step - loss: 0.2298\n",
      "Epoch 307/500\n",
      "7/7 [==============================] - 0s 3ms/step - loss: 0.2281\n",
      "Epoch 308/500\n",
      "7/7 [==============================] - 0s 3ms/step - loss: 0.2268\n",
      "Epoch 309/500\n",
      "7/7 [==============================] - 0s 3ms/step - loss: 0.2250\n",
      "Epoch 310/500\n",
      "7/7 [==============================] - 0s 3ms/step - loss: 0.2235\n",
      "Epoch 311/500\n",
      "7/7 [==============================] - 0s 3ms/step - loss: 0.2237\n",
      "Epoch 312/500\n",
      "7/7 [==============================] - 0s 3ms/step - loss: 0.2215\n",
      "Epoch 313/500\n",
      "7/7 [==============================] - 0s 3ms/step - loss: 0.2200\n",
      "Epoch 314/500\n",
      "7/7 [==============================] - 0s 3ms/step - loss: 0.2180\n",
      "Epoch 315/500\n",
      "7/7 [==============================] - 0s 3ms/step - loss: 0.2168\n",
      "Epoch 316/500\n",
      "7/7 [==============================] - 0s 3ms/step - loss: 0.2154\n",
      "Epoch 317/500\n",
      "7/7 [==============================] - 0s 3ms/step - loss: 0.2141\n",
      "Epoch 318/500\n",
      "7/7 [==============================] - 0s 3ms/step - loss: 0.2130\n",
      "Epoch 319/500\n",
      "7/7 [==============================] - 0s 3ms/step - loss: 0.2116\n",
      "Epoch 320/500\n",
      "7/7 [==============================] - 0s 3ms/step - loss: 0.2106\n",
      "Epoch 321/500\n",
      "7/7 [==============================] - 0s 3ms/step - loss: 0.2093\n",
      "Epoch 322/500\n",
      "7/7 [==============================] - 0s 3ms/step - loss: 0.2080\n",
      "Epoch 323/500\n",
      "7/7 [==============================] - 0s 3ms/step - loss: 0.2073\n",
      "Epoch 324/500\n",
      "7/7 [==============================] - 0s 3ms/step - loss: 0.2056\n",
      "Epoch 325/500\n",
      "7/7 [==============================] - 0s 3ms/step - loss: 0.2042\n",
      "Epoch 326/500\n",
      "7/7 [==============================] - 0s 3ms/step - loss: 0.2032\n",
      "Epoch 327/500\n",
      "7/7 [==============================] - 0s 3ms/step - loss: 0.2020\n",
      "Epoch 328/500\n",
      "7/7 [==============================] - 0s 3ms/step - loss: 0.2010\n",
      "Epoch 329/500\n",
      "7/7 [==============================] - 0s 3ms/step - loss: 0.2000\n",
      "Epoch 330/500\n",
      "7/7 [==============================] - 0s 3ms/step - loss: 0.1987\n",
      "Epoch 331/500\n",
      "7/7 [==============================] - 0s 3ms/step - loss: 0.1980\n",
      "Epoch 332/500\n",
      "7/7 [==============================] - 0s 3ms/step - loss: 0.1964\n",
      "Epoch 333/500\n",
      "7/7 [==============================] - 0s 3ms/step - loss: 0.1958\n",
      "Epoch 334/500\n",
      "7/7 [==============================] - 0s 3ms/step - loss: 0.1947\n",
      "Epoch 335/500\n",
      "7/7 [==============================] - 0s 3ms/step - loss: 0.1943\n",
      "Epoch 336/500\n",
      "7/7 [==============================] - 0s 4ms/step - loss: 0.1923\n",
      "Epoch 337/500\n",
      "7/7 [==============================] - 0s 3ms/step - loss: 0.1909\n",
      "Epoch 338/500\n",
      "7/7 [==============================] - 0s 3ms/step - loss: 0.1904\n",
      "Epoch 339/500\n",
      "7/7 [==============================] - 0s 3ms/step - loss: 0.1890\n",
      "Epoch 340/500\n",
      "7/7 [==============================] - 0s 3ms/step - loss: 0.1886\n",
      "Epoch 341/500\n",
      "7/7 [==============================] - 0s 3ms/step - loss: 0.1870\n",
      "Epoch 342/500\n",
      "7/7 [==============================] - 0s 3ms/step - loss: 0.1858\n",
      "Epoch 343/500\n",
      "7/7 [==============================] - 0s 3ms/step - loss: 0.1853\n",
      "Epoch 344/500\n",
      "7/7 [==============================] - 0s 3ms/step - loss: 0.1845\n",
      "Epoch 345/500\n",
      "7/7 [==============================] - 0s 3ms/step - loss: 0.1830\n",
      "Epoch 346/500\n",
      "7/7 [==============================] - 0s 3ms/step - loss: 0.1820\n",
      "Epoch 347/500\n",
      "7/7 [==============================] - 0s 3ms/step - loss: 0.1812\n",
      "Epoch 348/500\n",
      "7/7 [==============================] - 0s 3ms/step - loss: 0.1802\n",
      "Epoch 349/500\n",
      "7/7 [==============================] - 0s 3ms/step - loss: 0.1797\n",
      "Epoch 350/500\n",
      "7/7 [==============================] - 0s 3ms/step - loss: 0.1787\n",
      "Epoch 351/500\n",
      "7/7 [==============================] - 0s 3ms/step - loss: 0.1775\n",
      "Epoch 352/500\n",
      "7/7 [==============================] - 0s 3ms/step - loss: 0.1767\n",
      "Epoch 353/500\n",
      "7/7 [==============================] - 0s 3ms/step - loss: 0.1759\n",
      "Epoch 354/500\n",
      "7/7 [==============================] - 0s 3ms/step - loss: 0.1750\n",
      "Epoch 355/500\n",
      "7/7 [==============================] - 0s 3ms/step - loss: 0.1741\n",
      "Epoch 356/500\n",
      "7/7 [==============================] - 0s 4ms/step - loss: 0.1732\n",
      "Epoch 357/500\n",
      "7/7 [==============================] - 0s 3ms/step - loss: 0.1726\n",
      "Epoch 358/500\n",
      "7/7 [==============================] - 0s 3ms/step - loss: 0.1715\n",
      "Epoch 359/500\n",
      "7/7 [==============================] - 0s 3ms/step - loss: 0.1711\n",
      "Epoch 360/500\n",
      "7/7 [==============================] - 0s 3ms/step - loss: 0.1696\n",
      "Epoch 361/500\n",
      "7/7 [==============================] - 0s 3ms/step - loss: 0.1691\n",
      "Epoch 362/500\n",
      "7/7 [==============================] - 0s 3ms/step - loss: 0.1686\n",
      "Epoch 363/500\n",
      "7/7 [==============================] - 0s 3ms/step - loss: 0.1678\n",
      "Epoch 364/500\n",
      "7/7 [==============================] - 0s 3ms/step - loss: 0.1665\n",
      "Epoch 365/500\n",
      "7/7 [==============================] - 0s 3ms/step - loss: 0.1656\n",
      "Epoch 366/500\n",
      "7/7 [==============================] - 0s 3ms/step - loss: 0.1652\n",
      "Epoch 367/500\n",
      "7/7 [==============================] - 0s 3ms/step - loss: 0.1644\n",
      "Epoch 368/500\n",
      "7/7 [==============================] - 0s 3ms/step - loss: 0.1635\n",
      "Epoch 369/500\n",
      "7/7 [==============================] - 0s 3ms/step - loss: 0.1628\n",
      "Epoch 370/500\n",
      "7/7 [==============================] - 0s 3ms/step - loss: 0.1621\n",
      "Epoch 371/500\n",
      "7/7 [==============================] - 0s 3ms/step - loss: 0.1610\n",
      "Epoch 372/500\n",
      "7/7 [==============================] - 0s 3ms/step - loss: 0.1609\n",
      "Epoch 373/500\n",
      "7/7 [==============================] - 0s 3ms/step - loss: 0.1598\n",
      "Epoch 374/500\n",
      "7/7 [==============================] - 0s 3ms/step - loss: 0.1592\n",
      "Epoch 375/500\n",
      "7/7 [==============================] - 0s 3ms/step - loss: 0.1588\n",
      "Epoch 376/500\n",
      "7/7 [==============================] - 0s 4ms/step - loss: 0.1578\n",
      "Epoch 377/500\n",
      "7/7 [==============================] - 0s 3ms/step - loss: 0.1571\n",
      "Epoch 378/500\n",
      "7/7 [==============================] - 0s 3ms/step - loss: 0.1563\n",
      "Epoch 379/500\n",
      "7/7 [==============================] - 0s 4ms/step - loss: 0.1559\n",
      "Epoch 380/500\n",
      "7/7 [==============================] - 0s 3ms/step - loss: 0.1553\n",
      "Epoch 381/500\n",
      "7/7 [==============================] - 0s 3ms/step - loss: 0.1541\n",
      "Epoch 382/500\n",
      "7/7 [==============================] - 0s 3ms/step - loss: 0.1537\n",
      "Epoch 383/500\n",
      "7/7 [==============================] - 0s 3ms/step - loss: 0.1532\n",
      "Epoch 384/500\n",
      "7/7 [==============================] - 0s 3ms/step - loss: 0.1523\n",
      "Epoch 385/500\n",
      "7/7 [==============================] - 0s 3ms/step - loss: 0.1516\n",
      "Epoch 386/500\n",
      "7/7 [==============================] - 0s 3ms/step - loss: 0.1511\n",
      "Epoch 387/500\n",
      "7/7 [==============================] - 0s 3ms/step - loss: 0.1503\n",
      "Epoch 388/500\n",
      "7/7 [==============================] - 0s 3ms/step - loss: 0.1498\n",
      "Epoch 389/500\n",
      "7/7 [==============================] - 0s 3ms/step - loss: 0.1487\n",
      "Epoch 390/500\n",
      "7/7 [==============================] - 0s 3ms/step - loss: 0.1484\n",
      "Epoch 391/500\n",
      "7/7 [==============================] - 0s 3ms/step - loss: 0.1477\n",
      "Epoch 392/500\n",
      "7/7 [==============================] - 0s 3ms/step - loss: 0.1474\n",
      "Epoch 393/500\n",
      "7/7 [==============================] - 0s 3ms/step - loss: 0.1472\n",
      "Epoch 394/500\n",
      "7/7 [==============================] - 0s 3ms/step - loss: 0.1461\n",
      "Epoch 395/500\n",
      "7/7 [==============================] - 0s 3ms/step - loss: 0.1451\n",
      "Epoch 396/500\n",
      "7/7 [==============================] - 0s 3ms/step - loss: 0.1446\n",
      "Epoch 397/500\n",
      "7/7 [==============================] - 0s 3ms/step - loss: 0.1440\n",
      "Epoch 398/500\n",
      "7/7 [==============================] - 0s 3ms/step - loss: 0.1439\n",
      "Epoch 399/500\n",
      "7/7 [==============================] - 0s 3ms/step - loss: 0.1433\n",
      "Epoch 400/500\n",
      "7/7 [==============================] - 0s 3ms/step - loss: 0.1423\n",
      "Epoch 401/500\n",
      "7/7 [==============================] - 0s 3ms/step - loss: 0.1424\n",
      "Epoch 402/500\n",
      "7/7 [==============================] - 0s 3ms/step - loss: 0.1417\n",
      "Epoch 403/500\n",
      "7/7 [==============================] - 0s 3ms/step - loss: 0.1405\n",
      "Epoch 404/500\n",
      "7/7 [==============================] - 0s 3ms/step - loss: 0.1405\n",
      "Epoch 405/500\n",
      "7/7 [==============================] - 0s 3ms/step - loss: 0.1394\n",
      "Epoch 406/500\n",
      "7/7 [==============================] - 0s 3ms/step - loss: 0.1390\n",
      "Epoch 407/500\n",
      "7/7 [==============================] - 0s 3ms/step - loss: 0.1388\n",
      "Epoch 408/500\n",
      "7/7 [==============================] - 0s 3ms/step - loss: 0.1380\n",
      "Epoch 409/500\n",
      "7/7 [==============================] - 0s 3ms/step - loss: 0.1379\n",
      "Epoch 410/500\n",
      "7/7 [==============================] - 0s 3ms/step - loss: 0.1380\n",
      "Epoch 411/500\n",
      "7/7 [==============================] - 0s 3ms/step - loss: 0.1370\n",
      "Epoch 412/500\n",
      "7/7 [==============================] - 0s 3ms/step - loss: 0.1359\n",
      "Epoch 413/500\n",
      "7/7 [==============================] - 0s 3ms/step - loss: 0.1357\n",
      "Epoch 414/500\n",
      "7/7 [==============================] - 0s 3ms/step - loss: 0.1351\n",
      "Epoch 415/500\n",
      "7/7 [==============================] - 0s 3ms/step - loss: 0.1344\n",
      "Epoch 416/500\n",
      "7/7 [==============================] - 0s 3ms/step - loss: 0.1335\n",
      "Epoch 417/500\n",
      "7/7 [==============================] - 0s 4ms/step - loss: 0.1332\n",
      "Epoch 418/500\n",
      "7/7 [==============================] - 0s 4ms/step - loss: 0.1333\n",
      "Epoch 419/500\n",
      "7/7 [==============================] - 0s 3ms/step - loss: 0.1326\n",
      "Epoch 420/500\n",
      "7/7 [==============================] - 0s 3ms/step - loss: 0.1318\n",
      "Epoch 421/500\n",
      "7/7 [==============================] - 0s 3ms/step - loss: 0.1311\n",
      "Epoch 422/500\n",
      "7/7 [==============================] - 0s 3ms/step - loss: 0.1307\n",
      "Epoch 423/500\n",
      "7/7 [==============================] - 0s 3ms/step - loss: 0.1305\n",
      "Epoch 424/500\n",
      "7/7 [==============================] - 0s 3ms/step - loss: 0.1298\n",
      "Epoch 425/500\n",
      "7/7 [==============================] - 0s 4ms/step - loss: 0.1296\n",
      "Epoch 426/500\n",
      "7/7 [==============================] - 0s 3ms/step - loss: 0.1288\n",
      "Epoch 427/500\n",
      "7/7 [==============================] - 0s 3ms/step - loss: 0.1284\n",
      "Epoch 428/500\n",
      "7/7 [==============================] - 0s 3ms/step - loss: 0.1283\n",
      "Epoch 429/500\n",
      "7/7 [==============================] - 0s 3ms/step - loss: 0.1274\n",
      "Epoch 430/500\n",
      "7/7 [==============================] - 0s 3ms/step - loss: 0.1268\n",
      "Epoch 431/500\n",
      "7/7 [==============================] - 0s 3ms/step - loss: 0.1268\n",
      "Epoch 432/500\n",
      "7/7 [==============================] - 0s 4ms/step - loss: 0.1264\n",
      "Epoch 433/500\n",
      "7/7 [==============================] - 0s 3ms/step - loss: 0.1255\n",
      "Epoch 434/500\n",
      "7/7 [==============================] - 0s 3ms/step - loss: 0.1253\n",
      "Epoch 435/500\n",
      "7/7 [==============================] - 0s 3ms/step - loss: 0.1246\n",
      "Epoch 436/500\n",
      "7/7 [==============================] - 0s 3ms/step - loss: 0.1242\n",
      "Epoch 437/500\n",
      "7/7 [==============================] - 0s 3ms/step - loss: 0.1240\n",
      "Epoch 438/500\n",
      "7/7 [==============================] - 0s 3ms/step - loss: 0.1234\n",
      "Epoch 439/500\n",
      "7/7 [==============================] - 0s 3ms/step - loss: 0.1234\n",
      "Epoch 440/500\n",
      "7/7 [==============================] - 0s 3ms/step - loss: 0.1229\n",
      "Epoch 441/500\n",
      "7/7 [==============================] - 0s 3ms/step - loss: 0.1222\n",
      "Epoch 442/500\n",
      "7/7 [==============================] - 0s 3ms/step - loss: 0.1221\n",
      "Epoch 443/500\n",
      "7/7 [==============================] - 0s 3ms/step - loss: 0.1214\n",
      "Epoch 444/500\n",
      "7/7 [==============================] - 0s 3ms/step - loss: 0.1210\n",
      "Epoch 445/500\n",
      "7/7 [==============================] - 0s 3ms/step - loss: 0.1204\n",
      "Epoch 446/500\n",
      "7/7 [==============================] - 0s 3ms/step - loss: 0.1200\n",
      "Epoch 447/500\n",
      "7/7 [==============================] - 0s 3ms/step - loss: 0.1200\n",
      "Epoch 448/500\n",
      "7/7 [==============================] - 0s 4ms/step - loss: 0.1195\n",
      "Epoch 449/500\n",
      "7/7 [==============================] - 0s 3ms/step - loss: 0.1187\n",
      "Epoch 450/500\n",
      "7/7 [==============================] - 0s 3ms/step - loss: 0.1188\n",
      "Epoch 451/500\n",
      "7/7 [==============================] - 0s 3ms/step - loss: 0.1183\n",
      "Epoch 452/500\n",
      "7/7 [==============================] - 0s 3ms/step - loss: 0.1174\n",
      "Epoch 453/500\n",
      "7/7 [==============================] - 0s 3ms/step - loss: 0.1179\n",
      "Epoch 454/500\n",
      "7/7 [==============================] - 0s 3ms/step - loss: 0.1168\n",
      "Epoch 455/500\n",
      "7/7 [==============================] - 0s 3ms/step - loss: 0.1163\n",
      "Epoch 456/500\n",
      "7/7 [==============================] - 0s 3ms/step - loss: 0.1161\n",
      "Epoch 457/500\n",
      "7/7 [==============================] - 0s 3ms/step - loss: 0.1159\n",
      "Epoch 458/500\n",
      "7/7 [==============================] - 0s 3ms/step - loss: 0.1155\n",
      "Epoch 459/500\n",
      "7/7 [==============================] - 0s 3ms/step - loss: 0.1156\n",
      "Epoch 460/500\n",
      "7/7 [==============================] - 0s 3ms/step - loss: 0.1145\n",
      "Epoch 461/500\n",
      "7/7 [==============================] - 0s 3ms/step - loss: 0.1141\n",
      "Epoch 462/500\n",
      "7/7 [==============================] - 0s 3ms/step - loss: 0.1140\n",
      "Epoch 463/500\n",
      "7/7 [==============================] - 0s 3ms/step - loss: 0.1137\n",
      "Epoch 464/500\n",
      "7/7 [==============================] - 0s 3ms/step - loss: 0.1132\n",
      "Epoch 465/500\n",
      "7/7 [==============================] - 0s 3ms/step - loss: 0.1129\n",
      "Epoch 466/500\n",
      "7/7 [==============================] - 0s 3ms/step - loss: 0.1127\n",
      "Epoch 467/500\n",
      "7/7 [==============================] - 0s 3ms/step - loss: 0.1122\n",
      "Epoch 468/500\n",
      "7/7 [==============================] - 0s 3ms/step - loss: 0.1119\n",
      "Epoch 469/500\n",
      "7/7 [==============================] - 0s 3ms/step - loss: 0.1112\n",
      "Epoch 470/500\n",
      "7/7 [==============================] - 0s 3ms/step - loss: 0.1109\n",
      "Epoch 471/500\n",
      "7/7 [==============================] - 0s 3ms/step - loss: 0.1111\n",
      "Epoch 472/500\n",
      "7/7 [==============================] - 0s 3ms/step - loss: 0.1105\n",
      "Epoch 473/500\n",
      "7/7 [==============================] - 0s 3ms/step - loss: 0.1099\n",
      "Epoch 474/500\n",
      "7/7 [==============================] - 0s 3ms/step - loss: 0.1098\n",
      "Epoch 475/500\n",
      "7/7 [==============================] - 0s 4ms/step - loss: 0.1093\n",
      "Epoch 476/500\n",
      "7/7 [==============================] - 0s 3ms/step - loss: 0.1097\n",
      "Epoch 477/500\n",
      "7/7 [==============================] - 0s 3ms/step - loss: 0.1086\n",
      "Epoch 478/500\n",
      "7/7 [==============================] - 0s 3ms/step - loss: 0.1086\n",
      "Epoch 479/500\n",
      "7/7 [==============================] - 0s 3ms/step - loss: 0.1083\n",
      "Epoch 480/500\n",
      "7/7 [==============================] - 0s 3ms/step - loss: 0.1078\n",
      "Epoch 481/500\n",
      "7/7 [==============================] - 0s 3ms/step - loss: 0.1075\n",
      "Epoch 482/500\n",
      "7/7 [==============================] - 0s 3ms/step - loss: 0.1073\n",
      "Epoch 483/500\n",
      "7/7 [==============================] - 0s 3ms/step - loss: 0.1068\n",
      "Epoch 484/500\n",
      "7/7 [==============================] - 0s 3ms/step - loss: 0.1067\n",
      "Epoch 485/500\n",
      "7/7 [==============================] - 0s 3ms/step - loss: 0.1066\n",
      "Epoch 486/500\n",
      "7/7 [==============================] - 0s 3ms/step - loss: 0.1055\n",
      "Epoch 487/500\n",
      "7/7 [==============================] - 0s 3ms/step - loss: 0.1053\n",
      "Epoch 488/500\n",
      "7/7 [==============================] - 0s 3ms/step - loss: 0.1058\n",
      "Epoch 489/500\n",
      "7/7 [==============================] - 0s 3ms/step - loss: 0.1053\n",
      "Epoch 490/500\n",
      "7/7 [==============================] - 0s 3ms/step - loss: 0.1045\n",
      "Epoch 491/500\n",
      "7/7 [==============================] - 0s 3ms/step - loss: 0.1041\n",
      "Epoch 492/500\n",
      "7/7 [==============================] - 0s 3ms/step - loss: 0.1038\n",
      "Epoch 493/500\n",
      "7/7 [==============================] - 0s 3ms/step - loss: 0.1035\n",
      "Epoch 494/500\n",
      "7/7 [==============================] - 0s 3ms/step - loss: 0.1033\n",
      "Epoch 495/500\n",
      "7/7 [==============================] - 0s 3ms/step - loss: 0.1028\n",
      "Epoch 496/500\n",
      "7/7 [==============================] - 0s 3ms/step - loss: 0.1027\n",
      "Epoch 497/500\n",
      "7/7 [==============================] - 0s 3ms/step - loss: 0.1023\n",
      "Epoch 498/500\n",
      "7/7 [==============================] - 0s 3ms/step - loss: 0.1020\n",
      "Epoch 499/500\n",
      "7/7 [==============================] - 0s 3ms/step - loss: 0.1019\n",
      "Epoch 500/500\n",
      "7/7 [==============================] - 0s 3ms/step - loss: 0.1016\n"
     ]
    }
   ],
   "source": [
    "# Để huấn luyện mô hình ta gọi phương thức `train` với dữ liệu mẫu đã tạo được\n",
    "# Nếu bước `build` mô hình gọi đúng thì bước `train` sau sẽ thực hiện thành công\n",
    "# LƯU Ý: Ở đây ta sử dụng output là Y_oh dạng one-hot thay vì dạng nhãn (label)\n",
    "hist = nn.train(X_train, Y_oh)"
   ]
  },
  {
   "cell_type": "code",
   "execution_count": null,
   "id": "AmXUsyJqccP-",
   "metadata": {
    "colab": {
     "base_uri": "https://localhost:8080/",
     "height": 493
    },
    "execution": {
     "iopub.execute_input": "2024-04-06T10:12:43.662274Z",
     "iopub.status.busy": "2024-04-06T10:12:43.660593Z",
     "iopub.status.idle": "2024-04-06T10:12:44.125183Z",
     "shell.execute_reply": "2024-04-06T10:12:44.122682Z"
    },
    "executionInfo": {
     "elapsed": 638,
     "status": "ok",
     "timestamp": 1712309002364,
     "user": {
      "displayName": "Nguyễn Đức Vũ",
      "userId": "07288779277842550568"
     },
     "user_tz": -420
    },
    "id": "AmXUsyJqccP-",
    "outputId": "ae35dd71-d1a4-490a-9c5e-a75a1a0046b0"
   },
   "outputs": [
    {
     "data": {
      "image/png": "[encoded data removed]",
      "text/plain": [
       "<Figure size 640x480 with 1 Axes>"
      ]
     },
     "metadata": {},
     "output_type": "display_data"
    }
   ],
   "source": [
    "# Hiển thị loss theo số epoch\n",
    "plt.plot(hist.history['loss'])\n",
    "plt.title('Model Loss')\n",
    "plt.ylabel('loss')\n",
    "plt.xlabel('epoch')\n",
    "plt.show()"
   ]
  },
  {
   "cell_type": "code",
   "execution_count": null,
   "id": "ClY-3xfOcfKA",
   "metadata": {
    "execution": {
     "iopub.execute_input": "2024-04-06T10:12:44.134629Z",
     "iopub.status.busy": "2024-04-06T10:12:44.133758Z",
     "iopub.status.idle": "2024-04-06T10:12:44.173234Z",
     "shell.execute_reply": "2024-04-06T10:12:44.170980Z"
    },
    "executionInfo": {
     "elapsed": 53,
     "status": "ok",
     "timestamp": 1712309002364,
     "user": {
      "displayName": "Nguyễn Đức Vũ",
      "userId": "07288779277842550568"
     },
     "user_tz": -420
    },
    "id": "ClY-3xfOcfKA"
   },
   "outputs": [],
   "source": [
    "# Sau khi đã huấn luyện, ta lưu mô hình về để sau này tái sử dụng\n",
    "# Lưu ý: hai phương thức lưu mô hình `save` và tải mô hình lên 'load'\n",
    "# được sử dụng khi muốn tái sử dụng nhiều lần mà KHÔNG CẦN PHẢI HUẤN LUYỆN LẠI\n",
    "nn.save('neural_network_model.h5')"
   ]
  },
  {
   "cell_type": "markdown",
   "id": "HSBBOp7lciIP",
   "metadata": {
    "id": "HSBBOp7lciIP"
   },
   "source": [
    "## 5. Trực quan hóa mô hình và dự đoán với dữ liệu test"
   ]
  },
  {
   "cell_type": "code",
   "execution_count": null,
   "id": "sH1bT06_cgtd",
   "metadata": {
    "execution": {
     "iopub.execute_input": "2024-04-06T10:12:44.182741Z",
     "iopub.status.busy": "2024-04-06T10:12:44.180673Z",
     "iopub.status.idle": "2024-04-06T10:12:44.294924Z",
     "shell.execute_reply": "2024-04-06T10:12:44.292604Z"
    },
    "executionInfo": {
     "elapsed": 52,
     "status": "ok",
     "timestamp": 1712309002365,
     "user": {
      "displayName": "Nguyễn Đức Vũ",
      "userId": "07288779277842550568"
     },
     "user_tz": -420
    },
    "id": "sH1bT06_cgtd"
   },
   "outputs": [],
   "source": [
    "# Khởi tạo đối tượng mới và gọi phương thức load mô hình từ file\n",
    "pretrain_nn = NeuralNetwork()\n",
    "pretrain_nn.load('neural_network_model.h5')"
   ]
  },
  {
   "cell_type": "code",
   "execution_count": null,
   "id": "La880IJ2ckQN",
   "metadata": {
    "colab": {
     "base_uri": "https://localhost:8080/"
    },
    "execution": {
     "iopub.execute_input": "2024-04-06T10:12:44.304133Z",
     "iopub.status.busy": "2024-04-06T10:12:44.302150Z",
     "iopub.status.idle": "2024-04-06T10:12:44.315665Z",
     "shell.execute_reply": "2024-04-06T10:12:44.313669Z"
    },
    "executionInfo": {
     "elapsed": 51,
     "status": "ok",
     "timestamp": 1712309002365,
     "user": {
      "displayName": "Nguyễn Đức Vũ",
      "userId": "07288779277842550568"
     },
     "user_tz": -420
    },
    "id": "La880IJ2ckQN",
    "outputId": "3832b7f9-6747-446e-bfc8-78f772702f27"
   },
   "outputs": [
    {
     "name": "stdout",
     "output_type": "stream",
     "text": [
      "Tham số tối ưu: \n",
      "[array([[ 1.9414424 , -5.2620373 ,  0.69182265,  1.5191894 ],\n",
      "       [ 2.1154482 ,  2.0051203 ,  1.6774333 , -5.2255864 ],\n",
      "       [-4.4710045 ,  1.931822  ,  1.6604184 ,  1.1993002 ]],\n",
      "      dtype=float32), array([-0.47585565,  0.4395147 , -1.7391059 ,  1.7754488 ], dtype=float32)]\n"
     ]
    }
   ],
   "source": [
    "# In ra bộ tham số tối ưu lớp cuối cùng\n",
    "theta = pretrain_nn.get_weights(-1)\n",
    "print('Tham số tối ưu: ')\n",
    "print(theta)"
   ]
  },
  {
   "cell_type": "code",
   "execution_count": null,
   "id": "pC0t6oWyclN_",
   "metadata": {
    "colab": {
     "base_uri": "https://localhost:8080/",
     "height": 467
    },
    "execution": {
     "iopub.execute_input": "2024-04-06T10:12:44.324722Z",
     "iopub.status.busy": "2024-04-06T10:12:44.322742Z",
     "iopub.status.idle": "2024-04-06T10:12:46.795101Z",
     "shell.execute_reply": "2024-04-06T10:12:46.792927Z"
    },
    "executionInfo": {
     "elapsed": 554,
     "status": "ok",
     "timestamp": 1712309002893,
     "user": {
      "displayName": "Nguyễn Đức Vũ",
      "userId": "07288779277842550568"
     },
     "user_tz": -420
    },
    "id": "pC0t6oWyclN_",
    "outputId": "4cbd0b16-caed-4a2e-fc1a-7195bacbb813"
   },
   "outputs": [
    {
     "name": "stdout",
     "output_type": "stream",
     "text": [
      "20/20 [==============================] - 0s 2ms/step\n"
     ]
    },
    {
     "data": {
      "image/png": "[encoded data removed]",
      "text/plain": [
       "<Figure size 640x480 with 1 Axes>"
      ]
     },
     "metadata": {},
     "output_type": "display_data"
    }
   ],
   "source": [
    "# Trực quan hóa dữ liệu và mô hình sau khi huấn luyện\n",
    "# Ý tưởng: lấy mẫu dày đặc các điểm trong phạm vi dữ liệu train\n",
    "# Sau đó dùng mô hình để dự đoán và hiển thị kết quả\n",
    "\n",
    "# `colors` là các marker được sử dụng để trực quan hóa kết quả test\n",
    "colors = ['r+', 'g+', 'b+', 'y+']\n",
    "# `gt_colors` là các marker được sử dụng để trực quan hóa dữ liệu train\n",
    "gt_colors = ['ro', 'go', 'bo', 'yo']\n",
    "\n",
    "# Lấy mẫu dày đặc các điểm\n",
    "x = np.arange(-8, 17, 1)\n",
    "y = np.arange(-8, 17, 1)\n",
    "xx, yy = np.meshgrid(x,y)\n",
    "\n",
    "xx = xx.reshape(-1)\n",
    "yy = yy.reshape(-1)\n",
    "\n",
    "# Tạo các dữ liệu test dày đặc\n",
    "X_test = np.concatenate([[xx],[yy]], axis=0).T\n",
    "Y_pred = pretrain_nn.predict(X_test)\n",
    "\n",
    "for i in range(len(xx)):\n",
    "    plt.plot(xx[i],yy[i], colors[np.argmax(Y_pred[i])])\n",
    "plt.plot(pts1[:,0], pts1[:,1], gt_colors[0])\n",
    "plt.plot(pts2[:,0], pts2[:,1], gt_colors[1])\n",
    "plt.plot(pts3[:,0], pts3[:,1], gt_colors[2])\n",
    "plt.plot(pts4[:,0], pts4[:,1], gt_colors[3])\n",
    "plt.show()"
   ]
  },
  {
   "cell_type": "markdown",
   "id": "tUTCVHqgcoKc",
   "metadata": {
    "id": "tUTCVHqgcoKc"
   },
   "source": [
    "Ta có thể thấy rằng, không gian mặt phẳng đã được phân loại sử dụng mô hình Neural Network đã huấn luyện trước đó. Dựa trên hình trên ta thấy kết quả khá chính xác, chỉ trừ một số điểm ở biên giữa các lớp."
   ]
  },
  {
   "cell_type": "markdown",
   "id": "olk8nJo8cp9n",
   "metadata": {
    "id": "olk8nJo8cp9n"
   },
   "source": [
    "## 6. Thử nghiệm với tập dữ liệu  MNIST\n",
    "\n",
    "MNIST là tập dữ liệu chữ số viết tay kinh điển trong lĩnh vực máy học. Để tải và sử dụng dữ liệu này cực kỳ đơn giản chỉ với 2 dòng code:"
   ]
  },
  {
   "cell_type": "code",
   "execution_count": null,
   "id": "nvm8yf2qcmhK",
   "metadata": {
    "colab": {
     "base_uri": "https://localhost:8080/"
    },
    "execution": {
     "iopub.execute_input": "2024-04-06T10:12:46.805212Z",
     "iopub.status.busy": "2024-04-06T10:12:46.803575Z",
     "iopub.status.idle": "2024-04-06T10:12:47.315346Z",
     "shell.execute_reply": "2024-04-06T10:12:47.313230Z"
    },
    "executionInfo": {
     "elapsed": 676,
     "status": "ok",
     "timestamp": 1712309003534,
     "user": {
      "displayName": "Nguyễn Đức Vũ",
      "userId": "07288779277842550568"
     },
     "user_tz": -420
    },
    "id": "nvm8yf2qcmhK",
    "outputId": "6f37aec6-f7f4-4611-cef8-1ae6279077c2"
   },
   "outputs": [
    {
     "name": "stdout",
     "output_type": "stream",
     "text": [
      "(60000, 28, 28)\n",
      "(60000,)\n",
      "(10000, 28, 28)\n",
      "(10000,)\n"
     ]
    }
   ],
   "source": [
    "# Prepare MNIST dataset\n",
    "from keras.datasets import mnist\n",
    "(x_train, y_train), (x_test, y_test) = mnist.load_data()\n",
    "\n",
    "print(x_train.shape)\n",
    "print(y_train.shape)\n",
    "print(x_test.shape)\n",
    "print(y_test.shape)"
   ]
  },
  {
   "cell_type": "markdown",
   "id": "jIMGbvMCctvv",
   "metadata": {
    "id": "jIMGbvMCctvv"
   },
   "source": [
    "Để hiểu rõ hơn về dữ liệu này, ta sẽ trực quan hóa dữ liệu bằng cách hiển thị ảnh và xem kích thước ảnh."
   ]
  },
  {
   "cell_type": "code",
   "execution_count": null,
   "id": "taofQbEOcsRo",
   "metadata": {
    "colab": {
     "base_uri": "https://localhost:8080/",
     "height": 500
    },
    "execution": {
     "iopub.execute_input": "2024-04-06T10:12:47.325858Z",
     "iopub.status.busy": "2024-04-06T10:12:47.323814Z",
     "iopub.status.idle": "2024-04-06T10:12:47.741095Z",
     "shell.execute_reply": "2024-04-06T10:12:47.738937Z"
    },
    "executionInfo": {
     "elapsed": 557,
     "status": "ok",
     "timestamp": 1712309004058,
     "user": {
      "displayName": "Nguyễn Đức Vũ",
      "userId": "07288779277842550568"
     },
     "user_tz": -420
    },
    "id": "taofQbEOcsRo",
    "outputId": "b8813a0a-5608-4bea-a8b2-fa4081a37e31"
   },
   "outputs": [
    {
     "name": "stdout",
     "output_type": "stream",
     "text": [
      "Nhãn của mẫu dữ liệu thứ 1234:  3\n",
      "Kích thước của ảnh train:  (28, 28)\n",
      "Số điểm ảnh nếu biến đổi thành vector:  784\n"
     ]
    },
    {
     "data": {
      "image/png": "[encoded data removed]",
      "text/plain": [
       "<Figure size 640x480 with 1 Axes>"
      ]
     },
     "metadata": {},
     "output_type": "display_data"
    }
   ],
   "source": [
    "plt.imshow(x_train[1234])\n",
    "print('Nhãn của mẫu dữ liệu thứ 1234: ', y_train[1234])\n",
    "print('Kích thước của ảnh train: ', x_train[1234].shape)\n",
    "print('Số điểm ảnh nếu biến đổi thành vector: ',\n",
    "      x_train[1234].shape[0]*x_train[1234].shape[1])"
   ]
  },
  {
   "cell_type": "markdown",
   "id": "5Wy0f6YtcxYD",
   "metadata": {
    "id": "5Wy0f6YtcxYD"
   },
   "source": [
    "Tiền xử lý dữ liệu trước khi huấn luyện mô hình:\n",
    "- Chuyển output sang dạng one-hot vector\n",
    "- Chuẩn hóa dữ liệu input về khoảng giá trị `[0-1]`"
   ]
  },
  {
   "cell_type": "code",
   "execution_count": null,
   "id": "GBgRbu6icvSj",
   "metadata": {
    "execution": {
     "iopub.execute_input": "2024-04-06T10:12:47.751075Z",
     "iopub.status.busy": "2024-04-06T10:12:47.749090Z",
     "iopub.status.idle": "2024-04-06T10:12:48.018542Z",
     "shell.execute_reply": "2024-04-06T10:12:48.016142Z"
    },
    "executionInfo": {
     "elapsed": 532,
     "status": "ok",
     "timestamp": 1712309004060,
     "user": {
      "displayName": "Nguyễn Đức Vũ",
      "userId": "07288779277842550568"
     },
     "user_tz": -420
    },
    "id": "GBgRbu6icvSj"
   },
   "outputs": [],
   "source": [
    "# Hàm chuyển đổi output từ dạng nhãn (label) sang vector one-hot\n",
    "def onehot(y):\n",
    "    oh = np.zeros((y.shape[0], y.max()+1))\n",
    "    oh[np.arange(y.shape[0]), y] = 1\n",
    "    return oh\n",
    "\n",
    "y_train_oh = onehot(y_train)\n",
    "y_test_oh = onehot(y_test)\n",
    "\n",
    "# Chuẩn hóa dữ liệu input trên dữ liệu train và test\n",
    "n_train_sample, h, w = x_train.shape\n",
    "n_test_sample, _,_ = x_test.shape # Kích thước ngang x cao giống nhau trên tất cả mẫu\n",
    "\n",
    "x_train = (x_train.astype('float32')) / 255.0\n",
    "x_test = (x_test.astype('float32')) / 255.0\n",
    "x_train_vec = x_train.reshape((n_train_sample, w*h))\n",
    "x_test_vec = x_test.reshape((n_test_sample, w*h))"
   ]
  },
  {
   "cell_type": "markdown",
   "id": "r98H0b84c0mz",
   "metadata": {
    "id": "r98H0b84c0mz"
   },
   "source": [
    "Khởi tạo mô hình từ đầu sao cho phù hợp với dữ liệu MNIST.\n",
    "Trong đó, thông tin cấu hình về lớp ẩn:\n",
    "- 2 lớp ẩn\n",
    "- 100 neuron mỗi lớp ẩn\n",
    "- huấn luyện với 30 epochs"
   ]
  },
  {
   "cell_type": "code",
   "execution_count": null,
   "id": "syb9FU2pczSp",
   "metadata": {
    "colab": {
     "base_uri": "https://localhost:8080/"
    },
    "execution": {
     "iopub.execute_input": "2024-04-06T10:12:48.029040Z",
     "iopub.status.busy": "2024-04-06T10:12:48.027218Z",
     "iopub.status.idle": "2024-04-06T10:18:11.737218Z",
     "shell.execute_reply": "2024-04-06T10:18:11.734692Z"
    },
    "id": "syb9FU2pczSp",
    "outputId": "783d5bd4-139c-46c9-b675-c513dd762782"
   },
   "outputs": [
    {
     "name": "stdout",
     "output_type": "stream",
     "text": [
      "Epoch 1/30\n",
      "1875/1875 [==============================] - 10s 5ms/step - loss: 1.2833\n",
      "Epoch 2/30\n",
      "1875/1875 [==============================] - 9s 5ms/step - loss: 0.4490\n",
      "Epoch 3/30\n",
      "1875/1875 [==============================] - 9s 5ms/step - loss: 0.3445\n",
      "Epoch 4/30\n",
      "1875/1875 [==============================] - 9s 5ms/step - loss: 0.3048\n",
      "Epoch 5/30\n",
      "1875/1875 [==============================] - 9s 5ms/step - loss: 0.2788\n",
      "Epoch 6/30\n",
      "1875/1875 [==============================] - 9s 5ms/step - loss: 0.2573\n",
      "Epoch 7/30\n",
      "1875/1875 [==============================] - 9s 5ms/step - loss: 0.2388\n",
      "Epoch 8/30\n",
      "1875/1875 [==============================] - 9s 5ms/step - loss: 0.2215\n",
      "Epoch 9/30\n",
      "1875/1875 [==============================] - 9s 5ms/step - loss: 0.2066\n",
      "Epoch 10/30\n",
      "1875/1875 [==============================] - 9s 5ms/step - loss: 0.1928\n",
      "Epoch 11/30\n",
      "1875/1875 [==============================] - 9s 5ms/step - loss: 0.1811\n",
      "Epoch 12/30\n",
      "1875/1875 [==============================] - 9s 5ms/step - loss: 0.1699\n",
      "Epoch 13/30\n",
      "1875/1875 [==============================] - 9s 5ms/step - loss: 0.1601\n",
      "Epoch 14/30\n",
      "1875/1875 [==============================] - 9s 5ms/step - loss: 0.1514\n",
      "Epoch 15/30\n",
      "1875/1875 [==============================] - 9s 5ms/step - loss: 0.1432\n",
      "Epoch 16/30\n",
      "1875/1875 [==============================] - 10s 5ms/step - loss: 0.1361\n",
      "Epoch 17/30\n",
      "1875/1875 [==============================] - 10s 5ms/step - loss: 0.1296\n",
      "Epoch 18/30\n",
      "1875/1875 [==============================] - 9s 5ms/step - loss: 0.1231\n",
      "Epoch 19/30\n",
      "1875/1875 [==============================] - 9s 5ms/step - loss: 0.1175\n",
      "Epoch 20/30\n",
      "1875/1875 [==============================] - 9s 5ms/step - loss: 0.1119\n",
      "Epoch 21/30\n",
      "1875/1875 [==============================] - 10s 5ms/step - loss: 0.1068\n",
      "Epoch 22/30\n",
      "1875/1875 [==============================] - 9s 5ms/step - loss: 0.1026\n",
      "Epoch 23/30\n",
      "1875/1875 [==============================] - 9s 5ms/step - loss: 0.0982\n",
      "Epoch 24/30\n",
      "1875/1875 [==============================] - 9s 5ms/step - loss: 0.0942\n",
      "Epoch 25/30\n",
      "1875/1875 [==============================] - 9s 5ms/step - loss: 0.0903\n",
      "Epoch 26/30\n",
      "1875/1875 [==============================] - 9s 5ms/step - loss: 0.0869\n",
      "Epoch 27/30\n",
      "1875/1875 [==============================] - 9s 5ms/step - loss: 0.0831\n",
      "Epoch 28/30\n",
      "1875/1875 [==============================] - 9s 5ms/step - loss: 0.0803\n",
      "Epoch 29/30\n",
      "1875/1875 [==============================] - 9s 5ms/step - loss: 0.0770\n",
      "Epoch 30/30\n",
      "1875/1875 [==============================] - 9s 5ms/step - loss: 0.0742\n"
     ]
    }
   ],
   "source": [
    "nn4mnist = NeuralNetwork()\n",
    "\n",
    "# Hoàn tất đoạn code sau đây với việc sử dụng biến `nn4mnist` để gọi\n",
    "# phương thức `build`# và `train`. Lưu ý: sử dụng các tham số phù hợp\n",
    "# theo yêu cầu đã nêu.\n",
    "\n",
    "### BEGIN SOLUTION\n",
    "\n",
    "\n",
    "### END SOLUTION"
   ]
  },
  {
   "cell_type": "code",
   "execution_count": null,
   "id": "4LkP07Vec5kT",
   "metadata": {
    "execution": {
     "iopub.execute_input": "2024-04-06T10:18:11.747402Z",
     "iopub.status.busy": "2024-04-06T10:18:11.745774Z",
     "iopub.status.idle": "2024-04-06T10:18:12.198532Z",
     "shell.execute_reply": "2024-04-06T10:18:12.196272Z"
    },
    "id": "4LkP07Vec5kT"
   },
   "outputs": [
    {
     "data": {
      "image/png": "[encoded data removed]",
      "text/plain": [
       "<Figure size 640x480 with 1 Axes>"
      ]
     },
     "metadata": {},
     "output_type": "display_data"
    }
   ],
   "source": [
    "# Trực quan hóa giá trị loss trong quá trình huấn luyện\n",
    "plt.plot(hist.history['loss'])\n",
    "plt.title('Model Loss')\n",
    "plt.ylabel('loss')\n",
    "plt.xlabel('epoch')\n",
    "plt.show()"
   ]
  },
  {
   "cell_type": "code",
   "execution_count": null,
   "id": "KNngPMH_c2Uk",
   "metadata": {
    "execution": {
     "iopub.execute_input": "2024-04-06T10:18:12.208452Z",
     "iopub.status.busy": "2024-04-06T10:18:12.206264Z",
     "iopub.status.idle": "2024-04-06T10:18:12.216597Z",
     "shell.execute_reply": "2024-04-06T10:18:12.214540Z"
    },
    "id": "KNngPMH_c2Uk"
   },
   "outputs": [],
   "source": [
    "# Public Test\n",
    "assert hist is not None\n",
    "assert 'loss' in hist.history\n",
    "assert len(hist.history['loss']) == 30"
   ]
  },
  {
   "cell_type": "markdown",
   "id": "ZdW22hK-c--7",
   "metadata": {
    "id": "ZdW22hK-c--7"
   },
   "source": [
    "Sau quá trình huấn luyện, chúng ta sử dụng mô hình để dự đoán trên mẫu dữ liệu test:"
   ]
  },
  {
   "cell_type": "code",
   "execution_count": null,
   "id": "yr_dK2Rwc9JF",
   "metadata": {
    "execution": {
     "iopub.execute_input": "2024-04-06T10:18:12.263088Z",
     "iopub.status.busy": "2024-04-06T10:18:12.262225Z",
     "iopub.status.idle": "2024-04-06T10:18:13.975879Z",
     "shell.execute_reply": "2024-04-06T10:18:13.972235Z"
    },
    "id": "yr_dK2Rwc9JF"
   },
   "outputs": [
    {
     "name": "stdout",
     "output_type": "stream",
     "text": [
      "313/313 [==============================] - 1s 3ms/step\n"
     ]
    }
   ],
   "source": [
    "pred = nn4mnist.predict(x_test_vec)"
   ]
  },
  {
   "cell_type": "markdown",
   "id": "4Z6-hDXUdGwk",
   "metadata": {
    "id": "4Z6-hDXUdGwk"
   },
   "source": [
    "Cuối cùng, trực quan hóa một mẫu dữ liệu test bất kỳ (ví dụ mẫu thứ 50):"
   ]
  },
  {
   "cell_type": "code",
   "execution_count": null,
   "id": "JMKe8wEvdAxY",
   "metadata": {
    "execution": {
     "iopub.execute_input": "2024-04-06T10:18:13.986815Z",
     "iopub.status.busy": "2024-04-06T10:18:13.986099Z",
     "iopub.status.idle": "2024-04-06T10:18:14.426892Z",
     "shell.execute_reply": "2024-04-06T10:18:14.424661Z"
    },
    "id": "JMKe8wEvdAxY"
   },
   "outputs": [
    {
     "name": "stdout",
     "output_type": "stream",
     "text": [
      "Label of the data:  6\n",
      "Predicted label of the data:  6\n"
     ]
    },
    {
     "data": {
      "image/png": "[encoded data removed]",
      "text/plain": [
       "<Figure size 640x480 with 1 Axes>"
      ]
     },
     "metadata": {},
     "output_type": "display_data"
    }
   ],
   "source": [
    "# Show the 50-th test sample\n",
    "test_id = 50\n",
    "plt.imshow(x_test[test_id])\n",
    "print('Label of the data: ', y_test[test_id])\n",
    "print('Predicted label of the data: ', np.argmax(pred[test_id]))"
   ]
  }
 ],
 "metadata": {
  "colab": {
   "provenance": []
  },
  "kernelspec": {
   "display_name": "Python 3",
   "language": "python",
   "name": "python3"
  },
  "language_info": {
   "codemirror_mode": {
    "name": "ipython",
    "version": 3
   },
   "file_extension": ".py",
   "mimetype": "text/x-python",
   "name": "python",
   "nbconvert_exporter": "python",
   "pygments_lexer": "ipython3",
   "version": "3.12.7"
  }
 },
 "nbformat": 4,
 "nbformat_minor": 5
}
