{
 "cells": [
  {
   "cell_type": "markdown",
   "metadata": {},
   "source": [
    "1. Tìm vị trí\n",
    "Viết chương trình tìm kiếm một số trong mảng tăng dần với yêu cầu như sau:\n",
    "\n",
    "INPUT\n",
    "Dòng đầu tiên chứa số n (không quá một triệu), là số phần tử trong mảng\n",
    "\n",
    "Dòng thứ hai chứ n số nguyên dương (không quá một tỷ), cách nhau bởi khoảng trắng, đây là các phần tử của mảng\n",
    "\n",
    "Dòng thứ ba chưa số m (không quá một triệu), đây là số lượng số cần phải tìm.\n",
    "\n",
    "Dòng cuối cùng của input chứa m số nguyên dương x1, x2, ..., xm, giá trị mỗi số không quá một tỷ. Đây là các số cần tìm.\n",
    "\n",
    "OUPUT\n",
    "Ứng với mỗi số cần tìm, xuất ra trên một dòng vị trí của số đó trong mảng. Quy ước số đầu tiên của mảng có vị trí là 0 và nếu số cần tìm không có trong mảng xuất ra -1. Nếu số cần tìm xuất hiện ở nhiều vị trí trong mảng, xuất ra vị trí ở gần phía cuối mảng nhất. Lưu ý là trong mảng có thể có những số lặp đi lặp lại CỰC KỲ NHIỀU lần."
   ]
  },
  {
   "cell_type": "code",
   "execution_count": 14,
   "metadata": {},
   "outputs": [
    {
     "name": "stdout",
     "output_type": "stream",
     "text": [
      "Overwriting gentest1.py\n"
     ]
    }
   ],
   "source": [
    "%%writefile gentest1.py\n",
    "import random\n",
    "\n",
    "n,m = 7,6\n",
    "\n",
    "print(n)\n",
    "print(*sorted([random.randint(-n,n) for i in range(n)]))\n",
    "print(m)\n",
    "print(*[random.randint(-n,n) for i in range(m)])"
   ]
  },
  {
   "cell_type": "code",
   "execution_count": 15,
   "metadata": {
    "vscode": {
     "languageId": "powershell"
    }
   },
   "outputs": [],
   "source": [
    "!python gentest1.py > test1.txt"
   ]
  },
  {
   "cell_type": "code",
   "execution_count": 20,
   "metadata": {},
   "outputs": [
    {
     "name": "stdout",
     "output_type": "stream",
     "text": [
      "Overwriting sol1.py\n"
     ]
    }
   ],
   "source": [
    "%%writefile sol1.py\n",
    "import sys\n",
    "\n",
    "def binary_search(a, x):\n",
    "    l = 0\n",
    "    r = len(a) - 1\n",
    "    while l < r:\n",
    "        mid = (l + r) // 2\n",
    "        if a[mid] > x:\n",
    "            l = mid + 1\n",
    "        else:\n",
    "            r = mid\n",
    "    if a[l] == x:\n",
    "        return l\n",
    "    else:\n",
    "        return -1\n",
    "\n",
    "n = int(sys.stdin.readline())\n",
    "a = ( list(reversed(list(map(int, sys.stdin.readline().strip().split())))))\n",
    "m = int(sys.stdin.readline())\n",
    "b = list(map(int, sys.stdin.readline().split()))\n",
    "\n",
    "for target in b:\n",
    "    idx = binary_search(a, target)\n",
    "    if idx != -1:\n",
    "        print(n - 1 - idx)\n",
    "    else:\n",
    "        print(-1)\n",
    "        \n"
   ]
  },
  {
   "cell_type": "code",
   "execution_count": 21,
   "metadata": {
    "vscode": {
     "languageId": "powershell"
    }
   },
   "outputs": [
    {
     "name": "stdout",
     "output_type": "stream",
     "text": [
      "0\n",
      "1\n",
      "-1\n"
     ]
    }
   ],
   "source": [
    "!python sol1.py < test1.txt"
   ]
  },
  {
   "cell_type": "markdown",
   "metadata": {},
   "source": [
    "2. Lower bound\n",
    "Viết chương trình tìm kiếm một số trong mảng tăng dần với yêu cầu như sau:\n",
    "\n",
    "INPUT\n",
    "Dòng đầu tiên chứa số n (không quá một triệu), là số phần tử trong mảng\n",
    "\n",
    "Dòng thứ hai chứ n số nguyên dương (không quá một tỷ), cách nhau bởi khoảng trắng, đây là các phần tử của mảng\n",
    "\n",
    "Dòng thứ ba chưa số m (không quá một triệu), đây là số lượng số cần phải tìm.\n",
    "\n",
    "Dòng cuối cùng của input chứa m số nguyên dương x1, x2, ..., xm, giá trị mỗi số không quá một tỷ. Đây là các số cần tìm.\n",
    "\n",
    "OUPUT\n",
    "Ứng với mỗi số cần tìm, xuất ra trên một dòng vị trí của số đó trong mảng. Quy ước số đầu tiên của mảng có vị trí là 0 và nếu số cần tìm không có trong mảng xuất ra -1. Nếu số cần tìm xuất hiện ở nhiều vị trí trong mảng, xuất ra vị trí ở gần phía đầu mảng nhất"
   ]
  },
  {
   "cell_type": "code",
   "execution_count": 22,
   "metadata": {
    "vscode": {
     "languageId": "powershell"
    }
   },
   "outputs": [
    {
     "name": "stdout",
     "output_type": "stream",
     "text": [
      "Writing gentest2.py\n"
     ]
    }
   ],
   "source": [
    "%%writefile gentest2.py\n",
    "import random\n",
    "\n",
    "n,m = 100,80\n",
    "\n",
    "print(n)\n",
    "print(*sorted([random.randint(-n,n) for i in range(n)]))\n",
    "print(m)\n",
    "print(*[random.randint(-n,n) for i in range(m)])"
   ]
  },
  {
   "cell_type": "code",
   "execution_count": 23,
   "metadata": {
    "vscode": {
     "languageId": "powershell"
    }
   },
   "outputs": [],
   "source": [
    "!python gentest2.py > test2.txt"
   ]
  },
  {
   "cell_type": "code",
   "execution_count": 1,
   "metadata": {},
   "outputs": [],
   "source": [
    "%%writefile sol2.py\n",
    "import sys\n",
    "\n",
    "def binary_search(a, x):\n",
    "    l = 0\n",
    "    r = len(a) - 1\n",
    "    while l < r:\n",
    "        mid = (l + r) // 2\n",
    "        if a[mid] < x:\n",
    "            l = mid + 1\n",
    "        else:\n",
    "            r = mid\n",
    "    if a[l] == x:\n",
    "        return l\n",
    "    else:\n",
    "        return -1\n",
    "\n",
    "n = int(sys.stdin.readline())\n",
    "a = ((list(map(int, sys.stdin.readline().strip().split()))))\n",
    "m = int(sys.stdin.readline())\n",
    "b = list(map(int, sys.stdin.readline().split()))\n",
    "\n",
    "for target in b:\n",
    "    idx = binary_search(a, target)\n",
    "    if idx != -1:\n",
    "        print(idx)\n",
    "    else:\n",
    "        print(-1)\n",
    "        \n"
   ]
  },
  {
   "cell_type": "code",
   "execution_count": 26,
   "metadata": {
    "vscode": {
     "languageId": "powershell"
    }
   },
   "outputs": [
    {
     "name": "stdout",
     "output_type": "stream",
     "text": [
      "-1\n",
      "17\n",
      "50\n",
      "-1\n",
      "10\n",
      "-1\n",
      "-1\n",
      "-1\n",
      "-1\n",
      "-1\n",
      "-1\n",
      "-1\n",
      "-1\n",
      "-1\n",
      "-1\n",
      "-1\n",
      "-1\n",
      "-1\n",
      "-1\n",
      "-1\n",
      "88\n",
      "-1\n",
      "14\n",
      "-1\n",
      "10\n",
      "-1\n",
      "-1\n",
      "59\n",
      "-1\n",
      "4\n",
      "28\n",
      "-1\n",
      "-1\n",
      "-1\n",
      "-1\n",
      "-1\n",
      "-1\n",
      "-1\n",
      "-1\n",
      "-1\n",
      "-1\n",
      "40\n",
      "28\n",
      "-1\n",
      "13\n",
      "-1\n",
      "-1\n",
      "-1\n",
      "47\n",
      "23\n",
      "-1\n",
      "-1\n",
      "60\n",
      "-1\n",
      "32\n",
      "-1\n",
      "39\n",
      "62\n",
      "18\n",
      "42\n",
      "97\n",
      "69\n",
      "-1\n",
      "-1\n",
      "59\n",
      "-1\n",
      "65\n",
      "-1\n",
      "-1\n",
      "-1\n",
      "93\n",
      "-1\n",
      "-1\n",
      "-1\n",
      "95\n",
      "-1\n",
      "91\n",
      "57\n",
      "-1\n",
      "6\n"
     ]
    }
   ],
   "source": [
    "!python sol2.py < test2.txt"
   ]
  },
  {
   "cell_type": "markdown",
   "metadata": {},
   "source": [
    "3. Count phần giao\n",
    "Đối với các mạng xã hội, các trò chơi trực tuyến hay các dịch vụ mạng khác có hỗ trợ trao đổi thông tin theo thời gian thực như nhắn tin, gọi điện, v.v... Việc quản lý danh sách người dùng đang online là công việc thiết yếu. Khi có một user online, hệ thống sẽ phải cho user này biết có ai trong số bạn bè của anh ấy cũng đang online. Các bạn hãy viết chương trình cho biết số friend đang online của user X.\n",
    "\n",
    "INPUT\n",
    "Hàng đầu tiên của input chứ m, n (0 < m,n < 10.000). Trong đó m là số lượng người đang online của toàn hệ thống, n là số lượng friend của người dùng đang xét.\n",
    "\n",
    "Hàng tiếp theo chứa m con số nguyên dương, mỗi số giá trị không quá 1 tỷ và cách nhau bởi khoảng trắng. Đây là các mã số của những người dùng đang online, m số nguyên dương này được xếp theo thứ tự tăng dần và không có mã số nào trùng nhau.\n",
    "\n",
    "Hàng tiếp theo chứa n con số nguyên dương, mỗi số giá trị không quá 1 tỷ và cách nhau bởi khoảng trắng. Đây là các mã số của bạn bè của user X.\n",
    "\n",
    "OUTPUT\n",
    "Xuất ra trên một dòng số lượng bạn của X đang online"
   ]
  },
  {
   "cell_type": "code",
   "execution_count": 8,
   "metadata": {
    "vscode": {
     "languageId": "powershell"
    }
   },
   "outputs": [
    {
     "name": "stdout",
     "output_type": "stream",
     "text": [
      "Overwriting gentest3.py\n"
     ]
    }
   ],
   "source": [
    "%%writefile gentest3.py\n",
    "import random\n",
    "\n",
    "m,n = 100,80\n",
    "\n",
    "print(m,n)\n",
    "print(*sorted([random.randint(0,1000000000) for i in range(m)]))\n",
    "print(*[random.randint(0,1000000000) for i in range(n)])"
   ]
  },
  {
   "cell_type": "code",
   "execution_count": 9,
   "metadata": {
    "vscode": {
     "languageId": "powershell"
    }
   },
   "outputs": [],
   "source": [
    "!python gentest3.py > test3.txt"
   ]
  },
  {
   "cell_type": "code",
   "execution_count": 12,
   "metadata": {
    "vscode": {
     "languageId": "powershell"
    }
   },
   "outputs": [
    {
     "name": "stdout",
     "output_type": "stream",
     "text": [
      "Overwriting sol3.py\n"
     ]
    }
   ],
   "source": [
    "%%writefile sol3.py\n",
    "import sys\n",
    "\n",
    "def binary_search(a, x):\n",
    "    l = 0\n",
    "    r = len(a) - 1\n",
    "    while l < r:\n",
    "        mid = (l + r) // 2\n",
    "        if a[mid] < x:\n",
    "            l = mid + 1\n",
    "        else:\n",
    "            r = mid\n",
    "    if a[l] == x:\n",
    "        return True\n",
    "    else:\n",
    "        return False\n",
    "\n",
    "m,n = map(int,sys.stdin.readline().split())\n",
    "a = ((list(map(int, sys.stdin.readline().strip().split()))))\n",
    "b = list(map(int, sys.stdin.readline().split()))\n",
    "cnt = 0\n",
    "for target in b:\n",
    "    if binary_search(a, target):\n",
    "        cnt += 1\n",
    "\n",
    "print(cnt)\n",
    "        \n"
   ]
  },
  {
   "cell_type": "code",
   "execution_count": 14,
   "metadata": {
    "vscode": {
     "languageId": "powershell"
    }
   },
   "outputs": [
    {
     "name": "stdout",
     "output_type": "stream",
     "text": [
      "1\n"
     ]
    }
   ],
   "source": [
    "!python sol3.py < test3.txt"
   ]
  },
  {
   "cell_type": "markdown",
   "metadata": {},
   "source": [
    "4. K số gần nhất\n",
    "Cho mảng số nguyên A đã sắp xếp tăng dần, tìm trong mảng k số có giá trị gần với giá trị x nhất.\n",
    "\n",
    "INPUT\n",
    "Dòng đầu tiên cho biết số phần tử của mảng\n",
    "\n",
    "Dòng thứ 2 là toàn bộ mảng liệt kê trên một hàng, các phần tử cách nhau bởi khoảng trắng\n",
    "\n",
    "Dòng cuối cùng lần lượt là 02 số k và x\n",
    "\n",
    "OUTPUT\n",
    "k số có giá trị gần với x nhất trong mảng. Các số này được xuất theo thứ tự tăng dần (trong trường hợp mảng có nhiều số có cùng khoảng cách tới x, ưu tiên chọn số có giá trị nhỏ hơn)"
   ]
  },
  {
   "cell_type": "code",
   "execution_count": 15,
   "metadata": {
    "vscode": {
     "languageId": "powershell"
    }
   },
   "outputs": [
    {
     "name": "stdout",
     "output_type": "stream",
     "text": [
      "Writing gentest4.py\n"
     ]
    }
   ],
   "source": [
    "%%writefile gentest4.py\n",
    "import random\n",
    "\n",
    "m,n = 100,80\n",
    "\n",
    "print(m,n)\n",
    "print(*sorted([random.randint(0,1000000000) for i in range(m)]))\n",
    "print(*[random.randint(0,1000000000) for i in range(n)])"
   ]
  },
  {
   "cell_type": "code",
   "execution_count": 16,
   "metadata": {
    "vscode": {
     "languageId": "powershell"
    }
   },
   "outputs": [],
   "source": [
    "!python gentest4.py > test4.txt"
   ]
  },
  {
   "cell_type": "code",
   "execution_count": 27,
   "metadata": {
    "vscode": {
     "languageId": "powershell"
    }
   },
   "outputs": [
    {
     "name": "stdout",
     "output_type": "stream",
     "text": [
      "Overwriting sol4.py\n"
     ]
    }
   ],
   "source": [
    "%%writefile sol4.py\n",
    "import sys\n",
    "\n",
    "def find_closest_elements(arr, k, x):\n",
    "    left = 0\n",
    "    right = len(arr) - k\n",
    "    \n",
    "    while left < right:\n",
    "        mid = (left + right) // 2\n",
    "        if x - arr[mid] > arr[mid + k] - x:\n",
    "            left = mid + 1\n",
    "        else:\n",
    "            right = mid\n",
    "    \n",
    "    return arr[left:left + k]\n",
    "\n",
    "n = int(sys.stdin.readline())\n",
    "a = ((list(map(int, sys.stdin.readline().strip().split()))))\n",
    "k, x = map(int, sys.stdin.readline().strip().split())\n",
    "\n",
    "result = find_closest_elements(a, k, x)\n",
    "\n",
    "for num in result:\n",
    "    print(num, end=\" \")\n"
   ]
  },
  {
   "cell_type": "code",
   "execution_count": 29,
   "metadata": {
    "vscode": {
     "languageId": "powershell"
    }
   },
   "outputs": [
    {
     "name": "stdout",
     "output_type": "stream",
     "text": [
      "1 2 4 \n"
     ]
    }
   ],
   "source": [
    "!python sol4.py < test4.txt"
   ]
  },
  {
   "cell_type": "markdown",
   "metadata": {},
   "source": [
    "5. K số gần nhất (2)\n",
    "Cho mảng số nguyên A đã sắp xếp tăng dần, tìm trong mảng k số có giá trị gần với giá trị x nhất.\n",
    "\n",
    "INPUT\n",
    "Dòng đầu tiên cho biết số phần tử của mảng\n",
    "\n",
    "Dòng thứ 2 là toàn bộ mảng liệt kê trên một hàng, các phần tử cách nhau bởi khoảng trắng\n",
    "\n",
    "Các dòng sau đó, mỗi dòng chứa 02 số k  và x , k ≤ n\n",
    "\n",
    "Input kết thúc bằng một dòng trống không có nội dung.\n",
    "\n",
    "OUTPUT\n",
    "Ứng với mỗi cặp số (k, x) xuất ra màn hình số lớn nhất và nhỏ nhất trong dãy k số có giá trị gần với x nhất."
   ]
  },
  {
   "cell_type": "code",
   "execution_count": 1,
   "metadata": {
    "vscode": {
     "languageId": "powershell"
    }
   },
   "outputs": [
    {
     "name": "stdout",
     "output_type": "stream",
     "text": [
      "Overwriting gentest5.py\n"
     ]
    }
   ],
   "source": [
    "%%writefile gentest5.py\n",
    "import random\n",
    "\n",
    "n = 100\n",
    "\n",
    "print(n)\n",
    "print(*sorted([random.randint(0,1000000000) for i in range(n)]))\n",
    "\n",
    "for i in range(50):\n",
    "        k = random.randint(0,n)\n",
    "        x = random.randint(0,1000000000)\n",
    "        print(k,x)"
   ]
  },
  {
   "cell_type": "code",
   "execution_count": 2,
   "metadata": {
    "vscode": {
     "languageId": "powershell"
    }
   },
   "outputs": [],
   "source": [
    "!python gentest5.py > test5.txt"
   ]
  },
  {
   "cell_type": "code",
   "execution_count": 3,
   "metadata": {
    "vscode": {
     "languageId": "powershell"
    }
   },
   "outputs": [
    {
     "name": "stdout",
     "output_type": "stream",
     "text": [
      "Overwriting sol5.py\n"
     ]
    }
   ],
   "source": [
    "%%writefile sol5.py\n",
    "\n",
    "import sys\n",
    "\n",
    "def print_(arr_min, arr_max):\n",
    "    return f\"{arr_min} {arr_max}\\n\"\n",
    "    \n",
    "def find_closest_numbers(arr, k, x):\n",
    "    left = 0\n",
    "    right = len(arr) - k\n",
    "    while left < right:\n",
    "        mid = (left + right) // 2\n",
    "        if x - arr[mid] > arr[mid + k] - x:\n",
    "            left = mid + 1\n",
    "        else:\n",
    "            right = mid\n",
    "    return arr[left], arr[left + k - 1]\n",
    "\n",
    "n = int(sys.stdin.readline())\n",
    "arr = list(map(int, sys.stdin.readline().split()))\n",
    "result = []\n",
    "\n",
    "while True:\n",
    "    line = sys.stdin.readline().strip()\n",
    "    if not line:\n",
    "        break\n",
    "    k, x = map(int, line.split())\n",
    "    result.append(find_closest_numbers(arr, k, x))\n",
    "result_strings = [print_(arr_min, arr_max) for arr_min, arr_max in result]\n",
    "sys.stdout.writelines(result_strings)"
   ]
  },
  {
   "cell_type": "code",
   "execution_count": 5,
   "metadata": {
    "vscode": {
     "languageId": "powershell"
    }
   },
   "outputs": [
    {
     "name": "stdout",
     "output_type": "stream",
     "text": [
      "27764 27766\n",
      "27766 27766\n",
      "27760 27766\n",
      "27753 27766\n",
      "27765 27766\n",
      "27758 27766\n"
     ]
    }
   ],
   "source": [
    "!python sol5.py < test5.txt"
   ]
  }
 ],
 "metadata": {
  "kernelspec": {
   "display_name": "Python 3",
   "language": "python",
   "name": "python3"
  },
  "language_info": {
   "codemirror_mode": {
    "name": "ipython",
    "version": 3
   },
   "file_extension": ".py",
   "mimetype": "text/x-python",
   "name": "python",
   "nbconvert_exporter": "python",
   "pygments_lexer": "ipython3",
   "version": "3.11.5"
  }
 },
 "nbformat": 4,
 "nbformat_minor": 2
}
