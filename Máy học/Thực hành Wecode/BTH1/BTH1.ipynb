{
 "cells": [
  {
   "cell_type": "markdown",
   "metadata": {},
   "source": [
    "1. Thử tô màu\n",
    "Bạn Bình mua được một tờ giấy kẻ ô được tô màu trắng đen lẫn lộn. Nhìn tờ giấy tô màu không có quy tắc gì cả, Bình bỗng nghĩ ra một câu hỏi thú vị. Giả sử chúng ta chọn một vài hàng và một vài cột nào đó (có thể không chọn cũng được), sau đó tô lại tất cả các ô trong những hàng và cột được chọn thành màu đỏ thì có cách nào để số ô màu đen còn lại sẽ đúng bằng số tuổi của Bình hay không?\n",
    "\n",
    "Hãy viết chương trình giúp Bình đếm xem có bao nhiêu cách chọn hàng và cột thỏa mãn yêu cầu.\n",
    "\n",
    "INPUT\n",
    "Dòng đầu tin chứa 03 số nguyên H, W, K, lần lượt là số hàng, số cột và số tuổi của Bình.\n",
    "\n",
    "H dòng tiếp theo sẽ có đúng W ký tự viết liền với nhau. Ký tự dấu chấm (\".\") đại diện cho ô màu trắng, và ký tự dấu hashtag (\"#\") đại diện cho ô màu đen.\n",
    "\n",
    "Cho biết H và W sẽ không vượt quá 6 và Bình thì không quá H*W tuổi\n",
    "\n",
    "OUTPUT\n",
    "Số cách lựa chọn thỏa mãn yêu cầu"
   ]
  },
  {
   "cell_type": "code",
   "execution_count": 1,
   "metadata": {},
   "outputs": [
    {
     "ename": "ValueError",
     "evalue": "not enough values to unpack (expected 3, got 0)",
     "output_type": "error",
     "traceback": [
      "\u001b[1;31m---------------------------------------------------------------------------\u001b[0m",
      "\u001b[1;31mValueError\u001b[0m                                Traceback (most recent call last)",
      "Cell \u001b[1;32mIn[1], line 14\u001b[0m\n\u001b[0;32m     11\u001b[0m                 cnt \u001b[38;5;241m+\u001b[39m\u001b[38;5;241m=\u001b[39m \u001b[38;5;241m1\u001b[39m\n\u001b[0;32m     12\u001b[0m     \u001b[38;5;28;01mreturn\u001b[39;00m cnt\n\u001b[1;32m---> 14\u001b[0m H, W, K \u001b[38;5;241m=\u001b[39m \u001b[38;5;28mmap\u001b[39m(\u001b[38;5;28mint\u001b[39m, \u001b[38;5;28minput\u001b[39m()\u001b[38;5;241m.\u001b[39msplit())\n\u001b[0;32m     15\u001b[0m grid \u001b[38;5;241m=\u001b[39m [\u001b[38;5;28mlist\u001b[39m(\u001b[38;5;28minput\u001b[39m()) \u001b[38;5;28;01mfor\u001b[39;00m _ \u001b[38;5;129;01min\u001b[39;00m \u001b[38;5;28mrange\u001b[39m(H)] \n\u001b[0;32m     17\u001b[0m \u001b[38;5;28mprint\u001b[39m(solution(H, W, K, grid))\n",
      "\u001b[1;31mValueError\u001b[0m: not enough values to unpack (expected 3, got 0)"
     ]
    }
   ],
   "source": [
    "def solution(H, W, K, grid):\n",
    "    cnt = 0\n",
    "    for row_mask in range(1 << H):\n",
    "        for col_mask in range(1 << W):\n",
    "            black_cells = 0\n",
    "            for i in range(H):\n",
    "                for j in range(W):\n",
    "                    if grid[i][j] == '#' and not (row_mask & (1 << i) or col_mask & (1 << j)):\n",
    "                        black_cells += 1\n",
    "            if black_cells == K:\n",
    "                cnt += 1\n",
    "    return cnt\n",
    "\n",
    "H, W, K = map(int, input().split())\n",
    "grid = [list(input()) for _ in range(H)] \n",
    "\n",
    "print(solution(H, W, K, grid))"
   ]
  },
  {
   "cell_type": "markdown",
   "metadata": {},
   "source": [
    "2. Lô tô\n",
    "An đang tham gia một trò chơi do hội trại của trường tổ chức, được gọi là \"Lô Tô 3x3\". Trò chơi này khá giống với trò chơi lô tô truyền thống, nhưng có một vài thay đổi trong cách chơi và cấu trúc phiếu chơi.\n",
    "\n",
    "Mỗi người chơi nhận một phiếu chơi có dạng hình vuông 3x3, với mỗi ô tại hàng i từ trên xuống và cột j từ trái sang phải chứa số \n",
    "A\n",
    "i\n",
    ",\n",
    "j\n",
    ". Những con số này nằm trong khoảng từ 1 đến 100 và không có hai ô nào trong phiếu có số giống nhau.\n",
    "\n",
    "Sau đó, người dẫn quản trò sẽ lấy ngẫu nhiên trong một hộp kín ra lần lượt các N phiếu có chứa số \n",
    "b\n",
    "1\n",
    ",\n",
    "b\n",
    "2\n",
    ",\n",
    "…\n",
    ",\n",
    "b\n",
    "N\n",
    ". Nếu phiếu lô tô chứa một số trong những số được lấy lên từ hộp, người chơi sẽ đánh dấu chúng trên phiếu của mình. Người chơi đầu tiên có một hàng, cột hoặc đường chéo của ba số đã đánh dấu trên phiếu sẽ là người chiến thắng và nhận được một phần quà rất giá trị.\n",
    "\n",
    "Nhiệm vụ của bạn là giúp An xác định rằng cậu ấy có thể nhận được phần quà từ trò chơi này sau N lần lấy phiếu hay không?\n",
    "\n",
    "Input:\n",
    "\n",
    "Trong 3 dòng đầu tiên, dòng chứ i chứa ba số nguyên \n",
    "A\n",
    "i\n",
    ",\n",
    "1\n",
    ",\n",
    "A\n",
    "i\n",
    ",\n",
    "2\n",
    ",\n",
    "A\n",
    "i\n",
    ",\n",
    "3\n",
    ".\n",
    "\n",
    "Dòng thứ 4 chứa số nguyên N \n",
    "(\n",
    "1\n",
    "≤\n",
    "N\n",
    "≤\n",
    "10\n",
    ")\n",
    " là số lấy phiếu trong hộp kín.\n",
    "\n",
    "N dòng tiếp theo mỗi dòng là một số nguyên bi là số trên phiếu ở lần lấy thứ i.\n",
    "\n",
    " \n",
    "\n",
    "Output:\n",
    "\n",
    "     Nếu An đạt được giải thưởng thì in ra ‘Yes’, ngược lại in ra ‘No’."
   ]
  },
  {
   "cell_type": "code",
   "execution_count": null,
   "metadata": {},
   "outputs": [],
   "source": [
    "def check(Phieu):\n",
    "    for i in range(3):\n",
    "        if sum(Phieu[i]) == 0 or sum( c[i] for c in Phieu) == 0:\n",
    "            return True\n",
    "        for j in range(3):\n",
    "            if (Phieu[0][0] + Phieu[1][1] + Phieu[2][2] == 0) or (Phieu[0][2] + Phieu[1][1] + Phieu[2][0] == 0):\n",
    "                return True\n",
    "    return False\n",
    "\n",
    "Phieu = []\n",
    "for i in range(3):\n",
    "        a = [int(x) for x in input().strip().split()]\n",
    "        Phieu.append(a)\n",
    "n = int(input())\n",
    "num = [int(input()) for _ in range(n)]\n",
    "\n",
    "for i in range(3):\n",
    "    for j in range(3):\n",
    "        if(Phieu[i][j] in num):\n",
    "            Phieu[i][j] = 0\n",
    "\n",
    "if (n<3):\n",
    "    print(\"No\")\n",
    "elif (check(Phieu)):\n",
    "    print(\"Yes\")\n",
    "else:\n",
    "    print(\"No\")"
   ]
  },
  {
   "cell_type": "markdown",
   "metadata": {},
   "source": [
    "3. Trạm ga\n",
    "Trong một quốc gia nhỏ có tên là XYZ, có bốn thành phố lớn. Những thành phố này được bố trí trên bản đồ theo cấu trúc một lưới 2x2, mỗi thành phố nằm ở một ô riêng. Thông qua hệ thống đường sắt, mỗi thành phố có thể kết nối với nhau. Mỗi thành phố, nếu được xây dựng trạm ga sẽ được đánh dấu trên bản đồ là ký tự \"#\", còn thành phố không có trạm ga thì sẽ được đánh dấu là ký tự là  \".\".\n",
    "\n",
    "Quốc gia nhỏ XYZ có tài chính còn eo hẹp nên chỉ xây dựng các tuyến đường sắt giữa hai thành phố có trạm ga và hai thành phố này phải kề nhau (chung cạnh trên bản đồ) . Hai thành phố có trạm ga nhưng không kề nhau thì có thể di chuyển qua lại bằng cách di chuyển thông qua những thành phố trung gian khác. \n",
    "\n",
    "Chính phủ XYZ đã xây dựng một số trạm ga ở trong một số thành phố (có ít nhất 2 thành phố có trạm ga), nhưng không biết là hai thành phố có trạm ga khác nhau có thể di chuyển qua lại với nhau được hay không.\n",
    "\n",
    "Bạn hãy viết chương trình để kiểm tra thử xem là các thành phố có trạm ga có thể di chuyển qua lại được không nhé!\n",
    "\n",
    "Input: \n",
    "\n",
    "Dòng thứ nhất, gồm 2 ký tự biểu diễn có trạm ga hay không ở hai thành phố góc trên bên trái và góc trên bên phải.\n",
    "\n",
    "Dòng thứ hai, gồm 2 ký tự biểu diễn có trạm ga hay không ở hai thành phố góc dưới bên trái và góc dưới bên phải. \n",
    "\n",
    "Output: In ra “Yes” nếu các thành phố có trạm ga có thể di chuyển qa lại được. Ngược lại, in ra “No”."
   ]
  },
  {
   "cell_type": "code",
   "execution_count": null,
   "metadata": {},
   "outputs": [],
   "source": [
    "def is_connected(grid):\n",
    "    if (grid[0][0] == '#' and grid[0][1] == '#') or (grid[1][0] == '#' and grid[1][1] == '#') or(grid[0][0] == '#' and grid[1][0] == '#') or (grid[0][1] == '#' and grid[1][1] == '#'):\n",
    "        return \"Yes\"\n",
    "    else:\n",
    "        return \"No\"\n",
    "\n",
    "# Đọc input\n",
    "grid = [input().strip() for _ in range(2)]\n",
    "\n",
    "# In kết quả\n",
    "print(is_connected(grid))"
   ]
  },
  {
   "cell_type": "markdown",
   "metadata": {},
   "source": [
    "5. Tìm hình vuông khi biết 1 cạnh\n",
    "Cho hai điểm A, B trong hệ tọa độ. Hỏi có những hình vuông nào nhận AB là một cạnh của mình?\n",
    "\n",
    "INPUT\n",
    "Hàng đầu là tọa độ của điểm A, cách nhau bởi khoảng trắng\n",
    "\n",
    "Hàng cuôi cùng là tọa độ của điểm B\n",
    "\n",
    "OUTPUT\n",
    "Xuất tọa độ các hình vuông. Mỗi hình trên một hàng, tọa độ các đỉnh trong hình vuông được xuất theo chiều kim đồng hồ với điểm A dược xuất đầu tiên.\n",
    "\n",
    "VÍ DỤ\n",
    "Input\t\n",
    "2 4\n",
    "3 4\n",
    "Output\n",
    "(2, 4) (2, 5) (3, 5) (3, 4)\n",
    "(2, 4) (3, 4) (3, 3) (2, 3)"
   ]
  },
  {
   "cell_type": "code",
   "execution_count": null,
   "metadata": {},
   "outputs": [
    {
     "name": "stdout",
     "output_type": "stream",
     "text": [
      "(2, 2, 3)\n",
      "(2, 2, 3) (1, 3) (2, 4) (3, 3)\n",
      "(2, 2, 3) (3, 3) (4, 2) (3, 1)\n"
     ]
    }
   ],
   "source": [
    "A = tuple(map(int, input().split()))\n",
    "B = tuple(map(int, input().split()))\n",
    "ans = []\n",
    "C1 = (B[0]-(B[1]-A[1]), B[1]+(B[0]-A[0]))\n",
    "D1 = (A[0]-(B[1]-A[1]), A[1]+(B[0]-A[0]))\n",
    "C2 = (B[0]+(B[1]-A[1]), B[1]-(B[0]-A[0]))\n",
    "D2 = (A[0]+(B[1]-A[1]), A[1]-(B[0]-A[0]))\n",
    "\n",
    "ans.append((A,D1,C1,B))\n",
    "ans.append((A,B,C2,D2))\n",
    "# In kết quả\n",
    "for square in ans:\n",
    "    print(\" \".join(map(str, square)))"
   ]
  },
  {
   "cell_type": "markdown",
   "metadata": {},
   "source": [
    "Bình đã tốt nghiệp và đang đi du học. Nhân dịp Black friday bình quyết định tranh thủ săn sale để tới Tết đem về Việt Nam bán kiếm lời.\n",
    "\n",
    "Cửa hàng Bình mua có 2 hình thức bán hàng là trực tuyết hoặc tới cửa hàng mua trực tiếp. Do chính sách ship đồ và thuế má ở nước ngoài khá phức tạp nên giá bán tại cửa hàng và bán online có chênh lệch nhau nhiều, có khi cao hơn, có khi thấp hơn, tùy món hàng.  Để tiện lợi cho khách thì khi đặt mua online website sẽ thông báo là với mỗi món hàng khách đã tiết kiêm được bao nhiêu khi mua online hay sẽ tiết kiệm được bao nhiêu khi mua tại cửa hàng.\n",
    "\n",
    "Bình vốn suy nghĩ đơn giản nên Bình chỉ muốn mua bằng một hình thức duy nhất, online thì online luôn, còn không thì ra cửa hàng mua hết mọi thứ, không lằng nhằng từng món mất công.\n",
    "\n",
    "Hãy cho biết với danh sách các mặt hảng Bình đã lựa và số tiền Bình có thì có mua được không nhé các bạn.\n",
    "\n",
    "INPUT\n",
    "Dòng đầu tiên gồm n số nguyên, là giá các món hàng Bình đã lựa, cách nhau bởi khoảng trắng.\n",
    "\n",
    "n  dòng tiếp theo mỗi dòng tương ứng với một thông báo trên website bán hàng về một món hàng, theo thứ tự đã cho trên dòng đầu tiên. Các thông báo này nếu có cụm từ \"xxx% higher than in-store\" trong đó xxx là một số thập phân bất kỳ thì nghĩa là có thể tiết kiệm thêm xxx% giá trị món hàng nếu mua tại cửa hàng. Và nếu có cụm từ \"xxx% lower than in-store\" thì nghĩa là đã tiết kiệm được xxx% giá trị món hàng nhờ vào việc mua trực tuyến.\n",
    "\n",
    "Dòng cuối cùng là số tiền Bình có.\n",
    "\n",
    "OUTPUT\n",
    "Nếu Bình mua được hết đống hàng thì xuất ra là true, ngược lại xuất ra false\n",
    "\n",
    "Input\t                                                                         Output\n",
    "501700 989900 254900\n",
    "Contratulation that was 2.4% lower than in-store\n",
    "Should reconsider this item is 20.0% higher than in-store\n",
    "Nice, 22.7% lower than in-store\n",
    "3300\t                                                                         false"
   ]
  },
  {
   "cell_type": "code",
   "execution_count": null,
   "metadata": {},
   "outputs": [
    {
     "name": "stdout",
     "output_type": "stream",
     "text": [
      "false\n"
     ]
    }
   ],
   "source": [
    "A = list(map(int, input().split()))\n",
    "discounts = [input() for _ in range(len(A))]\n",
    "budget = int(input())\n",
    "\n",
    "if sum(A) <= budget:\n",
    "    print(\"true\")\n",
    "else:\n",
    "    print(\"false\")"
   ]
  },
  {
   "cell_type": "markdown",
   "metadata": {},
   "source": [
    "Bạn Bình đi mua tablet. Bình là người rất cầu toàn, Bình muốn cả chiều dài, chiều  rộng của tablet phải là số nguyên. Giả sử Bình muốn kích thước của tablet cũng phải là một số nguyên n thì có bao nhiêu lựa chọn kích thước màn hình tablet Bình có thể cân nhắc?\n",
    "\n",
    "INPUT\n",
    "Một số nguyên dương n\n",
    "\n",
    "OUTPUT\n",
    "Số lượng lựa chọn có thể có của Bình\n",
    "\n",
    "VÍ DỤ\n",
    "Input\tOutput\n",
    "325\t    7\n",
    "18\t    0"
   ]
  },
  {
   "cell_type": "code",
   "execution_count": null,
   "metadata": {},
   "outputs": [
    {
     "name": "stdout",
     "output_type": "stream",
     "text": [
      "0\n"
     ]
    }
   ],
   "source": [
    "def solution(n):\n",
    "    cnt = 0\n",
    "    c = n*n\n",
    "    for a in range(1,n):\n",
    "        b = (c - a*a)**(1/2)\n",
    "        if b.is_integer() and b >=a:\n",
    "            cnt += 1\n",
    "    return cnt\n",
    "\n",
    "n = int(input())\n",
    "print(solution(n))"
   ]
  },
  {
   "cell_type": "markdown",
   "metadata": {},
   "source": [
    "An đang làm việc trong một công ty lớn và có trách nhiệm bảo mật dữ liệu quan trọng của công ty. Để đảm bảo an toàn cho dữ liệu cho công ty, An đã tham gia nhóm phát triển hệ thống mã hóa bất đối xứng với việc tạo cặp khóa mã hóa dựa trên những số “đặc biệt” mà nhóm của An mới tìm ra. \n",
    "Số “đặc biệt\" là một số nguyên dương không thể chia hết cho bình phương của bất kỳ số nguyên nào lớn hơn 1. Sự phức tạp của những số “đặc biệt” này rất thích hợp cho việc tạo ra những khóa mã hóa mạnh.\n",
    "\n",
    "Bây giờ, nhóm của An muốn biết có bao nhiêu cặp khóa mã hóa mạnh với mỗi khóa nằm trong khoảng số nguyên nhất định từ L đến R. Một cặp khóa mã hóa (x, y) được xem là mạnh nếu cả khóa x, khóa y và giá trị x*y đều là những số “đặc biệt”, thêm vào đó thì x phải luôn nhỏ hơn y. An chịu trách nhiệm chính cho việc viết chương trình để tính số cặp khóa mạnh này nhưng khổ nỗi là cậu ấy đã quên gần hết việc lập trình. Bạn hãy giúp An viết chương trình này nhé!\n",
    "\n",
    " Input:\n",
    "\n",
    "Một dòng chứa hai số nguyên dương L và R là 2 giới hạn của khoảng giá trị của các khóa mã hóa.\n",
    "\n",
    "Ouput:\n",
    "\n",
    "Số cặp khóa mã hóa mạnh mà nhóm An muốn biết.\n",
    "\n",
    "Với L = 3, R = 9: Thì có 5 cặp khóa mã hóa là (3, 5), (3, 7), (5, 6), (5, 7), (6, 7)."
   ]
  },
  {
   "cell_type": "code",
   "execution_count": null,
   "metadata": {},
   "outputs": [
    {
     "name": "stdout",
     "output_type": "stream",
     "text": [
      "5\n"
     ]
    }
   ],
   "source": [
    "def gcd(a, b):\n",
    "    while b: a, b = b, a % b\n",
    "    return a\n",
    "def sdb(n):\n",
    "    for i in range(2,int(n**0.5)+1):\n",
    "        if n % (i*i)== 0:\n",
    "            return False\n",
    "    return True\n",
    "def combination(factors):\n",
    "   count=0\n",
    "   for i in range(len(factors)):\n",
    "       for j in range(i+1,len(factors)):          \n",
    "            if(gcd(factors[j],factors[i])==1):\n",
    "                count+=1\n",
    "   return count\n",
    "def check(l,r):\n",
    "    password = []\n",
    "    while(l<=r):\n",
    "        if(sdb(l)):\n",
    "            password.append(l)\n",
    "        l+=1\n",
    "    return combination(password)\n",
    "\n",
    "l,r=map(int,input().split())\n",
    "print(check(l,r))\n"
   ]
  },
  {
   "cell_type": "code",
   "execution_count": null,
   "metadata": {},
   "outputs": [
    {
     "name": "stdout",
     "output_type": "stream",
     "text": [
      "5\n"
     ]
    }
   ],
   "source": [
    "import math\n",
    "\n",
    "def gcd(a, b):\n",
    "    while b: a, b = b, a % b\n",
    "    return a\n",
    "def checksdb(numbers,l,r):\n",
    "    for i in range(2, int(math.sqrt(r)) + 1):\n",
    "        start = math.ceil(l/(i*i))*pow(i,2)\n",
    "        for j in range(start, r+1, i*i):\n",
    "            numbers[j-l]=False\n",
    "    return numbers\n",
    "\n",
    "l,r = map(int,input().split())\n",
    "numbers = [True]*(r-l+1)\n",
    "count = 0\n",
    "\n",
    "special_number=[]\n",
    "checksdb(numbers,l,r)\n",
    "for i in range(l, r+1):\n",
    "    if numbers[i-l]: \n",
    "        special_number.append(i)\n",
    "for i in range(len(special_number)):\n",
    "    for j in range(i+1, len(special_number)):\n",
    "        if gcd(special_number[i],special_number[j])==1: \n",
    "            count += 1\n",
    "            \n",
    "print(count)\n"
   ]
  },
  {
   "cell_type": "code",
   "execution_count": null,
   "metadata": {},
   "outputs": [],
   "source": []
  },
  {
   "cell_type": "markdown",
   "metadata": {},
   "source": [
    "Bình có một chuỗi a và Bình có thể thực hiện nhiều lần thao tác sau lên chuỗi a: \"Chọn một chuỗi con bất kỳ có độ dài lẻ trong a và đảo ngược chuỗi con này\"\n",
    "\n",
    "Hỏi sau nhiều lần thao tác đó Bình có thể biến chuỗi a thành chuỗi B không?\n",
    "\n",
    "INPUT\n",
    "Dòng đầu tiên chứa số t đây là số test case\n",
    "\n",
    "2*t dòng tiếp theo sẽ là các cặp chuỗi a, b\n",
    "\n",
    "OUTPUT\n",
    "Ứng vỡi mỗi cặp chuỗi a, b xuất ra trên 1 dòng chữ \"YES\" hoặc \"NO\" theo yêu cầu"
   ]
  },
  {
   "cell_type": "code",
   "execution_count": null,
   "metadata": {},
   "outputs": [
    {
     "name": "stdout",
     "output_type": "stream",
     "text": [
      "YES\n"
     ]
    }
   ],
   "source": [
    "def tachchuoi(string):\n",
    "    odd=[]\n",
    "    even=[]\n",
    "    for i in range(len(string)):\n",
    "        if(i%2!=0):\n",
    "            even.append(string[i])\n",
    "        else :\n",
    "            odd.append(string[i])\n",
    "    return sorted(odd),sorted(even)\n",
    "def solve(a, b):\n",
    "    odd_a, even_a = tachchuoi(a)\n",
    "    odd_b, even_b = tachchuoi(b)\n",
    "    if(odd_a == odd_b) and (even_a == even_b):\n",
    "        return \"YES\"\n",
    "    return \"NO\"\n",
    "\n",
    "t=int(input())\n",
    "for _ in range(t):\n",
    "    a=input()\n",
    "    b=input()\n",
    "    print(solve(a,b))\n"
   ]
  }
 ],
 "metadata": {
  "kernelspec": {
   "display_name": "Python 3",
   "language": "python",
   "name": "python3"
  },
  "language_info": {
   "codemirror_mode": {
    "name": "ipython",
    "version": 3
   },
   "file_extension": ".py",
   "mimetype": "text/x-python",
   "name": "python",
   "nbconvert_exporter": "python",
   "pygments_lexer": "ipython3",
   "version": "3.11.5"
  }
 },
 "nbformat": 4,
 "nbformat_minor": 2
}
