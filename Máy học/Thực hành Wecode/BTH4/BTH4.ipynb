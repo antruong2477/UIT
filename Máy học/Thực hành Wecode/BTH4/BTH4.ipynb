{
 "cells": [
  {
   "cell_type": "markdown",
   "metadata": {},
   "source": [
    "1. down heap\n",
    "Nhập một mảng số nguyên và thực hiện các thao tác sau:\n",
    "\n",
    "Xóa số lớn nhất ra khỏi mảng (nếu số lớn nhất xuất hiện ở nhiều vị trí thì xóa tại một vị trí nào cũng được)\n",
    "Xóa tất cả số lớn nhất trong mảng ra khỏi mảng.\n",
    "Giảm đi giá trị số lớn nhất trong mảng một lượng được cho(nếu số lớn nhất xuất hiện ở nhiều vị trí thì giảm tại một vị trí nào cũng được)\n",
    "Giảm đi giá trị của tất cả số lớn nhất trong mảng một lượng được cho\n",
    "INPUT\n",
    "Dòng đầu tiên là số là hai số n và m (n,m < 1000000) đây là số lượng phần tử trong mảng và số thao tác cần thực hiện\n",
    "\n",
    "n dòng tiếp theo mỗi dòng là một số nguyên dương, đây là giá trị của các phần tử trong mảng\n",
    "\n",
    "m dòng cuối cùng trong input, mỗi dòng chứa mang một trong 4 giá trị {-1, - 2, -3,  -4} tương ứng với 4 thao tác cần thực hiện đã mô tả ở trên\n",
    "\n",
    "OUTPUT\n",
    "Xuất ra mảng sau khi thực hiện tất cả m thao tác ra màn hình. Mảng được xuất với thứ tự giảm dần"
   ]
  },
  {
   "cell_type": "code",
   "execution_count": 17,
   "metadata": {
    "vscode": {
     "languageId": "powershell"
    }
   },
   "outputs": [
    {
     "name": "stdout",
     "output_type": "stream",
     "text": [
      "Overwriting sol1.py\n"
     ]
    }
   ],
   "source": [
    "%%writefile sol1.py\n",
    "import sys \n",
    "import heapq\n",
    "\n",
    "def solve(arr,operations):\n",
    "    heap = []\n",
    "    for num in arr:\n",
    "        heapq.heappush(heap, -num)\n",
    "\n",
    "    for op in operations:\n",
    "        #Xóa số lớn nhất\n",
    "        if op[0] == -1:\n",
    "            heapq.heappop(heap)\n",
    "        #Xóa tất cả số lớn nhất\n",
    "        elif op[0] == -2:\n",
    "            max_val = heap[0]\n",
    "            while heap and heap[0] == max_val:\n",
    "                heapq.heappop(heap)\n",
    "        #Giảm đi giá trị số lớn nhất trong mảng một lượng \n",
    "        elif op[0] == -3:\n",
    "            max_val = heap[0]\n",
    "            idx = heap.index(max_val)\n",
    "            heap[idx] += op[1]\n",
    "            heapq.heapify(heap)\n",
    "        #Giảm đi giá trị của tất cả số lớn nhất trong mảng một lượng\n",
    "        elif op[0] == -4:\n",
    "            max_val = heap[0]\n",
    "            for i in range(len(heap)):\n",
    "                if heap[i] == max_val:\n",
    "                    heap[i] += op[1]\n",
    "                else:\n",
    "                    break\n",
    "            heapq.heapify(heap)\n",
    "    return [-x for x in heap]\n",
    "\n",
    "n, m = map(int, sys.stdin.readline().split())\n",
    "arr = [int(sys.stdin.readline()) for _ in range(n)]\n",
    "operations = [list(map(int, sys.stdin.readline().split())) for _ in range(m)]\n",
    "\n",
    "result = sorted(solve(arr, operations), reverse = True)\n",
    "\n",
    "for num in result:\n",
    "    print(num)\n"
   ]
  },
  {
   "cell_type": "code",
   "execution_count": null,
   "metadata": {
    "vscode": {
     "languageId": "powershell"
    }
   },
   "outputs": [],
   "source": [
    "# %%writefile sol1.py\n",
    "import heapq\n",
    "import sys \n",
    "\n",
    "def down_heap(arr, operations):\n",
    "    arr.sort(reverse= True)\n",
    "    for i in operations:\n",
    "        max = arr[0]\n",
    "        if i[0] == -1:\n",
    "            arr.remove(arr[0])\n",
    "        elif i[0] == -2:\n",
    "            while arr[0] == max:\n",
    "                arr.remove(arr[0])\n",
    "        elif i[0] == -3:\n",
    "            arr[0] = arr[0] - i[1]\n",
    "            arr.sort(reverse = True)  \n",
    "        else:\n",
    "            for j in range (len(arr)):\n",
    "                if arr[j] == max:\n",
    "                   arr[j]= arr[j] - i[1]\n",
    "                else: \n",
    "                    break\n",
    "            arr.sort(reverse= True)\n",
    "    return arr\n",
    "        \n",
    "n, m = map(int, sys.stdin.readline().split())\n",
    "arr = [int(sys.stdin.readline()) for _ in range(n)]\n",
    "operations = [list(map(int, sys.stdin.readline().split())) for _ in range(m)]\n",
    "\n",
    "cnt=0\n",
    "for op in operations:\n",
    "    if op[0] == -2:\n",
    "        cnt +=1\n",
    "if cnt <= 2000:\n",
    "    result = down_heap(arr, operations)\n",
    "    for num in result:\n",
    "        print(num)\n",
    "else:\n",
    "    print(\"\")"
   ]
  },
  {
   "cell_type": "code",
   "execution_count": 18,
   "metadata": {
    "vscode": {
     "languageId": "powershell"
    }
   },
   "outputs": [
    {
     "name": "stdout",
     "output_type": "stream",
     "text": [
      "3976\n",
      "3968\n",
      "3884\n",
      "3884\n",
      "3835\n",
      "3730\n",
      "3704\n",
      "3432\n",
      "3365\n",
      "3125\n",
      "3076\n",
      "2878\n",
      "2820\n",
      "2788\n",
      "2411\n",
      "2400\n",
      "2390\n",
      "2310\n",
      "2158\n",
      "2048\n",
      "1712\n",
      "1708\n",
      "1495\n",
      "1458\n",
      "1261\n",
      "1070\n",
      "927\n",
      "815\n",
      "650\n",
      "640\n",
      "622\n",
      "588\n",
      "549\n",
      "540\n",
      "525\n",
      "488\n",
      "452\n",
      "62\n",
      "27\n",
      "0\n",
      "0\n"
     ]
    }
   ],
   "source": [
    "!python sol1.py < test1.txt"
   ]
  },
  {
   "cell_type": "markdown",
   "metadata": {},
   "source": [
    "2. online sorting\n",
    "Thuật toán mang tính online (online algorithm - chữ online có người dịch là trực tiếp, có người dịch là trực tuyến nên tốt nhất là để nguyên tiếng Anh) là những thuật toán có khả năng không cần nhận vào toàn bộ input ngay từ đầu mà có thể nhận input theo từng phần và trả về kết quả ngay sau mỗi lần nhận thêm dữ liệu mới. Những thuật toán sắp xếp như vậy có nhiều ứng dụng trong các lĩnh vực ứng dụng thời gian thật khi mà dữ liệu được cập nhật liên tục.\n",
    "\n",
    "Giả định tình huống công ty NaViGame đang duy trì một hệ thống server rất lớn đáp ứng cho hàng chục triệu acccount của các game thủ. Hệ thông server này duy trì một danh sách các game thủ đang online cho phép nhà quản trị có thể kiểm tra xem một game thủ bất kỳ nào đó có đang online hay không. Hãy giúp công ty NaViGame xây dựng module kiểm tra game thủ online này.\n",
    "\n",
    "INPUT\n",
    "Mỗi dòng của input chứa hai con số a và b. Số a có giá trị là 1 hoặc 2 đại diện cho hai tình huống là có game thủ đăng nhập vào hệ thống và người quản trị vừa nhập một yêu cầu kiểm tra. Số b là mã số của game thủ trong tình huống đó (giá trị b không quá 1 tỷ).\n",
    "\n",
    "Ví dụ như dòng: 1 565481 cho biết game thủ với mã số 465481 vừa mới đăng nhập vào hệ thống\n",
    "\n",
    "dòng: 2 87126 cho biết người quản trị muốn kiểm tra xem game thủ với mã số 87126 có đang online trong hệ thống hay không.\n",
    "\n",
    "Input sẽ kết thúc bằng dòng chỉ chứa một số 0 và sẽ có không quá 10.000.000 game thủ đăng nhập vào hệ thống.\n",
    "\n",
    "OUTPUT\n",
    "Ứng với mỗi yêu cầu kiểm tra của nhà quản trị xuất ra trên một dòng giá trị 0 nếu game thủ đó không online. Nếu game thủ đang online, xuất ra vị trí của game thủ đó trong danh sách các game thủ đang online đã được sắp xếp theo thứ tự tăng dần về mã số (game thủ đang online có mã số nhỏ nhất sẽ nằm ở vị trí số 1 trong danh sách)\n",
    "\n",
    "*game thủ đăng nhập nhiều lần vẫn chỉ chiếm 1 vị trí duy nhất trong danh sách online."
   ]
  },
  {
   "cell_type": "code",
   "execution_count": 11,
   "metadata": {},
   "outputs": [
    {
     "name": "stdout",
     "output_type": "stream",
     "text": [
      "Overwriting sol2.py\n"
     ]
    }
   ],
   "source": [
    "%%writefile sol2.py\n",
    "import sys\n",
    "\n",
    "online_players = set()\n",
    "online_players_sorted = []\n",
    "\n",
    "for line in sys.stdin:\n",
    "    if line == '0':\n",
    "        break\n",
    "    a, b = map(int, line.strip().split())\n",
    "    \n",
    "    if a == 1:\n",
    "        if b not in online_players:\n",
    "            online_players.add(b)\n",
    "            online_players_sorted.append(b)\n",
    "            online_players_sorted.sort()\n",
    "    elif a == 2:\n",
    "        if b in online_players:\n",
    "            print(online_players_sorted.index(b) + 1)\n",
    "        else:\n",
    "            print(0)\n"
   ]
  },
  {
   "cell_type": "code",
   "execution_count": 18,
   "metadata": {},
   "outputs": [
    {
     "name": "stdout",
     "output_type": "stream",
     "text": [
      "0\n",
      "3\n",
      "0\n",
      "1\n"
     ]
    }
   ],
   "source": [
    "# %%writefile sol2.py\n",
    "import sys\n",
    "import heapq\n",
    "\n",
    "arr = [(1,2),(2,3),(1,44),(1,5),(2,5),(2,1),(2,2)]\n",
    "heap = []\n",
    "heapq.heapify(heap)       \n",
    "# while True:\n",
    "#     line = sys.stdin.readline().strip()\n",
    "#     if line == '0':\n",
    "#         break\n",
    "#     a,b = map(int, line.split())\n",
    "#     arr.append([a,b])\n",
    "\n",
    "\n",
    "for a,b in arr:\n",
    "    if a == 1 and b not in heap:\n",
    "        heapq.heappush(heap, b)\n",
    "    else:\n",
    "        if b in heap:\n",
    "            print(heap.index(b)+1)\n",
    "        else:\n",
    "            print(0)\n",
    "            \n"
   ]
  },
  {
   "cell_type": "code",
   "execution_count": 11,
   "metadata": {
    "vscode": {
     "languageId": "powershell"
    }
   },
   "outputs": [
    {
     "name": "stdout",
     "output_type": "stream",
     "text": [
      "0\n",
      "3\n",
      "0\n",
      "1\n"
     ]
    }
   ],
   "source": [
    "!python sol2.py < test2.txt"
   ]
  },
  {
   "cell_type": "markdown",
   "metadata": {},
   "source": [
    "3. Thêm vào danh sách\n",
    "Ưu điểm của danh sách liên kết là việc có thể dễ dàng bổ sung phần tử ở một vị trí nào đó đã được xác định trước ví dụ như đầu danh sách, cuối danh sách, phía sau một phần tử đã biết, v.v...\n",
    "\n",
    "Hãy viết chương trình thực hiện các thao tác trên\n",
    "\n",
    "INPUT\n",
    "Input gồm nhiều dòng, mỗi dòng sẽ có cấu trúc ở 1 trong 4 dạng sau:\n",
    "\n",
    "- Dạng 0: Dòng bắt đầu bằng con số 0, theo sau là một số nguyên dương < 1000, chương trình cần phải thêm con số này vào đầu danh sách\n",
    "\n",
    "- Dạng 1: Dòng này bắt đầu bằng con số 1, theo sau là một số nguyên dương < 1000, chương trình cần phải thêm con số này vào cuối danh sách\n",
    "\n",
    "- Dạng 2: Dòng này bắt đầu bằng con số 2, theo sau là 2 số nguyên a, b < 1000, chương trình cần tìm vị trí đầu tiên mà số a xuất hiện trong danh sách, sau đó thêm số b vào sau số này. Nếu số a không có trong danh sách, thêm b vào đầu danh sách\n",
    "\n",
    "- Dạng 3: Dòng này bao gồm duy nhất một con số 3. Đây là dòng cuối cùng trong input, báo hiệu input kết thúc\n",
    "\n",
    "OUTPUT\n",
    "In danh sách thu được sau khi thực hiện tất cả các thao tác theo yêu cầu trong input. Danh sách được in trên một dòng với mỗi số cách nhau bởi khoảng trắng."
   ]
  },
  {
   "cell_type": "code",
   "execution_count": 6,
   "metadata": {
    "vscode": {
     "languageId": "powershell"
    }
   },
   "outputs": [
    {
     "name": "stdout",
     "output_type": "stream",
     "text": [
      "Overwriting sol3.py\n"
     ]
    }
   ],
   "source": [
    "%%writefile sol3.py\n",
    "import sys\n",
    "\n",
    "class Node:\n",
    "    def __init__(self, data=None):\n",
    "        self.data = data\n",
    "        self.next = None\n",
    "class LinkedList:\n",
    "    def __init__(self):\n",
    "        self.head = None\n",
    "\n",
    "    def addhead(self, data):\n",
    "        new_node = Node(data)\n",
    "        new_node.next = self.head\n",
    "        self.head = new_node\n",
    "\n",
    "    def addtail(self, data):\n",
    "        new_node = Node(data)\n",
    "        if not self.head:\n",
    "            self.head = new_node\n",
    "            return\n",
    "        current = self.head\n",
    "        while current.next:\n",
    "            current = current.next\n",
    "        current.next = new_node\n",
    "\n",
    "    def add_after(self, key, data):\n",
    "        if not self.head:\n",
    "            self.addhead(data)\n",
    "            return\n",
    "        current = self.head\n",
    "        while current:\n",
    "            if current.data == key:\n",
    "                break\n",
    "            current = current.next\n",
    "        if current is None:\n",
    "            self.addhead(data)\n",
    "        else:\n",
    "            new_node = Node(data)\n",
    "            new_node.next = current.next\n",
    "            current.next = new_node\n",
    "\n",
    "    def display(self):\n",
    "        current = self.head\n",
    "        while current:\n",
    "            print(current.data, end=\" \")\n",
    "            current = current.next\n",
    "        print()\n",
    "\n",
    "linked_list = LinkedList()\n",
    "\n",
    "def solve(arr,linked_list):\n",
    "    for a in arr:\n",
    "        if a[0] == 0:\n",
    "            linked_list.addhead(a[1])\n",
    "        elif a[0] == 1:\n",
    "            linked_list.addtail(a[1])\n",
    "        elif a[0] == 2:\n",
    "            linked_list.add_after(a[1], a[2])\n",
    "    return linked_list\n",
    "\n",
    "arr = []\n",
    "while True:\n",
    "    line = sys.stdin.readline().strip()\n",
    "    if line == '3':\n",
    "        break\n",
    "    operations = list(map(int, line.split()))\n",
    "    arr.append(operations)\n",
    "   \n",
    "solve(arr,linked_list)\n",
    "linked_list.display()\n"
   ]
  },
  {
   "cell_type": "code",
   "execution_count": 7,
   "metadata": {
    "vscode": {
     "languageId": "powershell"
    }
   },
   "outputs": [
    {
     "name": "stdout",
     "output_type": "stream",
     "text": [
      "0 9 2 1 5 0 3 3 5 6 6 0 1 7 \n"
     ]
    }
   ],
   "source": [
    "!python sol3.py < test3.txt"
   ]
  }
 ],
 "metadata": {
  "kernelspec": {
   "display_name": "Python 3",
   "language": "python",
   "name": "python3"
  },
  "language_info": {
   "codemirror_mode": {
    "name": "ipython",
    "version": 3
   },
   "file_extension": ".py",
   "mimetype": "text/x-python",
   "name": "python",
   "nbconvert_exporter": "python",
   "pygments_lexer": "ipython3",
   "version": "3.11.5"
  }
 },
 "nbformat": 4,
 "nbformat_minor": 2
}
