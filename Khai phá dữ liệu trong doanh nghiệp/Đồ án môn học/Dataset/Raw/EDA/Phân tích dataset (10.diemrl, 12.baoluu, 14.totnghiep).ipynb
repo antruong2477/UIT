{
 "cells": [
  {
   "cell_type": "code",
   "execution_count": 20,
   "metadata": {},
   "outputs": [],
   "source": [
    "import pandas as pd\n",
    "import numpy as np\n",
    "import matplotlib.pyplot as plt\n",
    "import os"
   ]
  },
  {
   "cell_type": "code",
   "execution_count": null,
   "metadata": {},
   "outputs": [],
   "source": [
    "file_path1 = os.path.join('..', 'Education_dataset_V2', '10.diemrl.xlsx')\n",
    "file_path2 = os.path.join('..', 'Education_dataset_V2', '12.baoluu.xlsx')\n",
    "file_path3 = os.path.join('..', 'Education_dataset_V2', '14.totnghiep.xlsx')"
   ]
  },
  {
   "cell_type": "markdown",
   "metadata": {},
   "source": [
    "# 10.diemrl"
   ]
  },
  {
   "cell_type": "code",
   "execution_count": 38,
   "metadata": {},
   "outputs": [],
   "source": [
    "df1 = pd.read_excel(file_path1)\n",
    "df1.dropna(axis=0, how='all', subset=None, inplace=True)"
   ]
  },
  {
   "cell_type": "code",
   "execution_count": 24,
   "metadata": {},
   "outputs": [
    {
     "data": {
      "text/plain": [
       "54001"
      ]
     },
     "execution_count": 24,
     "metadata": {},
     "output_type": "execute_result"
    }
   ],
   "source": [
    "df1.shape[0]"
   ]
  },
  {
   "cell_type": "code",
   "execution_count": 26,
   "metadata": {},
   "outputs": [
    {
     "data": {
      "text/plain": [
       "id         34001\n",
       "mssv           0\n",
       " lopsh         0\n",
       " hocky         0\n",
       " namhoc        0\n",
       " drl       50668\n",
       " ghichu        0\n",
       "dtype: int64"
      ]
     },
     "execution_count": 26,
     "metadata": {},
     "output_type": "execute_result"
    }
   ],
   "source": [
    "df1.isnull().sum()"
   ]
  },
  {
   "cell_type": "code",
   "execution_count": 27,
   "metadata": {},
   "outputs": [
    {
     "data": {
      "text/html": [
       "<div>\n",
       "<style scoped>\n",
       "    .dataframe tbody tr th:only-of-type {\n",
       "        vertical-align: middle;\n",
       "    }\n",
       "\n",
       "    .dataframe tbody tr th {\n",
       "        vertical-align: top;\n",
       "    }\n",
       "\n",
       "    .dataframe thead th {\n",
       "        text-align: right;\n",
       "    }\n",
       "</style>\n",
       "<table border=\"1\" class=\"dataframe\">\n",
       "  <thead>\n",
       "    <tr style=\"text-align: right;\">\n",
       "      <th></th>\n",
       "      <th>id</th>\n",
       "      <th>mssv</th>\n",
       "      <th>lopsh</th>\n",
       "      <th>hocky</th>\n",
       "      <th>namhoc</th>\n",
       "      <th>drl</th>\n",
       "      <th>ghichu</th>\n",
       "    </tr>\n",
       "  </thead>\n",
       "  <tbody>\n",
       "    <tr>\n",
       "      <th>0</th>\n",
       "      <td>27.0</td>\n",
       "      <td>599DFFB8XPvAibaEXe879+AOg1gh8lJvChSN7o+V</td>\n",
       "      <td>ANTN2013</td>\n",
       "      <td>2.0</td>\n",
       "      <td>2013.0</td>\n",
       "      <td>59.0</td>\n",
       "      <td>NULL</td>\n",
       "    </tr>\n",
       "    <tr>\n",
       "      <th>1</th>\n",
       "      <td>28.0</td>\n",
       "      <td>FC77E598XPvAibaEXe879+AOg1gh8pb/q8KzJ2A3</td>\n",
       "      <td>ANTN2013</td>\n",
       "      <td>2.0</td>\n",
       "      <td>2013.0</td>\n",
       "      <td>91.0</td>\n",
       "      <td>NULL</td>\n",
       "    </tr>\n",
       "    <tr>\n",
       "      <th>2</th>\n",
       "      <td>29.0</td>\n",
       "      <td>51E1C3E0XPvAibaEXe+4hxKfaQWuhLp2zzmiiyRe</td>\n",
       "      <td>ANTN2013</td>\n",
       "      <td>2.0</td>\n",
       "      <td>2013.0</td>\n",
       "      <td>93.0</td>\n",
       "      <td>NULL</td>\n",
       "    </tr>\n",
       "    <tr>\n",
       "      <th>3</th>\n",
       "      <td>30.0</td>\n",
       "      <td>6920B9AAXPvAibaEXe83EtiN4MI2ns6NZhlUAIhE</td>\n",
       "      <td>ANTN2013</td>\n",
       "      <td>2.0</td>\n",
       "      <td>2013.0</td>\n",
       "      <td>69.0</td>\n",
       "      <td>NULL</td>\n",
       "    </tr>\n",
       "    <tr>\n",
       "      <th>4</th>\n",
       "      <td>31.0</td>\n",
       "      <td>2F237AA9XPvAibaEXe/YKAlYnC3m967dOM4WK2IJ</td>\n",
       "      <td>ANTN2013</td>\n",
       "      <td>2.0</td>\n",
       "      <td>2013.0</td>\n",
       "      <td>72.0</td>\n",
       "      <td>NULL</td>\n",
       "    </tr>\n",
       "    <tr>\n",
       "      <th>5</th>\n",
       "      <td>32.0</td>\n",
       "      <td>6AEF2EC0XPvAibaEXe86736b6Ol+/EwtIJHvLVRJ</td>\n",
       "      <td>ANTN2013</td>\n",
       "      <td>2.0</td>\n",
       "      <td>2013.0</td>\n",
       "      <td>60.0</td>\n",
       "      <td>NULL</td>\n",
       "    </tr>\n",
       "    <tr>\n",
       "      <th>6</th>\n",
       "      <td>33.0</td>\n",
       "      <td>6F75613CXPvAibaEXe8/3iNqySORbxrmFjIeDct7</td>\n",
       "      <td>ANTN2013</td>\n",
       "      <td>2.0</td>\n",
       "      <td>2013.0</td>\n",
       "      <td>96.0</td>\n",
       "      <td>NULL</td>\n",
       "    </tr>\n",
       "    <tr>\n",
       "      <th>7</th>\n",
       "      <td>34.0</td>\n",
       "      <td>41EBF544XPvAibaEXe8/3iNqySORb+za0yWMmptx</td>\n",
       "      <td>ANTN2013</td>\n",
       "      <td>2.0</td>\n",
       "      <td>2013.0</td>\n",
       "      <td>86.0</td>\n",
       "      <td>NULL</td>\n",
       "    </tr>\n",
       "    <tr>\n",
       "      <th>8</th>\n",
       "      <td>35.0</td>\n",
       "      <td>52A13A56XPvAibaEXe8Y+/3uR2PkTBzKGlmHNdAe</td>\n",
       "      <td>ANTN2013</td>\n",
       "      <td>2.0</td>\n",
       "      <td>2013.0</td>\n",
       "      <td>94.0</td>\n",
       "      <td>NULL</td>\n",
       "    </tr>\n",
       "    <tr>\n",
       "      <th>9</th>\n",
       "      <td>36.0</td>\n",
       "      <td>45B8D2AFXPvAibaEXe9jjgNhrmbJFDlSnTjOuVMt</td>\n",
       "      <td>ANTN2013</td>\n",
       "      <td>2.0</td>\n",
       "      <td>2013.0</td>\n",
       "      <td>40.0</td>\n",
       "      <td>NULL</td>\n",
       "    </tr>\n",
       "    <tr>\n",
       "      <th>10</th>\n",
       "      <td>37.0</td>\n",
       "      <td>1DCACA12XPvAibaEXe/XBbLEWRhgQQZvuxC3bpO+</td>\n",
       "      <td>ANTN2013</td>\n",
       "      <td>2.0</td>\n",
       "      <td>2013.0</td>\n",
       "      <td>94.0</td>\n",
       "      <td>NULL</td>\n",
       "    </tr>\n",
       "    <tr>\n",
       "      <th>11</th>\n",
       "      <td>38.0</td>\n",
       "      <td>A438E310XPvAibaEXe8VekUw4ELehh5JZ8Xkd+Ce</td>\n",
       "      <td>ANTN2013</td>\n",
       "      <td>2.0</td>\n",
       "      <td>2013.0</td>\n",
       "      <td>85.0</td>\n",
       "      <td>NULL</td>\n",
       "    </tr>\n",
       "    <tr>\n",
       "      <th>12</th>\n",
       "      <td>39.0</td>\n",
       "      <td>57203F91XPvAibaEXe9JDlHA4z2GHFHVJ5vTRj7d</td>\n",
       "      <td>ANTN2013</td>\n",
       "      <td>2.0</td>\n",
       "      <td>2013.0</td>\n",
       "      <td>100.0</td>\n",
       "      <td>NULL</td>\n",
       "    </tr>\n",
       "    <tr>\n",
       "      <th>13</th>\n",
       "      <td>40.0</td>\n",
       "      <td>29430069XPvAibaEXe+TFgEDwYNnvUaz/ItEjR3K</td>\n",
       "      <td>ANTN2013</td>\n",
       "      <td>2.0</td>\n",
       "      <td>2013.0</td>\n",
       "      <td>88.0</td>\n",
       "      <td>NULL</td>\n",
       "    </tr>\n",
       "    <tr>\n",
       "      <th>14</th>\n",
       "      <td>41.0</td>\n",
       "      <td>007C275DXPvAibaEXe+TFgEDwYNnveOOmOYeYzF6</td>\n",
       "      <td>ANTN2013</td>\n",
       "      <td>2.0</td>\n",
       "      <td>2013.0</td>\n",
       "      <td>86.0</td>\n",
       "      <td>NULL</td>\n",
       "    </tr>\n",
       "  </tbody>\n",
       "</table>\n",
       "</div>"
      ],
      "text/plain": [
       "      id                                      mssv      lopsh   hocky  \\\n",
       "0   27.0  599DFFB8XPvAibaEXe879+AOg1gh8lJvChSN7o+V   ANTN2013     2.0   \n",
       "1   28.0  FC77E598XPvAibaEXe879+AOg1gh8pb/q8KzJ2A3   ANTN2013     2.0   \n",
       "2   29.0  51E1C3E0XPvAibaEXe+4hxKfaQWuhLp2zzmiiyRe   ANTN2013     2.0   \n",
       "3   30.0  6920B9AAXPvAibaEXe83EtiN4MI2ns6NZhlUAIhE   ANTN2013     2.0   \n",
       "4   31.0  2F237AA9XPvAibaEXe/YKAlYnC3m967dOM4WK2IJ   ANTN2013     2.0   \n",
       "5   32.0  6AEF2EC0XPvAibaEXe86736b6Ol+/EwtIJHvLVRJ   ANTN2013     2.0   \n",
       "6   33.0  6F75613CXPvAibaEXe8/3iNqySORbxrmFjIeDct7   ANTN2013     2.0   \n",
       "7   34.0  41EBF544XPvAibaEXe8/3iNqySORb+za0yWMmptx   ANTN2013     2.0   \n",
       "8   35.0  52A13A56XPvAibaEXe8Y+/3uR2PkTBzKGlmHNdAe   ANTN2013     2.0   \n",
       "9   36.0  45B8D2AFXPvAibaEXe9jjgNhrmbJFDlSnTjOuVMt   ANTN2013     2.0   \n",
       "10  37.0  1DCACA12XPvAibaEXe/XBbLEWRhgQQZvuxC3bpO+   ANTN2013     2.0   \n",
       "11  38.0  A438E310XPvAibaEXe8VekUw4ELehh5JZ8Xkd+Ce   ANTN2013     2.0   \n",
       "12  39.0  57203F91XPvAibaEXe9JDlHA4z2GHFHVJ5vTRj7d   ANTN2013     2.0   \n",
       "13  40.0  29430069XPvAibaEXe+TFgEDwYNnvUaz/ItEjR3K   ANTN2013     2.0   \n",
       "14  41.0  007C275DXPvAibaEXe+TFgEDwYNnveOOmOYeYzF6   ANTN2013     2.0   \n",
       "\n",
       "     namhoc    drl  ghichu  \n",
       "0    2013.0   59.0    NULL  \n",
       "1    2013.0   91.0    NULL  \n",
       "2    2013.0   93.0    NULL  \n",
       "3    2013.0   69.0    NULL  \n",
       "4    2013.0   72.0    NULL  \n",
       "5    2013.0   60.0    NULL  \n",
       "6    2013.0   96.0    NULL  \n",
       "7    2013.0   86.0    NULL  \n",
       "8    2013.0   94.0    NULL  \n",
       "9    2013.0   40.0    NULL  \n",
       "10   2013.0   94.0    NULL  \n",
       "11   2013.0   85.0    NULL  \n",
       "12   2013.0  100.0    NULL  \n",
       "13   2013.0   88.0    NULL  \n",
       "14   2013.0   86.0    NULL  "
      ]
     },
     "execution_count": 27,
     "metadata": {},
     "output_type": "execute_result"
    }
   ],
   "source": [
    "df1.head(15)"
   ]
  },
  {
   "cell_type": "code",
   "execution_count": 28,
   "metadata": {},
   "outputs": [
    {
     "data": {
      "text/plain": [
       "Index(['id', 'mssv', ' lopsh', ' hocky', ' namhoc', ' drl', ' ghichu'], dtype='object')"
      ]
     },
     "execution_count": 28,
     "metadata": {},
     "output_type": "execute_result"
    }
   ],
   "source": [
    "df1.columns"
   ]
  },
  {
   "cell_type": "code",
   "execution_count": 42,
   "metadata": {},
   "outputs": [
    {
     "data": {
      "text/plain": [
       "count    3333.000000\n",
       "mean       75.297630\n",
       "std        17.109866\n",
       "min       -30.000000\n",
       "25%        67.000000\n",
       "50%        77.000000\n",
       "75%        87.000000\n",
       "max       100.000000\n",
       "Name:  drl, dtype: float64"
      ]
     },
     "execution_count": 42,
     "metadata": {},
     "output_type": "execute_result"
    }
   ],
   "source": [
    "df1[' drl'].describe() "
   ]
  },
  {
   "cell_type": "code",
   "execution_count": 40,
   "metadata": {},
   "outputs": [
    {
     "name": "stdout",
     "output_type": "stream",
     "text": [
      "mean: 75.2976\n",
      "median: 77.0\n",
      "var: 292.7475\n",
      "std: 17.1099\n"
     ]
    }
   ],
   "source": [
    "# tính mean drl\n",
    "print(\"mean:\",df1[' drl'].mean().round(4))\n",
    "print(\"median:\",df1[' drl'].median())\n",
    "print(\"var:\",df1[' drl'].var().round(4))\n",
    "print(\"std:\",df1[' drl'].std().round(4))"
   ]
  },
  {
   "cell_type": "code",
   "execution_count": 61,
   "metadata": {},
   "outputs": [
    {
     "name": "stdout",
     "output_type": "stream",
     "text": [
      "(128,)\n",
      "(2,)\n",
      "(9,)\n",
      "(123,)\n"
     ]
    }
   ],
   "source": [
    "print(df1[' lopsh'].unique().shape)\n",
    "print(df1[' hocky'].unique().shape)\n",
    "print(df1[' namhoc'].unique().shape)\n",
    "print(df1[' ghichu'].unique().shape)"
   ]
  },
  {
   "cell_type": "code",
   "execution_count": 43,
   "metadata": {},
   "outputs": [
    {
     "name": "stdout",
     "output_type": "stream",
     "text": [
      "Các giá trị xuất hiện ít nhất là:\n",
      " lopsh\n",
      "KHCl2019    1\n",
      "TMCL2020    1\n",
      "Name: count, dtype: int64\n",
      "Các giá trị xuất hiện nhiều nhất là:\n",
      " lopsh\n",
      "KTPM2013    1236\n",
      "Name: count, dtype: int64\n",
      "Các giá trị xuất hiện ít nhất là:\n",
      " hocky\n",
      "2.0    23567\n",
      "Name: count, dtype: int64\n",
      "Các giá trị xuất hiện nhiều nhất là:\n",
      " hocky\n",
      "1.0    30434\n",
      "Name: count, dtype: int64\n",
      "Các giá trị xuất hiện ít nhất là:\n",
      " namhoc\n",
      "2012.0    2\n",
      "Name: count, dtype: int64\n",
      "Các giá trị xuất hiện nhiều nhất là:\n",
      " namhoc\n",
      "2019.0    11664\n",
      "Name: count, dtype: int64\n",
      "Các giá trị xuất hiện ít nhất là:\n",
      " drl\n",
      "-23.0    1\n",
      " 3.0     1\n",
      " 12.0    1\n",
      "-15.0    1\n",
      " 32.0    1\n",
      " 4.0     1\n",
      " 2.0     1\n",
      "-4.0     1\n",
      " 9.0     1\n",
      " 5.0     1\n",
      "-17.0    1\n",
      "-21.0    1\n",
      "-12.0    1\n",
      "-3.0     1\n",
      "-19.0    1\n",
      " 25.0    1\n",
      " 10.0    1\n",
      "-5.0     1\n",
      "-7.0     1\n",
      " 18.0    1\n",
      "-1.0     1\n",
      "-30.0    1\n",
      " 13.0    1\n",
      "Name: count, dtype: int64\n",
      "Các giá trị xuất hiện nhiều nhất là:\n",
      " drl\n",
      "100.0    198\n",
      "Name: count, dtype: int64\n",
      "Các giá trị xuất hiện ít nhất là:\n",
      " ghichu\n",
      "'CNTT2018'       1\n",
      "'HTTT2017'       1\n",
      "'KHMT2019'       1\n",
      "'KHMT2016')      1\n",
      "'KHCl2019.3')    1\n",
      "'TMCL2020')      1\n",
      "'ATCL2019.1'     1\n",
      "'MTCL2018.1'     1\n",
      "'TMĐT2018'       1\n",
      "'KTPM2018'       1\n",
      "'TMĐT2019'       1\n",
      "Name: count, dtype: int64\n",
      "Các giá trị xuất hiện nhiều nhất là:\n",
      " ghichu\n",
      "'')    24744\n",
      "Name: count, dtype: int64\n"
     ]
    }
   ],
   "source": [
    "for col in [' lopsh', ' hocky', ' namhoc', ' drl', ' ghichu']:\n",
    "    # Đếm số lần xuất hiện của mỗi giá trị trong cột\n",
    "    value_counts = df1[col].value_counts()\n",
    "    # Tìm số lần xuất hiện nhỏ nhất\n",
    "    min_count = value_counts.min()\n",
    "    # Tìm các giá trị xuất hiện với số lần nhỏ nhất\n",
    "    least_frequent_values = value_counts[value_counts == min_count]\n",
    "    # Tìm số lần xuất hiện nhiều nhất\n",
    "    max_count = value_counts.max()\n",
    "    # Tìm các giá trị xuất hiện với số lần nhiều nhất\n",
    "    most_frequent_values = value_counts[value_counts == max_count]\n",
    "    print(f\"Các giá trị xuất hiện ít nhất là:\\n{least_frequent_values}\")\n",
    "    print(f\"Các giá trị xuất hiện nhiều nhất là:\\n{most_frequent_values}\")"
   ]
  },
  {
   "cell_type": "markdown",
   "metadata": {},
   "source": [
    "# 12.baoluu"
   ]
  },
  {
   "cell_type": "code",
   "execution_count": 46,
   "metadata": {},
   "outputs": [],
   "source": [
    "df11 = pd.read_excel(file_path2)"
   ]
  },
  {
   "cell_type": "code",
   "execution_count": 47,
   "metadata": {},
   "outputs": [
    {
     "data": {
      "text/plain": [
       "1878"
      ]
     },
     "execution_count": 47,
     "metadata": {},
     "output_type": "execute_result"
    }
   ],
   "source": [
    "df11.dropna(axis=0, how='all', subset=None, inplace=True)\n",
    "df11.shape[0]"
   ]
  },
  {
   "cell_type": "code",
   "execution_count": 48,
   "metadata": {},
   "outputs": [
    {
     "data": {
      "text/plain": [
       "id            0\n",
       " masv         0\n",
       " tinhtrang    0\n",
       " lydo         0\n",
       " hocky        0\n",
       " namhoc       0\n",
       " soqd         0\n",
       " ngayqd       0\n",
       "dtype: int64"
      ]
     },
     "execution_count": 48,
     "metadata": {},
     "output_type": "execute_result"
    }
   ],
   "source": [
    "df11.isnull().sum()"
   ]
  },
  {
   "cell_type": "code",
   "execution_count": 49,
   "metadata": {},
   "outputs": [
    {
     "data": {
      "text/html": [
       "<div>\n",
       "<style scoped>\n",
       "    .dataframe tbody tr th:only-of-type {\n",
       "        vertical-align: middle;\n",
       "    }\n",
       "\n",
       "    .dataframe tbody tr th {\n",
       "        vertical-align: top;\n",
       "    }\n",
       "\n",
       "    .dataframe thead th {\n",
       "        text-align: right;\n",
       "    }\n",
       "</style>\n",
       "<table border=\"1\" class=\"dataframe\">\n",
       "  <thead>\n",
       "    <tr style=\"text-align: right;\">\n",
       "      <th></th>\n",
       "      <th>id</th>\n",
       "      <th>masv</th>\n",
       "      <th>tinhtrang</th>\n",
       "      <th>lydo</th>\n",
       "      <th>hocky</th>\n",
       "      <th>namhoc</th>\n",
       "      <th>soqd</th>\n",
       "      <th>ngayqd</th>\n",
       "    </tr>\n",
       "  </thead>\n",
       "  <tbody>\n",
       "    <tr>\n",
       "      <th>0</th>\n",
       "      <td>7532.0</td>\n",
       "      <td>E95E7C6DXPvAibaEXe+1j/AqdkpM22DHf6P99fDJ</td>\n",
       "      <td>3.0</td>\n",
       "      <td>TN</td>\n",
       "      <td>2.0</td>\n",
       "      <td>2016.0</td>\n",
       "      <td>178 /QĐ-ĐHCNTT</td>\n",
       "      <td>2017-04-14</td>\n",
       "    </tr>\n",
       "    <tr>\n",
       "      <th>1</th>\n",
       "      <td>8304.0</td>\n",
       "      <td>EBC8A649XPvAibaEXe+fmxcqgvribIboSP1ToKmG</td>\n",
       "      <td>3.0</td>\n",
       "      <td></td>\n",
       "      <td>1.0</td>\n",
       "      <td>2017.0</td>\n",
       "      <td>713/QD-DHCNTT</td>\n",
       "      <td>2017-10-06</td>\n",
       "    </tr>\n",
       "    <tr>\n",
       "      <th>2</th>\n",
       "      <td>8305.0</td>\n",
       "      <td>2ABBE719XPvAibaEXe9hPQQhQOOPyUJ9WJU9hlCM</td>\n",
       "      <td>3.0</td>\n",
       "      <td></td>\n",
       "      <td>1.0</td>\n",
       "      <td>2017.0</td>\n",
       "      <td>713/QD-DHCNTT</td>\n",
       "      <td>2017-10-06</td>\n",
       "    </tr>\n",
       "    <tr>\n",
       "      <th>3</th>\n",
       "      <td>8306.0</td>\n",
       "      <td>C307F053XPvAibaEXe+nZBq3b0XEhX8PABYu6iV1</td>\n",
       "      <td>3.0</td>\n",
       "      <td></td>\n",
       "      <td>1.0</td>\n",
       "      <td>2017.0</td>\n",
       "      <td>713/QD-DHCNTT</td>\n",
       "      <td>2017-10-06</td>\n",
       "    </tr>\n",
       "    <tr>\n",
       "      <th>4</th>\n",
       "      <td>8307.0</td>\n",
       "      <td>F99CE6DEXPvAibaEXe86736b6Ol+/O3ZQU1AW1/C</td>\n",
       "      <td>3.0</td>\n",
       "      <td></td>\n",
       "      <td>1.0</td>\n",
       "      <td>2017.0</td>\n",
       "      <td>713/QD-DHCNTT</td>\n",
       "      <td>2017-10-06</td>\n",
       "    </tr>\n",
       "  </tbody>\n",
       "</table>\n",
       "</div>"
      ],
      "text/plain": [
       "       id                                      masv   tinhtrang  lydo   hocky  \\\n",
       "0  7532.0  E95E7C6DXPvAibaEXe+1j/AqdkpM22DHf6P99fDJ         3.0    TN     2.0   \n",
       "1  8304.0  EBC8A649XPvAibaEXe+fmxcqgvribIboSP1ToKmG         3.0           1.0   \n",
       "2  8305.0  2ABBE719XPvAibaEXe9hPQQhQOOPyUJ9WJU9hlCM         3.0           1.0   \n",
       "3  8306.0  C307F053XPvAibaEXe+nZBq3b0XEhX8PABYu6iV1         3.0           1.0   \n",
       "4  8307.0  F99CE6DEXPvAibaEXe86736b6Ol+/O3ZQU1AW1/C         3.0           1.0   \n",
       "\n",
       "    namhoc             soqd     ngayqd  \n",
       "0   2016.0   178 /QĐ-ĐHCNTT 2017-04-14  \n",
       "1   2017.0    713/QD-DHCNTT 2017-10-06  \n",
       "2   2017.0    713/QD-DHCNTT 2017-10-06  \n",
       "3   2017.0    713/QD-DHCNTT 2017-10-06  \n",
       "4   2017.0    713/QD-DHCNTT 2017-10-06  "
      ]
     },
     "execution_count": 49,
     "metadata": {},
     "output_type": "execute_result"
    }
   ],
   "source": [
    "df11.head()"
   ]
  },
  {
   "cell_type": "code",
   "execution_count": 52,
   "metadata": {},
   "outputs": [
    {
     "data": {
      "text/plain": [
       "Index(['id', ' tinhtrang', ' lydo', ' hocky', ' namhoc', ' soqd', ' ngayqd'], dtype='object')"
      ]
     },
     "execution_count": 52,
     "metadata": {},
     "output_type": "execute_result"
    }
   ],
   "source": [
    "df11.columns"
   ]
  },
  {
   "cell_type": "code",
   "execution_count": 50,
   "metadata": {},
   "outputs": [
    {
     "name": "stdout",
     "output_type": "stream",
     "text": [
      "(1,)\n",
      "(5,)\n",
      "(3,)\n",
      "(5,)\n",
      "(45,)\n",
      "(43,)\n"
     ]
    }
   ],
   "source": [
    "print(df11[' tinhtrang'].unique().shape)\n",
    "print(df11[' lydo'].unique().shape)\n",
    "print(df11[' hocky'].unique().shape)\n",
    "print(df11[' namhoc'].unique().shape)\n",
    "print(df11[' soqd'].unique().shape)\n",
    "print(df11[' ngayqd'].unique().shape)"
   ]
  },
  {
   "cell_type": "code",
   "execution_count": 52,
   "metadata": {},
   "outputs": [
    {
     "name": "stdout",
     "output_type": "stream",
     "text": [
      "Các giá trị xuất hiện ít nhất là:\n",
      " tinhtrang\n",
      "3.0    1878\n",
      "Name: count, dtype: int64\n",
      "Các giá trị xuất hiện nhiều nhất là:\n",
      " tinhtrang\n",
      "3.0    1878\n",
      "Name: count, dtype: int64\n",
      "Các giá trị xuất hiện ít nhất là:\n",
      " lydo\n",
      "TN    1\n",
      "Name: count, dtype: int64\n",
      "Các giá trị xuất hiện nhiều nhất là:\n",
      " lydo\n",
      "    1666\n",
      "Name: count, dtype: int64\n",
      "Các giá trị xuất hiện ít nhất là:\n",
      " hocky\n",
      "3.0    78\n",
      "Name: count, dtype: int64\n",
      "Các giá trị xuất hiện nhiều nhất là:\n",
      " hocky\n",
      "1.0    909\n",
      "Name: count, dtype: int64\n",
      "Các giá trị xuất hiện ít nhất là:\n",
      " namhoc\n",
      "2016.0    1\n",
      "Name: count, dtype: int64\n",
      "Các giá trị xuất hiện nhiều nhất là:\n",
      " namhoc\n",
      "2020.0    726\n",
      "Name: count, dtype: int64\n",
      "Các giá trị xuất hiện ít nhất là:\n",
      " soqd\n",
      "430/QĐ-ĐHCNTT     1\n",
      "391/QĐ-ĐHCNTT     1\n",
      "178 /QĐ-ĐHCNTT    1\n",
      "239/QĐ-ĐHCNTT     1\n",
      "242/QĐ-ĐHCNTT     1\n",
      "852 /QĐ-ĐHCNTT    1\n",
      "344 /QĐ-ĐHCNTT    1\n",
      "341 /QĐ-ĐHCNTT    1\n",
      "243/QĐ-ĐHCNTT     1\n",
      "772/QĐ_ĐHCNTT     1\n",
      "519/QĐ-ĐHCNTT     1\n",
      "Name: count, dtype: int64\n",
      "Các giá trị xuất hiện nhiều nhất là:\n",
      " soqd\n",
      "542/QĐ-ĐHCNTT    204\n",
      "Name: count, dtype: int64\n",
      "Các giá trị xuất hiện ít nhất là:\n",
      " ngayqd\n",
      "2019-12-02    1\n",
      "2019-06-10    1\n",
      "2019-06-05    1\n",
      "2020-07-16    1\n",
      "2020-07-31    1\n",
      "2018-04-23    1\n",
      "2019-08-26    1\n",
      "2020-05-26    1\n",
      "2020-05-27    1\n",
      "2017-04-14    1\n",
      "Name: count, dtype: int64\n",
      "Các giá trị xuất hiện nhiều nhất là:\n",
      " ngayqd\n",
      "2020-08-31    204\n",
      "Name: count, dtype: int64\n"
     ]
    }
   ],
   "source": [
    "for col in [' tinhtrang', ' lydo', ' hocky', ' namhoc', ' soqd', ' ngayqd']:\n",
    "    # Đếm số lần xuất hiện của mỗi giá trị trong cột\n",
    "    value_counts = df11[col].value_counts()\n",
    "    # Tìm số lần xuất hiện nhỏ nhất\n",
    "    min_count = value_counts.min()\n",
    "    # Tìm các giá trị xuất hiện với số lần nhỏ nhất\n",
    "    least_frequent_values = value_counts[value_counts == min_count]\n",
    "    # Tìm số lần xuất hiện nhiều nhất\n",
    "    max_count = value_counts.max()\n",
    "    # Tìm các giá trị xuất hiện với số lần nhiều nhất\n",
    "    most_frequent_values = value_counts[value_counts == max_count]\n",
    "    print(f\"Các giá trị xuất hiện ít nhất là:\\n{least_frequent_values}\")\n",
    "    print(f\"Các giá trị xuất hiện nhiều nhất là:\\n{most_frequent_values}\")"
   ]
  },
  {
   "cell_type": "markdown",
   "metadata": {},
   "source": [
    "# 14.totnghiep"
   ]
  },
  {
   "cell_type": "code",
   "execution_count": 53,
   "metadata": {},
   "outputs": [],
   "source": [
    "df12 = pd.read_excel(file_path3)"
   ]
  },
  {
   "cell_type": "code",
   "execution_count": 54,
   "metadata": {},
   "outputs": [
    {
     "data": {
      "text/plain": [
       "1845"
      ]
     },
     "execution_count": 54,
     "metadata": {},
     "output_type": "execute_result"
    }
   ],
   "source": [
    "df12.dropna(axis=0, how='all', subset=None, inplace=True)\n",
    "df12.shape[0]"
   ]
  },
  {
   "cell_type": "code",
   "execution_count": 55,
   "metadata": {},
   "outputs": [
    {
     "data": {
      "text/plain": [
       "id              0\n",
       "mssv            0\n",
       " xeploai        0\n",
       " soquyetdinh    0\n",
       " ngaycapvb      0\n",
       "dtype: int64"
      ]
     },
     "execution_count": 55,
     "metadata": {},
     "output_type": "execute_result"
    }
   ],
   "source": [
    "df12.isnull().sum()"
   ]
  },
  {
   "cell_type": "code",
   "execution_count": 57,
   "metadata": {},
   "outputs": [
    {
     "data": {
      "text/html": [
       "<div>\n",
       "<style scoped>\n",
       "    .dataframe tbody tr th:only-of-type {\n",
       "        vertical-align: middle;\n",
       "    }\n",
       "\n",
       "    .dataframe tbody tr th {\n",
       "        vertical-align: top;\n",
       "    }\n",
       "\n",
       "    .dataframe thead th {\n",
       "        text-align: right;\n",
       "    }\n",
       "</style>\n",
       "<table border=\"1\" class=\"dataframe\">\n",
       "  <thead>\n",
       "    <tr style=\"text-align: right;\">\n",
       "      <th></th>\n",
       "      <th>id</th>\n",
       "      <th>mssv</th>\n",
       "      <th>xeploai</th>\n",
       "      <th>soquyetdinh</th>\n",
       "      <th>ngaycapvb</th>\n",
       "    </tr>\n",
       "  </thead>\n",
       "  <tbody>\n",
       "    <tr>\n",
       "      <th>0</th>\n",
       "      <td>76328.0</td>\n",
       "      <td>E95E7C6DXPvAibaEXe+1j/AqdkpM22DHf6P99fDJ</td>\n",
       "      <td>Khá</td>\n",
       "      <td>178/QĐ_ĐHCNTT</td>\n",
       "      <td>14/04/2017</td>\n",
       "    </tr>\n",
       "    <tr>\n",
       "      <th>1</th>\n",
       "      <td>76663.0</td>\n",
       "      <td>D0FE4969XPvAibaEXe/yXiKgsgy0slCmJ5EKt6Ki</td>\n",
       "      <td>Giỏi</td>\n",
       "      <td>713/QĐ_ĐHCNTT</td>\n",
       "      <td>06/10/2017</td>\n",
       "    </tr>\n",
       "    <tr>\n",
       "      <th>2</th>\n",
       "      <td>76664.0</td>\n",
       "      <td>40F7E8D0XPvAibaEXe+nZBq3b0XEhfcwXLmoc4Pj</td>\n",
       "      <td>Giỏi</td>\n",
       "      <td>713/QĐ_ĐHCNTT</td>\n",
       "      <td>06/10/2017</td>\n",
       "    </tr>\n",
       "    <tr>\n",
       "      <th>3</th>\n",
       "      <td>76665.0</td>\n",
       "      <td>0A049F45XPvAibaEXe9CtFSNMbfIz9qE7i0Fu4My</td>\n",
       "      <td>Khá</td>\n",
       "      <td>713/QĐ_ĐHCNTT</td>\n",
       "      <td>06/10/2017</td>\n",
       "    </tr>\n",
       "    <tr>\n",
       "      <th>4</th>\n",
       "      <td>76666.0</td>\n",
       "      <td>7A7166DAXPvAibaEXe83V/kFvw2bBZ0o/KVHZc30</td>\n",
       "      <td>Khá</td>\n",
       "      <td>713/QĐ_ĐHCNTT</td>\n",
       "      <td>06/10/2017</td>\n",
       "    </tr>\n",
       "  </tbody>\n",
       "</table>\n",
       "</div>"
      ],
      "text/plain": [
       "        id                                      mssv  xeploai     soquyetdinh  \\\n",
       "0  76328.0  E95E7C6DXPvAibaEXe+1j/AqdkpM22DHf6P99fDJ      Khá   178/QĐ_ĐHCNTT   \n",
       "1  76663.0  D0FE4969XPvAibaEXe/yXiKgsgy0slCmJ5EKt6Ki     Giỏi   713/QĐ_ĐHCNTT   \n",
       "2  76664.0  40F7E8D0XPvAibaEXe+nZBq3b0XEhfcwXLmoc4Pj     Giỏi   713/QĐ_ĐHCNTT   \n",
       "3  76665.0  0A049F45XPvAibaEXe9CtFSNMbfIz9qE7i0Fu4My      Khá   713/QĐ_ĐHCNTT   \n",
       "4  76666.0  7A7166DAXPvAibaEXe83V/kFvw2bBZ0o/KVHZc30      Khá   713/QĐ_ĐHCNTT   \n",
       "\n",
       "     ngaycapvb  \n",
       "0   14/04/2017  \n",
       "1   06/10/2017  \n",
       "2   06/10/2017  \n",
       "3   06/10/2017  \n",
       "4   06/10/2017  "
      ]
     },
     "execution_count": 57,
     "metadata": {},
     "output_type": "execute_result"
    }
   ],
   "source": [
    "df12.head()"
   ]
  },
  {
   "cell_type": "code",
   "execution_count": 58,
   "metadata": {},
   "outputs": [
    {
     "data": {
      "text/plain": [
       "Index(['id', 'mssv', ' xeploai', ' soquyetdinh', ' ngaycapvb'], dtype='object')"
      ]
     },
     "execution_count": 58,
     "metadata": {},
     "output_type": "execute_result"
    }
   ],
   "source": [
    "df12.columns"
   ]
  },
  {
   "cell_type": "code",
   "execution_count": 59,
   "metadata": {},
   "outputs": [
    {
     "name": "stdout",
     "output_type": "stream",
     "text": [
      "(7,)\n",
      "(43,)\n",
      "(45,)\n"
     ]
    }
   ],
   "source": [
    "print(df12[' xeploai'].unique().shape)\n",
    "print(df12[' soquyetdinh'].unique().shape)\n",
    "print(df12[' ngaycapvb'].unique().shape)"
   ]
  },
  {
   "cell_type": "code",
   "execution_count": 60,
   "metadata": {},
   "outputs": [
    {
     "name": "stdout",
     "output_type": "stream",
     "text": [
      "Các giá trị xuất hiện ít nhất là:\n",
      " xeploai\n",
      "TB khá    2\n",
      "Name: count, dtype: int64\n",
      "Các giá trị xuất hiện nhiều nhất là:\n",
      " xeploai\n",
      "Khá    1125\n",
      "Name: count, dtype: int64\n",
      "Các giá trị xuất hiện ít nhất là:\n",
      " soquyetdinh\n",
      "852/QĐ-ĐHCNTT    1\n",
      "341/QĐ-ĐHCNTT    1\n",
      "772/QĐ_ĐHCNTT    1\n",
      "391/QĐ_ĐHCNTT    1\n",
      "430/QĐ_ĐHCNTT    1\n",
      "344/QĐ-ĐHCNTT    1\n",
      "239/QĐ_ĐHCNTT    1\n",
      "242/QĐ_ĐHCNTT    1\n",
      "519-QD-DHCNTT    1\n",
      "178/QĐ_ĐHCNTT    1\n",
      "Name: count, dtype: int64\n",
      "Các giá trị xuất hiện nhiều nhất là:\n",
      " soquyetdinh\n",
      "542/QĐ_ĐHCNTT    204\n",
      "Name: count, dtype: int64\n",
      "Các giá trị xuất hiện ít nhất là:\n",
      " ngaycapvb\n",
      "31/07/2020      1\n",
      "14/04/2017      1\n",
      "16/07/2020      1\n",
      "26/05/2020      1\n",
      "27-5-2020       1\n",
      "02/12/2019      1\n",
      "26/08/2019      1\n",
      "10/06/2019      1\n",
      "05/06/2019      1\n",
      "07/11/2017      1\n",
      "11/10/2019);    1\n",
      "Name: count, dtype: int64\n",
      "Các giá trị xuất hiện nhiều nhất là:\n",
      " ngaycapvb\n",
      "31/08/2020    204\n",
      "Name: count, dtype: int64\n"
     ]
    }
   ],
   "source": [
    "for col in [' xeploai', ' soquyetdinh', ' ngaycapvb']:\n",
    "    # Đếm số lần xuất hiện của mỗi giá trị trong cột\n",
    "    value_counts = df12[col].value_counts()\n",
    "    # Tìm số lần xuất hiện nhỏ nhất\n",
    "    min_count = value_counts.min()\n",
    "    # Tìm các giá trị xuất hiện với số lần nhỏ nhất\n",
    "    least_frequent_values = value_counts[value_counts == min_count]\n",
    "    # Tìm số lần xuất hiện nhiều nhất\n",
    "    max_count = value_counts.max()\n",
    "    # Tìm các giá trị xuất hiện với số lần nhiều nhất\n",
    "    most_frequent_values = value_counts[value_counts == max_count]\n",
    "    print(f\"Các giá trị xuất hiện ít nhất là:\\n{least_frequent_values}\")\n",
    "    print(f\"Các giá trị xuất hiện nhiều nhất là:\\n{most_frequent_values}\")"
   ]
  }
 ],
 "metadata": {
  "kernelspec": {
   "display_name": "Python 3",
   "language": "python",
   "name": "python3"
  },
  "language_info": {
   "codemirror_mode": {
    "name": "ipython",
    "version": 3
   },
   "file_extension": ".py",
   "mimetype": "text/x-python",
   "name": "python",
   "nbconvert_exporter": "python",
   "pygments_lexer": "ipython3",
   "version": "3.12.7"
  }
 },
 "nbformat": 4,
 "nbformat_minor": 2
}
