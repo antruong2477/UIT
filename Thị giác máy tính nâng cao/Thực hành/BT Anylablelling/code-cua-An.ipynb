{
 "cells": [
  {
   "cell_type": "code",
   "execution_count": 13,
   "metadata": {},
   "outputs": [],
   "source": [
    "import os\n",
    "import json\n",
    "\n",
    "folder_path = \"./data\""
   ]
  },
  {
   "cell_type": "code",
   "execution_count": 16,
   "metadata": {},
   "outputs": [
    {
     "name": "stdout",
     "output_type": "stream",
     "text": [
      "Số lượng ảnh trong folder: 1000\n"
     ]
    }
   ],
   "source": [
    "# Đếm số lượng ảnh trong folder_path\n",
    "image_count = 0\n",
    "for filename in os.listdir(folder_path):\n",
    "  image_count += 1\n",
    "\n",
    "print(\"Số lượng ảnh trong folder:\", image_count)"
   ]
  },
  {
   "cell_type": "code",
   "execution_count": 10,
   "metadata": {},
   "outputs": [],
   "source": [
    "# cnt = 0\n",
    "# file_list = sorted(os.listdir(folder_path))  \n",
    "\n",
    "# new_names = set()\n",
    "\n",
    "# for filename in file_list:\n",
    "#     old_path = os.path.join(folder_path, filename)\n",
    "\n",
    "#     # Chỉ đổi tên file ảnh (JPEG, PNG)\n",
    "#     if os.path.isfile(old_path) and filename.lower().endswith(('.jpg', '.jpeg', '.png', 'webp')):  \n",
    "#         while True:  \n",
    "#             cnt += 1\n",
    "#             new_name = f\"image_{cnt:03d}.jpg\"\n",
    "            \n",
    "#             # Kiểm tra nếu tên mới đã tồn tại để tránh ghi đè\n",
    "#             if new_name not in new_names:\n",
    "#                 new_names.add(new_name)\n",
    "#                 break\n",
    "\n",
    "#         new_path = os.path.join(folder_path, new_name)\n",
    "\n",
    "#         try:\n",
    "#             os.rename(old_path, new_path)\n",
    "#             print(f\"✅ Đổi: {filename} -> {new_name}\")\n",
    "#         except Exception as e:\n",
    "#             print(f\"❌ Không thể đổi {filename}: {e}\")\n",
    "\n",
    "# print(f\"🎉 Hoàn thành đổi tên {cnt} ảnh!\")\n"
   ]
  },
  {
   "cell_type": "code",
   "execution_count": 21,
   "metadata": {},
   "outputs": [
    {
     "name": "stdout",
     "output_type": "stream",
     "text": [
      "✅ Hoàn thành xuất dữ liệu bounding box!\n"
     ]
    }
   ],
   "source": [
    "json_folder =\"./data\" # Thư mục chứa các file JSON\n",
    "output_file = \"bounding_boxes.txt\"  # File đầu ra\n",
    "\n",
    "with open(output_file, \"w\") as f_out:\n",
    "    for json_file in os.listdir(json_folder):\n",
    "        if json_file.endswith(\".json\"):\n",
    "            with open(os.path.join(json_folder, json_file), \"r\") as f:\n",
    "                data = json.load(f)\n",
    "                image_name = data[\"imagePath\"]\n",
    "                \n",
    "                for shape in data[\"shapes\"]:\n",
    "                    x1, y1 = shape[\"points\"][0]  # Góc trên trái\n",
    "                    x2, y2 = shape[\"points\"][1]  # Góc dưới phải\n",
    "\n",
    "                    # Tính toán (x, y) tâm bounding box\n",
    "                    x = (x1 + x2) / 2\n",
    "                    y = (y1 + y2) / 2\n",
    "                    w = abs(x2 - x1)  # Chiều rộng\n",
    "                    h = abs(y2 - y1)  # Chiều cao\n",
    "                    \n",
    "                    f_out.write(f\"{image_name},{x:.2f},{y:.2f},{w:.2f},{h:.2f}\\n\")\n",
    "\n",
    "print(\"✅ Hoàn thành xuất dữ liệu bounding box!\")"
   ]
  }
 ],
 "metadata": {
  "kernelspec": {
   "display_name": "Python 3",
   "language": "python",
   "name": "python3"
  },
  "language_info": {
   "codemirror_mode": {
    "name": "ipython",
    "version": 3
   },
   "file_extension": ".py",
   "mimetype": "text/x-python",
   "name": "python",
   "nbconvert_exporter": "python",
   "pygments_lexer": "ipython3",
   "version": "3.12.7"
  }
 },
 "nbformat": 4,
 "nbformat_minor": 2
}
